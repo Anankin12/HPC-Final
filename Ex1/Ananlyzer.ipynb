{
 "cells": [
  {
   "cell_type": "markdown",
   "metadata": {},
   "source": [
    "# MPI messaging\n",
    "\n",
    "This script will analyse `broadcast` and `barrier` messging, each with 3 different algorithms.\n"
   ]
  },
  {
   "cell_type": "code",
   "execution_count": 1000,
   "metadata": {},
   "outputs": [],
   "source": [
    "import pandas as pd\n",
    "import numpy as np\n",
    "import matplotlib.pyplot as plt\n",
    "import seaborn as sns\n",
    "import os\n",
    "import sys\n",
    "import plotly.express as px\n",
    "import plotly.graph_objects as go\n",
    "\n",
    "path = os.getcwd()"
   ]
  },
  {
   "cell_type": "code",
   "execution_count": 1001,
   "metadata": {},
   "outputs": [],
   "source": [
    "# Data gathered using the latency test within 1 socket\n",
    "latency_by_size = pd.DataFrame(columns=['Start_CPU', 'End_CPU', 'MessageSize', 'Latency'], \n",
    "\t\t\t\t\t\t\t\tdata= [\n",
    "\t\t\t\t\t\t\t\t\t\t[0, 2, 1, \t\t0.19], \n",
    "\t\t\t\t\t\t\t\t\t\t[0, 2, 2, \t\t0.19], \n",
    "\t\t\t\t\t\t\t\t\t\t[0, 2, 4, \t\t0.19], \n",
    "\t\t\t\t\t\t\t\t\t\t[0, 2, 8, \t\t0.19],\n",
    "\t\t\t\t\t\t\t\t\t\t[0, 2, 16, \t\t0.19],\n",
    "\t\t\t\t\t\t\t\t\t\t[0, 2, 32, \t\t0.24],\n",
    "\t\t\t\t\t\t\t\t\t\t[0, 2, 64, \t\t0.24],\n",
    "\t\t\t\t\t\t\t\t\t\t[0, 2, 128, \t0.33],\n",
    "\t\t\t\t\t\t\t\t\t\t[0, 2, 256, \t0.37],\n",
    "\t\t\t\t\t\t\t\t\t\t[0, 2, 512, \t0.44],\n",
    "\t\t\t\t\t\t\t\t\t\t[0, 2, 1024, \t0.54],\n",
    "\t\t\t\t\t\t\t\t\t\t[0, 2, 2048, \t0.75],\n",
    "\t\t\t\t\t\t\t\t\t\t[0, 2, 4096, \t1.21],\n",
    "\t\t\t\t\t\t\t\t\t\t[0, 2, 8192, \t2.04],\n",
    "\t\t\t\t\t\t\t\t\t\t[0, 2, 16384, \t3.15],\n",
    "\t\t\t\t\t\t\t\t\t\t[0, 2, 32768, \t4.97],\n",
    "\t\t\t\t\t\t\t\t\t\t[0, 2, 65536, \t8.40],\n",
    "\t\t\t\t\t\t\t\t\t\t[0, 2, 131072, \t14.95],\n",
    "\t\t\t\t\t\t\t\t\t\t[0, 2, 262144, \t16.22],\n",
    "\t\t\t\t\t\t\t\t\t\t[0, 2, 524288, \t30.01],\n",
    "\t\t\t\t\t\t\t\t\t\t[0, 2, 1048576, 61.65],\n",
    "\t\t\t\t\t\t\t\t\t\t[0, 2, 2097152, 155.70],\n",
    "\t\t\t\t\t\t\t\t\t\t[0, 2, 4194304, 356.84]\n",
    "\t\t\t\t\t\t\t\t\t]\n",
    "\t\t\t\t\t\t\t\t)"
   ]
  },
  {
   "cell_type": "code",
   "execution_count": 1002,
   "metadata": {},
   "outputs": [],
   "source": [
    "\n",
    "def plot_latency_vs_processes(df, algorithm, scale):\n",
    "\t'''\n",
    "\tPlots the latency vs the number of processes for the broadcast operation\n",
    "\t'''\n",
    "\n",
    "\t# Initialize the figure\n",
    "\tfig = go.Figure()\n",
    "\n",
    "\t# Start plotting the data\n",
    "\tfor selected in range(len(df)):\n",
    "\t\t# Select the data\n",
    "\t\tused_df = df[selected]\n",
    "\t\t# Select the message sizes\n",
    "\t\tfor message_size in selected_sizes:\n",
    "\t\t\tused_size_df = used_df[used_df['MessageSize']==message_size]\n",
    "\t\t\t# Plot the data\n",
    "\t\t\tfig.add_trace(go.Scatter(x=used_size_df['Processes'], \n",
    "\t\t\t\t\t\t\t\t\ty=used_size_df['Latency'],\n",
    "\t\t\t\t\t\t\t\t\tmode='lines+markers', name=str(message_size)))\n",
    "\n",
    "\t\t\t# Set the parameter alpha as the one experimentally measured for in-socekt communication\n",
    "\t\t\talpha = latency_by_size[latency_by_size['MessageSize']==message_size]['Latency'].values[0]\n",
    "\n",
    "\t\t\t# Select the theoretical model based on the algorithm\n",
    "\t\t\tif algorithm == 'Default':\n",
    "\t\t\t# CPU frequency is 3.7 GHz,\n",
    "\t\t\t\t# Unit is in microseconds, so a 10**6 is needed\n",
    "\t\t\t\t# 5 is asspullery ( expected 64 bytes per cycle, but that's the best case scenario; probably lower)\n",
    "\t\t\t\tbeta  = 10**6 * (1 / ((3.7 * 10**9 )*5))\n",
    "\t\t\t\tbeta2 = 10**6 * (1 / ((3.7 * 10**9 )*5))\n",
    "\n",
    "\t\t\t\t# Differentiate for sizes smaller than 32KB and larger than 32KB, which is the size of the L1 cache\n",
    "\t\t\t\tif message_size <= 32384:\n",
    "\t\t\t\t\tfig.add_trace(go.Scatter(x=used_size_df['Processes'],\n",
    "\n",
    "\t\t\t\t\t\t\t\t\t\t\t# The actual model\n",
    "\t\t\t\t\t\t\t\t\t\t\ty = alpha/2 + beta * message_size * ( used_size_df['Processes'] - 1 ),\n",
    "\n",
    "\n",
    "\t\t\t\t\t\t\t\t\t\t\tmode='lines',\n",
    "\t\t\t\t\t\t\t\t\t\t\tname=str(message_size)+'Theoretical Latency for size ',\n",
    "\t\t\t\t\t\t\t\t\t\t\tline=dict(color='black', dash='dash')))\n",
    "\t\t\t\telse:\n",
    "\t\t\t\t\tfig.add_trace(go.Scatter(x=used_size_df['Processes'],\n",
    "\n",
    "\t\t\t\t\t\t\t\t\t\t\t# The actual model\n",
    "\t\t\t\t\t\t\t\t\t\t\ty = alpha/2 + beta * message_size * ( used_size_df['Processes'] - 1 ),\n",
    "\n",
    "\n",
    "\t\t\t\t\t\t\t\t\t\t\tmode='lines',\n",
    "\t\t\t\t\t\t\t\t\t\t\tname=str(message_size)+'Theoretical Latency for size ',\n",
    "\t\t\t\t\t\t\t\t\t\t\tline=dict(color='red', dash='dash')))\n",
    "\t\t\telif algorithm == 'binary tree':\n",
    "\t\t\t\t# Set the beta parameter for the theoretical model \n",
    "\t\t\t\t# This will need to change for the default algorithm, currently working with the chain algorithm\n",
    "\t\t\t\tbeta  = 10**6 * (1 / ((3.7 * 10**9 )*15))\n",
    "\t\t\t\tbeta2 = 10**6 * (1 / ((3.7 * 10**9 )*9))\n",
    "\n",
    "\t\t\t\tout = np.ceil(np.log2(((used_size_df['Processes'][0:11]))))*(alpha/2 ) + beta * message_size * (used_size_df['Processes'][0:11])\n",
    "\t\t\t\tout2 = np.ceil(np.log2(((used_size_df['Processes'][12:]))))*(alpha/2 ) + beta2 * message_size * (used_size_df['Processes'][12:])\n",
    "\t\t\t\tout = pd.concat([out, out2], ignore_index=True)\n",
    "\n",
    "\t\t\t\t# Differentiate for sizes smaller than 32KB and larger than 32KB, which is the size of the L1 cache\n",
    "\t\t\t\tif message_size <= 32384:\n",
    "\t\t\t\t\tfig.add_trace(go.Scatter(x=used_size_df['Processes'],\n",
    "\n",
    "\t\t\t\t\t\t\t\t\t\t\t# The actual model\n",
    "\t\t\t\t\t\t\t\t\t\t\t# y = alpha/2 + beta * message_size * ( used_df['Processes'] - 1 ),\n",
    "\t\t\t\t\t\t\t\t\t\t\ty = out,\n",
    "\n",
    "\t\t\t\t\t\t\t\t\t\t\tmode='lines',\n",
    "\t\t\t\t\t\t\t\t\t\t\tname=str(message_size)+'Theoretical Latency for size ',\n",
    "\t\t\t\t\t\t\t\t\t\t\tline=dict(color='black', dash='dash')))\n",
    "\n",
    "\t\t\t\telse:\n",
    "\t\t\t\t\tfig.add_trace(go.Scatter(x=used_size_df['Processes'],\n",
    "\n",
    "\t\t\t\t\t\t\t\t\t\t\t# The actual model\n",
    "\t\t\t\t\t\t\t\t\t\t\ty = alpha/2 + beta * message_size * ( used_size_df['Processes'] - 1 ),\n",
    "\n",
    "\n",
    "\t\t\t\t\t\t\t\t\t\t\tmode='lines',\n",
    "\t\t\t\t\t\t\t\t\t\t\tname=str(message_size)+'Theoretical Latency for size ',\n",
    "\t\t\t\t\t\t\t\t\t\t\tline=dict(color='red', dash='dash')))\n",
    "\n",
    "\t\t\telif algorithm == 'chain':\n",
    "\t\t\t\t# CPU frequency is 3.7 GHz,\n",
    "\t\t\t\t# Unit is in microseconds, so a 10**6 is needed\n",
    "\t\t\t\t# 5 is asspullery ( expected 64 bytes per cycle, but that's the best case scenario; probably lower)\n",
    "\t\t\t\tbeta  = 10**6 * (1 / ((3.7 * 10**9 )*5))\n",
    "\t\t\t\tbeta2 = 10**6 * (1 / ((3.7 * 10**9 )*5))\n",
    "\n",
    "\t\t\t\t# Differentiate for sizes smaller than 32KB and larger than 32KB, which is the size of the L1 cache\n",
    "\t\t\t\tif message_size <= 32384:\n",
    "\t\t\t\t\tfig.add_trace(go.Scatter(x=used_size_df['Processes'],\n",
    "\n",
    "\t\t\t\t\t\t\t\t\t\t\t# The actual model: the pure latency for the size, halved because it's\n",
    "\t\t\t\t\t\t\t\t\t\t\t# a broadcast operation, then the number of pocesses -1 because it's the\n",
    "\t\t\t\t\t\t\t\t\t\t\t# number of messages that need to be sent\n",
    "\t\t\t\t\t\t\t\t\t\t\ty = alpha/2 + beta * message_size * ( used_size_df['Processes'] - 1 ),\n",
    "\n",
    "\n",
    "\t\t\t\t\t\t\t\t\t\t\tmode='lines',\n",
    "\t\t\t\t\t\t\t\t\t\t\tname=str(message_size)+'Theoretical Latency for size ',\n",
    "\t\t\t\t\t\t\t\t\t\t\tline=dict(color='black', dash='dash')))\n",
    "\t\t\t\telse:\n",
    "\t\t\t\t\tfig.add_trace(go.Scatter(x=used_size_df['Processes'],\n",
    "\n",
    "\t\t\t\t\t\t\t\t\t\t\t# The actual model: the pure latency for the size, halved because it's\n",
    "\t\t\t\t\t\t\t\t\t\t\t# a broadcast operation, then the number of pocesses -1 because it's the\n",
    "\t\t\t\t\t\t\t\t\t\t\t# number of messages that need to be sent\n",
    "\t\t\t\t\t\t\t\t\t\t\ty = alpha/2 + beta * message_size * ( used_size_df['Processes'] - 1 ),\n",
    "\n",
    "\n",
    "\t\t\t\t\t\t\t\t\t\t\tmode='lines',\n",
    "\t\t\t\t\t\t\t\t\t\t\tname=str(message_size)+'Theoretical Latency for size ',\n",
    "\t\t\t\t\t\t\t\t\t\t\tline=dict(color='red', dash='dash')))\n",
    "  \n",
    "\n",
    "\t# Set the layout of the figure, title, axis labels, etc.\n",
    "\t# Select the scale type of the y axis\n",
    "\tfig.update_layout(title='Latency vs Processes for the broadcast using '+algorithm+' Algorithm', \n",
    "\t\t\t\t\t\txaxis_title='Processes', \n",
    "\t\t\t\t\t\tyaxis_title='Latency (us)', \n",
    "\t\t\t\t\t\tlegend_title='Message Size',\n",
    "\t\t\t\t\t\txaxis=dict(tickvals=tickvals),\n",
    "\t\t\t\t\t\tyaxis=dict(type=scale)\n",
    "\t\t\t\t\t)\n",
    "\tfig.show()\n",
    "\n"
   ]
  },
  {
   "cell_type": "markdown",
   "metadata": {},
   "source": [
    "## `broadcast` messaging\n",
    "\n",
    "Let's first load the data"
   ]
  },
  {
   "cell_type": "code",
   "execution_count": 1003,
   "metadata": {},
   "outputs": [
    {
     "data": {
      "text/html": [
       "<div>\n",
       "<style scoped>\n",
       "    .dataframe tbody tr th:only-of-type {\n",
       "        vertical-align: middle;\n",
       "    }\n",
       "\n",
       "    .dataframe tbody tr th {\n",
       "        vertical-align: top;\n",
       "    }\n",
       "\n",
       "    .dataframe thead th {\n",
       "        text-align: right;\n",
       "    }\n",
       "</style>\n",
       "<table border=\"1\" class=\"dataframe\">\n",
       "  <thead>\n",
       "    <tr style=\"text-align: right;\">\n",
       "      <th></th>\n",
       "      <th>Algorithm</th>\n",
       "      <th>Allocation</th>\n",
       "      <th>Processes</th>\n",
       "      <th>MessageSize</th>\n",
       "      <th>Latency</th>\n",
       "      <th>algorithm</th>\n",
       "    </tr>\n",
       "  </thead>\n",
       "  <tbody>\n",
       "    <tr>\n",
       "      <th>0</th>\n",
       "      <td>binary_tree</td>\n",
       "      <td>core</td>\n",
       "      <td>2</td>\n",
       "      <td>1</td>\n",
       "      <td>0.20</td>\n",
       "      <td>Binary Tree</td>\n",
       "    </tr>\n",
       "    <tr>\n",
       "      <th>1</th>\n",
       "      <td>binary_tree</td>\n",
       "      <td>core</td>\n",
       "      <td>2</td>\n",
       "      <td>2</td>\n",
       "      <td>0.21</td>\n",
       "      <td>Binary Tree</td>\n",
       "    </tr>\n",
       "    <tr>\n",
       "      <th>2</th>\n",
       "      <td>binary_tree</td>\n",
       "      <td>core</td>\n",
       "      <td>2</td>\n",
       "      <td>4</td>\n",
       "      <td>0.21</td>\n",
       "      <td>Binary Tree</td>\n",
       "    </tr>\n",
       "    <tr>\n",
       "      <th>3</th>\n",
       "      <td>binary_tree</td>\n",
       "      <td>core</td>\n",
       "      <td>2</td>\n",
       "      <td>8</td>\n",
       "      <td>0.19</td>\n",
       "      <td>Binary Tree</td>\n",
       "    </tr>\n",
       "    <tr>\n",
       "      <th>4</th>\n",
       "      <td>binary_tree</td>\n",
       "      <td>core</td>\n",
       "      <td>2</td>\n",
       "      <td>16</td>\n",
       "      <td>0.20</td>\n",
       "      <td>Binary Tree</td>\n",
       "    </tr>\n",
       "    <tr>\n",
       "      <th>...</th>\n",
       "      <td>...</td>\n",
       "      <td>...</td>\n",
       "      <td>...</td>\n",
       "      <td>...</td>\n",
       "      <td>...</td>\n",
       "      <td>...</td>\n",
       "    </tr>\n",
       "    <tr>\n",
       "      <th>982</th>\n",
       "      <td>binary_tree</td>\n",
       "      <td>core</td>\n",
       "      <td>48</td>\n",
       "      <td>65536</td>\n",
       "      <td>102.78</td>\n",
       "      <td>Binary Tree</td>\n",
       "    </tr>\n",
       "    <tr>\n",
       "      <th>983</th>\n",
       "      <td>binary_tree</td>\n",
       "      <td>core</td>\n",
       "      <td>48</td>\n",
       "      <td>131072</td>\n",
       "      <td>227.99</td>\n",
       "      <td>Binary Tree</td>\n",
       "    </tr>\n",
       "    <tr>\n",
       "      <th>984</th>\n",
       "      <td>binary_tree</td>\n",
       "      <td>core</td>\n",
       "      <td>48</td>\n",
       "      <td>262144</td>\n",
       "      <td>444.73</td>\n",
       "      <td>Binary Tree</td>\n",
       "    </tr>\n",
       "    <tr>\n",
       "      <th>985</th>\n",
       "      <td>binary_tree</td>\n",
       "      <td>core</td>\n",
       "      <td>48</td>\n",
       "      <td>524288</td>\n",
       "      <td>885.89</td>\n",
       "      <td>Binary Tree</td>\n",
       "    </tr>\n",
       "    <tr>\n",
       "      <th>986</th>\n",
       "      <td>binary_tree</td>\n",
       "      <td>core</td>\n",
       "      <td>48</td>\n",
       "      <td>1048576</td>\n",
       "      <td>1710.73</td>\n",
       "      <td>Binary Tree</td>\n",
       "    </tr>\n",
       "  </tbody>\n",
       "</table>\n",
       "<p>987 rows × 6 columns</p>\n",
       "</div>"
      ],
      "text/plain": [
       "       Algorithm Allocation  Processes  MessageSize  Latency    algorithm\n",
       "0    binary_tree       core          2            1     0.20  Binary Tree\n",
       "1    binary_tree       core          2            2     0.21  Binary Tree\n",
       "2    binary_tree       core          2            4     0.21  Binary Tree\n",
       "3    binary_tree       core          2            8     0.19  Binary Tree\n",
       "4    binary_tree       core          2           16     0.20  Binary Tree\n",
       "..           ...        ...        ...          ...      ...          ...\n",
       "982  binary_tree       core         48        65536   102.78  Binary Tree\n",
       "983  binary_tree       core         48       131072   227.99  Binary Tree\n",
       "984  binary_tree       core         48       262144   444.73  Binary Tree\n",
       "985  binary_tree       core         48       524288   885.89  Binary Tree\n",
       "986  binary_tree       core         48      1048576  1710.73  Binary Tree\n",
       "\n",
       "[987 rows x 6 columns]"
      ]
     },
     "execution_count": 1003,
     "metadata": {},
     "output_type": "execute_result"
    }
   ],
   "source": [
    "# Set path to the data\n",
    "bcast_path = path + '/bcast/results_bcast/'  # Replace with your actual path\n",
    "\n",
    "# Get the list of files in the directory\n",
    "files = os.listdir(bcast_path)\n",
    "\n",
    "# Create a list to store the dataframes\n",
    "dfs = []\n",
    "\n",
    "# Read the data from the files; for each file, check if \n",
    "# the name contains binary, default or chain and set the\n",
    "# corresponding value in the dataframe\n",
    "\n",
    "for file in files:\n",
    "    if 'binary' in file:\n",
    "        df = pd.read_csv(os.path.join(bcast_path, file))\n",
    "        df['algorithm'] = 'Binary Tree'\n",
    "        dfs.append(df)\n",
    "    elif 'default' in file:\n",
    "        df = pd.read_csv(os.path.join(bcast_path, file))\n",
    "        df['algorithm'] = 'Default'\n",
    "        dfs.append(df)\n",
    "    elif 'chain' in file:\n",
    "        df = pd.read_csv(os.path.join(bcast_path, file))\n",
    "        df['algorithm'] = 'Chain'\n",
    "        dfs.append(df)\n",
    "\n",
    "# Filter out dataframes where the 'Algorithm' column contains '${algorithm}' or is null\n",
    "valid_dfs = []\n",
    "for df in dfs:\n",
    "    if 'Algorithm' in df.columns:\n",
    "        df['Algorithm'] = df['Algorithm'].astype(str)\n",
    "        if not df['Algorithm'].str.contains(r'\\$\\{algorithm\\}').any():\n",
    "            valid_dfs.append(df)\n",
    "\n",
    "# Split the data into separate dataframes for each algorithm\n",
    "default_df = [df for df in valid_dfs if df['Algorithm'].iloc[0] == 'default']\n",
    "binary_tree_df = [df for df in valid_dfs if df['Algorithm'].iloc[0] == 'binary_tree']\n",
    "chain_df = [df for df in valid_dfs if df['Algorithm'].iloc[0] == 'chain']\n",
    "\n",
    "# Select an allocation strategy\n",
    "default_df = [df[df['Allocation']=='core'] for df in default_df]\n",
    "binary_tree_df = [df[df['Allocation']=='core'] for df in binary_tree_df]\n",
    "chain_df = [df[df['Allocation']=='core'] for df in chain_df]\n",
    "\n",
    "# Select the message sizes and other plot parameters\n",
    "message_sizes = default_df[0]['MessageSize'].unique()\n",
    "allocations = default_df[0]['Allocation'].unique()\n",
    "tickvals = [2, 6, 12, 16, 20, 24, 28, 32, 36, 40, 44, 48]\n",
    "selected_sizes = [8192] #16384, 524288, 1048576]\n",
    "\n",
    "binary_tree_df[0]"
   ]
  },
  {
   "cell_type": "markdown",
   "metadata": {},
   "source": [
    "## Default algorithm\n",
    "\n",
    "Let's plot the default algorithm"
   ]
  },
  {
   "cell_type": "code",
   "execution_count": 1004,
   "metadata": {},
   "outputs": [
    {
     "data": {
      "application/vnd.plotly.v1+json": {
       "config": {
        "plotlyServerURL": "https://plot.ly"
       },
       "data": [
        {
         "mode": "lines+markers",
         "name": "8192",
         "type": "scatter",
         "x": [
          2,
          3,
          4,
          5,
          6,
          7,
          8,
          9,
          10,
          11,
          12,
          13,
          14,
          15,
          16,
          17,
          18,
          19,
          20,
          21,
          22,
          23,
          24,
          25,
          26,
          27,
          28,
          29,
          30,
          31,
          32,
          33,
          34,
          35,
          36,
          37,
          38,
          39,
          40,
          41,
          42,
          43,
          44,
          45,
          46,
          47,
          48
         ],
         "y": [
          1.31,
          2.17,
          2.48,
          3.02,
          3.52,
          3.99,
          4.64,
          4.85,
          5.37,
          5.75,
          5.71,
          6.32,
          6.83,
          7.13,
          7.04,
          8.4,
          8.68,
          8.91,
          9.04,
          9.25,
          9.65,
          9.99,
          10.31,
          10.26,
          10.24,
          10.25,
          10.28,
          10.36,
          10.51,
          12.98,
          12.31,
          14.64,
          14.59,
          14.44,
          14.34,
          14.47,
          14.28,
          14.43,
          14.15,
          13.8,
          13.76,
          13.83,
          15.07,
          14.02,
          14.49,
          14.94,
          14.73
         ]
        },
        {
         "line": {
          "color": "black",
          "dash": "dash"
         },
         "mode": "lines",
         "name": "8192Theoretical Latency for size ",
         "type": "scatter",
         "x": [
          2,
          3,
          4,
          5,
          6,
          7,
          8,
          9,
          10,
          11,
          12,
          13,
          14,
          15,
          16,
          17,
          18,
          19,
          20,
          21,
          22,
          23,
          24,
          25,
          26,
          27,
          28,
          29,
          30,
          31,
          32,
          33,
          34,
          35,
          36,
          37,
          38,
          39,
          40,
          41,
          42,
          43,
          44,
          45,
          46,
          47,
          48
         ],
         "y": [
          1.4628108108108109,
          1.9056216216216217,
          2.3484324324324324,
          2.791243243243243,
          3.234054054054054,
          3.6768648648648647,
          4.119675675675676,
          4.5624864864864865,
          5.005297297297297,
          5.448108108108109,
          5.890918918918919,
          6.333729729729729,
          6.776540540540541,
          7.219351351351351,
          7.662162162162161,
          8.104972972972973,
          8.547783783783784,
          8.990594594594594,
          9.433405405405406,
          9.876216216216216,
          10.319027027027026,
          10.761837837837838,
          11.204648648648648,
          11.647459459459458,
          12.09027027027027,
          12.53308108108108,
          12.97589189189189,
          13.418702702702703,
          13.861513513513513,
          14.304324324324323,
          14.747135135135135,
          15.189945945945945,
          15.632756756756756,
          16.075567567567568,
          16.51837837837838,
          16.961189189189188,
          17.404,
          17.846810810810812,
          18.28962162162162,
          18.732432432432432,
          19.175243243243244,
          19.618054054054053,
          20.060864864864865,
          20.503675675675677,
          20.946486486486485,
          21.389297297297297,
          21.83210810810811
         ]
        },
        {
         "mode": "lines+markers",
         "name": "8192",
         "type": "scatter",
         "x": [
          2,
          3,
          4,
          5,
          6,
          7,
          8,
          9,
          10,
          11,
          12,
          13,
          14,
          15,
          16,
          17,
          18,
          19,
          20,
          21,
          22,
          23,
          24,
          25,
          26,
          27,
          28,
          29,
          30,
          31,
          32,
          33,
          34,
          35,
          36,
          37,
          38,
          39,
          40,
          41,
          42,
          43,
          44,
          45,
          46,
          47,
          48
         ],
         "y": [
          1.38,
          2.2,
          2.62,
          3.25,
          3.64,
          4.14,
          4.62,
          4.88,
          5.2,
          5.67,
          5.77,
          6.27,
          6.76,
          7.13,
          7.01,
          8.31,
          8.88,
          8.96,
          8.96,
          9.26,
          9.68,
          9.93,
          10.37,
          10.4,
          10.48,
          10.29,
          10.35,
          10.69,
          10.68,
          10.93,
          12.06,
          14.63,
          14.63,
          14.35,
          14.34,
          14.43,
          14.51,
          14.36,
          14.29,
          14.06,
          13.86,
          14.16,
          14.31,
          14.1,
          15.66,
          15.73,
          14.91
         ]
        },
        {
         "line": {
          "color": "black",
          "dash": "dash"
         },
         "mode": "lines",
         "name": "8192Theoretical Latency for size ",
         "type": "scatter",
         "x": [
          2,
          3,
          4,
          5,
          6,
          7,
          8,
          9,
          10,
          11,
          12,
          13,
          14,
          15,
          16,
          17,
          18,
          19,
          20,
          21,
          22,
          23,
          24,
          25,
          26,
          27,
          28,
          29,
          30,
          31,
          32,
          33,
          34,
          35,
          36,
          37,
          38,
          39,
          40,
          41,
          42,
          43,
          44,
          45,
          46,
          47,
          48
         ],
         "y": [
          1.4628108108108109,
          1.9056216216216217,
          2.3484324324324324,
          2.791243243243243,
          3.234054054054054,
          3.6768648648648647,
          4.119675675675676,
          4.5624864864864865,
          5.005297297297297,
          5.448108108108109,
          5.890918918918919,
          6.333729729729729,
          6.776540540540541,
          7.219351351351351,
          7.662162162162161,
          8.104972972972973,
          8.547783783783784,
          8.990594594594594,
          9.433405405405406,
          9.876216216216216,
          10.319027027027026,
          10.761837837837838,
          11.204648648648648,
          11.647459459459458,
          12.09027027027027,
          12.53308108108108,
          12.97589189189189,
          13.418702702702703,
          13.861513513513513,
          14.304324324324323,
          14.747135135135135,
          15.189945945945945,
          15.632756756756756,
          16.075567567567568,
          16.51837837837838,
          16.961189189189188,
          17.404,
          17.846810810810812,
          18.28962162162162,
          18.732432432432432,
          19.175243243243244,
          19.618054054054053,
          20.060864864864865,
          20.503675675675677,
          20.946486486486485,
          21.389297297297297,
          21.83210810810811
         ]
        },
        {
         "mode": "lines+markers",
         "name": "8192",
         "type": "scatter",
         "x": [
          2,
          3,
          4,
          5,
          6,
          7,
          8,
          9,
          10,
          11,
          12,
          13,
          14,
          15,
          16,
          17,
          18,
          19,
          20,
          21,
          22,
          23,
          24,
          25,
          26,
          27,
          28,
          29,
          30,
          31,
          32,
          33,
          34,
          35,
          36,
          37,
          38,
          39,
          40,
          41,
          42,
          43,
          44,
          45,
          46,
          47,
          48
         ],
         "y": [
          1.33,
          2.17,
          2.58,
          3.14,
          3.63,
          4.13,
          4.66,
          4.91,
          5.26,
          5.64,
          5.97,
          6.19,
          6.89,
          7.24,
          7.19,
          8.44,
          8.91,
          9.09,
          9.17,
          9.35,
          9.68,
          10.23,
          10.45,
          10.35,
          10.31,
          10.33,
          10.31,
          10.6,
          10.8,
          10.82,
          12.25,
          14.8,
          14.57,
          14.32,
          14.37,
          14.8,
          14.52,
          14.28,
          14.18,
          14.03,
          14.03,
          14.01,
          14.19,
          14.45,
          14.39,
          14.75,
          15.04
         ]
        },
        {
         "line": {
          "color": "black",
          "dash": "dash"
         },
         "mode": "lines",
         "name": "8192Theoretical Latency for size ",
         "type": "scatter",
         "x": [
          2,
          3,
          4,
          5,
          6,
          7,
          8,
          9,
          10,
          11,
          12,
          13,
          14,
          15,
          16,
          17,
          18,
          19,
          20,
          21,
          22,
          23,
          24,
          25,
          26,
          27,
          28,
          29,
          30,
          31,
          32,
          33,
          34,
          35,
          36,
          37,
          38,
          39,
          40,
          41,
          42,
          43,
          44,
          45,
          46,
          47,
          48
         ],
         "y": [
          1.4628108108108109,
          1.9056216216216217,
          2.3484324324324324,
          2.791243243243243,
          3.234054054054054,
          3.6768648648648647,
          4.119675675675676,
          4.5624864864864865,
          5.005297297297297,
          5.448108108108109,
          5.890918918918919,
          6.333729729729729,
          6.776540540540541,
          7.219351351351351,
          7.662162162162161,
          8.104972972972973,
          8.547783783783784,
          8.990594594594594,
          9.433405405405406,
          9.876216216216216,
          10.319027027027026,
          10.761837837837838,
          11.204648648648648,
          11.647459459459458,
          12.09027027027027,
          12.53308108108108,
          12.97589189189189,
          13.418702702702703,
          13.861513513513513,
          14.304324324324323,
          14.747135135135135,
          15.189945945945945,
          15.632756756756756,
          16.075567567567568,
          16.51837837837838,
          16.961189189189188,
          17.404,
          17.846810810810812,
          18.28962162162162,
          18.732432432432432,
          19.175243243243244,
          19.618054054054053,
          20.060864864864865,
          20.503675675675677,
          20.946486486486485,
          21.389297297297297,
          21.83210810810811
         ]
        },
        {
         "mode": "lines+markers",
         "name": "8192",
         "type": "scatter",
         "x": [
          2,
          3,
          4,
          5,
          6,
          7,
          8,
          9,
          10,
          11,
          12,
          13,
          14,
          15,
          16,
          17,
          18,
          19,
          20,
          21,
          22,
          23,
          24,
          25,
          26,
          27,
          28,
          29,
          30,
          31,
          32,
          33,
          34,
          35,
          36,
          37,
          38,
          39,
          40,
          41,
          42,
          43,
          44,
          45,
          46,
          47,
          48
         ],
         "y": [
          1.32,
          2.13,
          2.53,
          3.04,
          3.54,
          4,
          4.57,
          4.87,
          5.23,
          5.58,
          5.7,
          6.15,
          6.6,
          7.17,
          7.02,
          8.4,
          8.81,
          8.92,
          9.07,
          9.28,
          9.67,
          9.92,
          10.31,
          10.33,
          10.42,
          10.28,
          10.35,
          10.46,
          10.65,
          10.91,
          12.08,
          15.05,
          14.61,
          14.76,
          14.38,
          14.46,
          14.46,
          14.17,
          14.03,
          13.97,
          13.78,
          13.92,
          14.11,
          14.13,
          16.32,
          14.65,
          14.93
         ]
        },
        {
         "line": {
          "color": "black",
          "dash": "dash"
         },
         "mode": "lines",
         "name": "8192Theoretical Latency for size ",
         "type": "scatter",
         "x": [
          2,
          3,
          4,
          5,
          6,
          7,
          8,
          9,
          10,
          11,
          12,
          13,
          14,
          15,
          16,
          17,
          18,
          19,
          20,
          21,
          22,
          23,
          24,
          25,
          26,
          27,
          28,
          29,
          30,
          31,
          32,
          33,
          34,
          35,
          36,
          37,
          38,
          39,
          40,
          41,
          42,
          43,
          44,
          45,
          46,
          47,
          48
         ],
         "y": [
          1.4628108108108109,
          1.9056216216216217,
          2.3484324324324324,
          2.791243243243243,
          3.234054054054054,
          3.6768648648648647,
          4.119675675675676,
          4.5624864864864865,
          5.005297297297297,
          5.448108108108109,
          5.890918918918919,
          6.333729729729729,
          6.776540540540541,
          7.219351351351351,
          7.662162162162161,
          8.104972972972973,
          8.547783783783784,
          8.990594594594594,
          9.433405405405406,
          9.876216216216216,
          10.319027027027026,
          10.761837837837838,
          11.204648648648648,
          11.647459459459458,
          12.09027027027027,
          12.53308108108108,
          12.97589189189189,
          13.418702702702703,
          13.861513513513513,
          14.304324324324323,
          14.747135135135135,
          15.189945945945945,
          15.632756756756756,
          16.075567567567568,
          16.51837837837838,
          16.961189189189188,
          17.404,
          17.846810810810812,
          18.28962162162162,
          18.732432432432432,
          19.175243243243244,
          19.618054054054053,
          20.060864864864865,
          20.503675675675677,
          20.946486486486485,
          21.389297297297297,
          21.83210810810811
         ]
        }
       ],
       "layout": {
        "legend": {
         "title": {
          "text": "Message Size"
         }
        },
        "template": {
         "data": {
          "bar": [
           {
            "error_x": {
             "color": "#2a3f5f"
            },
            "error_y": {
             "color": "#2a3f5f"
            },
            "marker": {
             "line": {
              "color": "#E5ECF6",
              "width": 0.5
             },
             "pattern": {
              "fillmode": "overlay",
              "size": 10,
              "solidity": 0.2
             }
            },
            "type": "bar"
           }
          ],
          "barpolar": [
           {
            "marker": {
             "line": {
              "color": "#E5ECF6",
              "width": 0.5
             },
             "pattern": {
              "fillmode": "overlay",
              "size": 10,
              "solidity": 0.2
             }
            },
            "type": "barpolar"
           }
          ],
          "carpet": [
           {
            "aaxis": {
             "endlinecolor": "#2a3f5f",
             "gridcolor": "white",
             "linecolor": "white",
             "minorgridcolor": "white",
             "startlinecolor": "#2a3f5f"
            },
            "baxis": {
             "endlinecolor": "#2a3f5f",
             "gridcolor": "white",
             "linecolor": "white",
             "minorgridcolor": "white",
             "startlinecolor": "#2a3f5f"
            },
            "type": "carpet"
           }
          ],
          "choropleth": [
           {
            "colorbar": {
             "outlinewidth": 0,
             "ticks": ""
            },
            "type": "choropleth"
           }
          ],
          "contour": [
           {
            "colorbar": {
             "outlinewidth": 0,
             "ticks": ""
            },
            "colorscale": [
             [
              0,
              "#0d0887"
             ],
             [
              0.1111111111111111,
              "#46039f"
             ],
             [
              0.2222222222222222,
              "#7201a8"
             ],
             [
              0.3333333333333333,
              "#9c179e"
             ],
             [
              0.4444444444444444,
              "#bd3786"
             ],
             [
              0.5555555555555556,
              "#d8576b"
             ],
             [
              0.6666666666666666,
              "#ed7953"
             ],
             [
              0.7777777777777778,
              "#fb9f3a"
             ],
             [
              0.8888888888888888,
              "#fdca26"
             ],
             [
              1,
              "#f0f921"
             ]
            ],
            "type": "contour"
           }
          ],
          "contourcarpet": [
           {
            "colorbar": {
             "outlinewidth": 0,
             "ticks": ""
            },
            "type": "contourcarpet"
           }
          ],
          "heatmap": [
           {
            "colorbar": {
             "outlinewidth": 0,
             "ticks": ""
            },
            "colorscale": [
             [
              0,
              "#0d0887"
             ],
             [
              0.1111111111111111,
              "#46039f"
             ],
             [
              0.2222222222222222,
              "#7201a8"
             ],
             [
              0.3333333333333333,
              "#9c179e"
             ],
             [
              0.4444444444444444,
              "#bd3786"
             ],
             [
              0.5555555555555556,
              "#d8576b"
             ],
             [
              0.6666666666666666,
              "#ed7953"
             ],
             [
              0.7777777777777778,
              "#fb9f3a"
             ],
             [
              0.8888888888888888,
              "#fdca26"
             ],
             [
              1,
              "#f0f921"
             ]
            ],
            "type": "heatmap"
           }
          ],
          "heatmapgl": [
           {
            "colorbar": {
             "outlinewidth": 0,
             "ticks": ""
            },
            "colorscale": [
             [
              0,
              "#0d0887"
             ],
             [
              0.1111111111111111,
              "#46039f"
             ],
             [
              0.2222222222222222,
              "#7201a8"
             ],
             [
              0.3333333333333333,
              "#9c179e"
             ],
             [
              0.4444444444444444,
              "#bd3786"
             ],
             [
              0.5555555555555556,
              "#d8576b"
             ],
             [
              0.6666666666666666,
              "#ed7953"
             ],
             [
              0.7777777777777778,
              "#fb9f3a"
             ],
             [
              0.8888888888888888,
              "#fdca26"
             ],
             [
              1,
              "#f0f921"
             ]
            ],
            "type": "heatmapgl"
           }
          ],
          "histogram": [
           {
            "marker": {
             "pattern": {
              "fillmode": "overlay",
              "size": 10,
              "solidity": 0.2
             }
            },
            "type": "histogram"
           }
          ],
          "histogram2d": [
           {
            "colorbar": {
             "outlinewidth": 0,
             "ticks": ""
            },
            "colorscale": [
             [
              0,
              "#0d0887"
             ],
             [
              0.1111111111111111,
              "#46039f"
             ],
             [
              0.2222222222222222,
              "#7201a8"
             ],
             [
              0.3333333333333333,
              "#9c179e"
             ],
             [
              0.4444444444444444,
              "#bd3786"
             ],
             [
              0.5555555555555556,
              "#d8576b"
             ],
             [
              0.6666666666666666,
              "#ed7953"
             ],
             [
              0.7777777777777778,
              "#fb9f3a"
             ],
             [
              0.8888888888888888,
              "#fdca26"
             ],
             [
              1,
              "#f0f921"
             ]
            ],
            "type": "histogram2d"
           }
          ],
          "histogram2dcontour": [
           {
            "colorbar": {
             "outlinewidth": 0,
             "ticks": ""
            },
            "colorscale": [
             [
              0,
              "#0d0887"
             ],
             [
              0.1111111111111111,
              "#46039f"
             ],
             [
              0.2222222222222222,
              "#7201a8"
             ],
             [
              0.3333333333333333,
              "#9c179e"
             ],
             [
              0.4444444444444444,
              "#bd3786"
             ],
             [
              0.5555555555555556,
              "#d8576b"
             ],
             [
              0.6666666666666666,
              "#ed7953"
             ],
             [
              0.7777777777777778,
              "#fb9f3a"
             ],
             [
              0.8888888888888888,
              "#fdca26"
             ],
             [
              1,
              "#f0f921"
             ]
            ],
            "type": "histogram2dcontour"
           }
          ],
          "mesh3d": [
           {
            "colorbar": {
             "outlinewidth": 0,
             "ticks": ""
            },
            "type": "mesh3d"
           }
          ],
          "parcoords": [
           {
            "line": {
             "colorbar": {
              "outlinewidth": 0,
              "ticks": ""
             }
            },
            "type": "parcoords"
           }
          ],
          "pie": [
           {
            "automargin": true,
            "type": "pie"
           }
          ],
          "scatter": [
           {
            "fillpattern": {
             "fillmode": "overlay",
             "size": 10,
             "solidity": 0.2
            },
            "type": "scatter"
           }
          ],
          "scatter3d": [
           {
            "line": {
             "colorbar": {
              "outlinewidth": 0,
              "ticks": ""
             }
            },
            "marker": {
             "colorbar": {
              "outlinewidth": 0,
              "ticks": ""
             }
            },
            "type": "scatter3d"
           }
          ],
          "scattercarpet": [
           {
            "marker": {
             "colorbar": {
              "outlinewidth": 0,
              "ticks": ""
             }
            },
            "type": "scattercarpet"
           }
          ],
          "scattergeo": [
           {
            "marker": {
             "colorbar": {
              "outlinewidth": 0,
              "ticks": ""
             }
            },
            "type": "scattergeo"
           }
          ],
          "scattergl": [
           {
            "marker": {
             "colorbar": {
              "outlinewidth": 0,
              "ticks": ""
             }
            },
            "type": "scattergl"
           }
          ],
          "scattermapbox": [
           {
            "marker": {
             "colorbar": {
              "outlinewidth": 0,
              "ticks": ""
             }
            },
            "type": "scattermapbox"
           }
          ],
          "scatterpolar": [
           {
            "marker": {
             "colorbar": {
              "outlinewidth": 0,
              "ticks": ""
             }
            },
            "type": "scatterpolar"
           }
          ],
          "scatterpolargl": [
           {
            "marker": {
             "colorbar": {
              "outlinewidth": 0,
              "ticks": ""
             }
            },
            "type": "scatterpolargl"
           }
          ],
          "scatterternary": [
           {
            "marker": {
             "colorbar": {
              "outlinewidth": 0,
              "ticks": ""
             }
            },
            "type": "scatterternary"
           }
          ],
          "surface": [
           {
            "colorbar": {
             "outlinewidth": 0,
             "ticks": ""
            },
            "colorscale": [
             [
              0,
              "#0d0887"
             ],
             [
              0.1111111111111111,
              "#46039f"
             ],
             [
              0.2222222222222222,
              "#7201a8"
             ],
             [
              0.3333333333333333,
              "#9c179e"
             ],
             [
              0.4444444444444444,
              "#bd3786"
             ],
             [
              0.5555555555555556,
              "#d8576b"
             ],
             [
              0.6666666666666666,
              "#ed7953"
             ],
             [
              0.7777777777777778,
              "#fb9f3a"
             ],
             [
              0.8888888888888888,
              "#fdca26"
             ],
             [
              1,
              "#f0f921"
             ]
            ],
            "type": "surface"
           }
          ],
          "table": [
           {
            "cells": {
             "fill": {
              "color": "#EBF0F8"
             },
             "line": {
              "color": "white"
             }
            },
            "header": {
             "fill": {
              "color": "#C8D4E3"
             },
             "line": {
              "color": "white"
             }
            },
            "type": "table"
           }
          ]
         },
         "layout": {
          "annotationdefaults": {
           "arrowcolor": "#2a3f5f",
           "arrowhead": 0,
           "arrowwidth": 1
          },
          "autotypenumbers": "strict",
          "coloraxis": {
           "colorbar": {
            "outlinewidth": 0,
            "ticks": ""
           }
          },
          "colorscale": {
           "diverging": [
            [
             0,
             "#8e0152"
            ],
            [
             0.1,
             "#c51b7d"
            ],
            [
             0.2,
             "#de77ae"
            ],
            [
             0.3,
             "#f1b6da"
            ],
            [
             0.4,
             "#fde0ef"
            ],
            [
             0.5,
             "#f7f7f7"
            ],
            [
             0.6,
             "#e6f5d0"
            ],
            [
             0.7,
             "#b8e186"
            ],
            [
             0.8,
             "#7fbc41"
            ],
            [
             0.9,
             "#4d9221"
            ],
            [
             1,
             "#276419"
            ]
           ],
           "sequential": [
            [
             0,
             "#0d0887"
            ],
            [
             0.1111111111111111,
             "#46039f"
            ],
            [
             0.2222222222222222,
             "#7201a8"
            ],
            [
             0.3333333333333333,
             "#9c179e"
            ],
            [
             0.4444444444444444,
             "#bd3786"
            ],
            [
             0.5555555555555556,
             "#d8576b"
            ],
            [
             0.6666666666666666,
             "#ed7953"
            ],
            [
             0.7777777777777778,
             "#fb9f3a"
            ],
            [
             0.8888888888888888,
             "#fdca26"
            ],
            [
             1,
             "#f0f921"
            ]
           ],
           "sequentialminus": [
            [
             0,
             "#0d0887"
            ],
            [
             0.1111111111111111,
             "#46039f"
            ],
            [
             0.2222222222222222,
             "#7201a8"
            ],
            [
             0.3333333333333333,
             "#9c179e"
            ],
            [
             0.4444444444444444,
             "#bd3786"
            ],
            [
             0.5555555555555556,
             "#d8576b"
            ],
            [
             0.6666666666666666,
             "#ed7953"
            ],
            [
             0.7777777777777778,
             "#fb9f3a"
            ],
            [
             0.8888888888888888,
             "#fdca26"
            ],
            [
             1,
             "#f0f921"
            ]
           ]
          },
          "colorway": [
           "#636efa",
           "#EF553B",
           "#00cc96",
           "#ab63fa",
           "#FFA15A",
           "#19d3f3",
           "#FF6692",
           "#B6E880",
           "#FF97FF",
           "#FECB52"
          ],
          "font": {
           "color": "#2a3f5f"
          },
          "geo": {
           "bgcolor": "white",
           "lakecolor": "white",
           "landcolor": "#E5ECF6",
           "showlakes": true,
           "showland": true,
           "subunitcolor": "white"
          },
          "hoverlabel": {
           "align": "left"
          },
          "hovermode": "closest",
          "mapbox": {
           "style": "light"
          },
          "paper_bgcolor": "white",
          "plot_bgcolor": "#E5ECF6",
          "polar": {
           "angularaxis": {
            "gridcolor": "white",
            "linecolor": "white",
            "ticks": ""
           },
           "bgcolor": "#E5ECF6",
           "radialaxis": {
            "gridcolor": "white",
            "linecolor": "white",
            "ticks": ""
           }
          },
          "scene": {
           "xaxis": {
            "backgroundcolor": "#E5ECF6",
            "gridcolor": "white",
            "gridwidth": 2,
            "linecolor": "white",
            "showbackground": true,
            "ticks": "",
            "zerolinecolor": "white"
           },
           "yaxis": {
            "backgroundcolor": "#E5ECF6",
            "gridcolor": "white",
            "gridwidth": 2,
            "linecolor": "white",
            "showbackground": true,
            "ticks": "",
            "zerolinecolor": "white"
           },
           "zaxis": {
            "backgroundcolor": "#E5ECF6",
            "gridcolor": "white",
            "gridwidth": 2,
            "linecolor": "white",
            "showbackground": true,
            "ticks": "",
            "zerolinecolor": "white"
           }
          },
          "shapedefaults": {
           "line": {
            "color": "#2a3f5f"
           }
          },
          "ternary": {
           "aaxis": {
            "gridcolor": "white",
            "linecolor": "white",
            "ticks": ""
           },
           "baxis": {
            "gridcolor": "white",
            "linecolor": "white",
            "ticks": ""
           },
           "bgcolor": "#E5ECF6",
           "caxis": {
            "gridcolor": "white",
            "linecolor": "white",
            "ticks": ""
           }
          },
          "title": {
           "x": 0.05
          },
          "xaxis": {
           "automargin": true,
           "gridcolor": "white",
           "linecolor": "white",
           "ticks": "",
           "title": {
            "standoff": 15
           },
           "zerolinecolor": "white",
           "zerolinewidth": 2
          },
          "yaxis": {
           "automargin": true,
           "gridcolor": "white",
           "linecolor": "white",
           "ticks": "",
           "title": {
            "standoff": 15
           },
           "zerolinecolor": "white",
           "zerolinewidth": 2
          }
         }
        },
        "title": {
         "text": "Latency vs Processes for the broadcast using Default Algorithm"
        },
        "xaxis": {
         "tickvals": [
          2,
          6,
          12,
          16,
          20,
          24,
          28,
          32,
          36,
          40,
          44,
          48
         ],
         "title": {
          "text": "Processes"
         }
        },
        "yaxis": {
         "title": {
          "text": "Latency (us)"
         },
         "type": "linear"
        }
       }
      }
     },
     "metadata": {},
     "output_type": "display_data"
    },
    {
     "data": {
      "application/vnd.plotly.v1+json": {
       "config": {
        "plotlyServerURL": "https://plot.ly"
       },
       "data": [
        {
         "mode": "lines+markers",
         "name": "8192",
         "type": "scatter",
         "x": [
          2,
          3,
          4,
          5,
          6,
          7,
          8,
          9,
          10,
          11,
          12,
          13,
          14,
          15,
          16,
          17,
          18,
          19,
          20,
          21,
          22,
          23,
          24,
          25,
          26,
          27,
          28,
          29,
          30,
          31,
          32,
          33,
          34,
          35,
          36,
          37,
          38,
          39,
          40,
          41,
          42,
          43,
          44,
          45,
          46,
          47,
          48
         ],
         "y": [
          1.31,
          2.17,
          2.48,
          3.02,
          3.52,
          3.99,
          4.64,
          4.85,
          5.37,
          5.75,
          5.71,
          6.32,
          6.83,
          7.13,
          7.04,
          8.4,
          8.68,
          8.91,
          9.04,
          9.25,
          9.65,
          9.99,
          10.31,
          10.26,
          10.24,
          10.25,
          10.28,
          10.36,
          10.51,
          12.98,
          12.31,
          14.64,
          14.59,
          14.44,
          14.34,
          14.47,
          14.28,
          14.43,
          14.15,
          13.8,
          13.76,
          13.83,
          15.07,
          14.02,
          14.49,
          14.94,
          14.73
         ]
        },
        {
         "line": {
          "color": "black",
          "dash": "dash"
         },
         "mode": "lines",
         "name": "8192Theoretical Latency for size ",
         "type": "scatter",
         "x": [
          2,
          3,
          4,
          5,
          6,
          7,
          8,
          9,
          10,
          11,
          12,
          13,
          14,
          15,
          16,
          17,
          18,
          19,
          20,
          21,
          22,
          23,
          24,
          25,
          26,
          27,
          28,
          29,
          30,
          31,
          32,
          33,
          34,
          35,
          36,
          37,
          38,
          39,
          40,
          41,
          42,
          43,
          44,
          45,
          46,
          47,
          48
         ],
         "y": [
          1.4628108108108109,
          1.9056216216216217,
          2.3484324324324324,
          2.791243243243243,
          3.234054054054054,
          3.6768648648648647,
          4.119675675675676,
          4.5624864864864865,
          5.005297297297297,
          5.448108108108109,
          5.890918918918919,
          6.333729729729729,
          6.776540540540541,
          7.219351351351351,
          7.662162162162161,
          8.104972972972973,
          8.547783783783784,
          8.990594594594594,
          9.433405405405406,
          9.876216216216216,
          10.319027027027026,
          10.761837837837838,
          11.204648648648648,
          11.647459459459458,
          12.09027027027027,
          12.53308108108108,
          12.97589189189189,
          13.418702702702703,
          13.861513513513513,
          14.304324324324323,
          14.747135135135135,
          15.189945945945945,
          15.632756756756756,
          16.075567567567568,
          16.51837837837838,
          16.961189189189188,
          17.404,
          17.846810810810812,
          18.28962162162162,
          18.732432432432432,
          19.175243243243244,
          19.618054054054053,
          20.060864864864865,
          20.503675675675677,
          20.946486486486485,
          21.389297297297297,
          21.83210810810811
         ]
        },
        {
         "mode": "lines+markers",
         "name": "8192",
         "type": "scatter",
         "x": [
          2,
          3,
          4,
          5,
          6,
          7,
          8,
          9,
          10,
          11,
          12,
          13,
          14,
          15,
          16,
          17,
          18,
          19,
          20,
          21,
          22,
          23,
          24,
          25,
          26,
          27,
          28,
          29,
          30,
          31,
          32,
          33,
          34,
          35,
          36,
          37,
          38,
          39,
          40,
          41,
          42,
          43,
          44,
          45,
          46,
          47,
          48
         ],
         "y": [
          1.38,
          2.2,
          2.62,
          3.25,
          3.64,
          4.14,
          4.62,
          4.88,
          5.2,
          5.67,
          5.77,
          6.27,
          6.76,
          7.13,
          7.01,
          8.31,
          8.88,
          8.96,
          8.96,
          9.26,
          9.68,
          9.93,
          10.37,
          10.4,
          10.48,
          10.29,
          10.35,
          10.69,
          10.68,
          10.93,
          12.06,
          14.63,
          14.63,
          14.35,
          14.34,
          14.43,
          14.51,
          14.36,
          14.29,
          14.06,
          13.86,
          14.16,
          14.31,
          14.1,
          15.66,
          15.73,
          14.91
         ]
        },
        {
         "line": {
          "color": "black",
          "dash": "dash"
         },
         "mode": "lines",
         "name": "8192Theoretical Latency for size ",
         "type": "scatter",
         "x": [
          2,
          3,
          4,
          5,
          6,
          7,
          8,
          9,
          10,
          11,
          12,
          13,
          14,
          15,
          16,
          17,
          18,
          19,
          20,
          21,
          22,
          23,
          24,
          25,
          26,
          27,
          28,
          29,
          30,
          31,
          32,
          33,
          34,
          35,
          36,
          37,
          38,
          39,
          40,
          41,
          42,
          43,
          44,
          45,
          46,
          47,
          48
         ],
         "y": [
          1.4628108108108109,
          1.9056216216216217,
          2.3484324324324324,
          2.791243243243243,
          3.234054054054054,
          3.6768648648648647,
          4.119675675675676,
          4.5624864864864865,
          5.005297297297297,
          5.448108108108109,
          5.890918918918919,
          6.333729729729729,
          6.776540540540541,
          7.219351351351351,
          7.662162162162161,
          8.104972972972973,
          8.547783783783784,
          8.990594594594594,
          9.433405405405406,
          9.876216216216216,
          10.319027027027026,
          10.761837837837838,
          11.204648648648648,
          11.647459459459458,
          12.09027027027027,
          12.53308108108108,
          12.97589189189189,
          13.418702702702703,
          13.861513513513513,
          14.304324324324323,
          14.747135135135135,
          15.189945945945945,
          15.632756756756756,
          16.075567567567568,
          16.51837837837838,
          16.961189189189188,
          17.404,
          17.846810810810812,
          18.28962162162162,
          18.732432432432432,
          19.175243243243244,
          19.618054054054053,
          20.060864864864865,
          20.503675675675677,
          20.946486486486485,
          21.389297297297297,
          21.83210810810811
         ]
        },
        {
         "mode": "lines+markers",
         "name": "8192",
         "type": "scatter",
         "x": [
          2,
          3,
          4,
          5,
          6,
          7,
          8,
          9,
          10,
          11,
          12,
          13,
          14,
          15,
          16,
          17,
          18,
          19,
          20,
          21,
          22,
          23,
          24,
          25,
          26,
          27,
          28,
          29,
          30,
          31,
          32,
          33,
          34,
          35,
          36,
          37,
          38,
          39,
          40,
          41,
          42,
          43,
          44,
          45,
          46,
          47,
          48
         ],
         "y": [
          1.33,
          2.17,
          2.58,
          3.14,
          3.63,
          4.13,
          4.66,
          4.91,
          5.26,
          5.64,
          5.97,
          6.19,
          6.89,
          7.24,
          7.19,
          8.44,
          8.91,
          9.09,
          9.17,
          9.35,
          9.68,
          10.23,
          10.45,
          10.35,
          10.31,
          10.33,
          10.31,
          10.6,
          10.8,
          10.82,
          12.25,
          14.8,
          14.57,
          14.32,
          14.37,
          14.8,
          14.52,
          14.28,
          14.18,
          14.03,
          14.03,
          14.01,
          14.19,
          14.45,
          14.39,
          14.75,
          15.04
         ]
        },
        {
         "line": {
          "color": "black",
          "dash": "dash"
         },
         "mode": "lines",
         "name": "8192Theoretical Latency for size ",
         "type": "scatter",
         "x": [
          2,
          3,
          4,
          5,
          6,
          7,
          8,
          9,
          10,
          11,
          12,
          13,
          14,
          15,
          16,
          17,
          18,
          19,
          20,
          21,
          22,
          23,
          24,
          25,
          26,
          27,
          28,
          29,
          30,
          31,
          32,
          33,
          34,
          35,
          36,
          37,
          38,
          39,
          40,
          41,
          42,
          43,
          44,
          45,
          46,
          47,
          48
         ],
         "y": [
          1.4628108108108109,
          1.9056216216216217,
          2.3484324324324324,
          2.791243243243243,
          3.234054054054054,
          3.6768648648648647,
          4.119675675675676,
          4.5624864864864865,
          5.005297297297297,
          5.448108108108109,
          5.890918918918919,
          6.333729729729729,
          6.776540540540541,
          7.219351351351351,
          7.662162162162161,
          8.104972972972973,
          8.547783783783784,
          8.990594594594594,
          9.433405405405406,
          9.876216216216216,
          10.319027027027026,
          10.761837837837838,
          11.204648648648648,
          11.647459459459458,
          12.09027027027027,
          12.53308108108108,
          12.97589189189189,
          13.418702702702703,
          13.861513513513513,
          14.304324324324323,
          14.747135135135135,
          15.189945945945945,
          15.632756756756756,
          16.075567567567568,
          16.51837837837838,
          16.961189189189188,
          17.404,
          17.846810810810812,
          18.28962162162162,
          18.732432432432432,
          19.175243243243244,
          19.618054054054053,
          20.060864864864865,
          20.503675675675677,
          20.946486486486485,
          21.389297297297297,
          21.83210810810811
         ]
        },
        {
         "mode": "lines+markers",
         "name": "8192",
         "type": "scatter",
         "x": [
          2,
          3,
          4,
          5,
          6,
          7,
          8,
          9,
          10,
          11,
          12,
          13,
          14,
          15,
          16,
          17,
          18,
          19,
          20,
          21,
          22,
          23,
          24,
          25,
          26,
          27,
          28,
          29,
          30,
          31,
          32,
          33,
          34,
          35,
          36,
          37,
          38,
          39,
          40,
          41,
          42,
          43,
          44,
          45,
          46,
          47,
          48
         ],
         "y": [
          1.32,
          2.13,
          2.53,
          3.04,
          3.54,
          4,
          4.57,
          4.87,
          5.23,
          5.58,
          5.7,
          6.15,
          6.6,
          7.17,
          7.02,
          8.4,
          8.81,
          8.92,
          9.07,
          9.28,
          9.67,
          9.92,
          10.31,
          10.33,
          10.42,
          10.28,
          10.35,
          10.46,
          10.65,
          10.91,
          12.08,
          15.05,
          14.61,
          14.76,
          14.38,
          14.46,
          14.46,
          14.17,
          14.03,
          13.97,
          13.78,
          13.92,
          14.11,
          14.13,
          16.32,
          14.65,
          14.93
         ]
        },
        {
         "line": {
          "color": "black",
          "dash": "dash"
         },
         "mode": "lines",
         "name": "8192Theoretical Latency for size ",
         "type": "scatter",
         "x": [
          2,
          3,
          4,
          5,
          6,
          7,
          8,
          9,
          10,
          11,
          12,
          13,
          14,
          15,
          16,
          17,
          18,
          19,
          20,
          21,
          22,
          23,
          24,
          25,
          26,
          27,
          28,
          29,
          30,
          31,
          32,
          33,
          34,
          35,
          36,
          37,
          38,
          39,
          40,
          41,
          42,
          43,
          44,
          45,
          46,
          47,
          48
         ],
         "y": [
          1.4628108108108109,
          1.9056216216216217,
          2.3484324324324324,
          2.791243243243243,
          3.234054054054054,
          3.6768648648648647,
          4.119675675675676,
          4.5624864864864865,
          5.005297297297297,
          5.448108108108109,
          5.890918918918919,
          6.333729729729729,
          6.776540540540541,
          7.219351351351351,
          7.662162162162161,
          8.104972972972973,
          8.547783783783784,
          8.990594594594594,
          9.433405405405406,
          9.876216216216216,
          10.319027027027026,
          10.761837837837838,
          11.204648648648648,
          11.647459459459458,
          12.09027027027027,
          12.53308108108108,
          12.97589189189189,
          13.418702702702703,
          13.861513513513513,
          14.304324324324323,
          14.747135135135135,
          15.189945945945945,
          15.632756756756756,
          16.075567567567568,
          16.51837837837838,
          16.961189189189188,
          17.404,
          17.846810810810812,
          18.28962162162162,
          18.732432432432432,
          19.175243243243244,
          19.618054054054053,
          20.060864864864865,
          20.503675675675677,
          20.946486486486485,
          21.389297297297297,
          21.83210810810811
         ]
        }
       ],
       "layout": {
        "legend": {
         "title": {
          "text": "Message Size"
         }
        },
        "template": {
         "data": {
          "bar": [
           {
            "error_x": {
             "color": "#2a3f5f"
            },
            "error_y": {
             "color": "#2a3f5f"
            },
            "marker": {
             "line": {
              "color": "#E5ECF6",
              "width": 0.5
             },
             "pattern": {
              "fillmode": "overlay",
              "size": 10,
              "solidity": 0.2
             }
            },
            "type": "bar"
           }
          ],
          "barpolar": [
           {
            "marker": {
             "line": {
              "color": "#E5ECF6",
              "width": 0.5
             },
             "pattern": {
              "fillmode": "overlay",
              "size": 10,
              "solidity": 0.2
             }
            },
            "type": "barpolar"
           }
          ],
          "carpet": [
           {
            "aaxis": {
             "endlinecolor": "#2a3f5f",
             "gridcolor": "white",
             "linecolor": "white",
             "minorgridcolor": "white",
             "startlinecolor": "#2a3f5f"
            },
            "baxis": {
             "endlinecolor": "#2a3f5f",
             "gridcolor": "white",
             "linecolor": "white",
             "minorgridcolor": "white",
             "startlinecolor": "#2a3f5f"
            },
            "type": "carpet"
           }
          ],
          "choropleth": [
           {
            "colorbar": {
             "outlinewidth": 0,
             "ticks": ""
            },
            "type": "choropleth"
           }
          ],
          "contour": [
           {
            "colorbar": {
             "outlinewidth": 0,
             "ticks": ""
            },
            "colorscale": [
             [
              0,
              "#0d0887"
             ],
             [
              0.1111111111111111,
              "#46039f"
             ],
             [
              0.2222222222222222,
              "#7201a8"
             ],
             [
              0.3333333333333333,
              "#9c179e"
             ],
             [
              0.4444444444444444,
              "#bd3786"
             ],
             [
              0.5555555555555556,
              "#d8576b"
             ],
             [
              0.6666666666666666,
              "#ed7953"
             ],
             [
              0.7777777777777778,
              "#fb9f3a"
             ],
             [
              0.8888888888888888,
              "#fdca26"
             ],
             [
              1,
              "#f0f921"
             ]
            ],
            "type": "contour"
           }
          ],
          "contourcarpet": [
           {
            "colorbar": {
             "outlinewidth": 0,
             "ticks": ""
            },
            "type": "contourcarpet"
           }
          ],
          "heatmap": [
           {
            "colorbar": {
             "outlinewidth": 0,
             "ticks": ""
            },
            "colorscale": [
             [
              0,
              "#0d0887"
             ],
             [
              0.1111111111111111,
              "#46039f"
             ],
             [
              0.2222222222222222,
              "#7201a8"
             ],
             [
              0.3333333333333333,
              "#9c179e"
             ],
             [
              0.4444444444444444,
              "#bd3786"
             ],
             [
              0.5555555555555556,
              "#d8576b"
             ],
             [
              0.6666666666666666,
              "#ed7953"
             ],
             [
              0.7777777777777778,
              "#fb9f3a"
             ],
             [
              0.8888888888888888,
              "#fdca26"
             ],
             [
              1,
              "#f0f921"
             ]
            ],
            "type": "heatmap"
           }
          ],
          "heatmapgl": [
           {
            "colorbar": {
             "outlinewidth": 0,
             "ticks": ""
            },
            "colorscale": [
             [
              0,
              "#0d0887"
             ],
             [
              0.1111111111111111,
              "#46039f"
             ],
             [
              0.2222222222222222,
              "#7201a8"
             ],
             [
              0.3333333333333333,
              "#9c179e"
             ],
             [
              0.4444444444444444,
              "#bd3786"
             ],
             [
              0.5555555555555556,
              "#d8576b"
             ],
             [
              0.6666666666666666,
              "#ed7953"
             ],
             [
              0.7777777777777778,
              "#fb9f3a"
             ],
             [
              0.8888888888888888,
              "#fdca26"
             ],
             [
              1,
              "#f0f921"
             ]
            ],
            "type": "heatmapgl"
           }
          ],
          "histogram": [
           {
            "marker": {
             "pattern": {
              "fillmode": "overlay",
              "size": 10,
              "solidity": 0.2
             }
            },
            "type": "histogram"
           }
          ],
          "histogram2d": [
           {
            "colorbar": {
             "outlinewidth": 0,
             "ticks": ""
            },
            "colorscale": [
             [
              0,
              "#0d0887"
             ],
             [
              0.1111111111111111,
              "#46039f"
             ],
             [
              0.2222222222222222,
              "#7201a8"
             ],
             [
              0.3333333333333333,
              "#9c179e"
             ],
             [
              0.4444444444444444,
              "#bd3786"
             ],
             [
              0.5555555555555556,
              "#d8576b"
             ],
             [
              0.6666666666666666,
              "#ed7953"
             ],
             [
              0.7777777777777778,
              "#fb9f3a"
             ],
             [
              0.8888888888888888,
              "#fdca26"
             ],
             [
              1,
              "#f0f921"
             ]
            ],
            "type": "histogram2d"
           }
          ],
          "histogram2dcontour": [
           {
            "colorbar": {
             "outlinewidth": 0,
             "ticks": ""
            },
            "colorscale": [
             [
              0,
              "#0d0887"
             ],
             [
              0.1111111111111111,
              "#46039f"
             ],
             [
              0.2222222222222222,
              "#7201a8"
             ],
             [
              0.3333333333333333,
              "#9c179e"
             ],
             [
              0.4444444444444444,
              "#bd3786"
             ],
             [
              0.5555555555555556,
              "#d8576b"
             ],
             [
              0.6666666666666666,
              "#ed7953"
             ],
             [
              0.7777777777777778,
              "#fb9f3a"
             ],
             [
              0.8888888888888888,
              "#fdca26"
             ],
             [
              1,
              "#f0f921"
             ]
            ],
            "type": "histogram2dcontour"
           }
          ],
          "mesh3d": [
           {
            "colorbar": {
             "outlinewidth": 0,
             "ticks": ""
            },
            "type": "mesh3d"
           }
          ],
          "parcoords": [
           {
            "line": {
             "colorbar": {
              "outlinewidth": 0,
              "ticks": ""
             }
            },
            "type": "parcoords"
           }
          ],
          "pie": [
           {
            "automargin": true,
            "type": "pie"
           }
          ],
          "scatter": [
           {
            "fillpattern": {
             "fillmode": "overlay",
             "size": 10,
             "solidity": 0.2
            },
            "type": "scatter"
           }
          ],
          "scatter3d": [
           {
            "line": {
             "colorbar": {
              "outlinewidth": 0,
              "ticks": ""
             }
            },
            "marker": {
             "colorbar": {
              "outlinewidth": 0,
              "ticks": ""
             }
            },
            "type": "scatter3d"
           }
          ],
          "scattercarpet": [
           {
            "marker": {
             "colorbar": {
              "outlinewidth": 0,
              "ticks": ""
             }
            },
            "type": "scattercarpet"
           }
          ],
          "scattergeo": [
           {
            "marker": {
             "colorbar": {
              "outlinewidth": 0,
              "ticks": ""
             }
            },
            "type": "scattergeo"
           }
          ],
          "scattergl": [
           {
            "marker": {
             "colorbar": {
              "outlinewidth": 0,
              "ticks": ""
             }
            },
            "type": "scattergl"
           }
          ],
          "scattermapbox": [
           {
            "marker": {
             "colorbar": {
              "outlinewidth": 0,
              "ticks": ""
             }
            },
            "type": "scattermapbox"
           }
          ],
          "scatterpolar": [
           {
            "marker": {
             "colorbar": {
              "outlinewidth": 0,
              "ticks": ""
             }
            },
            "type": "scatterpolar"
           }
          ],
          "scatterpolargl": [
           {
            "marker": {
             "colorbar": {
              "outlinewidth": 0,
              "ticks": ""
             }
            },
            "type": "scatterpolargl"
           }
          ],
          "scatterternary": [
           {
            "marker": {
             "colorbar": {
              "outlinewidth": 0,
              "ticks": ""
             }
            },
            "type": "scatterternary"
           }
          ],
          "surface": [
           {
            "colorbar": {
             "outlinewidth": 0,
             "ticks": ""
            },
            "colorscale": [
             [
              0,
              "#0d0887"
             ],
             [
              0.1111111111111111,
              "#46039f"
             ],
             [
              0.2222222222222222,
              "#7201a8"
             ],
             [
              0.3333333333333333,
              "#9c179e"
             ],
             [
              0.4444444444444444,
              "#bd3786"
             ],
             [
              0.5555555555555556,
              "#d8576b"
             ],
             [
              0.6666666666666666,
              "#ed7953"
             ],
             [
              0.7777777777777778,
              "#fb9f3a"
             ],
             [
              0.8888888888888888,
              "#fdca26"
             ],
             [
              1,
              "#f0f921"
             ]
            ],
            "type": "surface"
           }
          ],
          "table": [
           {
            "cells": {
             "fill": {
              "color": "#EBF0F8"
             },
             "line": {
              "color": "white"
             }
            },
            "header": {
             "fill": {
              "color": "#C8D4E3"
             },
             "line": {
              "color": "white"
             }
            },
            "type": "table"
           }
          ]
         },
         "layout": {
          "annotationdefaults": {
           "arrowcolor": "#2a3f5f",
           "arrowhead": 0,
           "arrowwidth": 1
          },
          "autotypenumbers": "strict",
          "coloraxis": {
           "colorbar": {
            "outlinewidth": 0,
            "ticks": ""
           }
          },
          "colorscale": {
           "diverging": [
            [
             0,
             "#8e0152"
            ],
            [
             0.1,
             "#c51b7d"
            ],
            [
             0.2,
             "#de77ae"
            ],
            [
             0.3,
             "#f1b6da"
            ],
            [
             0.4,
             "#fde0ef"
            ],
            [
             0.5,
             "#f7f7f7"
            ],
            [
             0.6,
             "#e6f5d0"
            ],
            [
             0.7,
             "#b8e186"
            ],
            [
             0.8,
             "#7fbc41"
            ],
            [
             0.9,
             "#4d9221"
            ],
            [
             1,
             "#276419"
            ]
           ],
           "sequential": [
            [
             0,
             "#0d0887"
            ],
            [
             0.1111111111111111,
             "#46039f"
            ],
            [
             0.2222222222222222,
             "#7201a8"
            ],
            [
             0.3333333333333333,
             "#9c179e"
            ],
            [
             0.4444444444444444,
             "#bd3786"
            ],
            [
             0.5555555555555556,
             "#d8576b"
            ],
            [
             0.6666666666666666,
             "#ed7953"
            ],
            [
             0.7777777777777778,
             "#fb9f3a"
            ],
            [
             0.8888888888888888,
             "#fdca26"
            ],
            [
             1,
             "#f0f921"
            ]
           ],
           "sequentialminus": [
            [
             0,
             "#0d0887"
            ],
            [
             0.1111111111111111,
             "#46039f"
            ],
            [
             0.2222222222222222,
             "#7201a8"
            ],
            [
             0.3333333333333333,
             "#9c179e"
            ],
            [
             0.4444444444444444,
             "#bd3786"
            ],
            [
             0.5555555555555556,
             "#d8576b"
            ],
            [
             0.6666666666666666,
             "#ed7953"
            ],
            [
             0.7777777777777778,
             "#fb9f3a"
            ],
            [
             0.8888888888888888,
             "#fdca26"
            ],
            [
             1,
             "#f0f921"
            ]
           ]
          },
          "colorway": [
           "#636efa",
           "#EF553B",
           "#00cc96",
           "#ab63fa",
           "#FFA15A",
           "#19d3f3",
           "#FF6692",
           "#B6E880",
           "#FF97FF",
           "#FECB52"
          ],
          "font": {
           "color": "#2a3f5f"
          },
          "geo": {
           "bgcolor": "white",
           "lakecolor": "white",
           "landcolor": "#E5ECF6",
           "showlakes": true,
           "showland": true,
           "subunitcolor": "white"
          },
          "hoverlabel": {
           "align": "left"
          },
          "hovermode": "closest",
          "mapbox": {
           "style": "light"
          },
          "paper_bgcolor": "white",
          "plot_bgcolor": "#E5ECF6",
          "polar": {
           "angularaxis": {
            "gridcolor": "white",
            "linecolor": "white",
            "ticks": ""
           },
           "bgcolor": "#E5ECF6",
           "radialaxis": {
            "gridcolor": "white",
            "linecolor": "white",
            "ticks": ""
           }
          },
          "scene": {
           "xaxis": {
            "backgroundcolor": "#E5ECF6",
            "gridcolor": "white",
            "gridwidth": 2,
            "linecolor": "white",
            "showbackground": true,
            "ticks": "",
            "zerolinecolor": "white"
           },
           "yaxis": {
            "backgroundcolor": "#E5ECF6",
            "gridcolor": "white",
            "gridwidth": 2,
            "linecolor": "white",
            "showbackground": true,
            "ticks": "",
            "zerolinecolor": "white"
           },
           "zaxis": {
            "backgroundcolor": "#E5ECF6",
            "gridcolor": "white",
            "gridwidth": 2,
            "linecolor": "white",
            "showbackground": true,
            "ticks": "",
            "zerolinecolor": "white"
           }
          },
          "shapedefaults": {
           "line": {
            "color": "#2a3f5f"
           }
          },
          "ternary": {
           "aaxis": {
            "gridcolor": "white",
            "linecolor": "white",
            "ticks": ""
           },
           "baxis": {
            "gridcolor": "white",
            "linecolor": "white",
            "ticks": ""
           },
           "bgcolor": "#E5ECF6",
           "caxis": {
            "gridcolor": "white",
            "linecolor": "white",
            "ticks": ""
           }
          },
          "title": {
           "x": 0.05
          },
          "xaxis": {
           "automargin": true,
           "gridcolor": "white",
           "linecolor": "white",
           "ticks": "",
           "title": {
            "standoff": 15
           },
           "zerolinecolor": "white",
           "zerolinewidth": 2
          },
          "yaxis": {
           "automargin": true,
           "gridcolor": "white",
           "linecolor": "white",
           "ticks": "",
           "title": {
            "standoff": 15
           },
           "zerolinecolor": "white",
           "zerolinewidth": 2
          }
         }
        },
        "title": {
         "text": "Latency vs Processes for the broadcast using Default Algorithm"
        },
        "xaxis": {
         "tickvals": [
          2,
          6,
          12,
          16,
          20,
          24,
          28,
          32,
          36,
          40,
          44,
          48
         ],
         "title": {
          "text": "Processes"
         }
        },
        "yaxis": {
         "title": {
          "text": "Latency (us)"
         },
         "type": "log"
        }
       }
      }
     },
     "metadata": {},
     "output_type": "display_data"
    }
   ],
   "source": [
    "plot_latency_vs_processes(default_df, 'Default', 'linear')\n",
    "plot_latency_vs_processes(default_df, 'Default', 'log')"
   ]
  },
  {
   "cell_type": "markdown",
   "metadata": {},
   "source": [
    "## Binary tree algorithm\n",
    "\n"
   ]
  },
  {
   "cell_type": "code",
   "execution_count": 1005,
   "metadata": {},
   "outputs": [
    {
     "data": {
      "application/vnd.plotly.v1+json": {
       "config": {
        "plotlyServerURL": "https://plot.ly"
       },
       "data": [
        {
         "mode": "lines+markers",
         "name": "8192",
         "type": "scatter",
         "x": [
          2,
          3,
          4,
          5,
          6,
          7,
          8,
          9,
          10,
          11,
          12,
          13,
          14,
          15,
          16,
          17,
          18,
          19,
          20,
          21,
          22,
          23,
          24,
          25,
          26,
          27,
          28,
          29,
          30,
          31,
          32,
          33,
          34,
          35,
          36,
          37,
          38,
          39,
          40,
          41,
          42,
          43,
          44,
          45,
          46,
          47,
          48
         ],
         "y": [
          1.32,
          2.15,
          2.73,
          3.28,
          3.73,
          4.11,
          4.58,
          4.87,
          5.2,
          5.53,
          5.69,
          6.17,
          6.55,
          7.05,
          7.98,
          8.72,
          9.11,
          9.49,
          9.76,
          10.04,
          10.24,
          10.6,
          10.84,
          10.76,
          11.01,
          11.27,
          11.56,
          11.84,
          12.05,
          12.22,
          13.29,
          14.93,
          15.04,
          15.3,
          15.77,
          15.16,
          15.54,
          16.42,
          17.44,
          19.54,
          17.36,
          17.53,
          17.04,
          19.78,
          19.02,
          21.65,
          22.05
         ]
        },
        {
         "line": {
          "color": "black",
          "dash": "dash"
         },
         "mode": "lines",
         "name": "8192Theoretical Latency for size ",
         "type": "scatter",
         "x": [
          2,
          3,
          4,
          5,
          6,
          7,
          8,
          9,
          10,
          11,
          12,
          13,
          14,
          15,
          16,
          17,
          18,
          19,
          20,
          21,
          22,
          23,
          24,
          25,
          26,
          27,
          28,
          29,
          30,
          31,
          32,
          33,
          34,
          35,
          36,
          37,
          38,
          39,
          40,
          41,
          42,
          43,
          44,
          45,
          46,
          47,
          48
         ],
         "y": [
          1.3152072072072072,
          2.482810810810811,
          2.6304144144144144,
          3.798018018018018,
          3.9456216216216218,
          4.0932252252252255,
          4.240828828828829,
          5.408432432432432,
          5.556036036036036,
          5.70363963963964,
          5.8512432432432435,
          7.524084084084084,
          7.770090090090091,
          8.016096096096096,
          9.282102102102101,
          9.528108108108107,
          9.774114114114115,
          10.02012012012012,
          10.266126126126126,
          10.512132132132132,
          10.758138138138138,
          11.004144144144144,
          11.250150150150152,
          11.496156156156157,
          11.742162162162163,
          11.988168168168169,
          12.234174174174175,
          12.48018018018018,
          12.726186186186187,
          12.972192192192193,
          14.238198198198198,
          14.484204204204204,
          14.73021021021021,
          14.976216216216216,
          15.222222222222221,
          15.46822822822823,
          15.714234234234237,
          15.960240240240243,
          16.20624624624625,
          16.452252252252254,
          16.69825825825826,
          16.944264264264266,
          17.190270270270272,
          17.436276276276278,
          17.682282282282284,
          17.92828828828829
         ]
        },
        {
         "mode": "lines+markers",
         "name": "8192",
         "type": "scatter",
         "x": [
          2,
          3,
          4,
          5,
          6,
          7,
          8,
          9,
          10,
          11,
          12,
          13,
          14,
          15,
          16,
          17,
          18,
          19,
          20,
          21,
          22,
          23,
          24,
          25,
          26,
          27,
          28,
          29,
          30,
          31,
          32,
          33,
          34,
          35,
          36,
          37,
          38,
          39,
          40,
          41,
          42,
          43,
          44,
          45,
          46,
          47,
          48
         ],
         "y": [
          1.36,
          2.2,
          2.74,
          3.26,
          3.74,
          4.14,
          4.61,
          5.08,
          5.28,
          5.65,
          5.76,
          6.23,
          6.65,
          7.1,
          8.12,
          8.8,
          9.26,
          9.53,
          9.84,
          10.17,
          10.41,
          10.67,
          11,
          10.92,
          11.13,
          11.37,
          11.64,
          11.87,
          12.2,
          12.37,
          13.37,
          15.05,
          15.56,
          16.32,
          16.89,
          15.37,
          15.84,
          17.23,
          17.04,
          16.39,
          16.43,
          16.84,
          18.32,
          18.34,
          20,
          21.17,
          19.97
         ]
        },
        {
         "line": {
          "color": "black",
          "dash": "dash"
         },
         "mode": "lines",
         "name": "8192Theoretical Latency for size ",
         "type": "scatter",
         "x": [
          2,
          3,
          4,
          5,
          6,
          7,
          8,
          9,
          10,
          11,
          12,
          13,
          14,
          15,
          16,
          17,
          18,
          19,
          20,
          21,
          22,
          23,
          24,
          25,
          26,
          27,
          28,
          29,
          30,
          31,
          32,
          33,
          34,
          35,
          36,
          37,
          38,
          39,
          40,
          41,
          42,
          43,
          44,
          45,
          46,
          47,
          48
         ],
         "y": [
          1.3152072072072072,
          2.482810810810811,
          2.6304144144144144,
          3.798018018018018,
          3.9456216216216218,
          4.0932252252252255,
          4.240828828828829,
          5.408432432432432,
          5.556036036036036,
          5.70363963963964,
          5.8512432432432435,
          7.524084084084084,
          7.770090090090091,
          8.016096096096096,
          9.282102102102101,
          9.528108108108107,
          9.774114114114115,
          10.02012012012012,
          10.266126126126126,
          10.512132132132132,
          10.758138138138138,
          11.004144144144144,
          11.250150150150152,
          11.496156156156157,
          11.742162162162163,
          11.988168168168169,
          12.234174174174175,
          12.48018018018018,
          12.726186186186187,
          12.972192192192193,
          14.238198198198198,
          14.484204204204204,
          14.73021021021021,
          14.976216216216216,
          15.222222222222221,
          15.46822822822823,
          15.714234234234237,
          15.960240240240243,
          16.20624624624625,
          16.452252252252254,
          16.69825825825826,
          16.944264264264266,
          17.190270270270272,
          17.436276276276278,
          17.682282282282284,
          17.92828828828829
         ]
        },
        {
         "mode": "lines+markers",
         "name": "8192",
         "type": "scatter",
         "x": [
          2,
          3,
          4,
          5,
          6,
          7,
          8,
          9,
          10,
          11,
          12,
          13,
          14,
          15,
          16,
          17,
          18,
          19,
          20,
          21,
          22,
          23,
          24,
          25,
          26,
          27,
          28,
          29,
          30,
          31,
          32,
          33,
          34,
          35,
          36,
          37,
          38,
          39,
          40,
          41,
          42,
          43,
          44,
          45,
          46,
          47,
          48
         ],
         "y": [
          1.33,
          2.13,
          2.68,
          3.23,
          3.71,
          4.12,
          4.55,
          4.86,
          5.18,
          5.64,
          5.69,
          6.16,
          6.56,
          7.14,
          7.89,
          8.73,
          9.16,
          9.46,
          9.82,
          10.1,
          10.26,
          10.57,
          10.92,
          10.8,
          11.01,
          11.38,
          11.55,
          11.92,
          12.02,
          12.35,
          13.24,
          14.97,
          15.36,
          15.03,
          15.43,
          15.99,
          15.51,
          16.13,
          16.31,
          16.79,
          16.51,
          16.75,
          18.62,
          20.11,
          18.6,
          21.01,
          21.22
         ]
        },
        {
         "line": {
          "color": "black",
          "dash": "dash"
         },
         "mode": "lines",
         "name": "8192Theoretical Latency for size ",
         "type": "scatter",
         "x": [
          2,
          3,
          4,
          5,
          6,
          7,
          8,
          9,
          10,
          11,
          12,
          13,
          14,
          15,
          16,
          17,
          18,
          19,
          20,
          21,
          22,
          23,
          24,
          25,
          26,
          27,
          28,
          29,
          30,
          31,
          32,
          33,
          34,
          35,
          36,
          37,
          38,
          39,
          40,
          41,
          42,
          43,
          44,
          45,
          46,
          47,
          48
         ],
         "y": [
          1.3152072072072072,
          2.482810810810811,
          2.6304144144144144,
          3.798018018018018,
          3.9456216216216218,
          4.0932252252252255,
          4.240828828828829,
          5.408432432432432,
          5.556036036036036,
          5.70363963963964,
          5.8512432432432435,
          7.524084084084084,
          7.770090090090091,
          8.016096096096096,
          9.282102102102101,
          9.528108108108107,
          9.774114114114115,
          10.02012012012012,
          10.266126126126126,
          10.512132132132132,
          10.758138138138138,
          11.004144144144144,
          11.250150150150152,
          11.496156156156157,
          11.742162162162163,
          11.988168168168169,
          12.234174174174175,
          12.48018018018018,
          12.726186186186187,
          12.972192192192193,
          14.238198198198198,
          14.484204204204204,
          14.73021021021021,
          14.976216216216216,
          15.222222222222221,
          15.46822822822823,
          15.714234234234237,
          15.960240240240243,
          16.20624624624625,
          16.452252252252254,
          16.69825825825826,
          16.944264264264266,
          17.190270270270272,
          17.436276276276278,
          17.682282282282284,
          17.92828828828829
         ]
        },
        {
         "mode": "lines+markers",
         "name": "8192",
         "type": "scatter",
         "x": [
          2,
          3,
          4,
          5,
          6,
          7,
          8,
          9,
          10,
          11,
          12,
          13,
          14,
          15,
          16,
          17,
          18,
          19,
          20,
          21,
          22,
          23,
          24,
          25,
          26,
          27,
          28,
          29,
          30,
          31,
          32,
          33,
          34,
          35,
          36,
          37,
          38,
          39,
          40,
          41,
          42,
          43,
          44,
          45,
          46,
          47,
          48
         ],
         "y": [
          1.36,
          2.18,
          2.78,
          3.36,
          3.77,
          4.18,
          4.72,
          4.87,
          5.46,
          5.61,
          5.83,
          6.19,
          6.75,
          7.16,
          7.98,
          8.83,
          9.18,
          9.56,
          9.96,
          10.11,
          10.32,
          10.79,
          10.96,
          10.99,
          11.11,
          11.43,
          11.69,
          11.99,
          12.38,
          12.39,
          13.54,
          15,
          15.16,
          15.11,
          15.39,
          15.4,
          15.93,
          16,
          16.39,
          16.46,
          16.56,
          16.74,
          17.18,
          18.8,
          18.14,
          19.07,
          19.71
         ]
        },
        {
         "line": {
          "color": "black",
          "dash": "dash"
         },
         "mode": "lines",
         "name": "8192Theoretical Latency for size ",
         "type": "scatter",
         "x": [
          2,
          3,
          4,
          5,
          6,
          7,
          8,
          9,
          10,
          11,
          12,
          13,
          14,
          15,
          16,
          17,
          18,
          19,
          20,
          21,
          22,
          23,
          24,
          25,
          26,
          27,
          28,
          29,
          30,
          31,
          32,
          33,
          34,
          35,
          36,
          37,
          38,
          39,
          40,
          41,
          42,
          43,
          44,
          45,
          46,
          47,
          48
         ],
         "y": [
          1.3152072072072072,
          2.482810810810811,
          2.6304144144144144,
          3.798018018018018,
          3.9456216216216218,
          4.0932252252252255,
          4.240828828828829,
          5.408432432432432,
          5.556036036036036,
          5.70363963963964,
          5.8512432432432435,
          7.524084084084084,
          7.770090090090091,
          8.016096096096096,
          9.282102102102101,
          9.528108108108107,
          9.774114114114115,
          10.02012012012012,
          10.266126126126126,
          10.512132132132132,
          10.758138138138138,
          11.004144144144144,
          11.250150150150152,
          11.496156156156157,
          11.742162162162163,
          11.988168168168169,
          12.234174174174175,
          12.48018018018018,
          12.726186186186187,
          12.972192192192193,
          14.238198198198198,
          14.484204204204204,
          14.73021021021021,
          14.976216216216216,
          15.222222222222221,
          15.46822822822823,
          15.714234234234237,
          15.960240240240243,
          16.20624624624625,
          16.452252252252254,
          16.69825825825826,
          16.944264264264266,
          17.190270270270272,
          17.436276276276278,
          17.682282282282284,
          17.92828828828829
         ]
        }
       ],
       "layout": {
        "legend": {
         "title": {
          "text": "Message Size"
         }
        },
        "template": {
         "data": {
          "bar": [
           {
            "error_x": {
             "color": "#2a3f5f"
            },
            "error_y": {
             "color": "#2a3f5f"
            },
            "marker": {
             "line": {
              "color": "#E5ECF6",
              "width": 0.5
             },
             "pattern": {
              "fillmode": "overlay",
              "size": 10,
              "solidity": 0.2
             }
            },
            "type": "bar"
           }
          ],
          "barpolar": [
           {
            "marker": {
             "line": {
              "color": "#E5ECF6",
              "width": 0.5
             },
             "pattern": {
              "fillmode": "overlay",
              "size": 10,
              "solidity": 0.2
             }
            },
            "type": "barpolar"
           }
          ],
          "carpet": [
           {
            "aaxis": {
             "endlinecolor": "#2a3f5f",
             "gridcolor": "white",
             "linecolor": "white",
             "minorgridcolor": "white",
             "startlinecolor": "#2a3f5f"
            },
            "baxis": {
             "endlinecolor": "#2a3f5f",
             "gridcolor": "white",
             "linecolor": "white",
             "minorgridcolor": "white",
             "startlinecolor": "#2a3f5f"
            },
            "type": "carpet"
           }
          ],
          "choropleth": [
           {
            "colorbar": {
             "outlinewidth": 0,
             "ticks": ""
            },
            "type": "choropleth"
           }
          ],
          "contour": [
           {
            "colorbar": {
             "outlinewidth": 0,
             "ticks": ""
            },
            "colorscale": [
             [
              0,
              "#0d0887"
             ],
             [
              0.1111111111111111,
              "#46039f"
             ],
             [
              0.2222222222222222,
              "#7201a8"
             ],
             [
              0.3333333333333333,
              "#9c179e"
             ],
             [
              0.4444444444444444,
              "#bd3786"
             ],
             [
              0.5555555555555556,
              "#d8576b"
             ],
             [
              0.6666666666666666,
              "#ed7953"
             ],
             [
              0.7777777777777778,
              "#fb9f3a"
             ],
             [
              0.8888888888888888,
              "#fdca26"
             ],
             [
              1,
              "#f0f921"
             ]
            ],
            "type": "contour"
           }
          ],
          "contourcarpet": [
           {
            "colorbar": {
             "outlinewidth": 0,
             "ticks": ""
            },
            "type": "contourcarpet"
           }
          ],
          "heatmap": [
           {
            "colorbar": {
             "outlinewidth": 0,
             "ticks": ""
            },
            "colorscale": [
             [
              0,
              "#0d0887"
             ],
             [
              0.1111111111111111,
              "#46039f"
             ],
             [
              0.2222222222222222,
              "#7201a8"
             ],
             [
              0.3333333333333333,
              "#9c179e"
             ],
             [
              0.4444444444444444,
              "#bd3786"
             ],
             [
              0.5555555555555556,
              "#d8576b"
             ],
             [
              0.6666666666666666,
              "#ed7953"
             ],
             [
              0.7777777777777778,
              "#fb9f3a"
             ],
             [
              0.8888888888888888,
              "#fdca26"
             ],
             [
              1,
              "#f0f921"
             ]
            ],
            "type": "heatmap"
           }
          ],
          "heatmapgl": [
           {
            "colorbar": {
             "outlinewidth": 0,
             "ticks": ""
            },
            "colorscale": [
             [
              0,
              "#0d0887"
             ],
             [
              0.1111111111111111,
              "#46039f"
             ],
             [
              0.2222222222222222,
              "#7201a8"
             ],
             [
              0.3333333333333333,
              "#9c179e"
             ],
             [
              0.4444444444444444,
              "#bd3786"
             ],
             [
              0.5555555555555556,
              "#d8576b"
             ],
             [
              0.6666666666666666,
              "#ed7953"
             ],
             [
              0.7777777777777778,
              "#fb9f3a"
             ],
             [
              0.8888888888888888,
              "#fdca26"
             ],
             [
              1,
              "#f0f921"
             ]
            ],
            "type": "heatmapgl"
           }
          ],
          "histogram": [
           {
            "marker": {
             "pattern": {
              "fillmode": "overlay",
              "size": 10,
              "solidity": 0.2
             }
            },
            "type": "histogram"
           }
          ],
          "histogram2d": [
           {
            "colorbar": {
             "outlinewidth": 0,
             "ticks": ""
            },
            "colorscale": [
             [
              0,
              "#0d0887"
             ],
             [
              0.1111111111111111,
              "#46039f"
             ],
             [
              0.2222222222222222,
              "#7201a8"
             ],
             [
              0.3333333333333333,
              "#9c179e"
             ],
             [
              0.4444444444444444,
              "#bd3786"
             ],
             [
              0.5555555555555556,
              "#d8576b"
             ],
             [
              0.6666666666666666,
              "#ed7953"
             ],
             [
              0.7777777777777778,
              "#fb9f3a"
             ],
             [
              0.8888888888888888,
              "#fdca26"
             ],
             [
              1,
              "#f0f921"
             ]
            ],
            "type": "histogram2d"
           }
          ],
          "histogram2dcontour": [
           {
            "colorbar": {
             "outlinewidth": 0,
             "ticks": ""
            },
            "colorscale": [
             [
              0,
              "#0d0887"
             ],
             [
              0.1111111111111111,
              "#46039f"
             ],
             [
              0.2222222222222222,
              "#7201a8"
             ],
             [
              0.3333333333333333,
              "#9c179e"
             ],
             [
              0.4444444444444444,
              "#bd3786"
             ],
             [
              0.5555555555555556,
              "#d8576b"
             ],
             [
              0.6666666666666666,
              "#ed7953"
             ],
             [
              0.7777777777777778,
              "#fb9f3a"
             ],
             [
              0.8888888888888888,
              "#fdca26"
             ],
             [
              1,
              "#f0f921"
             ]
            ],
            "type": "histogram2dcontour"
           }
          ],
          "mesh3d": [
           {
            "colorbar": {
             "outlinewidth": 0,
             "ticks": ""
            },
            "type": "mesh3d"
           }
          ],
          "parcoords": [
           {
            "line": {
             "colorbar": {
              "outlinewidth": 0,
              "ticks": ""
             }
            },
            "type": "parcoords"
           }
          ],
          "pie": [
           {
            "automargin": true,
            "type": "pie"
           }
          ],
          "scatter": [
           {
            "fillpattern": {
             "fillmode": "overlay",
             "size": 10,
             "solidity": 0.2
            },
            "type": "scatter"
           }
          ],
          "scatter3d": [
           {
            "line": {
             "colorbar": {
              "outlinewidth": 0,
              "ticks": ""
             }
            },
            "marker": {
             "colorbar": {
              "outlinewidth": 0,
              "ticks": ""
             }
            },
            "type": "scatter3d"
           }
          ],
          "scattercarpet": [
           {
            "marker": {
             "colorbar": {
              "outlinewidth": 0,
              "ticks": ""
             }
            },
            "type": "scattercarpet"
           }
          ],
          "scattergeo": [
           {
            "marker": {
             "colorbar": {
              "outlinewidth": 0,
              "ticks": ""
             }
            },
            "type": "scattergeo"
           }
          ],
          "scattergl": [
           {
            "marker": {
             "colorbar": {
              "outlinewidth": 0,
              "ticks": ""
             }
            },
            "type": "scattergl"
           }
          ],
          "scattermapbox": [
           {
            "marker": {
             "colorbar": {
              "outlinewidth": 0,
              "ticks": ""
             }
            },
            "type": "scattermapbox"
           }
          ],
          "scatterpolar": [
           {
            "marker": {
             "colorbar": {
              "outlinewidth": 0,
              "ticks": ""
             }
            },
            "type": "scatterpolar"
           }
          ],
          "scatterpolargl": [
           {
            "marker": {
             "colorbar": {
              "outlinewidth": 0,
              "ticks": ""
             }
            },
            "type": "scatterpolargl"
           }
          ],
          "scatterternary": [
           {
            "marker": {
             "colorbar": {
              "outlinewidth": 0,
              "ticks": ""
             }
            },
            "type": "scatterternary"
           }
          ],
          "surface": [
           {
            "colorbar": {
             "outlinewidth": 0,
             "ticks": ""
            },
            "colorscale": [
             [
              0,
              "#0d0887"
             ],
             [
              0.1111111111111111,
              "#46039f"
             ],
             [
              0.2222222222222222,
              "#7201a8"
             ],
             [
              0.3333333333333333,
              "#9c179e"
             ],
             [
              0.4444444444444444,
              "#bd3786"
             ],
             [
              0.5555555555555556,
              "#d8576b"
             ],
             [
              0.6666666666666666,
              "#ed7953"
             ],
             [
              0.7777777777777778,
              "#fb9f3a"
             ],
             [
              0.8888888888888888,
              "#fdca26"
             ],
             [
              1,
              "#f0f921"
             ]
            ],
            "type": "surface"
           }
          ],
          "table": [
           {
            "cells": {
             "fill": {
              "color": "#EBF0F8"
             },
             "line": {
              "color": "white"
             }
            },
            "header": {
             "fill": {
              "color": "#C8D4E3"
             },
             "line": {
              "color": "white"
             }
            },
            "type": "table"
           }
          ]
         },
         "layout": {
          "annotationdefaults": {
           "arrowcolor": "#2a3f5f",
           "arrowhead": 0,
           "arrowwidth": 1
          },
          "autotypenumbers": "strict",
          "coloraxis": {
           "colorbar": {
            "outlinewidth": 0,
            "ticks": ""
           }
          },
          "colorscale": {
           "diverging": [
            [
             0,
             "#8e0152"
            ],
            [
             0.1,
             "#c51b7d"
            ],
            [
             0.2,
             "#de77ae"
            ],
            [
             0.3,
             "#f1b6da"
            ],
            [
             0.4,
             "#fde0ef"
            ],
            [
             0.5,
             "#f7f7f7"
            ],
            [
             0.6,
             "#e6f5d0"
            ],
            [
             0.7,
             "#b8e186"
            ],
            [
             0.8,
             "#7fbc41"
            ],
            [
             0.9,
             "#4d9221"
            ],
            [
             1,
             "#276419"
            ]
           ],
           "sequential": [
            [
             0,
             "#0d0887"
            ],
            [
             0.1111111111111111,
             "#46039f"
            ],
            [
             0.2222222222222222,
             "#7201a8"
            ],
            [
             0.3333333333333333,
             "#9c179e"
            ],
            [
             0.4444444444444444,
             "#bd3786"
            ],
            [
             0.5555555555555556,
             "#d8576b"
            ],
            [
             0.6666666666666666,
             "#ed7953"
            ],
            [
             0.7777777777777778,
             "#fb9f3a"
            ],
            [
             0.8888888888888888,
             "#fdca26"
            ],
            [
             1,
             "#f0f921"
            ]
           ],
           "sequentialminus": [
            [
             0,
             "#0d0887"
            ],
            [
             0.1111111111111111,
             "#46039f"
            ],
            [
             0.2222222222222222,
             "#7201a8"
            ],
            [
             0.3333333333333333,
             "#9c179e"
            ],
            [
             0.4444444444444444,
             "#bd3786"
            ],
            [
             0.5555555555555556,
             "#d8576b"
            ],
            [
             0.6666666666666666,
             "#ed7953"
            ],
            [
             0.7777777777777778,
             "#fb9f3a"
            ],
            [
             0.8888888888888888,
             "#fdca26"
            ],
            [
             1,
             "#f0f921"
            ]
           ]
          },
          "colorway": [
           "#636efa",
           "#EF553B",
           "#00cc96",
           "#ab63fa",
           "#FFA15A",
           "#19d3f3",
           "#FF6692",
           "#B6E880",
           "#FF97FF",
           "#FECB52"
          ],
          "font": {
           "color": "#2a3f5f"
          },
          "geo": {
           "bgcolor": "white",
           "lakecolor": "white",
           "landcolor": "#E5ECF6",
           "showlakes": true,
           "showland": true,
           "subunitcolor": "white"
          },
          "hoverlabel": {
           "align": "left"
          },
          "hovermode": "closest",
          "mapbox": {
           "style": "light"
          },
          "paper_bgcolor": "white",
          "plot_bgcolor": "#E5ECF6",
          "polar": {
           "angularaxis": {
            "gridcolor": "white",
            "linecolor": "white",
            "ticks": ""
           },
           "bgcolor": "#E5ECF6",
           "radialaxis": {
            "gridcolor": "white",
            "linecolor": "white",
            "ticks": ""
           }
          },
          "scene": {
           "xaxis": {
            "backgroundcolor": "#E5ECF6",
            "gridcolor": "white",
            "gridwidth": 2,
            "linecolor": "white",
            "showbackground": true,
            "ticks": "",
            "zerolinecolor": "white"
           },
           "yaxis": {
            "backgroundcolor": "#E5ECF6",
            "gridcolor": "white",
            "gridwidth": 2,
            "linecolor": "white",
            "showbackground": true,
            "ticks": "",
            "zerolinecolor": "white"
           },
           "zaxis": {
            "backgroundcolor": "#E5ECF6",
            "gridcolor": "white",
            "gridwidth": 2,
            "linecolor": "white",
            "showbackground": true,
            "ticks": "",
            "zerolinecolor": "white"
           }
          },
          "shapedefaults": {
           "line": {
            "color": "#2a3f5f"
           }
          },
          "ternary": {
           "aaxis": {
            "gridcolor": "white",
            "linecolor": "white",
            "ticks": ""
           },
           "baxis": {
            "gridcolor": "white",
            "linecolor": "white",
            "ticks": ""
           },
           "bgcolor": "#E5ECF6",
           "caxis": {
            "gridcolor": "white",
            "linecolor": "white",
            "ticks": ""
           }
          },
          "title": {
           "x": 0.05
          },
          "xaxis": {
           "automargin": true,
           "gridcolor": "white",
           "linecolor": "white",
           "ticks": "",
           "title": {
            "standoff": 15
           },
           "zerolinecolor": "white",
           "zerolinewidth": 2
          },
          "yaxis": {
           "automargin": true,
           "gridcolor": "white",
           "linecolor": "white",
           "ticks": "",
           "title": {
            "standoff": 15
           },
           "zerolinecolor": "white",
           "zerolinewidth": 2
          }
         }
        },
        "title": {
         "text": "Latency vs Processes for the broadcast using binary tree Algorithm"
        },
        "xaxis": {
         "tickvals": [
          2,
          6,
          12,
          16,
          20,
          24,
          28,
          32,
          36,
          40,
          44,
          48
         ],
         "title": {
          "text": "Processes"
         }
        },
        "yaxis": {
         "title": {
          "text": "Latency (us)"
         },
         "type": "linear"
        }
       }
      }
     },
     "metadata": {},
     "output_type": "display_data"
    },
    {
     "data": {
      "application/vnd.plotly.v1+json": {
       "config": {
        "plotlyServerURL": "https://plot.ly"
       },
       "data": [
        {
         "mode": "lines+markers",
         "name": "8192",
         "type": "scatter",
         "x": [
          2,
          3,
          4,
          5,
          6,
          7,
          8,
          9,
          10,
          11,
          12,
          13,
          14,
          15,
          16,
          17,
          18,
          19,
          20,
          21,
          22,
          23,
          24,
          25,
          26,
          27,
          28,
          29,
          30,
          31,
          32,
          33,
          34,
          35,
          36,
          37,
          38,
          39,
          40,
          41,
          42,
          43,
          44,
          45,
          46,
          47,
          48
         ],
         "y": [
          1.32,
          2.15,
          2.73,
          3.28,
          3.73,
          4.11,
          4.58,
          4.87,
          5.2,
          5.53,
          5.69,
          6.17,
          6.55,
          7.05,
          7.98,
          8.72,
          9.11,
          9.49,
          9.76,
          10.04,
          10.24,
          10.6,
          10.84,
          10.76,
          11.01,
          11.27,
          11.56,
          11.84,
          12.05,
          12.22,
          13.29,
          14.93,
          15.04,
          15.3,
          15.77,
          15.16,
          15.54,
          16.42,
          17.44,
          19.54,
          17.36,
          17.53,
          17.04,
          19.78,
          19.02,
          21.65,
          22.05
         ]
        },
        {
         "line": {
          "color": "black",
          "dash": "dash"
         },
         "mode": "lines",
         "name": "8192Theoretical Latency for size ",
         "type": "scatter",
         "x": [
          2,
          3,
          4,
          5,
          6,
          7,
          8,
          9,
          10,
          11,
          12,
          13,
          14,
          15,
          16,
          17,
          18,
          19,
          20,
          21,
          22,
          23,
          24,
          25,
          26,
          27,
          28,
          29,
          30,
          31,
          32,
          33,
          34,
          35,
          36,
          37,
          38,
          39,
          40,
          41,
          42,
          43,
          44,
          45,
          46,
          47,
          48
         ],
         "y": [
          1.3152072072072072,
          2.482810810810811,
          2.6304144144144144,
          3.798018018018018,
          3.9456216216216218,
          4.0932252252252255,
          4.240828828828829,
          5.408432432432432,
          5.556036036036036,
          5.70363963963964,
          5.8512432432432435,
          7.524084084084084,
          7.770090090090091,
          8.016096096096096,
          9.282102102102101,
          9.528108108108107,
          9.774114114114115,
          10.02012012012012,
          10.266126126126126,
          10.512132132132132,
          10.758138138138138,
          11.004144144144144,
          11.250150150150152,
          11.496156156156157,
          11.742162162162163,
          11.988168168168169,
          12.234174174174175,
          12.48018018018018,
          12.726186186186187,
          12.972192192192193,
          14.238198198198198,
          14.484204204204204,
          14.73021021021021,
          14.976216216216216,
          15.222222222222221,
          15.46822822822823,
          15.714234234234237,
          15.960240240240243,
          16.20624624624625,
          16.452252252252254,
          16.69825825825826,
          16.944264264264266,
          17.190270270270272,
          17.436276276276278,
          17.682282282282284,
          17.92828828828829
         ]
        },
        {
         "mode": "lines+markers",
         "name": "8192",
         "type": "scatter",
         "x": [
          2,
          3,
          4,
          5,
          6,
          7,
          8,
          9,
          10,
          11,
          12,
          13,
          14,
          15,
          16,
          17,
          18,
          19,
          20,
          21,
          22,
          23,
          24,
          25,
          26,
          27,
          28,
          29,
          30,
          31,
          32,
          33,
          34,
          35,
          36,
          37,
          38,
          39,
          40,
          41,
          42,
          43,
          44,
          45,
          46,
          47,
          48
         ],
         "y": [
          1.36,
          2.2,
          2.74,
          3.26,
          3.74,
          4.14,
          4.61,
          5.08,
          5.28,
          5.65,
          5.76,
          6.23,
          6.65,
          7.1,
          8.12,
          8.8,
          9.26,
          9.53,
          9.84,
          10.17,
          10.41,
          10.67,
          11,
          10.92,
          11.13,
          11.37,
          11.64,
          11.87,
          12.2,
          12.37,
          13.37,
          15.05,
          15.56,
          16.32,
          16.89,
          15.37,
          15.84,
          17.23,
          17.04,
          16.39,
          16.43,
          16.84,
          18.32,
          18.34,
          20,
          21.17,
          19.97
         ]
        },
        {
         "line": {
          "color": "black",
          "dash": "dash"
         },
         "mode": "lines",
         "name": "8192Theoretical Latency for size ",
         "type": "scatter",
         "x": [
          2,
          3,
          4,
          5,
          6,
          7,
          8,
          9,
          10,
          11,
          12,
          13,
          14,
          15,
          16,
          17,
          18,
          19,
          20,
          21,
          22,
          23,
          24,
          25,
          26,
          27,
          28,
          29,
          30,
          31,
          32,
          33,
          34,
          35,
          36,
          37,
          38,
          39,
          40,
          41,
          42,
          43,
          44,
          45,
          46,
          47,
          48
         ],
         "y": [
          1.3152072072072072,
          2.482810810810811,
          2.6304144144144144,
          3.798018018018018,
          3.9456216216216218,
          4.0932252252252255,
          4.240828828828829,
          5.408432432432432,
          5.556036036036036,
          5.70363963963964,
          5.8512432432432435,
          7.524084084084084,
          7.770090090090091,
          8.016096096096096,
          9.282102102102101,
          9.528108108108107,
          9.774114114114115,
          10.02012012012012,
          10.266126126126126,
          10.512132132132132,
          10.758138138138138,
          11.004144144144144,
          11.250150150150152,
          11.496156156156157,
          11.742162162162163,
          11.988168168168169,
          12.234174174174175,
          12.48018018018018,
          12.726186186186187,
          12.972192192192193,
          14.238198198198198,
          14.484204204204204,
          14.73021021021021,
          14.976216216216216,
          15.222222222222221,
          15.46822822822823,
          15.714234234234237,
          15.960240240240243,
          16.20624624624625,
          16.452252252252254,
          16.69825825825826,
          16.944264264264266,
          17.190270270270272,
          17.436276276276278,
          17.682282282282284,
          17.92828828828829
         ]
        },
        {
         "mode": "lines+markers",
         "name": "8192",
         "type": "scatter",
         "x": [
          2,
          3,
          4,
          5,
          6,
          7,
          8,
          9,
          10,
          11,
          12,
          13,
          14,
          15,
          16,
          17,
          18,
          19,
          20,
          21,
          22,
          23,
          24,
          25,
          26,
          27,
          28,
          29,
          30,
          31,
          32,
          33,
          34,
          35,
          36,
          37,
          38,
          39,
          40,
          41,
          42,
          43,
          44,
          45,
          46,
          47,
          48
         ],
         "y": [
          1.33,
          2.13,
          2.68,
          3.23,
          3.71,
          4.12,
          4.55,
          4.86,
          5.18,
          5.64,
          5.69,
          6.16,
          6.56,
          7.14,
          7.89,
          8.73,
          9.16,
          9.46,
          9.82,
          10.1,
          10.26,
          10.57,
          10.92,
          10.8,
          11.01,
          11.38,
          11.55,
          11.92,
          12.02,
          12.35,
          13.24,
          14.97,
          15.36,
          15.03,
          15.43,
          15.99,
          15.51,
          16.13,
          16.31,
          16.79,
          16.51,
          16.75,
          18.62,
          20.11,
          18.6,
          21.01,
          21.22
         ]
        },
        {
         "line": {
          "color": "black",
          "dash": "dash"
         },
         "mode": "lines",
         "name": "8192Theoretical Latency for size ",
         "type": "scatter",
         "x": [
          2,
          3,
          4,
          5,
          6,
          7,
          8,
          9,
          10,
          11,
          12,
          13,
          14,
          15,
          16,
          17,
          18,
          19,
          20,
          21,
          22,
          23,
          24,
          25,
          26,
          27,
          28,
          29,
          30,
          31,
          32,
          33,
          34,
          35,
          36,
          37,
          38,
          39,
          40,
          41,
          42,
          43,
          44,
          45,
          46,
          47,
          48
         ],
         "y": [
          1.3152072072072072,
          2.482810810810811,
          2.6304144144144144,
          3.798018018018018,
          3.9456216216216218,
          4.0932252252252255,
          4.240828828828829,
          5.408432432432432,
          5.556036036036036,
          5.70363963963964,
          5.8512432432432435,
          7.524084084084084,
          7.770090090090091,
          8.016096096096096,
          9.282102102102101,
          9.528108108108107,
          9.774114114114115,
          10.02012012012012,
          10.266126126126126,
          10.512132132132132,
          10.758138138138138,
          11.004144144144144,
          11.250150150150152,
          11.496156156156157,
          11.742162162162163,
          11.988168168168169,
          12.234174174174175,
          12.48018018018018,
          12.726186186186187,
          12.972192192192193,
          14.238198198198198,
          14.484204204204204,
          14.73021021021021,
          14.976216216216216,
          15.222222222222221,
          15.46822822822823,
          15.714234234234237,
          15.960240240240243,
          16.20624624624625,
          16.452252252252254,
          16.69825825825826,
          16.944264264264266,
          17.190270270270272,
          17.436276276276278,
          17.682282282282284,
          17.92828828828829
         ]
        },
        {
         "mode": "lines+markers",
         "name": "8192",
         "type": "scatter",
         "x": [
          2,
          3,
          4,
          5,
          6,
          7,
          8,
          9,
          10,
          11,
          12,
          13,
          14,
          15,
          16,
          17,
          18,
          19,
          20,
          21,
          22,
          23,
          24,
          25,
          26,
          27,
          28,
          29,
          30,
          31,
          32,
          33,
          34,
          35,
          36,
          37,
          38,
          39,
          40,
          41,
          42,
          43,
          44,
          45,
          46,
          47,
          48
         ],
         "y": [
          1.36,
          2.18,
          2.78,
          3.36,
          3.77,
          4.18,
          4.72,
          4.87,
          5.46,
          5.61,
          5.83,
          6.19,
          6.75,
          7.16,
          7.98,
          8.83,
          9.18,
          9.56,
          9.96,
          10.11,
          10.32,
          10.79,
          10.96,
          10.99,
          11.11,
          11.43,
          11.69,
          11.99,
          12.38,
          12.39,
          13.54,
          15,
          15.16,
          15.11,
          15.39,
          15.4,
          15.93,
          16,
          16.39,
          16.46,
          16.56,
          16.74,
          17.18,
          18.8,
          18.14,
          19.07,
          19.71
         ]
        },
        {
         "line": {
          "color": "black",
          "dash": "dash"
         },
         "mode": "lines",
         "name": "8192Theoretical Latency for size ",
         "type": "scatter",
         "x": [
          2,
          3,
          4,
          5,
          6,
          7,
          8,
          9,
          10,
          11,
          12,
          13,
          14,
          15,
          16,
          17,
          18,
          19,
          20,
          21,
          22,
          23,
          24,
          25,
          26,
          27,
          28,
          29,
          30,
          31,
          32,
          33,
          34,
          35,
          36,
          37,
          38,
          39,
          40,
          41,
          42,
          43,
          44,
          45,
          46,
          47,
          48
         ],
         "y": [
          1.3152072072072072,
          2.482810810810811,
          2.6304144144144144,
          3.798018018018018,
          3.9456216216216218,
          4.0932252252252255,
          4.240828828828829,
          5.408432432432432,
          5.556036036036036,
          5.70363963963964,
          5.8512432432432435,
          7.524084084084084,
          7.770090090090091,
          8.016096096096096,
          9.282102102102101,
          9.528108108108107,
          9.774114114114115,
          10.02012012012012,
          10.266126126126126,
          10.512132132132132,
          10.758138138138138,
          11.004144144144144,
          11.250150150150152,
          11.496156156156157,
          11.742162162162163,
          11.988168168168169,
          12.234174174174175,
          12.48018018018018,
          12.726186186186187,
          12.972192192192193,
          14.238198198198198,
          14.484204204204204,
          14.73021021021021,
          14.976216216216216,
          15.222222222222221,
          15.46822822822823,
          15.714234234234237,
          15.960240240240243,
          16.20624624624625,
          16.452252252252254,
          16.69825825825826,
          16.944264264264266,
          17.190270270270272,
          17.436276276276278,
          17.682282282282284,
          17.92828828828829
         ]
        }
       ],
       "layout": {
        "legend": {
         "title": {
          "text": "Message Size"
         }
        },
        "template": {
         "data": {
          "bar": [
           {
            "error_x": {
             "color": "#2a3f5f"
            },
            "error_y": {
             "color": "#2a3f5f"
            },
            "marker": {
             "line": {
              "color": "#E5ECF6",
              "width": 0.5
             },
             "pattern": {
              "fillmode": "overlay",
              "size": 10,
              "solidity": 0.2
             }
            },
            "type": "bar"
           }
          ],
          "barpolar": [
           {
            "marker": {
             "line": {
              "color": "#E5ECF6",
              "width": 0.5
             },
             "pattern": {
              "fillmode": "overlay",
              "size": 10,
              "solidity": 0.2
             }
            },
            "type": "barpolar"
           }
          ],
          "carpet": [
           {
            "aaxis": {
             "endlinecolor": "#2a3f5f",
             "gridcolor": "white",
             "linecolor": "white",
             "minorgridcolor": "white",
             "startlinecolor": "#2a3f5f"
            },
            "baxis": {
             "endlinecolor": "#2a3f5f",
             "gridcolor": "white",
             "linecolor": "white",
             "minorgridcolor": "white",
             "startlinecolor": "#2a3f5f"
            },
            "type": "carpet"
           }
          ],
          "choropleth": [
           {
            "colorbar": {
             "outlinewidth": 0,
             "ticks": ""
            },
            "type": "choropleth"
           }
          ],
          "contour": [
           {
            "colorbar": {
             "outlinewidth": 0,
             "ticks": ""
            },
            "colorscale": [
             [
              0,
              "#0d0887"
             ],
             [
              0.1111111111111111,
              "#46039f"
             ],
             [
              0.2222222222222222,
              "#7201a8"
             ],
             [
              0.3333333333333333,
              "#9c179e"
             ],
             [
              0.4444444444444444,
              "#bd3786"
             ],
             [
              0.5555555555555556,
              "#d8576b"
             ],
             [
              0.6666666666666666,
              "#ed7953"
             ],
             [
              0.7777777777777778,
              "#fb9f3a"
             ],
             [
              0.8888888888888888,
              "#fdca26"
             ],
             [
              1,
              "#f0f921"
             ]
            ],
            "type": "contour"
           }
          ],
          "contourcarpet": [
           {
            "colorbar": {
             "outlinewidth": 0,
             "ticks": ""
            },
            "type": "contourcarpet"
           }
          ],
          "heatmap": [
           {
            "colorbar": {
             "outlinewidth": 0,
             "ticks": ""
            },
            "colorscale": [
             [
              0,
              "#0d0887"
             ],
             [
              0.1111111111111111,
              "#46039f"
             ],
             [
              0.2222222222222222,
              "#7201a8"
             ],
             [
              0.3333333333333333,
              "#9c179e"
             ],
             [
              0.4444444444444444,
              "#bd3786"
             ],
             [
              0.5555555555555556,
              "#d8576b"
             ],
             [
              0.6666666666666666,
              "#ed7953"
             ],
             [
              0.7777777777777778,
              "#fb9f3a"
             ],
             [
              0.8888888888888888,
              "#fdca26"
             ],
             [
              1,
              "#f0f921"
             ]
            ],
            "type": "heatmap"
           }
          ],
          "heatmapgl": [
           {
            "colorbar": {
             "outlinewidth": 0,
             "ticks": ""
            },
            "colorscale": [
             [
              0,
              "#0d0887"
             ],
             [
              0.1111111111111111,
              "#46039f"
             ],
             [
              0.2222222222222222,
              "#7201a8"
             ],
             [
              0.3333333333333333,
              "#9c179e"
             ],
             [
              0.4444444444444444,
              "#bd3786"
             ],
             [
              0.5555555555555556,
              "#d8576b"
             ],
             [
              0.6666666666666666,
              "#ed7953"
             ],
             [
              0.7777777777777778,
              "#fb9f3a"
             ],
             [
              0.8888888888888888,
              "#fdca26"
             ],
             [
              1,
              "#f0f921"
             ]
            ],
            "type": "heatmapgl"
           }
          ],
          "histogram": [
           {
            "marker": {
             "pattern": {
              "fillmode": "overlay",
              "size": 10,
              "solidity": 0.2
             }
            },
            "type": "histogram"
           }
          ],
          "histogram2d": [
           {
            "colorbar": {
             "outlinewidth": 0,
             "ticks": ""
            },
            "colorscale": [
             [
              0,
              "#0d0887"
             ],
             [
              0.1111111111111111,
              "#46039f"
             ],
             [
              0.2222222222222222,
              "#7201a8"
             ],
             [
              0.3333333333333333,
              "#9c179e"
             ],
             [
              0.4444444444444444,
              "#bd3786"
             ],
             [
              0.5555555555555556,
              "#d8576b"
             ],
             [
              0.6666666666666666,
              "#ed7953"
             ],
             [
              0.7777777777777778,
              "#fb9f3a"
             ],
             [
              0.8888888888888888,
              "#fdca26"
             ],
             [
              1,
              "#f0f921"
             ]
            ],
            "type": "histogram2d"
           }
          ],
          "histogram2dcontour": [
           {
            "colorbar": {
             "outlinewidth": 0,
             "ticks": ""
            },
            "colorscale": [
             [
              0,
              "#0d0887"
             ],
             [
              0.1111111111111111,
              "#46039f"
             ],
             [
              0.2222222222222222,
              "#7201a8"
             ],
             [
              0.3333333333333333,
              "#9c179e"
             ],
             [
              0.4444444444444444,
              "#bd3786"
             ],
             [
              0.5555555555555556,
              "#d8576b"
             ],
             [
              0.6666666666666666,
              "#ed7953"
             ],
             [
              0.7777777777777778,
              "#fb9f3a"
             ],
             [
              0.8888888888888888,
              "#fdca26"
             ],
             [
              1,
              "#f0f921"
             ]
            ],
            "type": "histogram2dcontour"
           }
          ],
          "mesh3d": [
           {
            "colorbar": {
             "outlinewidth": 0,
             "ticks": ""
            },
            "type": "mesh3d"
           }
          ],
          "parcoords": [
           {
            "line": {
             "colorbar": {
              "outlinewidth": 0,
              "ticks": ""
             }
            },
            "type": "parcoords"
           }
          ],
          "pie": [
           {
            "automargin": true,
            "type": "pie"
           }
          ],
          "scatter": [
           {
            "fillpattern": {
             "fillmode": "overlay",
             "size": 10,
             "solidity": 0.2
            },
            "type": "scatter"
           }
          ],
          "scatter3d": [
           {
            "line": {
             "colorbar": {
              "outlinewidth": 0,
              "ticks": ""
             }
            },
            "marker": {
             "colorbar": {
              "outlinewidth": 0,
              "ticks": ""
             }
            },
            "type": "scatter3d"
           }
          ],
          "scattercarpet": [
           {
            "marker": {
             "colorbar": {
              "outlinewidth": 0,
              "ticks": ""
             }
            },
            "type": "scattercarpet"
           }
          ],
          "scattergeo": [
           {
            "marker": {
             "colorbar": {
              "outlinewidth": 0,
              "ticks": ""
             }
            },
            "type": "scattergeo"
           }
          ],
          "scattergl": [
           {
            "marker": {
             "colorbar": {
              "outlinewidth": 0,
              "ticks": ""
             }
            },
            "type": "scattergl"
           }
          ],
          "scattermapbox": [
           {
            "marker": {
             "colorbar": {
              "outlinewidth": 0,
              "ticks": ""
             }
            },
            "type": "scattermapbox"
           }
          ],
          "scatterpolar": [
           {
            "marker": {
             "colorbar": {
              "outlinewidth": 0,
              "ticks": ""
             }
            },
            "type": "scatterpolar"
           }
          ],
          "scatterpolargl": [
           {
            "marker": {
             "colorbar": {
              "outlinewidth": 0,
              "ticks": ""
             }
            },
            "type": "scatterpolargl"
           }
          ],
          "scatterternary": [
           {
            "marker": {
             "colorbar": {
              "outlinewidth": 0,
              "ticks": ""
             }
            },
            "type": "scatterternary"
           }
          ],
          "surface": [
           {
            "colorbar": {
             "outlinewidth": 0,
             "ticks": ""
            },
            "colorscale": [
             [
              0,
              "#0d0887"
             ],
             [
              0.1111111111111111,
              "#46039f"
             ],
             [
              0.2222222222222222,
              "#7201a8"
             ],
             [
              0.3333333333333333,
              "#9c179e"
             ],
             [
              0.4444444444444444,
              "#bd3786"
             ],
             [
              0.5555555555555556,
              "#d8576b"
             ],
             [
              0.6666666666666666,
              "#ed7953"
             ],
             [
              0.7777777777777778,
              "#fb9f3a"
             ],
             [
              0.8888888888888888,
              "#fdca26"
             ],
             [
              1,
              "#f0f921"
             ]
            ],
            "type": "surface"
           }
          ],
          "table": [
           {
            "cells": {
             "fill": {
              "color": "#EBF0F8"
             },
             "line": {
              "color": "white"
             }
            },
            "header": {
             "fill": {
              "color": "#C8D4E3"
             },
             "line": {
              "color": "white"
             }
            },
            "type": "table"
           }
          ]
         },
         "layout": {
          "annotationdefaults": {
           "arrowcolor": "#2a3f5f",
           "arrowhead": 0,
           "arrowwidth": 1
          },
          "autotypenumbers": "strict",
          "coloraxis": {
           "colorbar": {
            "outlinewidth": 0,
            "ticks": ""
           }
          },
          "colorscale": {
           "diverging": [
            [
             0,
             "#8e0152"
            ],
            [
             0.1,
             "#c51b7d"
            ],
            [
             0.2,
             "#de77ae"
            ],
            [
             0.3,
             "#f1b6da"
            ],
            [
             0.4,
             "#fde0ef"
            ],
            [
             0.5,
             "#f7f7f7"
            ],
            [
             0.6,
             "#e6f5d0"
            ],
            [
             0.7,
             "#b8e186"
            ],
            [
             0.8,
             "#7fbc41"
            ],
            [
             0.9,
             "#4d9221"
            ],
            [
             1,
             "#276419"
            ]
           ],
           "sequential": [
            [
             0,
             "#0d0887"
            ],
            [
             0.1111111111111111,
             "#46039f"
            ],
            [
             0.2222222222222222,
             "#7201a8"
            ],
            [
             0.3333333333333333,
             "#9c179e"
            ],
            [
             0.4444444444444444,
             "#bd3786"
            ],
            [
             0.5555555555555556,
             "#d8576b"
            ],
            [
             0.6666666666666666,
             "#ed7953"
            ],
            [
             0.7777777777777778,
             "#fb9f3a"
            ],
            [
             0.8888888888888888,
             "#fdca26"
            ],
            [
             1,
             "#f0f921"
            ]
           ],
           "sequentialminus": [
            [
             0,
             "#0d0887"
            ],
            [
             0.1111111111111111,
             "#46039f"
            ],
            [
             0.2222222222222222,
             "#7201a8"
            ],
            [
             0.3333333333333333,
             "#9c179e"
            ],
            [
             0.4444444444444444,
             "#bd3786"
            ],
            [
             0.5555555555555556,
             "#d8576b"
            ],
            [
             0.6666666666666666,
             "#ed7953"
            ],
            [
             0.7777777777777778,
             "#fb9f3a"
            ],
            [
             0.8888888888888888,
             "#fdca26"
            ],
            [
             1,
             "#f0f921"
            ]
           ]
          },
          "colorway": [
           "#636efa",
           "#EF553B",
           "#00cc96",
           "#ab63fa",
           "#FFA15A",
           "#19d3f3",
           "#FF6692",
           "#B6E880",
           "#FF97FF",
           "#FECB52"
          ],
          "font": {
           "color": "#2a3f5f"
          },
          "geo": {
           "bgcolor": "white",
           "lakecolor": "white",
           "landcolor": "#E5ECF6",
           "showlakes": true,
           "showland": true,
           "subunitcolor": "white"
          },
          "hoverlabel": {
           "align": "left"
          },
          "hovermode": "closest",
          "mapbox": {
           "style": "light"
          },
          "paper_bgcolor": "white",
          "plot_bgcolor": "#E5ECF6",
          "polar": {
           "angularaxis": {
            "gridcolor": "white",
            "linecolor": "white",
            "ticks": ""
           },
           "bgcolor": "#E5ECF6",
           "radialaxis": {
            "gridcolor": "white",
            "linecolor": "white",
            "ticks": ""
           }
          },
          "scene": {
           "xaxis": {
            "backgroundcolor": "#E5ECF6",
            "gridcolor": "white",
            "gridwidth": 2,
            "linecolor": "white",
            "showbackground": true,
            "ticks": "",
            "zerolinecolor": "white"
           },
           "yaxis": {
            "backgroundcolor": "#E5ECF6",
            "gridcolor": "white",
            "gridwidth": 2,
            "linecolor": "white",
            "showbackground": true,
            "ticks": "",
            "zerolinecolor": "white"
           },
           "zaxis": {
            "backgroundcolor": "#E5ECF6",
            "gridcolor": "white",
            "gridwidth": 2,
            "linecolor": "white",
            "showbackground": true,
            "ticks": "",
            "zerolinecolor": "white"
           }
          },
          "shapedefaults": {
           "line": {
            "color": "#2a3f5f"
           }
          },
          "ternary": {
           "aaxis": {
            "gridcolor": "white",
            "linecolor": "white",
            "ticks": ""
           },
           "baxis": {
            "gridcolor": "white",
            "linecolor": "white",
            "ticks": ""
           },
           "bgcolor": "#E5ECF6",
           "caxis": {
            "gridcolor": "white",
            "linecolor": "white",
            "ticks": ""
           }
          },
          "title": {
           "x": 0.05
          },
          "xaxis": {
           "automargin": true,
           "gridcolor": "white",
           "linecolor": "white",
           "ticks": "",
           "title": {
            "standoff": 15
           },
           "zerolinecolor": "white",
           "zerolinewidth": 2
          },
          "yaxis": {
           "automargin": true,
           "gridcolor": "white",
           "linecolor": "white",
           "ticks": "",
           "title": {
            "standoff": 15
           },
           "zerolinecolor": "white",
           "zerolinewidth": 2
          }
         }
        },
        "title": {
         "text": "Latency vs Processes for the broadcast using binary tree Algorithm"
        },
        "xaxis": {
         "tickvals": [
          2,
          6,
          12,
          16,
          20,
          24,
          28,
          32,
          36,
          40,
          44,
          48
         ],
         "title": {
          "text": "Processes"
         }
        },
        "yaxis": {
         "title": {
          "text": "Latency (us)"
         },
         "type": "log"
        }
       }
      }
     },
     "metadata": {},
     "output_type": "display_data"
    }
   ],
   "source": [
    "plot_latency_vs_processes(binary_tree_df, 'binary tree', 'linear')\n",
    "plot_latency_vs_processes(binary_tree_df, 'binary tree','log')"
   ]
  },
  {
   "cell_type": "markdown",
   "metadata": {},
   "source": [
    "### Chain algorithm\n",
    "\n",
    "Latency Model:  \n",
    "$T = \\alpha + \\beta n $  \n",
    "Where:\n",
    "\n",
    "* $\\alpha$ is the latency (startup time) per message.\n",
    "* $\\beta$ is the time per byte.\n",
    "* $n$ is the number of bytes in the message.\n",
    "\n",
    "Thus, I expect the total time dependendency on CPUs ($np$) to be:  \n",
    "$T = \\alpha + np(\\alpha + \\beta n )$  "
   ]
  },
  {
   "cell_type": "code",
   "execution_count": 1006,
   "metadata": {},
   "outputs": [
    {
     "data": {
      "application/vnd.plotly.v1+json": {
       "config": {
        "plotlyServerURL": "https://plot.ly"
       },
       "data": [
        {
         "mode": "lines+markers",
         "name": "8192",
         "type": "scatter",
         "x": [
          2,
          3,
          4,
          5,
          6,
          7,
          8,
          9,
          10,
          11,
          12,
          13,
          14,
          15,
          16,
          17,
          18,
          19,
          20,
          21,
          22,
          23,
          24,
          25,
          26,
          27,
          28,
          29,
          30,
          31,
          32,
          33,
          34,
          35,
          36,
          37,
          38,
          39,
          40,
          41,
          42,
          43,
          44,
          45,
          46,
          47,
          48
         ],
         "y": [
          1.35,
          2.15,
          2.53,
          3.04,
          3.44,
          3.76,
          4.35,
          4.76,
          4.98,
          5.33,
          5.49,
          6.09,
          6.38,
          6.72,
          7.9,
          8.69,
          9.17,
          9.36,
          10.22,
          9.94,
          10.71,
          11.27,
          11.56,
          11.55,
          11.79,
          12.19,
          12.53,
          13.1,
          13.1,
          15.15,
          13.94,
          18.15,
          17.92,
          17.55,
          19.67,
          20.72,
          21.46,
          20.45,
          21.71,
          24.41,
          26.27,
          23.58,
          24.81,
          21.22,
          22.94,
          20.37,
          19.99
         ]
        },
        {
         "line": {
          "color": "black",
          "dash": "dash"
         },
         "mode": "lines",
         "name": "8192Theoretical Latency for size ",
         "type": "scatter",
         "x": [
          2,
          3,
          4,
          5,
          6,
          7,
          8,
          9,
          10,
          11,
          12,
          13,
          14,
          15,
          16,
          17,
          18,
          19,
          20,
          21,
          22,
          23,
          24,
          25,
          26,
          27,
          28,
          29,
          30,
          31,
          32,
          33,
          34,
          35,
          36,
          37,
          38,
          39,
          40,
          41,
          42,
          43,
          44,
          45,
          46,
          47,
          48
         ],
         "y": [
          1.4628108108108109,
          1.9056216216216217,
          2.3484324324324324,
          2.791243243243243,
          3.234054054054054,
          3.6768648648648647,
          4.119675675675676,
          4.5624864864864865,
          5.005297297297297,
          5.448108108108109,
          5.890918918918919,
          6.333729729729729,
          6.776540540540541,
          7.219351351351351,
          7.662162162162161,
          8.104972972972973,
          8.547783783783784,
          8.990594594594594,
          9.433405405405406,
          9.876216216216216,
          10.319027027027026,
          10.761837837837838,
          11.204648648648648,
          11.647459459459458,
          12.09027027027027,
          12.53308108108108,
          12.97589189189189,
          13.418702702702703,
          13.861513513513513,
          14.304324324324323,
          14.747135135135135,
          15.189945945945945,
          15.632756756756756,
          16.075567567567568,
          16.51837837837838,
          16.961189189189188,
          17.404,
          17.846810810810812,
          18.28962162162162,
          18.732432432432432,
          19.175243243243244,
          19.618054054054053,
          20.060864864864865,
          20.503675675675677,
          20.946486486486485,
          21.389297297297297,
          21.83210810810811
         ]
        },
        {
         "mode": "lines+markers",
         "name": "8192",
         "type": "scatter",
         "x": [
          2,
          3,
          4,
          5,
          6,
          7,
          8,
          9,
          10,
          11,
          12,
          13,
          14,
          15,
          16,
          17,
          18,
          19,
          20,
          21,
          22,
          23,
          24,
          25,
          26,
          27,
          28,
          29,
          30,
          31,
          32,
          33,
          34,
          35,
          36,
          37,
          38,
          39,
          40,
          41,
          42,
          43,
          44,
          45,
          46,
          47,
          48
         ],
         "y": [
          1.35,
          2.2,
          2.63,
          3.13,
          3.7,
          3.78,
          4.36,
          4.88,
          5.08,
          5.41,
          5.58,
          6.22,
          6.48,
          6.98,
          7.79,
          8.78,
          9.25,
          9.51,
          10.27,
          10.13,
          10.96,
          11.24,
          11.67,
          11.72,
          11.8,
          12.22,
          12.87,
          14.27,
          13.29,
          13.51,
          14.18,
          17.66,
          20.98,
          19.4,
          23.1,
          19.6,
          23.02,
          22.13,
          22.45,
          22.56,
          19.77,
          19.86,
          20.93,
          21.4,
          20.02,
          20.38,
          20.01
         ]
        },
        {
         "line": {
          "color": "black",
          "dash": "dash"
         },
         "mode": "lines",
         "name": "8192Theoretical Latency for size ",
         "type": "scatter",
         "x": [
          2,
          3,
          4,
          5,
          6,
          7,
          8,
          9,
          10,
          11,
          12,
          13,
          14,
          15,
          16,
          17,
          18,
          19,
          20,
          21,
          22,
          23,
          24,
          25,
          26,
          27,
          28,
          29,
          30,
          31,
          32,
          33,
          34,
          35,
          36,
          37,
          38,
          39,
          40,
          41,
          42,
          43,
          44,
          45,
          46,
          47,
          48
         ],
         "y": [
          1.4628108108108109,
          1.9056216216216217,
          2.3484324324324324,
          2.791243243243243,
          3.234054054054054,
          3.6768648648648647,
          4.119675675675676,
          4.5624864864864865,
          5.005297297297297,
          5.448108108108109,
          5.890918918918919,
          6.333729729729729,
          6.776540540540541,
          7.219351351351351,
          7.662162162162161,
          8.104972972972973,
          8.547783783783784,
          8.990594594594594,
          9.433405405405406,
          9.876216216216216,
          10.319027027027026,
          10.761837837837838,
          11.204648648648648,
          11.647459459459458,
          12.09027027027027,
          12.53308108108108,
          12.97589189189189,
          13.418702702702703,
          13.861513513513513,
          14.304324324324323,
          14.747135135135135,
          15.189945945945945,
          15.632756756756756,
          16.075567567567568,
          16.51837837837838,
          16.961189189189188,
          17.404,
          17.846810810810812,
          18.28962162162162,
          18.732432432432432,
          19.175243243243244,
          19.618054054054053,
          20.060864864864865,
          20.503675675675677,
          20.946486486486485,
          21.389297297297297,
          21.83210810810811
         ]
        },
        {
         "mode": "lines+markers",
         "name": "8192",
         "type": "scatter",
         "x": [
          2,
          3,
          4,
          5,
          6,
          7,
          8,
          9,
          10,
          11,
          12,
          13,
          14,
          15,
          16,
          17,
          18,
          19,
          20,
          21,
          22,
          23,
          24,
          25,
          26,
          27,
          28,
          29,
          30,
          31,
          32,
          33,
          34,
          35,
          36,
          37,
          38,
          39,
          40,
          41,
          42,
          43,
          44,
          45,
          46,
          47,
          48
         ],
         "y": [
          1.57,
          2.18,
          2.78,
          3.15,
          3.47,
          3.85,
          4.41,
          4.87,
          5.13,
          5.51,
          5.58,
          6.11,
          6.42,
          6.77,
          7.69,
          8.67,
          9.46,
          9.53,
          10.35,
          10.03,
          10.9,
          11.17,
          11.73,
          11.66,
          12.11,
          12.34,
          12.63,
          13.26,
          13.26,
          13.31,
          14.12,
          16.49,
          18.6,
          24.24,
          20.94,
          20.16,
          23.63,
          20.01,
          23.48,
          23.39,
          20.23,
          26.61,
          22.12,
          20.42,
          20.98,
          20.42,
          19.99
         ]
        },
        {
         "line": {
          "color": "black",
          "dash": "dash"
         },
         "mode": "lines",
         "name": "8192Theoretical Latency for size ",
         "type": "scatter",
         "x": [
          2,
          3,
          4,
          5,
          6,
          7,
          8,
          9,
          10,
          11,
          12,
          13,
          14,
          15,
          16,
          17,
          18,
          19,
          20,
          21,
          22,
          23,
          24,
          25,
          26,
          27,
          28,
          29,
          30,
          31,
          32,
          33,
          34,
          35,
          36,
          37,
          38,
          39,
          40,
          41,
          42,
          43,
          44,
          45,
          46,
          47,
          48
         ],
         "y": [
          1.4628108108108109,
          1.9056216216216217,
          2.3484324324324324,
          2.791243243243243,
          3.234054054054054,
          3.6768648648648647,
          4.119675675675676,
          4.5624864864864865,
          5.005297297297297,
          5.448108108108109,
          5.890918918918919,
          6.333729729729729,
          6.776540540540541,
          7.219351351351351,
          7.662162162162161,
          8.104972972972973,
          8.547783783783784,
          8.990594594594594,
          9.433405405405406,
          9.876216216216216,
          10.319027027027026,
          10.761837837837838,
          11.204648648648648,
          11.647459459459458,
          12.09027027027027,
          12.53308108108108,
          12.97589189189189,
          13.418702702702703,
          13.861513513513513,
          14.304324324324323,
          14.747135135135135,
          15.189945945945945,
          15.632756756756756,
          16.075567567567568,
          16.51837837837838,
          16.961189189189188,
          17.404,
          17.846810810810812,
          18.28962162162162,
          18.732432432432432,
          19.175243243243244,
          19.618054054054053,
          20.060864864864865,
          20.503675675675677,
          20.946486486486485,
          21.389297297297297,
          21.83210810810811
         ]
        },
        {
         "mode": "lines+markers",
         "name": "8192",
         "type": "scatter",
         "x": [
          2,
          3,
          4,
          5,
          6,
          7,
          8,
          9,
          10,
          11,
          12,
          13,
          14,
          15,
          16,
          17,
          18,
          19,
          20,
          21,
          22,
          23,
          24,
          25,
          26,
          27,
          28,
          29,
          30,
          31,
          32,
          33,
          34,
          35,
          36,
          37,
          38,
          39,
          40,
          41,
          42,
          43,
          44,
          45,
          46,
          47,
          48
         ],
         "y": [
          1.37,
          2.2,
          2.62,
          3.19,
          3.5,
          3.82,
          4.35,
          4.85,
          5.13,
          5.35,
          5.6,
          6.12,
          6.42,
          6.81,
          7.73,
          8.7,
          9.25,
          9.61,
          10.27,
          10,
          10.82,
          11.33,
          11.68,
          11.65,
          11.81,
          12.15,
          12.62,
          13.12,
          13.15,
          13.32,
          14.13,
          17.29,
          20.22,
          20.35,
          21.05,
          22.3,
          21.37,
          17.85,
          19.2,
          18.54,
          19.64,
          20.01,
          21.13,
          21.38,
          21.29,
          21.44,
          20.03
         ]
        },
        {
         "line": {
          "color": "black",
          "dash": "dash"
         },
         "mode": "lines",
         "name": "8192Theoretical Latency for size ",
         "type": "scatter",
         "x": [
          2,
          3,
          4,
          5,
          6,
          7,
          8,
          9,
          10,
          11,
          12,
          13,
          14,
          15,
          16,
          17,
          18,
          19,
          20,
          21,
          22,
          23,
          24,
          25,
          26,
          27,
          28,
          29,
          30,
          31,
          32,
          33,
          34,
          35,
          36,
          37,
          38,
          39,
          40,
          41,
          42,
          43,
          44,
          45,
          46,
          47,
          48
         ],
         "y": [
          1.4628108108108109,
          1.9056216216216217,
          2.3484324324324324,
          2.791243243243243,
          3.234054054054054,
          3.6768648648648647,
          4.119675675675676,
          4.5624864864864865,
          5.005297297297297,
          5.448108108108109,
          5.890918918918919,
          6.333729729729729,
          6.776540540540541,
          7.219351351351351,
          7.662162162162161,
          8.104972972972973,
          8.547783783783784,
          8.990594594594594,
          9.433405405405406,
          9.876216216216216,
          10.319027027027026,
          10.761837837837838,
          11.204648648648648,
          11.647459459459458,
          12.09027027027027,
          12.53308108108108,
          12.97589189189189,
          13.418702702702703,
          13.861513513513513,
          14.304324324324323,
          14.747135135135135,
          15.189945945945945,
          15.632756756756756,
          16.075567567567568,
          16.51837837837838,
          16.961189189189188,
          17.404,
          17.846810810810812,
          18.28962162162162,
          18.732432432432432,
          19.175243243243244,
          19.618054054054053,
          20.060864864864865,
          20.503675675675677,
          20.946486486486485,
          21.389297297297297,
          21.83210810810811
         ]
        }
       ],
       "layout": {
        "legend": {
         "title": {
          "text": "Message Size"
         }
        },
        "template": {
         "data": {
          "bar": [
           {
            "error_x": {
             "color": "#2a3f5f"
            },
            "error_y": {
             "color": "#2a3f5f"
            },
            "marker": {
             "line": {
              "color": "#E5ECF6",
              "width": 0.5
             },
             "pattern": {
              "fillmode": "overlay",
              "size": 10,
              "solidity": 0.2
             }
            },
            "type": "bar"
           }
          ],
          "barpolar": [
           {
            "marker": {
             "line": {
              "color": "#E5ECF6",
              "width": 0.5
             },
             "pattern": {
              "fillmode": "overlay",
              "size": 10,
              "solidity": 0.2
             }
            },
            "type": "barpolar"
           }
          ],
          "carpet": [
           {
            "aaxis": {
             "endlinecolor": "#2a3f5f",
             "gridcolor": "white",
             "linecolor": "white",
             "minorgridcolor": "white",
             "startlinecolor": "#2a3f5f"
            },
            "baxis": {
             "endlinecolor": "#2a3f5f",
             "gridcolor": "white",
             "linecolor": "white",
             "minorgridcolor": "white",
             "startlinecolor": "#2a3f5f"
            },
            "type": "carpet"
           }
          ],
          "choropleth": [
           {
            "colorbar": {
             "outlinewidth": 0,
             "ticks": ""
            },
            "type": "choropleth"
           }
          ],
          "contour": [
           {
            "colorbar": {
             "outlinewidth": 0,
             "ticks": ""
            },
            "colorscale": [
             [
              0,
              "#0d0887"
             ],
             [
              0.1111111111111111,
              "#46039f"
             ],
             [
              0.2222222222222222,
              "#7201a8"
             ],
             [
              0.3333333333333333,
              "#9c179e"
             ],
             [
              0.4444444444444444,
              "#bd3786"
             ],
             [
              0.5555555555555556,
              "#d8576b"
             ],
             [
              0.6666666666666666,
              "#ed7953"
             ],
             [
              0.7777777777777778,
              "#fb9f3a"
             ],
             [
              0.8888888888888888,
              "#fdca26"
             ],
             [
              1,
              "#f0f921"
             ]
            ],
            "type": "contour"
           }
          ],
          "contourcarpet": [
           {
            "colorbar": {
             "outlinewidth": 0,
             "ticks": ""
            },
            "type": "contourcarpet"
           }
          ],
          "heatmap": [
           {
            "colorbar": {
             "outlinewidth": 0,
             "ticks": ""
            },
            "colorscale": [
             [
              0,
              "#0d0887"
             ],
             [
              0.1111111111111111,
              "#46039f"
             ],
             [
              0.2222222222222222,
              "#7201a8"
             ],
             [
              0.3333333333333333,
              "#9c179e"
             ],
             [
              0.4444444444444444,
              "#bd3786"
             ],
             [
              0.5555555555555556,
              "#d8576b"
             ],
             [
              0.6666666666666666,
              "#ed7953"
             ],
             [
              0.7777777777777778,
              "#fb9f3a"
             ],
             [
              0.8888888888888888,
              "#fdca26"
             ],
             [
              1,
              "#f0f921"
             ]
            ],
            "type": "heatmap"
           }
          ],
          "heatmapgl": [
           {
            "colorbar": {
             "outlinewidth": 0,
             "ticks": ""
            },
            "colorscale": [
             [
              0,
              "#0d0887"
             ],
             [
              0.1111111111111111,
              "#46039f"
             ],
             [
              0.2222222222222222,
              "#7201a8"
             ],
             [
              0.3333333333333333,
              "#9c179e"
             ],
             [
              0.4444444444444444,
              "#bd3786"
             ],
             [
              0.5555555555555556,
              "#d8576b"
             ],
             [
              0.6666666666666666,
              "#ed7953"
             ],
             [
              0.7777777777777778,
              "#fb9f3a"
             ],
             [
              0.8888888888888888,
              "#fdca26"
             ],
             [
              1,
              "#f0f921"
             ]
            ],
            "type": "heatmapgl"
           }
          ],
          "histogram": [
           {
            "marker": {
             "pattern": {
              "fillmode": "overlay",
              "size": 10,
              "solidity": 0.2
             }
            },
            "type": "histogram"
           }
          ],
          "histogram2d": [
           {
            "colorbar": {
             "outlinewidth": 0,
             "ticks": ""
            },
            "colorscale": [
             [
              0,
              "#0d0887"
             ],
             [
              0.1111111111111111,
              "#46039f"
             ],
             [
              0.2222222222222222,
              "#7201a8"
             ],
             [
              0.3333333333333333,
              "#9c179e"
             ],
             [
              0.4444444444444444,
              "#bd3786"
             ],
             [
              0.5555555555555556,
              "#d8576b"
             ],
             [
              0.6666666666666666,
              "#ed7953"
             ],
             [
              0.7777777777777778,
              "#fb9f3a"
             ],
             [
              0.8888888888888888,
              "#fdca26"
             ],
             [
              1,
              "#f0f921"
             ]
            ],
            "type": "histogram2d"
           }
          ],
          "histogram2dcontour": [
           {
            "colorbar": {
             "outlinewidth": 0,
             "ticks": ""
            },
            "colorscale": [
             [
              0,
              "#0d0887"
             ],
             [
              0.1111111111111111,
              "#46039f"
             ],
             [
              0.2222222222222222,
              "#7201a8"
             ],
             [
              0.3333333333333333,
              "#9c179e"
             ],
             [
              0.4444444444444444,
              "#bd3786"
             ],
             [
              0.5555555555555556,
              "#d8576b"
             ],
             [
              0.6666666666666666,
              "#ed7953"
             ],
             [
              0.7777777777777778,
              "#fb9f3a"
             ],
             [
              0.8888888888888888,
              "#fdca26"
             ],
             [
              1,
              "#f0f921"
             ]
            ],
            "type": "histogram2dcontour"
           }
          ],
          "mesh3d": [
           {
            "colorbar": {
             "outlinewidth": 0,
             "ticks": ""
            },
            "type": "mesh3d"
           }
          ],
          "parcoords": [
           {
            "line": {
             "colorbar": {
              "outlinewidth": 0,
              "ticks": ""
             }
            },
            "type": "parcoords"
           }
          ],
          "pie": [
           {
            "automargin": true,
            "type": "pie"
           }
          ],
          "scatter": [
           {
            "fillpattern": {
             "fillmode": "overlay",
             "size": 10,
             "solidity": 0.2
            },
            "type": "scatter"
           }
          ],
          "scatter3d": [
           {
            "line": {
             "colorbar": {
              "outlinewidth": 0,
              "ticks": ""
             }
            },
            "marker": {
             "colorbar": {
              "outlinewidth": 0,
              "ticks": ""
             }
            },
            "type": "scatter3d"
           }
          ],
          "scattercarpet": [
           {
            "marker": {
             "colorbar": {
              "outlinewidth": 0,
              "ticks": ""
             }
            },
            "type": "scattercarpet"
           }
          ],
          "scattergeo": [
           {
            "marker": {
             "colorbar": {
              "outlinewidth": 0,
              "ticks": ""
             }
            },
            "type": "scattergeo"
           }
          ],
          "scattergl": [
           {
            "marker": {
             "colorbar": {
              "outlinewidth": 0,
              "ticks": ""
             }
            },
            "type": "scattergl"
           }
          ],
          "scattermapbox": [
           {
            "marker": {
             "colorbar": {
              "outlinewidth": 0,
              "ticks": ""
             }
            },
            "type": "scattermapbox"
           }
          ],
          "scatterpolar": [
           {
            "marker": {
             "colorbar": {
              "outlinewidth": 0,
              "ticks": ""
             }
            },
            "type": "scatterpolar"
           }
          ],
          "scatterpolargl": [
           {
            "marker": {
             "colorbar": {
              "outlinewidth": 0,
              "ticks": ""
             }
            },
            "type": "scatterpolargl"
           }
          ],
          "scatterternary": [
           {
            "marker": {
             "colorbar": {
              "outlinewidth": 0,
              "ticks": ""
             }
            },
            "type": "scatterternary"
           }
          ],
          "surface": [
           {
            "colorbar": {
             "outlinewidth": 0,
             "ticks": ""
            },
            "colorscale": [
             [
              0,
              "#0d0887"
             ],
             [
              0.1111111111111111,
              "#46039f"
             ],
             [
              0.2222222222222222,
              "#7201a8"
             ],
             [
              0.3333333333333333,
              "#9c179e"
             ],
             [
              0.4444444444444444,
              "#bd3786"
             ],
             [
              0.5555555555555556,
              "#d8576b"
             ],
             [
              0.6666666666666666,
              "#ed7953"
             ],
             [
              0.7777777777777778,
              "#fb9f3a"
             ],
             [
              0.8888888888888888,
              "#fdca26"
             ],
             [
              1,
              "#f0f921"
             ]
            ],
            "type": "surface"
           }
          ],
          "table": [
           {
            "cells": {
             "fill": {
              "color": "#EBF0F8"
             },
             "line": {
              "color": "white"
             }
            },
            "header": {
             "fill": {
              "color": "#C8D4E3"
             },
             "line": {
              "color": "white"
             }
            },
            "type": "table"
           }
          ]
         },
         "layout": {
          "annotationdefaults": {
           "arrowcolor": "#2a3f5f",
           "arrowhead": 0,
           "arrowwidth": 1
          },
          "autotypenumbers": "strict",
          "coloraxis": {
           "colorbar": {
            "outlinewidth": 0,
            "ticks": ""
           }
          },
          "colorscale": {
           "diverging": [
            [
             0,
             "#8e0152"
            ],
            [
             0.1,
             "#c51b7d"
            ],
            [
             0.2,
             "#de77ae"
            ],
            [
             0.3,
             "#f1b6da"
            ],
            [
             0.4,
             "#fde0ef"
            ],
            [
             0.5,
             "#f7f7f7"
            ],
            [
             0.6,
             "#e6f5d0"
            ],
            [
             0.7,
             "#b8e186"
            ],
            [
             0.8,
             "#7fbc41"
            ],
            [
             0.9,
             "#4d9221"
            ],
            [
             1,
             "#276419"
            ]
           ],
           "sequential": [
            [
             0,
             "#0d0887"
            ],
            [
             0.1111111111111111,
             "#46039f"
            ],
            [
             0.2222222222222222,
             "#7201a8"
            ],
            [
             0.3333333333333333,
             "#9c179e"
            ],
            [
             0.4444444444444444,
             "#bd3786"
            ],
            [
             0.5555555555555556,
             "#d8576b"
            ],
            [
             0.6666666666666666,
             "#ed7953"
            ],
            [
             0.7777777777777778,
             "#fb9f3a"
            ],
            [
             0.8888888888888888,
             "#fdca26"
            ],
            [
             1,
             "#f0f921"
            ]
           ],
           "sequentialminus": [
            [
             0,
             "#0d0887"
            ],
            [
             0.1111111111111111,
             "#46039f"
            ],
            [
             0.2222222222222222,
             "#7201a8"
            ],
            [
             0.3333333333333333,
             "#9c179e"
            ],
            [
             0.4444444444444444,
             "#bd3786"
            ],
            [
             0.5555555555555556,
             "#d8576b"
            ],
            [
             0.6666666666666666,
             "#ed7953"
            ],
            [
             0.7777777777777778,
             "#fb9f3a"
            ],
            [
             0.8888888888888888,
             "#fdca26"
            ],
            [
             1,
             "#f0f921"
            ]
           ]
          },
          "colorway": [
           "#636efa",
           "#EF553B",
           "#00cc96",
           "#ab63fa",
           "#FFA15A",
           "#19d3f3",
           "#FF6692",
           "#B6E880",
           "#FF97FF",
           "#FECB52"
          ],
          "font": {
           "color": "#2a3f5f"
          },
          "geo": {
           "bgcolor": "white",
           "lakecolor": "white",
           "landcolor": "#E5ECF6",
           "showlakes": true,
           "showland": true,
           "subunitcolor": "white"
          },
          "hoverlabel": {
           "align": "left"
          },
          "hovermode": "closest",
          "mapbox": {
           "style": "light"
          },
          "paper_bgcolor": "white",
          "plot_bgcolor": "#E5ECF6",
          "polar": {
           "angularaxis": {
            "gridcolor": "white",
            "linecolor": "white",
            "ticks": ""
           },
           "bgcolor": "#E5ECF6",
           "radialaxis": {
            "gridcolor": "white",
            "linecolor": "white",
            "ticks": ""
           }
          },
          "scene": {
           "xaxis": {
            "backgroundcolor": "#E5ECF6",
            "gridcolor": "white",
            "gridwidth": 2,
            "linecolor": "white",
            "showbackground": true,
            "ticks": "",
            "zerolinecolor": "white"
           },
           "yaxis": {
            "backgroundcolor": "#E5ECF6",
            "gridcolor": "white",
            "gridwidth": 2,
            "linecolor": "white",
            "showbackground": true,
            "ticks": "",
            "zerolinecolor": "white"
           },
           "zaxis": {
            "backgroundcolor": "#E5ECF6",
            "gridcolor": "white",
            "gridwidth": 2,
            "linecolor": "white",
            "showbackground": true,
            "ticks": "",
            "zerolinecolor": "white"
           }
          },
          "shapedefaults": {
           "line": {
            "color": "#2a3f5f"
           }
          },
          "ternary": {
           "aaxis": {
            "gridcolor": "white",
            "linecolor": "white",
            "ticks": ""
           },
           "baxis": {
            "gridcolor": "white",
            "linecolor": "white",
            "ticks": ""
           },
           "bgcolor": "#E5ECF6",
           "caxis": {
            "gridcolor": "white",
            "linecolor": "white",
            "ticks": ""
           }
          },
          "title": {
           "x": 0.05
          },
          "xaxis": {
           "automargin": true,
           "gridcolor": "white",
           "linecolor": "white",
           "ticks": "",
           "title": {
            "standoff": 15
           },
           "zerolinecolor": "white",
           "zerolinewidth": 2
          },
          "yaxis": {
           "automargin": true,
           "gridcolor": "white",
           "linecolor": "white",
           "ticks": "",
           "title": {
            "standoff": 15
           },
           "zerolinecolor": "white",
           "zerolinewidth": 2
          }
         }
        },
        "title": {
         "text": "Latency vs Processes for the broadcast using chain Algorithm"
        },
        "xaxis": {
         "tickvals": [
          2,
          6,
          12,
          16,
          20,
          24,
          28,
          32,
          36,
          40,
          44,
          48
         ],
         "title": {
          "text": "Processes"
         }
        },
        "yaxis": {
         "title": {
          "text": "Latency (us)"
         },
         "type": "linear"
        }
       }
      }
     },
     "metadata": {},
     "output_type": "display_data"
    },
    {
     "data": {
      "application/vnd.plotly.v1+json": {
       "config": {
        "plotlyServerURL": "https://plot.ly"
       },
       "data": [
        {
         "mode": "lines+markers",
         "name": "8192",
         "type": "scatter",
         "x": [
          2,
          3,
          4,
          5,
          6,
          7,
          8,
          9,
          10,
          11,
          12,
          13,
          14,
          15,
          16,
          17,
          18,
          19,
          20,
          21,
          22,
          23,
          24,
          25,
          26,
          27,
          28,
          29,
          30,
          31,
          32,
          33,
          34,
          35,
          36,
          37,
          38,
          39,
          40,
          41,
          42,
          43,
          44,
          45,
          46,
          47,
          48
         ],
         "y": [
          1.35,
          2.15,
          2.53,
          3.04,
          3.44,
          3.76,
          4.35,
          4.76,
          4.98,
          5.33,
          5.49,
          6.09,
          6.38,
          6.72,
          7.9,
          8.69,
          9.17,
          9.36,
          10.22,
          9.94,
          10.71,
          11.27,
          11.56,
          11.55,
          11.79,
          12.19,
          12.53,
          13.1,
          13.1,
          15.15,
          13.94,
          18.15,
          17.92,
          17.55,
          19.67,
          20.72,
          21.46,
          20.45,
          21.71,
          24.41,
          26.27,
          23.58,
          24.81,
          21.22,
          22.94,
          20.37,
          19.99
         ]
        },
        {
         "line": {
          "color": "black",
          "dash": "dash"
         },
         "mode": "lines",
         "name": "8192Theoretical Latency for size ",
         "type": "scatter",
         "x": [
          2,
          3,
          4,
          5,
          6,
          7,
          8,
          9,
          10,
          11,
          12,
          13,
          14,
          15,
          16,
          17,
          18,
          19,
          20,
          21,
          22,
          23,
          24,
          25,
          26,
          27,
          28,
          29,
          30,
          31,
          32,
          33,
          34,
          35,
          36,
          37,
          38,
          39,
          40,
          41,
          42,
          43,
          44,
          45,
          46,
          47,
          48
         ],
         "y": [
          1.4628108108108109,
          1.9056216216216217,
          2.3484324324324324,
          2.791243243243243,
          3.234054054054054,
          3.6768648648648647,
          4.119675675675676,
          4.5624864864864865,
          5.005297297297297,
          5.448108108108109,
          5.890918918918919,
          6.333729729729729,
          6.776540540540541,
          7.219351351351351,
          7.662162162162161,
          8.104972972972973,
          8.547783783783784,
          8.990594594594594,
          9.433405405405406,
          9.876216216216216,
          10.319027027027026,
          10.761837837837838,
          11.204648648648648,
          11.647459459459458,
          12.09027027027027,
          12.53308108108108,
          12.97589189189189,
          13.418702702702703,
          13.861513513513513,
          14.304324324324323,
          14.747135135135135,
          15.189945945945945,
          15.632756756756756,
          16.075567567567568,
          16.51837837837838,
          16.961189189189188,
          17.404,
          17.846810810810812,
          18.28962162162162,
          18.732432432432432,
          19.175243243243244,
          19.618054054054053,
          20.060864864864865,
          20.503675675675677,
          20.946486486486485,
          21.389297297297297,
          21.83210810810811
         ]
        },
        {
         "mode": "lines+markers",
         "name": "8192",
         "type": "scatter",
         "x": [
          2,
          3,
          4,
          5,
          6,
          7,
          8,
          9,
          10,
          11,
          12,
          13,
          14,
          15,
          16,
          17,
          18,
          19,
          20,
          21,
          22,
          23,
          24,
          25,
          26,
          27,
          28,
          29,
          30,
          31,
          32,
          33,
          34,
          35,
          36,
          37,
          38,
          39,
          40,
          41,
          42,
          43,
          44,
          45,
          46,
          47,
          48
         ],
         "y": [
          1.35,
          2.2,
          2.63,
          3.13,
          3.7,
          3.78,
          4.36,
          4.88,
          5.08,
          5.41,
          5.58,
          6.22,
          6.48,
          6.98,
          7.79,
          8.78,
          9.25,
          9.51,
          10.27,
          10.13,
          10.96,
          11.24,
          11.67,
          11.72,
          11.8,
          12.22,
          12.87,
          14.27,
          13.29,
          13.51,
          14.18,
          17.66,
          20.98,
          19.4,
          23.1,
          19.6,
          23.02,
          22.13,
          22.45,
          22.56,
          19.77,
          19.86,
          20.93,
          21.4,
          20.02,
          20.38,
          20.01
         ]
        },
        {
         "line": {
          "color": "black",
          "dash": "dash"
         },
         "mode": "lines",
         "name": "8192Theoretical Latency for size ",
         "type": "scatter",
         "x": [
          2,
          3,
          4,
          5,
          6,
          7,
          8,
          9,
          10,
          11,
          12,
          13,
          14,
          15,
          16,
          17,
          18,
          19,
          20,
          21,
          22,
          23,
          24,
          25,
          26,
          27,
          28,
          29,
          30,
          31,
          32,
          33,
          34,
          35,
          36,
          37,
          38,
          39,
          40,
          41,
          42,
          43,
          44,
          45,
          46,
          47,
          48
         ],
         "y": [
          1.4628108108108109,
          1.9056216216216217,
          2.3484324324324324,
          2.791243243243243,
          3.234054054054054,
          3.6768648648648647,
          4.119675675675676,
          4.5624864864864865,
          5.005297297297297,
          5.448108108108109,
          5.890918918918919,
          6.333729729729729,
          6.776540540540541,
          7.219351351351351,
          7.662162162162161,
          8.104972972972973,
          8.547783783783784,
          8.990594594594594,
          9.433405405405406,
          9.876216216216216,
          10.319027027027026,
          10.761837837837838,
          11.204648648648648,
          11.647459459459458,
          12.09027027027027,
          12.53308108108108,
          12.97589189189189,
          13.418702702702703,
          13.861513513513513,
          14.304324324324323,
          14.747135135135135,
          15.189945945945945,
          15.632756756756756,
          16.075567567567568,
          16.51837837837838,
          16.961189189189188,
          17.404,
          17.846810810810812,
          18.28962162162162,
          18.732432432432432,
          19.175243243243244,
          19.618054054054053,
          20.060864864864865,
          20.503675675675677,
          20.946486486486485,
          21.389297297297297,
          21.83210810810811
         ]
        },
        {
         "mode": "lines+markers",
         "name": "8192",
         "type": "scatter",
         "x": [
          2,
          3,
          4,
          5,
          6,
          7,
          8,
          9,
          10,
          11,
          12,
          13,
          14,
          15,
          16,
          17,
          18,
          19,
          20,
          21,
          22,
          23,
          24,
          25,
          26,
          27,
          28,
          29,
          30,
          31,
          32,
          33,
          34,
          35,
          36,
          37,
          38,
          39,
          40,
          41,
          42,
          43,
          44,
          45,
          46,
          47,
          48
         ],
         "y": [
          1.57,
          2.18,
          2.78,
          3.15,
          3.47,
          3.85,
          4.41,
          4.87,
          5.13,
          5.51,
          5.58,
          6.11,
          6.42,
          6.77,
          7.69,
          8.67,
          9.46,
          9.53,
          10.35,
          10.03,
          10.9,
          11.17,
          11.73,
          11.66,
          12.11,
          12.34,
          12.63,
          13.26,
          13.26,
          13.31,
          14.12,
          16.49,
          18.6,
          24.24,
          20.94,
          20.16,
          23.63,
          20.01,
          23.48,
          23.39,
          20.23,
          26.61,
          22.12,
          20.42,
          20.98,
          20.42,
          19.99
         ]
        },
        {
         "line": {
          "color": "black",
          "dash": "dash"
         },
         "mode": "lines",
         "name": "8192Theoretical Latency for size ",
         "type": "scatter",
         "x": [
          2,
          3,
          4,
          5,
          6,
          7,
          8,
          9,
          10,
          11,
          12,
          13,
          14,
          15,
          16,
          17,
          18,
          19,
          20,
          21,
          22,
          23,
          24,
          25,
          26,
          27,
          28,
          29,
          30,
          31,
          32,
          33,
          34,
          35,
          36,
          37,
          38,
          39,
          40,
          41,
          42,
          43,
          44,
          45,
          46,
          47,
          48
         ],
         "y": [
          1.4628108108108109,
          1.9056216216216217,
          2.3484324324324324,
          2.791243243243243,
          3.234054054054054,
          3.6768648648648647,
          4.119675675675676,
          4.5624864864864865,
          5.005297297297297,
          5.448108108108109,
          5.890918918918919,
          6.333729729729729,
          6.776540540540541,
          7.219351351351351,
          7.662162162162161,
          8.104972972972973,
          8.547783783783784,
          8.990594594594594,
          9.433405405405406,
          9.876216216216216,
          10.319027027027026,
          10.761837837837838,
          11.204648648648648,
          11.647459459459458,
          12.09027027027027,
          12.53308108108108,
          12.97589189189189,
          13.418702702702703,
          13.861513513513513,
          14.304324324324323,
          14.747135135135135,
          15.189945945945945,
          15.632756756756756,
          16.075567567567568,
          16.51837837837838,
          16.961189189189188,
          17.404,
          17.846810810810812,
          18.28962162162162,
          18.732432432432432,
          19.175243243243244,
          19.618054054054053,
          20.060864864864865,
          20.503675675675677,
          20.946486486486485,
          21.389297297297297,
          21.83210810810811
         ]
        },
        {
         "mode": "lines+markers",
         "name": "8192",
         "type": "scatter",
         "x": [
          2,
          3,
          4,
          5,
          6,
          7,
          8,
          9,
          10,
          11,
          12,
          13,
          14,
          15,
          16,
          17,
          18,
          19,
          20,
          21,
          22,
          23,
          24,
          25,
          26,
          27,
          28,
          29,
          30,
          31,
          32,
          33,
          34,
          35,
          36,
          37,
          38,
          39,
          40,
          41,
          42,
          43,
          44,
          45,
          46,
          47,
          48
         ],
         "y": [
          1.37,
          2.2,
          2.62,
          3.19,
          3.5,
          3.82,
          4.35,
          4.85,
          5.13,
          5.35,
          5.6,
          6.12,
          6.42,
          6.81,
          7.73,
          8.7,
          9.25,
          9.61,
          10.27,
          10,
          10.82,
          11.33,
          11.68,
          11.65,
          11.81,
          12.15,
          12.62,
          13.12,
          13.15,
          13.32,
          14.13,
          17.29,
          20.22,
          20.35,
          21.05,
          22.3,
          21.37,
          17.85,
          19.2,
          18.54,
          19.64,
          20.01,
          21.13,
          21.38,
          21.29,
          21.44,
          20.03
         ]
        },
        {
         "line": {
          "color": "black",
          "dash": "dash"
         },
         "mode": "lines",
         "name": "8192Theoretical Latency for size ",
         "type": "scatter",
         "x": [
          2,
          3,
          4,
          5,
          6,
          7,
          8,
          9,
          10,
          11,
          12,
          13,
          14,
          15,
          16,
          17,
          18,
          19,
          20,
          21,
          22,
          23,
          24,
          25,
          26,
          27,
          28,
          29,
          30,
          31,
          32,
          33,
          34,
          35,
          36,
          37,
          38,
          39,
          40,
          41,
          42,
          43,
          44,
          45,
          46,
          47,
          48
         ],
         "y": [
          1.4628108108108109,
          1.9056216216216217,
          2.3484324324324324,
          2.791243243243243,
          3.234054054054054,
          3.6768648648648647,
          4.119675675675676,
          4.5624864864864865,
          5.005297297297297,
          5.448108108108109,
          5.890918918918919,
          6.333729729729729,
          6.776540540540541,
          7.219351351351351,
          7.662162162162161,
          8.104972972972973,
          8.547783783783784,
          8.990594594594594,
          9.433405405405406,
          9.876216216216216,
          10.319027027027026,
          10.761837837837838,
          11.204648648648648,
          11.647459459459458,
          12.09027027027027,
          12.53308108108108,
          12.97589189189189,
          13.418702702702703,
          13.861513513513513,
          14.304324324324323,
          14.747135135135135,
          15.189945945945945,
          15.632756756756756,
          16.075567567567568,
          16.51837837837838,
          16.961189189189188,
          17.404,
          17.846810810810812,
          18.28962162162162,
          18.732432432432432,
          19.175243243243244,
          19.618054054054053,
          20.060864864864865,
          20.503675675675677,
          20.946486486486485,
          21.389297297297297,
          21.83210810810811
         ]
        }
       ],
       "layout": {
        "legend": {
         "title": {
          "text": "Message Size"
         }
        },
        "template": {
         "data": {
          "bar": [
           {
            "error_x": {
             "color": "#2a3f5f"
            },
            "error_y": {
             "color": "#2a3f5f"
            },
            "marker": {
             "line": {
              "color": "#E5ECF6",
              "width": 0.5
             },
             "pattern": {
              "fillmode": "overlay",
              "size": 10,
              "solidity": 0.2
             }
            },
            "type": "bar"
           }
          ],
          "barpolar": [
           {
            "marker": {
             "line": {
              "color": "#E5ECF6",
              "width": 0.5
             },
             "pattern": {
              "fillmode": "overlay",
              "size": 10,
              "solidity": 0.2
             }
            },
            "type": "barpolar"
           }
          ],
          "carpet": [
           {
            "aaxis": {
             "endlinecolor": "#2a3f5f",
             "gridcolor": "white",
             "linecolor": "white",
             "minorgridcolor": "white",
             "startlinecolor": "#2a3f5f"
            },
            "baxis": {
             "endlinecolor": "#2a3f5f",
             "gridcolor": "white",
             "linecolor": "white",
             "minorgridcolor": "white",
             "startlinecolor": "#2a3f5f"
            },
            "type": "carpet"
           }
          ],
          "choropleth": [
           {
            "colorbar": {
             "outlinewidth": 0,
             "ticks": ""
            },
            "type": "choropleth"
           }
          ],
          "contour": [
           {
            "colorbar": {
             "outlinewidth": 0,
             "ticks": ""
            },
            "colorscale": [
             [
              0,
              "#0d0887"
             ],
             [
              0.1111111111111111,
              "#46039f"
             ],
             [
              0.2222222222222222,
              "#7201a8"
             ],
             [
              0.3333333333333333,
              "#9c179e"
             ],
             [
              0.4444444444444444,
              "#bd3786"
             ],
             [
              0.5555555555555556,
              "#d8576b"
             ],
             [
              0.6666666666666666,
              "#ed7953"
             ],
             [
              0.7777777777777778,
              "#fb9f3a"
             ],
             [
              0.8888888888888888,
              "#fdca26"
             ],
             [
              1,
              "#f0f921"
             ]
            ],
            "type": "contour"
           }
          ],
          "contourcarpet": [
           {
            "colorbar": {
             "outlinewidth": 0,
             "ticks": ""
            },
            "type": "contourcarpet"
           }
          ],
          "heatmap": [
           {
            "colorbar": {
             "outlinewidth": 0,
             "ticks": ""
            },
            "colorscale": [
             [
              0,
              "#0d0887"
             ],
             [
              0.1111111111111111,
              "#46039f"
             ],
             [
              0.2222222222222222,
              "#7201a8"
             ],
             [
              0.3333333333333333,
              "#9c179e"
             ],
             [
              0.4444444444444444,
              "#bd3786"
             ],
             [
              0.5555555555555556,
              "#d8576b"
             ],
             [
              0.6666666666666666,
              "#ed7953"
             ],
             [
              0.7777777777777778,
              "#fb9f3a"
             ],
             [
              0.8888888888888888,
              "#fdca26"
             ],
             [
              1,
              "#f0f921"
             ]
            ],
            "type": "heatmap"
           }
          ],
          "heatmapgl": [
           {
            "colorbar": {
             "outlinewidth": 0,
             "ticks": ""
            },
            "colorscale": [
             [
              0,
              "#0d0887"
             ],
             [
              0.1111111111111111,
              "#46039f"
             ],
             [
              0.2222222222222222,
              "#7201a8"
             ],
             [
              0.3333333333333333,
              "#9c179e"
             ],
             [
              0.4444444444444444,
              "#bd3786"
             ],
             [
              0.5555555555555556,
              "#d8576b"
             ],
             [
              0.6666666666666666,
              "#ed7953"
             ],
             [
              0.7777777777777778,
              "#fb9f3a"
             ],
             [
              0.8888888888888888,
              "#fdca26"
             ],
             [
              1,
              "#f0f921"
             ]
            ],
            "type": "heatmapgl"
           }
          ],
          "histogram": [
           {
            "marker": {
             "pattern": {
              "fillmode": "overlay",
              "size": 10,
              "solidity": 0.2
             }
            },
            "type": "histogram"
           }
          ],
          "histogram2d": [
           {
            "colorbar": {
             "outlinewidth": 0,
             "ticks": ""
            },
            "colorscale": [
             [
              0,
              "#0d0887"
             ],
             [
              0.1111111111111111,
              "#46039f"
             ],
             [
              0.2222222222222222,
              "#7201a8"
             ],
             [
              0.3333333333333333,
              "#9c179e"
             ],
             [
              0.4444444444444444,
              "#bd3786"
             ],
             [
              0.5555555555555556,
              "#d8576b"
             ],
             [
              0.6666666666666666,
              "#ed7953"
             ],
             [
              0.7777777777777778,
              "#fb9f3a"
             ],
             [
              0.8888888888888888,
              "#fdca26"
             ],
             [
              1,
              "#f0f921"
             ]
            ],
            "type": "histogram2d"
           }
          ],
          "histogram2dcontour": [
           {
            "colorbar": {
             "outlinewidth": 0,
             "ticks": ""
            },
            "colorscale": [
             [
              0,
              "#0d0887"
             ],
             [
              0.1111111111111111,
              "#46039f"
             ],
             [
              0.2222222222222222,
              "#7201a8"
             ],
             [
              0.3333333333333333,
              "#9c179e"
             ],
             [
              0.4444444444444444,
              "#bd3786"
             ],
             [
              0.5555555555555556,
              "#d8576b"
             ],
             [
              0.6666666666666666,
              "#ed7953"
             ],
             [
              0.7777777777777778,
              "#fb9f3a"
             ],
             [
              0.8888888888888888,
              "#fdca26"
             ],
             [
              1,
              "#f0f921"
             ]
            ],
            "type": "histogram2dcontour"
           }
          ],
          "mesh3d": [
           {
            "colorbar": {
             "outlinewidth": 0,
             "ticks": ""
            },
            "type": "mesh3d"
           }
          ],
          "parcoords": [
           {
            "line": {
             "colorbar": {
              "outlinewidth": 0,
              "ticks": ""
             }
            },
            "type": "parcoords"
           }
          ],
          "pie": [
           {
            "automargin": true,
            "type": "pie"
           }
          ],
          "scatter": [
           {
            "fillpattern": {
             "fillmode": "overlay",
             "size": 10,
             "solidity": 0.2
            },
            "type": "scatter"
           }
          ],
          "scatter3d": [
           {
            "line": {
             "colorbar": {
              "outlinewidth": 0,
              "ticks": ""
             }
            },
            "marker": {
             "colorbar": {
              "outlinewidth": 0,
              "ticks": ""
             }
            },
            "type": "scatter3d"
           }
          ],
          "scattercarpet": [
           {
            "marker": {
             "colorbar": {
              "outlinewidth": 0,
              "ticks": ""
             }
            },
            "type": "scattercarpet"
           }
          ],
          "scattergeo": [
           {
            "marker": {
             "colorbar": {
              "outlinewidth": 0,
              "ticks": ""
             }
            },
            "type": "scattergeo"
           }
          ],
          "scattergl": [
           {
            "marker": {
             "colorbar": {
              "outlinewidth": 0,
              "ticks": ""
             }
            },
            "type": "scattergl"
           }
          ],
          "scattermapbox": [
           {
            "marker": {
             "colorbar": {
              "outlinewidth": 0,
              "ticks": ""
             }
            },
            "type": "scattermapbox"
           }
          ],
          "scatterpolar": [
           {
            "marker": {
             "colorbar": {
              "outlinewidth": 0,
              "ticks": ""
             }
            },
            "type": "scatterpolar"
           }
          ],
          "scatterpolargl": [
           {
            "marker": {
             "colorbar": {
              "outlinewidth": 0,
              "ticks": ""
             }
            },
            "type": "scatterpolargl"
           }
          ],
          "scatterternary": [
           {
            "marker": {
             "colorbar": {
              "outlinewidth": 0,
              "ticks": ""
             }
            },
            "type": "scatterternary"
           }
          ],
          "surface": [
           {
            "colorbar": {
             "outlinewidth": 0,
             "ticks": ""
            },
            "colorscale": [
             [
              0,
              "#0d0887"
             ],
             [
              0.1111111111111111,
              "#46039f"
             ],
             [
              0.2222222222222222,
              "#7201a8"
             ],
             [
              0.3333333333333333,
              "#9c179e"
             ],
             [
              0.4444444444444444,
              "#bd3786"
             ],
             [
              0.5555555555555556,
              "#d8576b"
             ],
             [
              0.6666666666666666,
              "#ed7953"
             ],
             [
              0.7777777777777778,
              "#fb9f3a"
             ],
             [
              0.8888888888888888,
              "#fdca26"
             ],
             [
              1,
              "#f0f921"
             ]
            ],
            "type": "surface"
           }
          ],
          "table": [
           {
            "cells": {
             "fill": {
              "color": "#EBF0F8"
             },
             "line": {
              "color": "white"
             }
            },
            "header": {
             "fill": {
              "color": "#C8D4E3"
             },
             "line": {
              "color": "white"
             }
            },
            "type": "table"
           }
          ]
         },
         "layout": {
          "annotationdefaults": {
           "arrowcolor": "#2a3f5f",
           "arrowhead": 0,
           "arrowwidth": 1
          },
          "autotypenumbers": "strict",
          "coloraxis": {
           "colorbar": {
            "outlinewidth": 0,
            "ticks": ""
           }
          },
          "colorscale": {
           "diverging": [
            [
             0,
             "#8e0152"
            ],
            [
             0.1,
             "#c51b7d"
            ],
            [
             0.2,
             "#de77ae"
            ],
            [
             0.3,
             "#f1b6da"
            ],
            [
             0.4,
             "#fde0ef"
            ],
            [
             0.5,
             "#f7f7f7"
            ],
            [
             0.6,
             "#e6f5d0"
            ],
            [
             0.7,
             "#b8e186"
            ],
            [
             0.8,
             "#7fbc41"
            ],
            [
             0.9,
             "#4d9221"
            ],
            [
             1,
             "#276419"
            ]
           ],
           "sequential": [
            [
             0,
             "#0d0887"
            ],
            [
             0.1111111111111111,
             "#46039f"
            ],
            [
             0.2222222222222222,
             "#7201a8"
            ],
            [
             0.3333333333333333,
             "#9c179e"
            ],
            [
             0.4444444444444444,
             "#bd3786"
            ],
            [
             0.5555555555555556,
             "#d8576b"
            ],
            [
             0.6666666666666666,
             "#ed7953"
            ],
            [
             0.7777777777777778,
             "#fb9f3a"
            ],
            [
             0.8888888888888888,
             "#fdca26"
            ],
            [
             1,
             "#f0f921"
            ]
           ],
           "sequentialminus": [
            [
             0,
             "#0d0887"
            ],
            [
             0.1111111111111111,
             "#46039f"
            ],
            [
             0.2222222222222222,
             "#7201a8"
            ],
            [
             0.3333333333333333,
             "#9c179e"
            ],
            [
             0.4444444444444444,
             "#bd3786"
            ],
            [
             0.5555555555555556,
             "#d8576b"
            ],
            [
             0.6666666666666666,
             "#ed7953"
            ],
            [
             0.7777777777777778,
             "#fb9f3a"
            ],
            [
             0.8888888888888888,
             "#fdca26"
            ],
            [
             1,
             "#f0f921"
            ]
           ]
          },
          "colorway": [
           "#636efa",
           "#EF553B",
           "#00cc96",
           "#ab63fa",
           "#FFA15A",
           "#19d3f3",
           "#FF6692",
           "#B6E880",
           "#FF97FF",
           "#FECB52"
          ],
          "font": {
           "color": "#2a3f5f"
          },
          "geo": {
           "bgcolor": "white",
           "lakecolor": "white",
           "landcolor": "#E5ECF6",
           "showlakes": true,
           "showland": true,
           "subunitcolor": "white"
          },
          "hoverlabel": {
           "align": "left"
          },
          "hovermode": "closest",
          "mapbox": {
           "style": "light"
          },
          "paper_bgcolor": "white",
          "plot_bgcolor": "#E5ECF6",
          "polar": {
           "angularaxis": {
            "gridcolor": "white",
            "linecolor": "white",
            "ticks": ""
           },
           "bgcolor": "#E5ECF6",
           "radialaxis": {
            "gridcolor": "white",
            "linecolor": "white",
            "ticks": ""
           }
          },
          "scene": {
           "xaxis": {
            "backgroundcolor": "#E5ECF6",
            "gridcolor": "white",
            "gridwidth": 2,
            "linecolor": "white",
            "showbackground": true,
            "ticks": "",
            "zerolinecolor": "white"
           },
           "yaxis": {
            "backgroundcolor": "#E5ECF6",
            "gridcolor": "white",
            "gridwidth": 2,
            "linecolor": "white",
            "showbackground": true,
            "ticks": "",
            "zerolinecolor": "white"
           },
           "zaxis": {
            "backgroundcolor": "#E5ECF6",
            "gridcolor": "white",
            "gridwidth": 2,
            "linecolor": "white",
            "showbackground": true,
            "ticks": "",
            "zerolinecolor": "white"
           }
          },
          "shapedefaults": {
           "line": {
            "color": "#2a3f5f"
           }
          },
          "ternary": {
           "aaxis": {
            "gridcolor": "white",
            "linecolor": "white",
            "ticks": ""
           },
           "baxis": {
            "gridcolor": "white",
            "linecolor": "white",
            "ticks": ""
           },
           "bgcolor": "#E5ECF6",
           "caxis": {
            "gridcolor": "white",
            "linecolor": "white",
            "ticks": ""
           }
          },
          "title": {
           "x": 0.05
          },
          "xaxis": {
           "automargin": true,
           "gridcolor": "white",
           "linecolor": "white",
           "ticks": "",
           "title": {
            "standoff": 15
           },
           "zerolinecolor": "white",
           "zerolinewidth": 2
          },
          "yaxis": {
           "automargin": true,
           "gridcolor": "white",
           "linecolor": "white",
           "ticks": "",
           "title": {
            "standoff": 15
           },
           "zerolinecolor": "white",
           "zerolinewidth": 2
          }
         }
        },
        "title": {
         "text": "Latency vs Processes for the broadcast using chain Algorithm"
        },
        "xaxis": {
         "tickvals": [
          2,
          6,
          12,
          16,
          20,
          24,
          28,
          32,
          36,
          40,
          44,
          48
         ],
         "title": {
          "text": "Processes"
         }
        },
        "yaxis": {
         "title": {
          "text": "Latency (us)"
         },
         "type": "log"
        }
       }
      }
     },
     "metadata": {},
     "output_type": "display_data"
    }
   ],
   "source": [
    "plot_latency_vs_processes(chain_df, 'chain', 'linear')\n",
    "plot_latency_vs_processes(chain_df, 'chain','log')"
   ]
  },
  {
   "cell_type": "markdown",
   "metadata": {},
   "source": [
    "## `barrier` messaging\n",
    "\n",
    "Lore ipsum etc etc"
   ]
  },
  {
   "cell_type": "markdown",
   "metadata": {},
   "source": []
  },
  {
   "cell_type": "code",
   "execution_count": null,
   "metadata": {},
   "outputs": [],
   "source": []
  },
  {
   "cell_type": "code",
   "execution_count": 1007,
   "metadata": {},
   "outputs": [
    {
     "data": {
      "application/vnd.plotly.v1+json": {
       "config": {
        "plotlyServerURL": "https://plot.ly"
       },
       "data": [
        {
         "mode": "lines+markers",
         "name": "Run 0",
         "type": "scatter",
         "x": [
          2,
          4,
          6,
          8,
          10,
          12,
          14,
          16,
          18,
          20,
          22,
          24,
          26,
          28,
          30,
          32,
          34,
          36,
          38,
          40,
          42,
          44,
          46,
          48
         ],
         "y": [
          0.38,
          0.69,
          0.94,
          0.95,
          1.56,
          1.7,
          2.79,
          2.66,
          3.33,
          3.5,
          4.6,
          4.36,
          5.03,
          4.95,
          4.87,
          3.79,
          4.29,
          4.56,
          5.12,
          5.1,
          5.4,
          5.48,
          5.67,
          5.88
         ]
        },
        {
         "mode": "lines+markers",
         "name": "Run 1",
         "type": "scatter",
         "x": [
          2,
          4,
          6,
          8,
          10,
          12,
          14,
          16,
          18,
          20,
          22,
          24,
          26,
          28,
          30,
          32,
          34,
          36,
          38,
          40,
          42,
          44,
          46,
          48
         ],
         "y": [
          0.24,
          0.7,
          1.05,
          0.93,
          1.59,
          2.22,
          2.6,
          2.08,
          3.5,
          3.83,
          3.47,
          3.95,
          4.7,
          4.88,
          5.09,
          3.64,
          4.4,
          4.8,
          5.26,
          5.13,
          5.42,
          5.42,
          5.55,
          5.99
         ]
        },
        {
         "mode": "lines+markers",
         "name": "Run 2",
         "type": "scatter",
         "x": [
          2,
          4,
          6,
          8,
          10,
          12,
          14,
          16,
          18,
          20,
          22,
          24,
          26,
          28,
          30,
          32,
          34,
          36,
          38,
          40,
          42,
          44,
          46,
          48
         ],
         "y": [
          0.32,
          0.7,
          0.96,
          0.94,
          1.54,
          2.75,
          3,
          2.36,
          3.11,
          4.35,
          3.94,
          4.03,
          4.68,
          4.38,
          5.12,
          3.74,
          4.68,
          4.7,
          4.93,
          5.17,
          5.33,
          5.26,
          5.77,
          6.33
         ]
        },
        {
         "mode": "lines+markers",
         "name": "Run 3",
         "type": "scatter",
         "x": [
          2,
          4,
          6,
          8,
          10,
          12,
          14,
          16,
          18,
          20,
          22,
          24,
          26,
          28,
          30,
          32,
          34,
          36,
          38,
          40,
          42,
          44,
          46,
          48
         ],
         "y": [
          0.24,
          0.73,
          0.97,
          1.06,
          1.49,
          2,
          2.49,
          2.19,
          3.28,
          3.56,
          3.6,
          3.6,
          4.44,
          4.54,
          5.11,
          3.65,
          4.45,
          5.32,
          5.04,
          5.19,
          5.37,
          5.41,
          5.68,
          5.79
         ]
        },
        {
         "mode": "lines+markers",
         "name": "Run 4",
         "type": "scatter",
         "x": [
          2,
          4,
          6,
          8,
          10,
          12,
          14,
          16,
          18,
          20,
          22,
          24,
          26,
          28,
          30,
          32,
          34,
          36,
          38,
          40,
          42,
          44,
          46,
          48
         ],
         "y": [
          0.26,
          0.73,
          1.01,
          1.15,
          1.45,
          1.68,
          2.75,
          2.38,
          3.24,
          4.16,
          3.87,
          3.65,
          4.37,
          4.28,
          6.31,
          3.73,
          4.43,
          4.81,
          5.04,
          5.12,
          5.48,
          5.4,
          5.88,
          5.83
         ]
        }
       ],
       "layout": {
        "template": {
         "data": {
          "bar": [
           {
            "error_x": {
             "color": "#2a3f5f"
            },
            "error_y": {
             "color": "#2a3f5f"
            },
            "marker": {
             "line": {
              "color": "#E5ECF6",
              "width": 0.5
             },
             "pattern": {
              "fillmode": "overlay",
              "size": 10,
              "solidity": 0.2
             }
            },
            "type": "bar"
           }
          ],
          "barpolar": [
           {
            "marker": {
             "line": {
              "color": "#E5ECF6",
              "width": 0.5
             },
             "pattern": {
              "fillmode": "overlay",
              "size": 10,
              "solidity": 0.2
             }
            },
            "type": "barpolar"
           }
          ],
          "carpet": [
           {
            "aaxis": {
             "endlinecolor": "#2a3f5f",
             "gridcolor": "white",
             "linecolor": "white",
             "minorgridcolor": "white",
             "startlinecolor": "#2a3f5f"
            },
            "baxis": {
             "endlinecolor": "#2a3f5f",
             "gridcolor": "white",
             "linecolor": "white",
             "minorgridcolor": "white",
             "startlinecolor": "#2a3f5f"
            },
            "type": "carpet"
           }
          ],
          "choropleth": [
           {
            "colorbar": {
             "outlinewidth": 0,
             "ticks": ""
            },
            "type": "choropleth"
           }
          ],
          "contour": [
           {
            "colorbar": {
             "outlinewidth": 0,
             "ticks": ""
            },
            "colorscale": [
             [
              0,
              "#0d0887"
             ],
             [
              0.1111111111111111,
              "#46039f"
             ],
             [
              0.2222222222222222,
              "#7201a8"
             ],
             [
              0.3333333333333333,
              "#9c179e"
             ],
             [
              0.4444444444444444,
              "#bd3786"
             ],
             [
              0.5555555555555556,
              "#d8576b"
             ],
             [
              0.6666666666666666,
              "#ed7953"
             ],
             [
              0.7777777777777778,
              "#fb9f3a"
             ],
             [
              0.8888888888888888,
              "#fdca26"
             ],
             [
              1,
              "#f0f921"
             ]
            ],
            "type": "contour"
           }
          ],
          "contourcarpet": [
           {
            "colorbar": {
             "outlinewidth": 0,
             "ticks": ""
            },
            "type": "contourcarpet"
           }
          ],
          "heatmap": [
           {
            "colorbar": {
             "outlinewidth": 0,
             "ticks": ""
            },
            "colorscale": [
             [
              0,
              "#0d0887"
             ],
             [
              0.1111111111111111,
              "#46039f"
             ],
             [
              0.2222222222222222,
              "#7201a8"
             ],
             [
              0.3333333333333333,
              "#9c179e"
             ],
             [
              0.4444444444444444,
              "#bd3786"
             ],
             [
              0.5555555555555556,
              "#d8576b"
             ],
             [
              0.6666666666666666,
              "#ed7953"
             ],
             [
              0.7777777777777778,
              "#fb9f3a"
             ],
             [
              0.8888888888888888,
              "#fdca26"
             ],
             [
              1,
              "#f0f921"
             ]
            ],
            "type": "heatmap"
           }
          ],
          "heatmapgl": [
           {
            "colorbar": {
             "outlinewidth": 0,
             "ticks": ""
            },
            "colorscale": [
             [
              0,
              "#0d0887"
             ],
             [
              0.1111111111111111,
              "#46039f"
             ],
             [
              0.2222222222222222,
              "#7201a8"
             ],
             [
              0.3333333333333333,
              "#9c179e"
             ],
             [
              0.4444444444444444,
              "#bd3786"
             ],
             [
              0.5555555555555556,
              "#d8576b"
             ],
             [
              0.6666666666666666,
              "#ed7953"
             ],
             [
              0.7777777777777778,
              "#fb9f3a"
             ],
             [
              0.8888888888888888,
              "#fdca26"
             ],
             [
              1,
              "#f0f921"
             ]
            ],
            "type": "heatmapgl"
           }
          ],
          "histogram": [
           {
            "marker": {
             "pattern": {
              "fillmode": "overlay",
              "size": 10,
              "solidity": 0.2
             }
            },
            "type": "histogram"
           }
          ],
          "histogram2d": [
           {
            "colorbar": {
             "outlinewidth": 0,
             "ticks": ""
            },
            "colorscale": [
             [
              0,
              "#0d0887"
             ],
             [
              0.1111111111111111,
              "#46039f"
             ],
             [
              0.2222222222222222,
              "#7201a8"
             ],
             [
              0.3333333333333333,
              "#9c179e"
             ],
             [
              0.4444444444444444,
              "#bd3786"
             ],
             [
              0.5555555555555556,
              "#d8576b"
             ],
             [
              0.6666666666666666,
              "#ed7953"
             ],
             [
              0.7777777777777778,
              "#fb9f3a"
             ],
             [
              0.8888888888888888,
              "#fdca26"
             ],
             [
              1,
              "#f0f921"
             ]
            ],
            "type": "histogram2d"
           }
          ],
          "histogram2dcontour": [
           {
            "colorbar": {
             "outlinewidth": 0,
             "ticks": ""
            },
            "colorscale": [
             [
              0,
              "#0d0887"
             ],
             [
              0.1111111111111111,
              "#46039f"
             ],
             [
              0.2222222222222222,
              "#7201a8"
             ],
             [
              0.3333333333333333,
              "#9c179e"
             ],
             [
              0.4444444444444444,
              "#bd3786"
             ],
             [
              0.5555555555555556,
              "#d8576b"
             ],
             [
              0.6666666666666666,
              "#ed7953"
             ],
             [
              0.7777777777777778,
              "#fb9f3a"
             ],
             [
              0.8888888888888888,
              "#fdca26"
             ],
             [
              1,
              "#f0f921"
             ]
            ],
            "type": "histogram2dcontour"
           }
          ],
          "mesh3d": [
           {
            "colorbar": {
             "outlinewidth": 0,
             "ticks": ""
            },
            "type": "mesh3d"
           }
          ],
          "parcoords": [
           {
            "line": {
             "colorbar": {
              "outlinewidth": 0,
              "ticks": ""
             }
            },
            "type": "parcoords"
           }
          ],
          "pie": [
           {
            "automargin": true,
            "type": "pie"
           }
          ],
          "scatter": [
           {
            "fillpattern": {
             "fillmode": "overlay",
             "size": 10,
             "solidity": 0.2
            },
            "type": "scatter"
           }
          ],
          "scatter3d": [
           {
            "line": {
             "colorbar": {
              "outlinewidth": 0,
              "ticks": ""
             }
            },
            "marker": {
             "colorbar": {
              "outlinewidth": 0,
              "ticks": ""
             }
            },
            "type": "scatter3d"
           }
          ],
          "scattercarpet": [
           {
            "marker": {
             "colorbar": {
              "outlinewidth": 0,
              "ticks": ""
             }
            },
            "type": "scattercarpet"
           }
          ],
          "scattergeo": [
           {
            "marker": {
             "colorbar": {
              "outlinewidth": 0,
              "ticks": ""
             }
            },
            "type": "scattergeo"
           }
          ],
          "scattergl": [
           {
            "marker": {
             "colorbar": {
              "outlinewidth": 0,
              "ticks": ""
             }
            },
            "type": "scattergl"
           }
          ],
          "scattermapbox": [
           {
            "marker": {
             "colorbar": {
              "outlinewidth": 0,
              "ticks": ""
             }
            },
            "type": "scattermapbox"
           }
          ],
          "scatterpolar": [
           {
            "marker": {
             "colorbar": {
              "outlinewidth": 0,
              "ticks": ""
             }
            },
            "type": "scatterpolar"
           }
          ],
          "scatterpolargl": [
           {
            "marker": {
             "colorbar": {
              "outlinewidth": 0,
              "ticks": ""
             }
            },
            "type": "scatterpolargl"
           }
          ],
          "scatterternary": [
           {
            "marker": {
             "colorbar": {
              "outlinewidth": 0,
              "ticks": ""
             }
            },
            "type": "scatterternary"
           }
          ],
          "surface": [
           {
            "colorbar": {
             "outlinewidth": 0,
             "ticks": ""
            },
            "colorscale": [
             [
              0,
              "#0d0887"
             ],
             [
              0.1111111111111111,
              "#46039f"
             ],
             [
              0.2222222222222222,
              "#7201a8"
             ],
             [
              0.3333333333333333,
              "#9c179e"
             ],
             [
              0.4444444444444444,
              "#bd3786"
             ],
             [
              0.5555555555555556,
              "#d8576b"
             ],
             [
              0.6666666666666666,
              "#ed7953"
             ],
             [
              0.7777777777777778,
              "#fb9f3a"
             ],
             [
              0.8888888888888888,
              "#fdca26"
             ],
             [
              1,
              "#f0f921"
             ]
            ],
            "type": "surface"
           }
          ],
          "table": [
           {
            "cells": {
             "fill": {
              "color": "#EBF0F8"
             },
             "line": {
              "color": "white"
             }
            },
            "header": {
             "fill": {
              "color": "#C8D4E3"
             },
             "line": {
              "color": "white"
             }
            },
            "type": "table"
           }
          ]
         },
         "layout": {
          "annotationdefaults": {
           "arrowcolor": "#2a3f5f",
           "arrowhead": 0,
           "arrowwidth": 1
          },
          "autotypenumbers": "strict",
          "coloraxis": {
           "colorbar": {
            "outlinewidth": 0,
            "ticks": ""
           }
          },
          "colorscale": {
           "diverging": [
            [
             0,
             "#8e0152"
            ],
            [
             0.1,
             "#c51b7d"
            ],
            [
             0.2,
             "#de77ae"
            ],
            [
             0.3,
             "#f1b6da"
            ],
            [
             0.4,
             "#fde0ef"
            ],
            [
             0.5,
             "#f7f7f7"
            ],
            [
             0.6,
             "#e6f5d0"
            ],
            [
             0.7,
             "#b8e186"
            ],
            [
             0.8,
             "#7fbc41"
            ],
            [
             0.9,
             "#4d9221"
            ],
            [
             1,
             "#276419"
            ]
           ],
           "sequential": [
            [
             0,
             "#0d0887"
            ],
            [
             0.1111111111111111,
             "#46039f"
            ],
            [
             0.2222222222222222,
             "#7201a8"
            ],
            [
             0.3333333333333333,
             "#9c179e"
            ],
            [
             0.4444444444444444,
             "#bd3786"
            ],
            [
             0.5555555555555556,
             "#d8576b"
            ],
            [
             0.6666666666666666,
             "#ed7953"
            ],
            [
             0.7777777777777778,
             "#fb9f3a"
            ],
            [
             0.8888888888888888,
             "#fdca26"
            ],
            [
             1,
             "#f0f921"
            ]
           ],
           "sequentialminus": [
            [
             0,
             "#0d0887"
            ],
            [
             0.1111111111111111,
             "#46039f"
            ],
            [
             0.2222222222222222,
             "#7201a8"
            ],
            [
             0.3333333333333333,
             "#9c179e"
            ],
            [
             0.4444444444444444,
             "#bd3786"
            ],
            [
             0.5555555555555556,
             "#d8576b"
            ],
            [
             0.6666666666666666,
             "#ed7953"
            ],
            [
             0.7777777777777778,
             "#fb9f3a"
            ],
            [
             0.8888888888888888,
             "#fdca26"
            ],
            [
             1,
             "#f0f921"
            ]
           ]
          },
          "colorway": [
           "#636efa",
           "#EF553B",
           "#00cc96",
           "#ab63fa",
           "#FFA15A",
           "#19d3f3",
           "#FF6692",
           "#B6E880",
           "#FF97FF",
           "#FECB52"
          ],
          "font": {
           "color": "#2a3f5f"
          },
          "geo": {
           "bgcolor": "white",
           "lakecolor": "white",
           "landcolor": "#E5ECF6",
           "showlakes": true,
           "showland": true,
           "subunitcolor": "white"
          },
          "hoverlabel": {
           "align": "left"
          },
          "hovermode": "closest",
          "mapbox": {
           "style": "light"
          },
          "paper_bgcolor": "white",
          "plot_bgcolor": "#E5ECF6",
          "polar": {
           "angularaxis": {
            "gridcolor": "white",
            "linecolor": "white",
            "ticks": ""
           },
           "bgcolor": "#E5ECF6",
           "radialaxis": {
            "gridcolor": "white",
            "linecolor": "white",
            "ticks": ""
           }
          },
          "scene": {
           "xaxis": {
            "backgroundcolor": "#E5ECF6",
            "gridcolor": "white",
            "gridwidth": 2,
            "linecolor": "white",
            "showbackground": true,
            "ticks": "",
            "zerolinecolor": "white"
           },
           "yaxis": {
            "backgroundcolor": "#E5ECF6",
            "gridcolor": "white",
            "gridwidth": 2,
            "linecolor": "white",
            "showbackground": true,
            "ticks": "",
            "zerolinecolor": "white"
           },
           "zaxis": {
            "backgroundcolor": "#E5ECF6",
            "gridcolor": "white",
            "gridwidth": 2,
            "linecolor": "white",
            "showbackground": true,
            "ticks": "",
            "zerolinecolor": "white"
           }
          },
          "shapedefaults": {
           "line": {
            "color": "#2a3f5f"
           }
          },
          "ternary": {
           "aaxis": {
            "gridcolor": "white",
            "linecolor": "white",
            "ticks": ""
           },
           "baxis": {
            "gridcolor": "white",
            "linecolor": "white",
            "ticks": ""
           },
           "bgcolor": "#E5ECF6",
           "caxis": {
            "gridcolor": "white",
            "linecolor": "white",
            "ticks": ""
           }
          },
          "title": {
           "x": 0.05
          },
          "xaxis": {
           "automargin": true,
           "gridcolor": "white",
           "linecolor": "white",
           "ticks": "",
           "title": {
            "standoff": 15
           },
           "zerolinecolor": "white",
           "zerolinewidth": 2
          },
          "yaxis": {
           "automargin": true,
           "gridcolor": "white",
           "linecolor": "white",
           "ticks": "",
           "title": {
            "standoff": 15
           },
           "zerolinecolor": "white",
           "zerolinewidth": 2
          }
         }
        },
        "title": {
         "text": "Latency vs Processes for the barrier using the Default Algorithm"
        },
        "xaxis": {
         "tickvals": [
          2,
          6,
          12,
          16,
          20,
          24,
          28,
          32,
          36,
          40,
          44,
          48
         ],
         "title": {
          "text": "Processes"
         }
        },
        "yaxis": {
         "title": {
          "text": "Latency (us)"
         }
        }
       }
      }
     },
     "metadata": {},
     "output_type": "display_data"
    }
   ],
   "source": [
    "# Set path to the data\n",
    "barrier_path = path + '/barrier/results_barrier/'  # Replace with your actual path\n",
    "\n",
    "# Get the list of files in the directory\n",
    "files = os.listdir(barrier_path)\n",
    "\n",
    "# Create a list to store the dataframes\n",
    "dfs = []\n",
    "default_df = []\n",
    "tree_df = []\n",
    "linear_df = []\n",
    "\n",
    "# Read the data from the files; for each file, check if \n",
    "# the name contains binary, default or chain and set the\n",
    "# corresponding value in the dataframe\n",
    "\n",
    "for file in files:\n",
    "    if 'tree' in file:\n",
    "        df = pd.read_csv(os.path.join(barrier_path, file))\n",
    "        df['algorithm'] = 'Tree'\n",
    "        dfs.append(df)\n",
    "    elif 'default' in file:\n",
    "        df = pd.read_csv(os.path.join(barrier_path, file))\n",
    "        df['algorithm'] = 'Default'\n",
    "        dfs.append(df)\n",
    "    elif 'linear' in file:\n",
    "        df = pd.read_csv(os.path.join(barrier_path, file))\n",
    "        df['algorithm'] = 'Linear'\n",
    "        dfs.append(df)\n",
    "\n",
    "# Filter out dataframes where the 'Algorithm' column contains '${algorithm}' or is null\n",
    "valid_dfs = []\n",
    "for df in dfs:\n",
    "    if 'Algorithm' in df.columns:\n",
    "        df['Algorithm'] = df['Algorithm'].astype(str)\n",
    "        if not df['Algorithm'].str.contains(r'\\$\\{algorithm\\}').any():\n",
    "            valid_dfs.append(df)\n",
    "\n",
    "# Split the data into separate dataframes for each algorithm\n",
    "default_df = [df for df in valid_dfs if df['Algorithm'].iloc[0] == 'default']\n",
    "tree_df = [df for df in valid_dfs if df['Algorithm'].iloc[0] == 'tree']\n",
    "linear_df = [df for df in valid_dfs if df['Algorithm'].iloc[0] == 'linear']\n",
    "\n",
    "# Select an allocation strategy\n",
    "default_df = [df[df['Allocation']=='core'] for df in default_df]\n",
    "tree_df = [df[df['Allocation']=='core'] for df in tree_df]\n",
    "linear_df = [df[df['Allocation']=='core'] for df in linear_df]\n",
    "\n",
    "allocations = default_df[0]['Allocation'].unique()\n",
    "\n",
    "\n",
    "# Initialize the figure\n",
    "fig = go.Figure()\n",
    "\n",
    "# Start plotting the data\n",
    "for selected in range(len(default_df)):\n",
    "\t# The two runs\n",
    "\tused_df = default_df[selected]\n",
    "\t# Only plot for 512KB and 1MB, a.k.a. one fitting entirely in L1 and one not fitting\n",
    "\t# Plot the data\n",
    "\tfig.add_trace(go.Scatter(x=used_df['Processes'], \n",
    "\t\t\t\t\t\t\ty=used_df['Latency'],\n",
    "\t\t\t\t\t\t\tmode='lines+markers',\n",
    "\t\t\t\t\t\t\tname=\"Run \"+str(selected)))\n",
    "# Update the layout by naming the appropirate tings and highlighting some places of interest in the x-axis\n",
    "fig.update_layout(title='Latency vs Processes for the barrier using the Default Algorithm', \n",
    "\t\t\t\t\txaxis_title='Processes', \n",
    "\t\t\t\t\tyaxis_title='Latency (us)', \n",
    "\t\t\t\t\txaxis=dict(tickvals=tickvals)\n",
    "\t\t\t\t)\n",
    "\n",
    "fig.show()"
   ]
  },
  {
   "cell_type": "code",
   "execution_count": 1008,
   "metadata": {},
   "outputs": [
    {
     "data": {
      "application/vnd.plotly.v1+json": {
       "config": {
        "plotlyServerURL": "https://plot.ly"
       },
       "data": [
        {
         "mode": "lines+markers",
         "name": "Run 0",
         "type": "scatter",
         "x": [
          2,
          4,
          6,
          8,
          10,
          12,
          14,
          16,
          18,
          20,
          22,
          24,
          26,
          28,
          30,
          32,
          34,
          36,
          38,
          40,
          42,
          44,
          46,
          48
         ],
         "y": [
          0.36,
          0.97,
          1.18,
          1.38,
          1.44,
          1.87,
          2.81,
          2.61,
          2.82,
          2.76,
          34.43,
          3.31,
          4.04,
          4.36,
          4.84,
          4.98,
          5.2,
          4.73,
          5.03,
          5.01,
          5.06,
          5.05,
          5.23,
          4.88
         ]
        },
        {
         "mode": "lines+markers",
         "name": "Run 1",
         "type": "scatter",
         "x": [
          2,
          4,
          6,
          8,
          10,
          12,
          14,
          16,
          18,
          20,
          22,
          24,
          26,
          28,
          30,
          32,
          34,
          36,
          38,
          40,
          42,
          44,
          46,
          48
         ],
         "y": [
          0.36,
          0.95,
          1.03,
          1.32,
          1.47,
          1.83,
          2.24,
          2.81,
          2.77,
          2.78,
          2.78,
          3.01,
          3.7,
          4.51,
          4.95,
          4.95,
          5,
          5.02,
          4.94,
          4.98,
          5.02,
          4.92,
          4.9,
          4.93
         ]
        },
        {
         "mode": "lines+markers",
         "name": "Run 2",
         "type": "scatter",
         "x": [
          2,
          4,
          6,
          8,
          10,
          12,
          14,
          16,
          18,
          20,
          22,
          24,
          26,
          28,
          30,
          32,
          34,
          36,
          38,
          40,
          42,
          44,
          46,
          48
         ],
         "y": [
          0.36,
          0.89,
          1.05,
          1.46,
          1.52,
          1.67,
          2.53,
          3.07,
          3.5,
          3.84,
          2.96,
          3.19,
          4.21,
          4.37,
          4.57,
          5.19,
          5.24,
          5.08,
          4.91,
          5.03,
          5.19,
          5.22,
          5.12,
          5.02
         ]
        },
        {
         "mode": "lines+markers",
         "name": "Run 3",
         "type": "scatter",
         "x": [
          2,
          4,
          6,
          8,
          10,
          12,
          14,
          16,
          18,
          20,
          22,
          24,
          26,
          28,
          30,
          32,
          34,
          36,
          38,
          40,
          42,
          44,
          46,
          48
         ],
         "y": [
          0.35,
          0.95,
          1.1,
          1.42,
          1.58,
          1.57,
          2.53,
          2.86,
          2.99,
          3.72,
          3.2,
          3.42,
          3.81,
          4.32,
          4.41,
          4.94,
          5.04,
          4.9,
          5.35,
          5.05,
          5.23,
          4.99,
          4.93,
          5.05
         ]
        },
        {
         "mode": "lines+markers",
         "name": "Run 4",
         "type": "scatter",
         "x": [
          2,
          4,
          6,
          8,
          10,
          12,
          14,
          16,
          18,
          20,
          22,
          24,
          26,
          28,
          30,
          32,
          34,
          36,
          38,
          40,
          42,
          44,
          46,
          48
         ],
         "y": [
          0.37,
          0.89,
          1.09,
          1.38,
          1.55,
          1.73,
          2.34,
          4.17,
          3.06,
          3,
          3.56,
          4.15,
          3.59,
          4.8,
          4.85,
          4.89,
          5.25,
          5.08,
          4.85,
          5.07,
          4.97,
          4.81,
          5.03,
          4.96
         ]
        }
       ],
       "layout": {
        "template": {
         "data": {
          "bar": [
           {
            "error_x": {
             "color": "#2a3f5f"
            },
            "error_y": {
             "color": "#2a3f5f"
            },
            "marker": {
             "line": {
              "color": "#E5ECF6",
              "width": 0.5
             },
             "pattern": {
              "fillmode": "overlay",
              "size": 10,
              "solidity": 0.2
             }
            },
            "type": "bar"
           }
          ],
          "barpolar": [
           {
            "marker": {
             "line": {
              "color": "#E5ECF6",
              "width": 0.5
             },
             "pattern": {
              "fillmode": "overlay",
              "size": 10,
              "solidity": 0.2
             }
            },
            "type": "barpolar"
           }
          ],
          "carpet": [
           {
            "aaxis": {
             "endlinecolor": "#2a3f5f",
             "gridcolor": "white",
             "linecolor": "white",
             "minorgridcolor": "white",
             "startlinecolor": "#2a3f5f"
            },
            "baxis": {
             "endlinecolor": "#2a3f5f",
             "gridcolor": "white",
             "linecolor": "white",
             "minorgridcolor": "white",
             "startlinecolor": "#2a3f5f"
            },
            "type": "carpet"
           }
          ],
          "choropleth": [
           {
            "colorbar": {
             "outlinewidth": 0,
             "ticks": ""
            },
            "type": "choropleth"
           }
          ],
          "contour": [
           {
            "colorbar": {
             "outlinewidth": 0,
             "ticks": ""
            },
            "colorscale": [
             [
              0,
              "#0d0887"
             ],
             [
              0.1111111111111111,
              "#46039f"
             ],
             [
              0.2222222222222222,
              "#7201a8"
             ],
             [
              0.3333333333333333,
              "#9c179e"
             ],
             [
              0.4444444444444444,
              "#bd3786"
             ],
             [
              0.5555555555555556,
              "#d8576b"
             ],
             [
              0.6666666666666666,
              "#ed7953"
             ],
             [
              0.7777777777777778,
              "#fb9f3a"
             ],
             [
              0.8888888888888888,
              "#fdca26"
             ],
             [
              1,
              "#f0f921"
             ]
            ],
            "type": "contour"
           }
          ],
          "contourcarpet": [
           {
            "colorbar": {
             "outlinewidth": 0,
             "ticks": ""
            },
            "type": "contourcarpet"
           }
          ],
          "heatmap": [
           {
            "colorbar": {
             "outlinewidth": 0,
             "ticks": ""
            },
            "colorscale": [
             [
              0,
              "#0d0887"
             ],
             [
              0.1111111111111111,
              "#46039f"
             ],
             [
              0.2222222222222222,
              "#7201a8"
             ],
             [
              0.3333333333333333,
              "#9c179e"
             ],
             [
              0.4444444444444444,
              "#bd3786"
             ],
             [
              0.5555555555555556,
              "#d8576b"
             ],
             [
              0.6666666666666666,
              "#ed7953"
             ],
             [
              0.7777777777777778,
              "#fb9f3a"
             ],
             [
              0.8888888888888888,
              "#fdca26"
             ],
             [
              1,
              "#f0f921"
             ]
            ],
            "type": "heatmap"
           }
          ],
          "heatmapgl": [
           {
            "colorbar": {
             "outlinewidth": 0,
             "ticks": ""
            },
            "colorscale": [
             [
              0,
              "#0d0887"
             ],
             [
              0.1111111111111111,
              "#46039f"
             ],
             [
              0.2222222222222222,
              "#7201a8"
             ],
             [
              0.3333333333333333,
              "#9c179e"
             ],
             [
              0.4444444444444444,
              "#bd3786"
             ],
             [
              0.5555555555555556,
              "#d8576b"
             ],
             [
              0.6666666666666666,
              "#ed7953"
             ],
             [
              0.7777777777777778,
              "#fb9f3a"
             ],
             [
              0.8888888888888888,
              "#fdca26"
             ],
             [
              1,
              "#f0f921"
             ]
            ],
            "type": "heatmapgl"
           }
          ],
          "histogram": [
           {
            "marker": {
             "pattern": {
              "fillmode": "overlay",
              "size": 10,
              "solidity": 0.2
             }
            },
            "type": "histogram"
           }
          ],
          "histogram2d": [
           {
            "colorbar": {
             "outlinewidth": 0,
             "ticks": ""
            },
            "colorscale": [
             [
              0,
              "#0d0887"
             ],
             [
              0.1111111111111111,
              "#46039f"
             ],
             [
              0.2222222222222222,
              "#7201a8"
             ],
             [
              0.3333333333333333,
              "#9c179e"
             ],
             [
              0.4444444444444444,
              "#bd3786"
             ],
             [
              0.5555555555555556,
              "#d8576b"
             ],
             [
              0.6666666666666666,
              "#ed7953"
             ],
             [
              0.7777777777777778,
              "#fb9f3a"
             ],
             [
              0.8888888888888888,
              "#fdca26"
             ],
             [
              1,
              "#f0f921"
             ]
            ],
            "type": "histogram2d"
           }
          ],
          "histogram2dcontour": [
           {
            "colorbar": {
             "outlinewidth": 0,
             "ticks": ""
            },
            "colorscale": [
             [
              0,
              "#0d0887"
             ],
             [
              0.1111111111111111,
              "#46039f"
             ],
             [
              0.2222222222222222,
              "#7201a8"
             ],
             [
              0.3333333333333333,
              "#9c179e"
             ],
             [
              0.4444444444444444,
              "#bd3786"
             ],
             [
              0.5555555555555556,
              "#d8576b"
             ],
             [
              0.6666666666666666,
              "#ed7953"
             ],
             [
              0.7777777777777778,
              "#fb9f3a"
             ],
             [
              0.8888888888888888,
              "#fdca26"
             ],
             [
              1,
              "#f0f921"
             ]
            ],
            "type": "histogram2dcontour"
           }
          ],
          "mesh3d": [
           {
            "colorbar": {
             "outlinewidth": 0,
             "ticks": ""
            },
            "type": "mesh3d"
           }
          ],
          "parcoords": [
           {
            "line": {
             "colorbar": {
              "outlinewidth": 0,
              "ticks": ""
             }
            },
            "type": "parcoords"
           }
          ],
          "pie": [
           {
            "automargin": true,
            "type": "pie"
           }
          ],
          "scatter": [
           {
            "fillpattern": {
             "fillmode": "overlay",
             "size": 10,
             "solidity": 0.2
            },
            "type": "scatter"
           }
          ],
          "scatter3d": [
           {
            "line": {
             "colorbar": {
              "outlinewidth": 0,
              "ticks": ""
             }
            },
            "marker": {
             "colorbar": {
              "outlinewidth": 0,
              "ticks": ""
             }
            },
            "type": "scatter3d"
           }
          ],
          "scattercarpet": [
           {
            "marker": {
             "colorbar": {
              "outlinewidth": 0,
              "ticks": ""
             }
            },
            "type": "scattercarpet"
           }
          ],
          "scattergeo": [
           {
            "marker": {
             "colorbar": {
              "outlinewidth": 0,
              "ticks": ""
             }
            },
            "type": "scattergeo"
           }
          ],
          "scattergl": [
           {
            "marker": {
             "colorbar": {
              "outlinewidth": 0,
              "ticks": ""
             }
            },
            "type": "scattergl"
           }
          ],
          "scattermapbox": [
           {
            "marker": {
             "colorbar": {
              "outlinewidth": 0,
              "ticks": ""
             }
            },
            "type": "scattermapbox"
           }
          ],
          "scatterpolar": [
           {
            "marker": {
             "colorbar": {
              "outlinewidth": 0,
              "ticks": ""
             }
            },
            "type": "scatterpolar"
           }
          ],
          "scatterpolargl": [
           {
            "marker": {
             "colorbar": {
              "outlinewidth": 0,
              "ticks": ""
             }
            },
            "type": "scatterpolargl"
           }
          ],
          "scatterternary": [
           {
            "marker": {
             "colorbar": {
              "outlinewidth": 0,
              "ticks": ""
             }
            },
            "type": "scatterternary"
           }
          ],
          "surface": [
           {
            "colorbar": {
             "outlinewidth": 0,
             "ticks": ""
            },
            "colorscale": [
             [
              0,
              "#0d0887"
             ],
             [
              0.1111111111111111,
              "#46039f"
             ],
             [
              0.2222222222222222,
              "#7201a8"
             ],
             [
              0.3333333333333333,
              "#9c179e"
             ],
             [
              0.4444444444444444,
              "#bd3786"
             ],
             [
              0.5555555555555556,
              "#d8576b"
             ],
             [
              0.6666666666666666,
              "#ed7953"
             ],
             [
              0.7777777777777778,
              "#fb9f3a"
             ],
             [
              0.8888888888888888,
              "#fdca26"
             ],
             [
              1,
              "#f0f921"
             ]
            ],
            "type": "surface"
           }
          ],
          "table": [
           {
            "cells": {
             "fill": {
              "color": "#EBF0F8"
             },
             "line": {
              "color": "white"
             }
            },
            "header": {
             "fill": {
              "color": "#C8D4E3"
             },
             "line": {
              "color": "white"
             }
            },
            "type": "table"
           }
          ]
         },
         "layout": {
          "annotationdefaults": {
           "arrowcolor": "#2a3f5f",
           "arrowhead": 0,
           "arrowwidth": 1
          },
          "autotypenumbers": "strict",
          "coloraxis": {
           "colorbar": {
            "outlinewidth": 0,
            "ticks": ""
           }
          },
          "colorscale": {
           "diverging": [
            [
             0,
             "#8e0152"
            ],
            [
             0.1,
             "#c51b7d"
            ],
            [
             0.2,
             "#de77ae"
            ],
            [
             0.3,
             "#f1b6da"
            ],
            [
             0.4,
             "#fde0ef"
            ],
            [
             0.5,
             "#f7f7f7"
            ],
            [
             0.6,
             "#e6f5d0"
            ],
            [
             0.7,
             "#b8e186"
            ],
            [
             0.8,
             "#7fbc41"
            ],
            [
             0.9,
             "#4d9221"
            ],
            [
             1,
             "#276419"
            ]
           ],
           "sequential": [
            [
             0,
             "#0d0887"
            ],
            [
             0.1111111111111111,
             "#46039f"
            ],
            [
             0.2222222222222222,
             "#7201a8"
            ],
            [
             0.3333333333333333,
             "#9c179e"
            ],
            [
             0.4444444444444444,
             "#bd3786"
            ],
            [
             0.5555555555555556,
             "#d8576b"
            ],
            [
             0.6666666666666666,
             "#ed7953"
            ],
            [
             0.7777777777777778,
             "#fb9f3a"
            ],
            [
             0.8888888888888888,
             "#fdca26"
            ],
            [
             1,
             "#f0f921"
            ]
           ],
           "sequentialminus": [
            [
             0,
             "#0d0887"
            ],
            [
             0.1111111111111111,
             "#46039f"
            ],
            [
             0.2222222222222222,
             "#7201a8"
            ],
            [
             0.3333333333333333,
             "#9c179e"
            ],
            [
             0.4444444444444444,
             "#bd3786"
            ],
            [
             0.5555555555555556,
             "#d8576b"
            ],
            [
             0.6666666666666666,
             "#ed7953"
            ],
            [
             0.7777777777777778,
             "#fb9f3a"
            ],
            [
             0.8888888888888888,
             "#fdca26"
            ],
            [
             1,
             "#f0f921"
            ]
           ]
          },
          "colorway": [
           "#636efa",
           "#EF553B",
           "#00cc96",
           "#ab63fa",
           "#FFA15A",
           "#19d3f3",
           "#FF6692",
           "#B6E880",
           "#FF97FF",
           "#FECB52"
          ],
          "font": {
           "color": "#2a3f5f"
          },
          "geo": {
           "bgcolor": "white",
           "lakecolor": "white",
           "landcolor": "#E5ECF6",
           "showlakes": true,
           "showland": true,
           "subunitcolor": "white"
          },
          "hoverlabel": {
           "align": "left"
          },
          "hovermode": "closest",
          "mapbox": {
           "style": "light"
          },
          "paper_bgcolor": "white",
          "plot_bgcolor": "#E5ECF6",
          "polar": {
           "angularaxis": {
            "gridcolor": "white",
            "linecolor": "white",
            "ticks": ""
           },
           "bgcolor": "#E5ECF6",
           "radialaxis": {
            "gridcolor": "white",
            "linecolor": "white",
            "ticks": ""
           }
          },
          "scene": {
           "xaxis": {
            "backgroundcolor": "#E5ECF6",
            "gridcolor": "white",
            "gridwidth": 2,
            "linecolor": "white",
            "showbackground": true,
            "ticks": "",
            "zerolinecolor": "white"
           },
           "yaxis": {
            "backgroundcolor": "#E5ECF6",
            "gridcolor": "white",
            "gridwidth": 2,
            "linecolor": "white",
            "showbackground": true,
            "ticks": "",
            "zerolinecolor": "white"
           },
           "zaxis": {
            "backgroundcolor": "#E5ECF6",
            "gridcolor": "white",
            "gridwidth": 2,
            "linecolor": "white",
            "showbackground": true,
            "ticks": "",
            "zerolinecolor": "white"
           }
          },
          "shapedefaults": {
           "line": {
            "color": "#2a3f5f"
           }
          },
          "ternary": {
           "aaxis": {
            "gridcolor": "white",
            "linecolor": "white",
            "ticks": ""
           },
           "baxis": {
            "gridcolor": "white",
            "linecolor": "white",
            "ticks": ""
           },
           "bgcolor": "#E5ECF6",
           "caxis": {
            "gridcolor": "white",
            "linecolor": "white",
            "ticks": ""
           }
          },
          "title": {
           "x": 0.05
          },
          "xaxis": {
           "automargin": true,
           "gridcolor": "white",
           "linecolor": "white",
           "ticks": "",
           "title": {
            "standoff": 15
           },
           "zerolinecolor": "white",
           "zerolinewidth": 2
          },
          "yaxis": {
           "automargin": true,
           "gridcolor": "white",
           "linecolor": "white",
           "ticks": "",
           "title": {
            "standoff": 15
           },
           "zerolinecolor": "white",
           "zerolinewidth": 2
          }
         }
        },
        "title": {
         "text": "Latency vs Processes for the barrier using the the tree Algorithm"
        },
        "xaxis": {
         "tickvals": [
          2,
          6,
          12,
          16,
          20,
          24,
          28,
          32,
          36,
          40,
          44,
          48
         ],
         "title": {
          "text": "Processes"
         }
        },
        "yaxis": {
         "title": {
          "text": "Latency (us)"
         }
        }
       }
      }
     },
     "metadata": {},
     "output_type": "display_data"
    }
   ],
   "source": [
    "# Initialize the figure\n",
    "fig = go.Figure()\n",
    "\n",
    "tree_df = [tree_df[i] for i in range(len(tree_df)) if i !=5]\n",
    "\n",
    "# Start plotting the data\n",
    "for selected in range(len(tree_df)):\n",
    "\t# The two runs\n",
    "\tused_df = tree_df[selected]\n",
    "\t# Only plot for 512KB and 1MB, a.k.a. one fitting entirely in L1 and one not fitting\n",
    "\t# Plot the data\n",
    "\tfig.add_trace(go.Scatter(x=used_df['Processes'], \n",
    "\t\t\t\t\t\t\ty=used_df['Latency'],\n",
    "\t\t\t\t\t\t\tmode='lines+markers',\n",
    "\t\t\t\t\t\t\tname=\"Run \"+str(selected)))\n",
    "# Update the layout by naming the appropirate tings and highlighting some places of interest in the x-axis\n",
    "fig.update_layout(title='Latency vs Processes for the barrier using the the tree Algorithm', \n",
    "\t\t\t\t\txaxis_title='Processes', \n",
    "\t\t\t\t\tyaxis_title='Latency (us)', \n",
    "\t\t\t\t\txaxis=dict(tickvals=tickvals)\n",
    "\t\t\t\t)\n",
    "\n",
    "fig.show()\n",
    "\n"
   ]
  },
  {
   "cell_type": "code",
   "execution_count": 1009,
   "metadata": {},
   "outputs": [
    {
     "data": {
      "application/vnd.plotly.v1+json": {
       "config": {
        "plotlyServerURL": "https://plot.ly"
       },
       "data": [
        {
         "mode": "lines+markers",
         "name": "Run 0",
         "type": "scatter",
         "x": [
          2,
          4,
          6,
          8,
          10,
          12,
          14,
          16,
          18,
          20,
          22,
          24,
          26,
          28,
          30,
          32,
          34,
          36,
          38,
          40,
          42,
          44,
          46,
          48
         ],
         "y": [
          0.38,
          0.8,
          0.92,
          1.14,
          1.4,
          1.6,
          2.18,
          2.8,
          3.15,
          3.43,
          4.02,
          4.11,
          4.51,
          4.88,
          5.17,
          5.54,
          5.98,
          6.44,
          6.75,
          6.91,
          7.57,
          7.72,
          8,
          8.5
         ]
        },
        {
         "mode": "lines+markers",
         "name": "Run 1",
         "type": "scatter",
         "x": [
          2,
          4,
          6,
          8,
          10,
          12,
          14,
          16,
          18,
          20,
          22,
          24,
          26,
          28,
          30,
          32,
          34,
          36,
          38,
          40,
          42,
          44,
          46,
          48
         ],
         "y": [
          0.5,
          0.7,
          0.96,
          1.14,
          1.4,
          1.77,
          2.37,
          4.91,
          3.68,
          8.38,
          7.98,
          4.97,
          4.72,
          6.38,
          5,
          5.54,
          5.96,
          6.52,
          7.63,
          7.11,
          8.11,
          8.06,
          8.04,
          8.46
         ]
        },
        {
         "mode": "lines+markers",
         "name": "Run 2",
         "type": "scatter",
         "x": [
          2,
          4,
          6,
          8,
          10,
          12,
          14,
          16,
          18,
          20,
          22,
          24,
          26,
          28,
          30,
          32,
          34,
          36,
          38,
          40,
          42,
          44,
          46,
          48
         ],
         "y": [
          0.4,
          0.72,
          0.92,
          1.17,
          1.37,
          1.73,
          2.21,
          3,
          4.02,
          3.64,
          7.99,
          5.21,
          4.42,
          5.33,
          5.21,
          5.61,
          6.09,
          6.36,
          7.18,
          6.99,
          7.72,
          7.98,
          8.44,
          8.75
         ]
        },
        {
         "mode": "lines+markers",
         "name": "Run 3",
         "type": "scatter",
         "x": [
          2,
          4,
          6,
          8,
          10,
          12,
          14,
          16,
          18,
          20,
          22,
          24,
          26,
          28,
          30,
          32,
          34,
          36,
          38,
          40,
          42,
          44,
          46,
          48
         ],
         "y": [
          0.39,
          0.78,
          0.91,
          1.16,
          1.38,
          1.78,
          2.23,
          2.79,
          3.56,
          4.81,
          4.23,
          5.63,
          4.53,
          5.01,
          5.14,
          5.44,
          5.79,
          6.47,
          6.8,
          7.11,
          7.66,
          7.8,
          8.54,
          8.53
         ]
        },
        {
         "mode": "lines+markers",
         "name": "Run 4",
         "type": "scatter",
         "x": [
          2,
          4,
          6,
          8,
          10,
          12,
          14,
          16,
          18,
          20,
          22,
          24,
          26,
          28,
          30,
          32,
          34,
          36,
          38,
          40,
          42,
          44,
          46,
          48
         ],
         "y": [
          0.41,
          0.71,
          0.99,
          1.25,
          1.43,
          2.04,
          2.73,
          3.88,
          4.42,
          5.15,
          4.51,
          6.08,
          4.63,
          4.76,
          5.15,
          5.56,
          6.03,
          6.61,
          6.62,
          7.11,
          7.47,
          7.76,
          8.46,
          8.63
         ]
        }
       ],
       "layout": {
        "template": {
         "data": {
          "bar": [
           {
            "error_x": {
             "color": "#2a3f5f"
            },
            "error_y": {
             "color": "#2a3f5f"
            },
            "marker": {
             "line": {
              "color": "#E5ECF6",
              "width": 0.5
             },
             "pattern": {
              "fillmode": "overlay",
              "size": 10,
              "solidity": 0.2
             }
            },
            "type": "bar"
           }
          ],
          "barpolar": [
           {
            "marker": {
             "line": {
              "color": "#E5ECF6",
              "width": 0.5
             },
             "pattern": {
              "fillmode": "overlay",
              "size": 10,
              "solidity": 0.2
             }
            },
            "type": "barpolar"
           }
          ],
          "carpet": [
           {
            "aaxis": {
             "endlinecolor": "#2a3f5f",
             "gridcolor": "white",
             "linecolor": "white",
             "minorgridcolor": "white",
             "startlinecolor": "#2a3f5f"
            },
            "baxis": {
             "endlinecolor": "#2a3f5f",
             "gridcolor": "white",
             "linecolor": "white",
             "minorgridcolor": "white",
             "startlinecolor": "#2a3f5f"
            },
            "type": "carpet"
           }
          ],
          "choropleth": [
           {
            "colorbar": {
             "outlinewidth": 0,
             "ticks": ""
            },
            "type": "choropleth"
           }
          ],
          "contour": [
           {
            "colorbar": {
             "outlinewidth": 0,
             "ticks": ""
            },
            "colorscale": [
             [
              0,
              "#0d0887"
             ],
             [
              0.1111111111111111,
              "#46039f"
             ],
             [
              0.2222222222222222,
              "#7201a8"
             ],
             [
              0.3333333333333333,
              "#9c179e"
             ],
             [
              0.4444444444444444,
              "#bd3786"
             ],
             [
              0.5555555555555556,
              "#d8576b"
             ],
             [
              0.6666666666666666,
              "#ed7953"
             ],
             [
              0.7777777777777778,
              "#fb9f3a"
             ],
             [
              0.8888888888888888,
              "#fdca26"
             ],
             [
              1,
              "#f0f921"
             ]
            ],
            "type": "contour"
           }
          ],
          "contourcarpet": [
           {
            "colorbar": {
             "outlinewidth": 0,
             "ticks": ""
            },
            "type": "contourcarpet"
           }
          ],
          "heatmap": [
           {
            "colorbar": {
             "outlinewidth": 0,
             "ticks": ""
            },
            "colorscale": [
             [
              0,
              "#0d0887"
             ],
             [
              0.1111111111111111,
              "#46039f"
             ],
             [
              0.2222222222222222,
              "#7201a8"
             ],
             [
              0.3333333333333333,
              "#9c179e"
             ],
             [
              0.4444444444444444,
              "#bd3786"
             ],
             [
              0.5555555555555556,
              "#d8576b"
             ],
             [
              0.6666666666666666,
              "#ed7953"
             ],
             [
              0.7777777777777778,
              "#fb9f3a"
             ],
             [
              0.8888888888888888,
              "#fdca26"
             ],
             [
              1,
              "#f0f921"
             ]
            ],
            "type": "heatmap"
           }
          ],
          "heatmapgl": [
           {
            "colorbar": {
             "outlinewidth": 0,
             "ticks": ""
            },
            "colorscale": [
             [
              0,
              "#0d0887"
             ],
             [
              0.1111111111111111,
              "#46039f"
             ],
             [
              0.2222222222222222,
              "#7201a8"
             ],
             [
              0.3333333333333333,
              "#9c179e"
             ],
             [
              0.4444444444444444,
              "#bd3786"
             ],
             [
              0.5555555555555556,
              "#d8576b"
             ],
             [
              0.6666666666666666,
              "#ed7953"
             ],
             [
              0.7777777777777778,
              "#fb9f3a"
             ],
             [
              0.8888888888888888,
              "#fdca26"
             ],
             [
              1,
              "#f0f921"
             ]
            ],
            "type": "heatmapgl"
           }
          ],
          "histogram": [
           {
            "marker": {
             "pattern": {
              "fillmode": "overlay",
              "size": 10,
              "solidity": 0.2
             }
            },
            "type": "histogram"
           }
          ],
          "histogram2d": [
           {
            "colorbar": {
             "outlinewidth": 0,
             "ticks": ""
            },
            "colorscale": [
             [
              0,
              "#0d0887"
             ],
             [
              0.1111111111111111,
              "#46039f"
             ],
             [
              0.2222222222222222,
              "#7201a8"
             ],
             [
              0.3333333333333333,
              "#9c179e"
             ],
             [
              0.4444444444444444,
              "#bd3786"
             ],
             [
              0.5555555555555556,
              "#d8576b"
             ],
             [
              0.6666666666666666,
              "#ed7953"
             ],
             [
              0.7777777777777778,
              "#fb9f3a"
             ],
             [
              0.8888888888888888,
              "#fdca26"
             ],
             [
              1,
              "#f0f921"
             ]
            ],
            "type": "histogram2d"
           }
          ],
          "histogram2dcontour": [
           {
            "colorbar": {
             "outlinewidth": 0,
             "ticks": ""
            },
            "colorscale": [
             [
              0,
              "#0d0887"
             ],
             [
              0.1111111111111111,
              "#46039f"
             ],
             [
              0.2222222222222222,
              "#7201a8"
             ],
             [
              0.3333333333333333,
              "#9c179e"
             ],
             [
              0.4444444444444444,
              "#bd3786"
             ],
             [
              0.5555555555555556,
              "#d8576b"
             ],
             [
              0.6666666666666666,
              "#ed7953"
             ],
             [
              0.7777777777777778,
              "#fb9f3a"
             ],
             [
              0.8888888888888888,
              "#fdca26"
             ],
             [
              1,
              "#f0f921"
             ]
            ],
            "type": "histogram2dcontour"
           }
          ],
          "mesh3d": [
           {
            "colorbar": {
             "outlinewidth": 0,
             "ticks": ""
            },
            "type": "mesh3d"
           }
          ],
          "parcoords": [
           {
            "line": {
             "colorbar": {
              "outlinewidth": 0,
              "ticks": ""
             }
            },
            "type": "parcoords"
           }
          ],
          "pie": [
           {
            "automargin": true,
            "type": "pie"
           }
          ],
          "scatter": [
           {
            "fillpattern": {
             "fillmode": "overlay",
             "size": 10,
             "solidity": 0.2
            },
            "type": "scatter"
           }
          ],
          "scatter3d": [
           {
            "line": {
             "colorbar": {
              "outlinewidth": 0,
              "ticks": ""
             }
            },
            "marker": {
             "colorbar": {
              "outlinewidth": 0,
              "ticks": ""
             }
            },
            "type": "scatter3d"
           }
          ],
          "scattercarpet": [
           {
            "marker": {
             "colorbar": {
              "outlinewidth": 0,
              "ticks": ""
             }
            },
            "type": "scattercarpet"
           }
          ],
          "scattergeo": [
           {
            "marker": {
             "colorbar": {
              "outlinewidth": 0,
              "ticks": ""
             }
            },
            "type": "scattergeo"
           }
          ],
          "scattergl": [
           {
            "marker": {
             "colorbar": {
              "outlinewidth": 0,
              "ticks": ""
             }
            },
            "type": "scattergl"
           }
          ],
          "scattermapbox": [
           {
            "marker": {
             "colorbar": {
              "outlinewidth": 0,
              "ticks": ""
             }
            },
            "type": "scattermapbox"
           }
          ],
          "scatterpolar": [
           {
            "marker": {
             "colorbar": {
              "outlinewidth": 0,
              "ticks": ""
             }
            },
            "type": "scatterpolar"
           }
          ],
          "scatterpolargl": [
           {
            "marker": {
             "colorbar": {
              "outlinewidth": 0,
              "ticks": ""
             }
            },
            "type": "scatterpolargl"
           }
          ],
          "scatterternary": [
           {
            "marker": {
             "colorbar": {
              "outlinewidth": 0,
              "ticks": ""
             }
            },
            "type": "scatterternary"
           }
          ],
          "surface": [
           {
            "colorbar": {
             "outlinewidth": 0,
             "ticks": ""
            },
            "colorscale": [
             [
              0,
              "#0d0887"
             ],
             [
              0.1111111111111111,
              "#46039f"
             ],
             [
              0.2222222222222222,
              "#7201a8"
             ],
             [
              0.3333333333333333,
              "#9c179e"
             ],
             [
              0.4444444444444444,
              "#bd3786"
             ],
             [
              0.5555555555555556,
              "#d8576b"
             ],
             [
              0.6666666666666666,
              "#ed7953"
             ],
             [
              0.7777777777777778,
              "#fb9f3a"
             ],
             [
              0.8888888888888888,
              "#fdca26"
             ],
             [
              1,
              "#f0f921"
             ]
            ],
            "type": "surface"
           }
          ],
          "table": [
           {
            "cells": {
             "fill": {
              "color": "#EBF0F8"
             },
             "line": {
              "color": "white"
             }
            },
            "header": {
             "fill": {
              "color": "#C8D4E3"
             },
             "line": {
              "color": "white"
             }
            },
            "type": "table"
           }
          ]
         },
         "layout": {
          "annotationdefaults": {
           "arrowcolor": "#2a3f5f",
           "arrowhead": 0,
           "arrowwidth": 1
          },
          "autotypenumbers": "strict",
          "coloraxis": {
           "colorbar": {
            "outlinewidth": 0,
            "ticks": ""
           }
          },
          "colorscale": {
           "diverging": [
            [
             0,
             "#8e0152"
            ],
            [
             0.1,
             "#c51b7d"
            ],
            [
             0.2,
             "#de77ae"
            ],
            [
             0.3,
             "#f1b6da"
            ],
            [
             0.4,
             "#fde0ef"
            ],
            [
             0.5,
             "#f7f7f7"
            ],
            [
             0.6,
             "#e6f5d0"
            ],
            [
             0.7,
             "#b8e186"
            ],
            [
             0.8,
             "#7fbc41"
            ],
            [
             0.9,
             "#4d9221"
            ],
            [
             1,
             "#276419"
            ]
           ],
           "sequential": [
            [
             0,
             "#0d0887"
            ],
            [
             0.1111111111111111,
             "#46039f"
            ],
            [
             0.2222222222222222,
             "#7201a8"
            ],
            [
             0.3333333333333333,
             "#9c179e"
            ],
            [
             0.4444444444444444,
             "#bd3786"
            ],
            [
             0.5555555555555556,
             "#d8576b"
            ],
            [
             0.6666666666666666,
             "#ed7953"
            ],
            [
             0.7777777777777778,
             "#fb9f3a"
            ],
            [
             0.8888888888888888,
             "#fdca26"
            ],
            [
             1,
             "#f0f921"
            ]
           ],
           "sequentialminus": [
            [
             0,
             "#0d0887"
            ],
            [
             0.1111111111111111,
             "#46039f"
            ],
            [
             0.2222222222222222,
             "#7201a8"
            ],
            [
             0.3333333333333333,
             "#9c179e"
            ],
            [
             0.4444444444444444,
             "#bd3786"
            ],
            [
             0.5555555555555556,
             "#d8576b"
            ],
            [
             0.6666666666666666,
             "#ed7953"
            ],
            [
             0.7777777777777778,
             "#fb9f3a"
            ],
            [
             0.8888888888888888,
             "#fdca26"
            ],
            [
             1,
             "#f0f921"
            ]
           ]
          },
          "colorway": [
           "#636efa",
           "#EF553B",
           "#00cc96",
           "#ab63fa",
           "#FFA15A",
           "#19d3f3",
           "#FF6692",
           "#B6E880",
           "#FF97FF",
           "#FECB52"
          ],
          "font": {
           "color": "#2a3f5f"
          },
          "geo": {
           "bgcolor": "white",
           "lakecolor": "white",
           "landcolor": "#E5ECF6",
           "showlakes": true,
           "showland": true,
           "subunitcolor": "white"
          },
          "hoverlabel": {
           "align": "left"
          },
          "hovermode": "closest",
          "mapbox": {
           "style": "light"
          },
          "paper_bgcolor": "white",
          "plot_bgcolor": "#E5ECF6",
          "polar": {
           "angularaxis": {
            "gridcolor": "white",
            "linecolor": "white",
            "ticks": ""
           },
           "bgcolor": "#E5ECF6",
           "radialaxis": {
            "gridcolor": "white",
            "linecolor": "white",
            "ticks": ""
           }
          },
          "scene": {
           "xaxis": {
            "backgroundcolor": "#E5ECF6",
            "gridcolor": "white",
            "gridwidth": 2,
            "linecolor": "white",
            "showbackground": true,
            "ticks": "",
            "zerolinecolor": "white"
           },
           "yaxis": {
            "backgroundcolor": "#E5ECF6",
            "gridcolor": "white",
            "gridwidth": 2,
            "linecolor": "white",
            "showbackground": true,
            "ticks": "",
            "zerolinecolor": "white"
           },
           "zaxis": {
            "backgroundcolor": "#E5ECF6",
            "gridcolor": "white",
            "gridwidth": 2,
            "linecolor": "white",
            "showbackground": true,
            "ticks": "",
            "zerolinecolor": "white"
           }
          },
          "shapedefaults": {
           "line": {
            "color": "#2a3f5f"
           }
          },
          "ternary": {
           "aaxis": {
            "gridcolor": "white",
            "linecolor": "white",
            "ticks": ""
           },
           "baxis": {
            "gridcolor": "white",
            "linecolor": "white",
            "ticks": ""
           },
           "bgcolor": "#E5ECF6",
           "caxis": {
            "gridcolor": "white",
            "linecolor": "white",
            "ticks": ""
           }
          },
          "title": {
           "x": 0.05
          },
          "xaxis": {
           "automargin": true,
           "gridcolor": "white",
           "linecolor": "white",
           "ticks": "",
           "title": {
            "standoff": 15
           },
           "zerolinecolor": "white",
           "zerolinewidth": 2
          },
          "yaxis": {
           "automargin": true,
           "gridcolor": "white",
           "linecolor": "white",
           "ticks": "",
           "title": {
            "standoff": 15
           },
           "zerolinecolor": "white",
           "zerolinewidth": 2
          }
         }
        },
        "title": {
         "text": "Latency vs Processes for the Barrier using the the Linear Algorithm"
        },
        "xaxis": {
         "tickvals": [
          2,
          6,
          12,
          16,
          20,
          24,
          28,
          32,
          36,
          40,
          44,
          48
         ],
         "title": {
          "text": "Processes"
         }
        },
        "yaxis": {
         "title": {
          "text": "Latency (us)"
         }
        }
       }
      }
     },
     "metadata": {},
     "output_type": "display_data"
    }
   ],
   "source": [
    "# Initialize the figure\n",
    "fig = go.Figure()\n",
    "\n",
    "# Start plotting the data\n",
    "for selected in range(len(linear_df)):\n",
    "\t# The two runs\n",
    "\tused_df = linear_df[selected]\n",
    "\t# Only plot for 512KB and 1MB, a.k.a. one fitting entirely in L1 and one not fitting\n",
    "\t# Plot the data\n",
    "\tfig.add_trace(go.Scatter(x=used_df['Processes'], \n",
    "\t\t\t\t\t\t\ty=used_df['Latency'],\n",
    "\t\t\t\t\t\t\tmode='lines+markers',\n",
    "\t\t\t\t\t\t\tname=\"Run \"+str(selected)))\n",
    "# Update the layout by naming the appropirate tings and highlighting some places of interest in the x-axis\n",
    "fig.update_layout(title='Latency vs Processes for the Barrier using the the Linear Algorithm', \n",
    "\t\t\t\t\txaxis_title='Processes', \n",
    "\t\t\t\t\tyaxis_title='Latency (us)', \n",
    "\t\t\t\t\txaxis=dict(tickvals=tickvals)\n",
    "\t\t\t\t)\n",
    "\n",
    "fig.show()\n",
    "\n"
   ]
  }
 ],
 "metadata": {
  "kernelspec": {
   "display_name": "Python 3",
   "language": "python",
   "name": "python3"
  },
  "language_info": {
   "codemirror_mode": {
    "name": "ipython",
    "version": 3
   },
   "file_extension": ".py",
   "mimetype": "text/x-python",
   "name": "python",
   "nbconvert_exporter": "python",
   "pygments_lexer": "ipython3",
   "version": "3.9.15"
  }
 },
 "nbformat": 4,
 "nbformat_minor": 2
}
