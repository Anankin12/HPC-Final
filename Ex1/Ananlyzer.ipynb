{
 "cells": [
  {
   "cell_type": "markdown",
   "metadata": {},
   "source": [
    "# MPI messaging\n",
    "\n",
    "This script will analyse `broadcast` and `barrier` messging, each with 3 different algorithms.\n"
   ]
  },
  {
   "cell_type": "code",
   "execution_count": 313,
   "metadata": {},
   "outputs": [],
   "source": [
    "import pandas as pd\n",
    "import numpy as np\n",
    "import matplotlib.pyplot as plt\n",
    "import seaborn as sns\n",
    "import os\n",
    "import sys\n",
    "import plotly.express as px\n",
    "import plotly.graph_objects as go\n",
    "\n",
    "path = os.getcwd()"
   ]
  },
  {
   "cell_type": "code",
   "execution_count": 314,
   "metadata": {},
   "outputs": [],
   "source": [
    "# Data gathered using the latency test within 1 socket\n",
    "latency_by_size = pd.DataFrame(columns=['Start_CPU', 'End_CPU', 'MessageSize', 'Latency'], \n",
    "\t\t\t\t\t\t\t\tdata= [\n",
    "\t\t\t\t\t\t\t\t\t\t[0, 2, 1, \t\t0.19], \n",
    "\t\t\t\t\t\t\t\t\t\t[0, 2, 2, \t\t0.19], \n",
    "\t\t\t\t\t\t\t\t\t\t[0, 2, 4, \t\t0.19], \n",
    "\t\t\t\t\t\t\t\t\t\t[0, 2, 8, \t\t0.19],\n",
    "\t\t\t\t\t\t\t\t\t\t[0, 2, 16, \t\t0.19],\n",
    "\t\t\t\t\t\t\t\t\t\t[0, 2, 32, \t\t0.24],\n",
    "\t\t\t\t\t\t\t\t\t\t[0, 2, 64, \t\t0.24],\n",
    "\t\t\t\t\t\t\t\t\t\t[0, 2, 128, \t0.33],\n",
    "\t\t\t\t\t\t\t\t\t\t[0, 2, 256, \t0.37],\n",
    "\t\t\t\t\t\t\t\t\t\t[0, 2, 512, \t0.44],\n",
    "\t\t\t\t\t\t\t\t\t\t[0, 2, 1024, \t0.54],\n",
    "\t\t\t\t\t\t\t\t\t\t[0, 2, 2048, \t0.75],\n",
    "\t\t\t\t\t\t\t\t\t\t[0, 2, 4096, \t1.21],\n",
    "\t\t\t\t\t\t\t\t\t\t[0, 2, 8192, \t2.04],\n",
    "\t\t\t\t\t\t\t\t\t\t[0, 2, 16384, \t3.15],\n",
    "\t\t\t\t\t\t\t\t\t\t[0, 2, 32768, \t4.97],\n",
    "\t\t\t\t\t\t\t\t\t\t[0, 2, 65536, \t8.40],\n",
    "\t\t\t\t\t\t\t\t\t\t[0, 2, 131072, \t14.95],\n",
    "\t\t\t\t\t\t\t\t\t\t[0, 2, 262144, \t16.22],\n",
    "\t\t\t\t\t\t\t\t\t\t[0, 2, 524288, \t30.01],\n",
    "\t\t\t\t\t\t\t\t\t\t[0, 2, 1048576, 61.65],\n",
    "\t\t\t\t\t\t\t\t\t\t[0, 2, 2097152, 155.70],\n",
    "\t\t\t\t\t\t\t\t\t\t[0, 2, 4194304, 356.84]\n",
    "\t\t\t\t\t\t\t\t\t]\n",
    "\t\t\t\t\t\t\t\t)"
   ]
  },
  {
   "cell_type": "code",
   "execution_count": 315,
   "metadata": {},
   "outputs": [],
   "source": [
    "\n",
    "def plot_latency_vs_processes(df, algorithm, scale):\n",
    "\t'''\n",
    "\tPlots the latency vs the number of processes for the broadcast operation\n",
    "\t'''\n",
    "\n",
    "\t# Initialize the figure\n",
    "\tfig = go.Figure()\n",
    "\n",
    "\t# Start plotting the data\n",
    "\tfor selected in range(len(df)):\n",
    "\t\t# Select the data\n",
    "\t\tused_df = df[selected]\n",
    "\t\t# Select the message sizes\n",
    "\t\tfor message_size in selected_sizes:\n",
    "\t\t\tused_size_df = used_df[used_df['MessageSize']==message_size]\n",
    "\t\t\t# Plot the data\n",
    "\t\t\tfig.add_trace(go.Scatter(x=used_size_df['Processes'], \n",
    "\t\t\t\t\t\t\t\t\ty=used_size_df['Latency'],\n",
    "\t\t\t\t\t\t\t\t\tmode='lines+markers', name=str(message_size)))\n",
    "\n",
    "\t\t\t# Set the parameter alpha as the one experimentally measured for in-socekt communication\n",
    "\t\t\talpha = latency_by_size[latency_by_size['MessageSize']==message_size]['Latency'].values[0]\n",
    "\n",
    "\t\t\tif algorithm == 'binary tree':\n",
    "\t\t\t\t# Set the beta parameter for the theoretical model \n",
    "\t\t\t\t# This will need to change for the default algorithm, currently working with the chain algorithm\n",
    "\t\t\t\tbeta  = 10**6 * (1 / ((3.7 * 10**9 )*15))\n",
    "\t\t\t\tbeta2 = 10**6 * (1 / ((3.7 * 10**9 )*8))\n",
    "\n",
    "\t\t\t\tout = np.ceil(np.log2(((used_size_df['Processes'][0:12]))))*(alpha/2 ) + beta * message_size * (used_size_df['Processes'][0:12])\n",
    "\t\t\t\tout2 = np.ceil(np.log2(((used_size_df['Processes'][13:]))))*(alpha/2 ) + beta2 * message_size * (used_size_df['Processes'][13:]) - (np.ceil(np.log2(((used_size_df['Processes'][13]))))*(alpha/2 ) + beta2 * message_size * used_size_df['Processes'][13])\n",
    "\t\t\t\tout = pd.concat([out, out2], ignore_index=True)\n",
    "\n",
    "\t\t\t\t# Differentiate for sizes smaller than 32KB and larger than 32KB, which is the size of the L1 cache\n",
    "\t\t\t\tif message_size <= 32768:\n",
    "\t\t\t\t\tfig.add_trace(go.Scatter(x=used_size_df['Processes'],\n",
    "\n",
    "\t\t\t\t\t\t\t\t\t\t\t# The actual model\n",
    "\t\t\t\t\t\t\t\t\t\t\t# y = alpha/2 + beta * message_size * ( used_df['Processes'] - 1 ),\n",
    "\t\t\t\t\t\t\t\t\t\t\ty = out,\n",
    "\n",
    "\t\t\t\t\t\t\t\t\t\t\tmode='lines',\n",
    "\t\t\t\t\t\t\t\t\t\t\tname=str(message_size)+'Theoretical Latency for size ',\n",
    "\t\t\t\t\t\t\t\t\t\t\tline=dict(color='black', dash='dash')))\n",
    "\n",
    "\t\t\t\telse:\n",
    "\t\t\t\t\tfig.add_trace(go.Scatter(x=used_size_df['Processes'],\n",
    "\n",
    "\t\t\t\t\t\t\t\t\t\t\t# The actual model\n",
    "\t\t\t\t\t\t\t\t\t\t\ty = alpha/2 + beta * message_size * ( used_size_df['Processes'] - 1 ),\n",
    "\n",
    "\n",
    "\t\t\t\t\t\t\t\t\t\t\tmode='lines',\n",
    "\t\t\t\t\t\t\t\t\t\t\tname=str(message_size)+'Theoretical Latency for size ',\n",
    "\t\t\t\t\t\t\t\t\t\t\tline=dict(color='red', dash='dash')))\n",
    "\n",
    "\t\t\telif algorithm == 'chain':\n",
    "\t\t\t\t# CPU frequency is 3.7 GHz,\n",
    "\t\t\t\t# Unit is in microseconds, so a 10**6 is needed\n",
    "\t\t\t\t# 5 is asspullery ( expected 64 bytes per cycle, but that's the best case scenario; probably lower)\n",
    "\t\t\t\tbeta  = 10**6 * (1 / ((3.7 * 10**9 )*5))\n",
    "\t\t\t\tbeta2 = 10**6 * (1 / ((3.7 * 10**9 )*5))\n",
    "\n",
    "\t\t\t\t# Differentiate for sizes smaller than 32KB and larger than 32KB, which is the size of the L1 cache\n",
    "\t\t\t\tif message_size <= 32768:\n",
    "\t\t\t\t\tfig.add_trace(go.Scatter(x=used_size_df['Processes'],\n",
    "\n",
    "\t\t\t\t\t\t\t\t\t\t\t# The actual model: the pure latency for the size, halved because it's\n",
    "\t\t\t\t\t\t\t\t\t\t\t# a broadcast operation, then the number of pocesses -1 because it's the\n",
    "\t\t\t\t\t\t\t\t\t\t\t# number of messages that need to be sent\n",
    "\t\t\t\t\t\t\t\t\t\t\ty = alpha/2 + beta * message_size * ( used_size_df['Processes'] - 1 ),\n",
    "\n",
    "\n",
    "\t\t\t\t\t\t\t\t\t\t\tmode='lines',\n",
    "\t\t\t\t\t\t\t\t\t\t\tname=str(message_size)+'Theoretical Latency for size ',\n",
    "\t\t\t\t\t\t\t\t\t\t\tline=dict(color='black', dash='dash')))\n",
    "\t\t\t\telse:\n",
    "\t\t\t\t\tfig.add_trace(go.Scatter(x=used_size_df['Processes'],\n",
    "\n",
    "\t\t\t\t\t\t\t\t\t\t\t# The actual model: the pure latency for the size, halved because it's\n",
    "\t\t\t\t\t\t\t\t\t\t\t# a broadcast operation, then the number of pocesses -1 because it's the\n",
    "\t\t\t\t\t\t\t\t\t\t\t# number of messages that need to be sent\n",
    "\t\t\t\t\t\t\t\t\t\t\ty = alpha/2 + beta * message_size * ( used_size_df['Processes'] - 1 ),\n",
    "\n",
    "\n",
    "\t\t\t\t\t\t\t\t\t\t\tmode='lines',\n",
    "\t\t\t\t\t\t\t\t\t\t\tname=str(message_size)+'Theoretical Latency for size ',\n",
    "\t\t\t\t\t\t\t\t\t\t\tline=dict(color='red', dash='dash')))\n",
    "\n",
    "\t\t\telif algorithm == 'linear':\n",
    "\t\t\t\t# CPU frequency is 3.7 GHz,\n",
    "\t\t\t\t# Unit is in microseconds, so a 10**6 is needed\n",
    "\t\t\t\t# 5 is asspullery ( expected 64 bytes per cycle, but that's the best case scenario; probably lower)\n",
    "\t\t\t\tbeta  = 10**6 * (1 / ((3.7 * 10**9 )*4))\n",
    "\t\t\t\tbeta2 = 10**6 * (1 / ((3.7 * 10**9 )*2))\n",
    "\t\t\t\tbeta3 = 10**6 * (1 / ((3.7 * 10**9 )*2))\n",
    "\t\t\t\tbeta4 = 10**6 * (1 / ((3.7 * 10**9 )*2))\n",
    "\n",
    "\t\t\t\tout = alpha/2 + beta * message_size * used_size_df['Processes'][0:12].apply(lambda p: p-1 )\n",
    "\t\t\t\tout2 = alpha/2 + out.iloc[11] -beta2 * message_size * used_size_df['Processes'].apply(lambda p: p-1 ).iloc[13] + beta2 * message_size * used_size_df['Processes'][13:25].apply(lambda p: p-1 )\n",
    "\t\t\t\tout3 = alpha/2 + out2.iloc[11] -beta3 * message_size * used_size_df['Processes'].apply(lambda p: p-1 ).iloc[25] + beta3 * message_size * used_size_df['Processes'][25:37].apply(lambda p: p-1 )\t\n",
    "\t\t\t\tout4 = alpha/2 + out3.iloc[11] -beta4 * message_size * used_size_df['Processes'].apply(lambda p: p-1 ).iloc[37] + beta4 * message_size * used_size_df['Processes'][37:].apply(lambda p: p-1 )\n",
    "\t\t\t\tout = pd.concat([out, out2, out3,out4], ignore_index=True)\n",
    "\n",
    "\n",
    "\t\t\t\t# Differentiate for sizes smaller than 32KB and larger than 32KB, which is the size of the L1 cache\n",
    "\t\t\t\tif message_size <= 32768:\n",
    "\t\t\t\t\tfig.add_trace(go.Scatter(x=used_size_df['Processes'],\n",
    "\n",
    "\t\t\t\t\t\t\t\t\t\t\t# The actual model: the pure latency for the size, halved because it's\n",
    "\t\t\t\t\t\t\t\t\t\t\t# a broadcast operation, then the number of pocesses -1 because it's the\n",
    "\t\t\t\t\t\t\t\t\t\t\t# number of messages that need to be sent\n",
    "\t\t\t\t\t\t\t\t\t\t\ty = out,\n",
    "\t\t\t\t\t\t\t\t\t\t\tmode='lines',\n",
    "\t\t\t\t\t\t\t\t\t\t\tname=str(message_size)+'Theoretical Latency for size ',\n",
    "\t\t\t\t\t\t\t\t\t\t\tline=dict(color='black', dash='dash')))\n",
    "\t\t\t\telse:\n",
    "\t\t\t\t\tfig.add_trace(go.Scatter(x=used_size_df['Processes'],\n",
    "\n",
    "\t\t\t\t\t\t\t\t\t\t\t# The actual model: the pure latency for the size, halved because it's\n",
    "\t\t\t\t\t\t\t\t\t\t\t# a broadcast operation, then the number of pocesses -1 because it's the\n",
    "\t\t\t\t\t\t\t\t\t\t\t# number of messages that need to be sent\n",
    "\t\t\t\t\t\t\t\t\t\t\ty = alpha/2 + beta * message_size * ( used_size_df['Processes'] - 1 ),\n",
    "\t\t\t\t\t\t\t\t\t\t\tmode='lines',\n",
    "\t\t\t\t\t\t\t\t\t\t\tname=str(message_size)+'Theoretical Latency for size ',\n",
    "\t\t\t\t\t\t\t\t\t\t\tline=dict(color='red', dash='dash')))\n",
    "  \n",
    "\n",
    "\t# Set the layout of the figure, title, axis labels, etc.\n",
    "\t# Select the scale type of the y axis\n",
    "\tfig.update_layout(title='Latency vs Processes for the broadcast using '+algorithm+' Algorithm', \n",
    "\t\t\t\t\t\txaxis_title='Processes', \n",
    "\t\t\t\t\t\tyaxis_title='Latency (us)', \n",
    "\t\t\t\t\t\tlegend_title='Message Size',\n",
    "\t\t\t\t\t\txaxis=dict(tickvals=tickvals),\n",
    "\t\t\t\t\t\tyaxis=dict(type=scale)\n",
    "\t\t\t\t\t)\n",
    "\tfig.show()\n",
    "\n"
   ]
  },
  {
   "cell_type": "markdown",
   "metadata": {},
   "source": [
    "## `broadcast` messaging\n",
    "\n",
    "Let's first load the data"
   ]
  },
  {
   "cell_type": "code",
   "execution_count": 316,
   "metadata": {},
   "outputs": [
    {
     "data": {
      "text/html": [
       "<div>\n",
       "<style scoped>\n",
       "    .dataframe tbody tr th:only-of-type {\n",
       "        vertical-align: middle;\n",
       "    }\n",
       "\n",
       "    .dataframe tbody tr th {\n",
       "        vertical-align: top;\n",
       "    }\n",
       "\n",
       "    .dataframe thead th {\n",
       "        text-align: right;\n",
       "    }\n",
       "</style>\n",
       "<table border=\"1\" class=\"dataframe\">\n",
       "  <thead>\n",
       "    <tr style=\"text-align: right;\">\n",
       "      <th></th>\n",
       "      <th>Algorithm</th>\n",
       "      <th>Allocation</th>\n",
       "      <th>Processes</th>\n",
       "      <th>MessageSize</th>\n",
       "      <th>Latency</th>\n",
       "      <th>algorithm</th>\n",
       "    </tr>\n",
       "  </thead>\n",
       "  <tbody>\n",
       "    <tr>\n",
       "      <th>0</th>\n",
       "      <td>linear</td>\n",
       "      <td>core</td>\n",
       "      <td>2</td>\n",
       "      <td>1</td>\n",
       "      <td>0.19</td>\n",
       "      <td>Linear</td>\n",
       "    </tr>\n",
       "    <tr>\n",
       "      <th>1</th>\n",
       "      <td>linear</td>\n",
       "      <td>core</td>\n",
       "      <td>2</td>\n",
       "      <td>2</td>\n",
       "      <td>0.20</td>\n",
       "      <td>Linear</td>\n",
       "    </tr>\n",
       "    <tr>\n",
       "      <th>2</th>\n",
       "      <td>linear</td>\n",
       "      <td>core</td>\n",
       "      <td>2</td>\n",
       "      <td>4</td>\n",
       "      <td>0.19</td>\n",
       "      <td>Linear</td>\n",
       "    </tr>\n",
       "    <tr>\n",
       "      <th>3</th>\n",
       "      <td>linear</td>\n",
       "      <td>core</td>\n",
       "      <td>2</td>\n",
       "      <td>8</td>\n",
       "      <td>0.19</td>\n",
       "      <td>Linear</td>\n",
       "    </tr>\n",
       "    <tr>\n",
       "      <th>4</th>\n",
       "      <td>linear</td>\n",
       "      <td>core</td>\n",
       "      <td>2</td>\n",
       "      <td>16</td>\n",
       "      <td>0.19</td>\n",
       "      <td>Linear</td>\n",
       "    </tr>\n",
       "    <tr>\n",
       "      <th>...</th>\n",
       "      <td>...</td>\n",
       "      <td>...</td>\n",
       "      <td>...</td>\n",
       "      <td>...</td>\n",
       "      <td>...</td>\n",
       "      <td>...</td>\n",
       "    </tr>\n",
       "    <tr>\n",
       "      <th>982</th>\n",
       "      <td>linear</td>\n",
       "      <td>core</td>\n",
       "      <td>48</td>\n",
       "      <td>65536</td>\n",
       "      <td>105.05</td>\n",
       "      <td>Linear</td>\n",
       "    </tr>\n",
       "    <tr>\n",
       "      <th>983</th>\n",
       "      <td>linear</td>\n",
       "      <td>core</td>\n",
       "      <td>48</td>\n",
       "      <td>131072</td>\n",
       "      <td>245.90</td>\n",
       "      <td>Linear</td>\n",
       "    </tr>\n",
       "    <tr>\n",
       "      <th>984</th>\n",
       "      <td>linear</td>\n",
       "      <td>core</td>\n",
       "      <td>48</td>\n",
       "      <td>262144</td>\n",
       "      <td>491.28</td>\n",
       "      <td>Linear</td>\n",
       "    </tr>\n",
       "    <tr>\n",
       "      <th>985</th>\n",
       "      <td>linear</td>\n",
       "      <td>core</td>\n",
       "      <td>48</td>\n",
       "      <td>524288</td>\n",
       "      <td>990.19</td>\n",
       "      <td>Linear</td>\n",
       "    </tr>\n",
       "    <tr>\n",
       "      <th>986</th>\n",
       "      <td>linear</td>\n",
       "      <td>core</td>\n",
       "      <td>48</td>\n",
       "      <td>1048576</td>\n",
       "      <td>1938.10</td>\n",
       "      <td>Linear</td>\n",
       "    </tr>\n",
       "  </tbody>\n",
       "</table>\n",
       "<p>987 rows × 6 columns</p>\n",
       "</div>"
      ],
      "text/plain": [
       "    Algorithm Allocation  Processes  MessageSize  Latency algorithm\n",
       "0      linear       core          2            1     0.19    Linear\n",
       "1      linear       core          2            2     0.20    Linear\n",
       "2      linear       core          2            4     0.19    Linear\n",
       "3      linear       core          2            8     0.19    Linear\n",
       "4      linear       core          2           16     0.19    Linear\n",
       "..        ...        ...        ...          ...      ...       ...\n",
       "982    linear       core         48        65536   105.05    Linear\n",
       "983    linear       core         48       131072   245.90    Linear\n",
       "984    linear       core         48       262144   491.28    Linear\n",
       "985    linear       core         48       524288   990.19    Linear\n",
       "986    linear       core         48      1048576  1938.10    Linear\n",
       "\n",
       "[987 rows x 6 columns]"
      ]
     },
     "execution_count": 316,
     "metadata": {},
     "output_type": "execute_result"
    }
   ],
   "source": [
    "# Set path to the data\n",
    "bcast_path = path + '/bcast/results_bcast/'  # Replace with your actual path\n",
    "\n",
    "# Get the list of files in the directory\n",
    "files = os.listdir(bcast_path)\n",
    "\n",
    "# Create a list to store the dataframes\n",
    "dfs = []\n",
    "\n",
    "# Read the data from the files; for each file, check if \n",
    "# the name contains binary, default or chain and set the\n",
    "# corresponding value in the dataframe\n",
    "\n",
    "for file in files:\n",
    "\tif 'binary' in file:\n",
    "\t\tdf = pd.read_csv(os.path.join(bcast_path, file))\n",
    "\t\tdf['algorithm'] = 'Binary Tree'\n",
    "\t\tdfs.append(df)\n",
    "\telif 'default' in file:\n",
    "\t\tdf = pd.read_csv(os.path.join(bcast_path, file))\n",
    "\t\tdf['algorithm'] = 'Default'\n",
    "\t\tdfs.append(df)\n",
    "\telif 'chain' in file:\n",
    "\t\tdf = pd.read_csv(os.path.join(bcast_path, file))\n",
    "\t\tdf['algorithm'] = 'Chain'\n",
    "\t\tdfs.append(df)\n",
    "\telif 'linear' in file:\n",
    "\t\tdf = pd.read_csv(os.path.join(bcast_path, file))\n",
    "\t\tdf['algorithm'] = 'Linear'\n",
    "\t\tdfs.append(df)\n",
    "\n",
    "# Filter out dataframes where the 'Algorithm' column contains '${algorithm}' or is null\n",
    "valid_dfs = []\n",
    "for df in dfs:\n",
    "\tif 'Algorithm' in df.columns:\n",
    "\t\tdf['Algorithm'] = df['Algorithm'].astype(str)\n",
    "\t\tif not df['Algorithm'].str.contains(r'\\$\\{algorithm\\}').any():\n",
    "\t\t\tvalid_dfs.append(df)\n",
    "\n",
    "# Split the data into separate dataframes for each algorithm\n",
    "default_df = [df for df in valid_dfs if df['Algorithm'].iloc[0] == 'default']\n",
    "binary_tree_df = [df for df in valid_dfs if df['Algorithm'].iloc[0] == 'binary_tree']\n",
    "chain_df = [df for df in valid_dfs if df['Algorithm'].iloc[0] == 'chain']\n",
    "linear_df = [df for df in valid_dfs if df['Algorithm'].iloc[0] == 'linear']\n",
    "\n",
    "# Select an allocation strategy\n",
    "default_df = [df[df['Allocation']=='core'] for df in default_df]\n",
    "binary_tree_df = [df[df['Allocation']=='core'] for df in binary_tree_df]\n",
    "chain_df = [df[df['Allocation']=='core'] for df in chain_df]\n",
    "linear_df = [df[df['Allocation']=='core'] for df in linear_df]\n",
    "\n",
    "# Select the message sizes and other plot parameters\n",
    "message_sizes = default_df[0]['MessageSize'].unique()\n",
    "allocations = default_df[0]['Allocation'].unique()\n",
    "tickvals = [2, 4, 6, 8, 12, 16, 20, 24, 28, 32, 36, 40, 44, 48]\n",
    "selected_sizes = [8192] #16384, 524288, 1048576]\n",
    "\n",
    "linear_df[0]"
   ]
  },
  {
   "cell_type": "markdown",
   "metadata": {},
   "source": [
    "## Default algorithm\n",
    "\n",
    "Let's plot the default algorithm"
   ]
  },
  {
   "cell_type": "code",
   "execution_count": 317,
   "metadata": {},
   "outputs": [
    {
     "data": {
      "application/vnd.plotly.v1+json": {
       "config": {
        "plotlyServerURL": "https://plot.ly"
       },
       "data": [
        {
         "mode": "lines+markers",
         "name": "8192",
         "type": "scatter",
         "x": [
          2,
          3,
          4,
          5,
          6,
          7,
          8,
          9,
          10,
          11,
          12,
          13,
          14,
          15,
          16,
          17,
          18,
          19,
          20,
          21,
          22,
          23,
          24,
          25,
          26,
          27,
          28,
          29,
          30,
          31,
          32,
          33,
          34,
          35,
          36,
          37,
          38,
          39,
          40,
          41,
          42,
          43,
          44,
          45,
          46,
          47,
          48
         ],
         "y": [
          1.34,
          2.12,
          2.52,
          3.04,
          3.55,
          3.99,
          4.57,
          4.85,
          5.18,
          5.59,
          5.72,
          6.32,
          6.59,
          7.13,
          7.09,
          8.44,
          8.75,
          9,
          9.27,
          9.3,
          9.64,
          10,
          10.32,
          10.29,
          10.34,
          10.44,
          10.34,
          10.48,
          10.81,
          10.68,
          12.14,
          14.81,
          14.69,
          14.5,
          14.74,
          14.5,
          14.5,
          14.53,
          14.05,
          14.21,
          14.35,
          13.91,
          14.23,
          14.13,
          14.86,
          15.42,
          17.22
         ]
        },
        {
         "mode": "lines+markers",
         "name": "8192",
         "type": "scatter",
         "x": [
          2,
          3,
          4,
          5,
          6,
          7,
          8,
          9,
          10,
          11,
          12,
          13,
          14,
          15,
          16,
          17,
          18,
          19,
          20,
          21,
          22,
          23,
          24,
          25,
          26,
          27,
          28,
          29,
          30,
          31,
          32,
          33,
          34,
          35,
          36,
          37,
          38,
          39,
          40,
          41,
          42,
          43,
          44,
          45,
          46,
          47,
          48
         ],
         "y": [
          1.38,
          2.2,
          2.62,
          3.25,
          3.64,
          4.14,
          4.62,
          4.88,
          5.2,
          5.67,
          5.77,
          6.27,
          6.76,
          7.13,
          7.01,
          8.31,
          8.88,
          8.96,
          8.96,
          9.26,
          9.68,
          9.93,
          10.37,
          10.4,
          10.48,
          10.29,
          10.35,
          10.69,
          10.68,
          10.93,
          12.06,
          14.63,
          14.63,
          14.35,
          14.34,
          14.43,
          14.51,
          14.36,
          14.29,
          14.06,
          13.86,
          14.16,
          14.31,
          14.1,
          15.66,
          15.73,
          14.91
         ]
        },
        {
         "mode": "lines+markers",
         "name": "8192",
         "type": "scatter",
         "x": [
          2,
          3,
          4,
          5,
          6,
          7,
          8,
          9,
          10,
          11,
          12,
          13,
          14,
          15,
          16,
          17,
          18,
          19,
          20,
          21,
          22,
          23,
          24,
          25,
          26,
          27,
          28,
          29,
          30,
          31,
          32,
          33,
          34,
          35,
          36,
          37,
          38,
          39,
          40,
          41,
          42,
          43,
          44,
          45,
          46,
          47,
          48
         ],
         "y": [
          1.33,
          2.17,
          2.58,
          3.14,
          3.63,
          4.13,
          4.66,
          4.91,
          5.26,
          5.64,
          5.97,
          6.19,
          6.89,
          7.24,
          7.19,
          8.44,
          8.91,
          9.09,
          9.17,
          9.35,
          9.68,
          10.23,
          10.45,
          10.35,
          10.31,
          10.33,
          10.31,
          10.6,
          10.8,
          10.82,
          12.25,
          14.8,
          14.57,
          14.32,
          14.37,
          14.8,
          14.52,
          14.28,
          14.18,
          14.03,
          14.03,
          14.01,
          14.19,
          14.45,
          14.39,
          14.75,
          15.04
         ]
        },
        {
         "mode": "lines+markers",
         "name": "8192",
         "type": "scatter",
         "x": [
          2,
          3,
          4,
          5,
          6,
          7,
          8,
          9,
          10,
          11,
          12,
          13,
          14,
          15,
          16,
          17,
          18,
          19,
          20,
          21,
          22,
          23,
          24,
          25,
          26,
          27,
          28,
          29,
          30,
          31,
          32,
          33,
          34,
          35,
          36,
          37,
          38,
          39,
          40,
          41,
          42,
          43,
          44,
          45,
          46,
          47,
          48
         ],
         "y": [
          1.31,
          2.17,
          2.48,
          3.02,
          3.52,
          3.99,
          4.64,
          4.85,
          5.37,
          5.75,
          5.71,
          6.32,
          6.83,
          7.13,
          7.04,
          8.4,
          8.68,
          8.91,
          9.04,
          9.25,
          9.65,
          9.99,
          10.31,
          10.26,
          10.24,
          10.25,
          10.28,
          10.36,
          10.51,
          12.98,
          12.31,
          14.64,
          14.59,
          14.44,
          14.34,
          14.47,
          14.28,
          14.43,
          14.15,
          13.8,
          13.76,
          13.83,
          15.07,
          14.02,
          14.49,
          14.94,
          14.73
         ]
        },
        {
         "mode": "lines+markers",
         "name": "8192",
         "type": "scatter",
         "x": [
          2,
          3,
          4,
          5,
          6,
          7,
          8,
          9,
          10,
          11,
          12,
          13,
          14,
          15,
          16,
          17,
          18,
          19,
          20,
          21,
          22,
          23,
          24,
          25,
          26,
          27,
          28,
          29,
          30,
          31,
          32,
          33,
          34,
          35,
          36,
          37,
          38,
          39,
          40,
          41,
          42,
          43,
          44,
          45,
          46,
          47,
          48
         ],
         "y": [
          1.32,
          2.13,
          2.53,
          3.04,
          3.54,
          4,
          4.57,
          4.87,
          5.23,
          5.58,
          5.7,
          6.15,
          6.6,
          7.17,
          7.02,
          8.4,
          8.81,
          8.92,
          9.07,
          9.28,
          9.67,
          9.92,
          10.31,
          10.33,
          10.42,
          10.28,
          10.35,
          10.46,
          10.65,
          10.91,
          12.08,
          15.05,
          14.61,
          14.76,
          14.38,
          14.46,
          14.46,
          14.17,
          14.03,
          13.97,
          13.78,
          13.92,
          14.11,
          14.13,
          16.32,
          14.65,
          14.93
         ]
        }
       ],
       "layout": {
        "legend": {
         "title": {
          "text": "Message Size"
         }
        },
        "template": {
         "data": {
          "bar": [
           {
            "error_x": {
             "color": "#2a3f5f"
            },
            "error_y": {
             "color": "#2a3f5f"
            },
            "marker": {
             "line": {
              "color": "#E5ECF6",
              "width": 0.5
             },
             "pattern": {
              "fillmode": "overlay",
              "size": 10,
              "solidity": 0.2
             }
            },
            "type": "bar"
           }
          ],
          "barpolar": [
           {
            "marker": {
             "line": {
              "color": "#E5ECF6",
              "width": 0.5
             },
             "pattern": {
              "fillmode": "overlay",
              "size": 10,
              "solidity": 0.2
             }
            },
            "type": "barpolar"
           }
          ],
          "carpet": [
           {
            "aaxis": {
             "endlinecolor": "#2a3f5f",
             "gridcolor": "white",
             "linecolor": "white",
             "minorgridcolor": "white",
             "startlinecolor": "#2a3f5f"
            },
            "baxis": {
             "endlinecolor": "#2a3f5f",
             "gridcolor": "white",
             "linecolor": "white",
             "minorgridcolor": "white",
             "startlinecolor": "#2a3f5f"
            },
            "type": "carpet"
           }
          ],
          "choropleth": [
           {
            "colorbar": {
             "outlinewidth": 0,
             "ticks": ""
            },
            "type": "choropleth"
           }
          ],
          "contour": [
           {
            "colorbar": {
             "outlinewidth": 0,
             "ticks": ""
            },
            "colorscale": [
             [
              0,
              "#0d0887"
             ],
             [
              0.1111111111111111,
              "#46039f"
             ],
             [
              0.2222222222222222,
              "#7201a8"
             ],
             [
              0.3333333333333333,
              "#9c179e"
             ],
             [
              0.4444444444444444,
              "#bd3786"
             ],
             [
              0.5555555555555556,
              "#d8576b"
             ],
             [
              0.6666666666666666,
              "#ed7953"
             ],
             [
              0.7777777777777778,
              "#fb9f3a"
             ],
             [
              0.8888888888888888,
              "#fdca26"
             ],
             [
              1,
              "#f0f921"
             ]
            ],
            "type": "contour"
           }
          ],
          "contourcarpet": [
           {
            "colorbar": {
             "outlinewidth": 0,
             "ticks": ""
            },
            "type": "contourcarpet"
           }
          ],
          "heatmap": [
           {
            "colorbar": {
             "outlinewidth": 0,
             "ticks": ""
            },
            "colorscale": [
             [
              0,
              "#0d0887"
             ],
             [
              0.1111111111111111,
              "#46039f"
             ],
             [
              0.2222222222222222,
              "#7201a8"
             ],
             [
              0.3333333333333333,
              "#9c179e"
             ],
             [
              0.4444444444444444,
              "#bd3786"
             ],
             [
              0.5555555555555556,
              "#d8576b"
             ],
             [
              0.6666666666666666,
              "#ed7953"
             ],
             [
              0.7777777777777778,
              "#fb9f3a"
             ],
             [
              0.8888888888888888,
              "#fdca26"
             ],
             [
              1,
              "#f0f921"
             ]
            ],
            "type": "heatmap"
           }
          ],
          "heatmapgl": [
           {
            "colorbar": {
             "outlinewidth": 0,
             "ticks": ""
            },
            "colorscale": [
             [
              0,
              "#0d0887"
             ],
             [
              0.1111111111111111,
              "#46039f"
             ],
             [
              0.2222222222222222,
              "#7201a8"
             ],
             [
              0.3333333333333333,
              "#9c179e"
             ],
             [
              0.4444444444444444,
              "#bd3786"
             ],
             [
              0.5555555555555556,
              "#d8576b"
             ],
             [
              0.6666666666666666,
              "#ed7953"
             ],
             [
              0.7777777777777778,
              "#fb9f3a"
             ],
             [
              0.8888888888888888,
              "#fdca26"
             ],
             [
              1,
              "#f0f921"
             ]
            ],
            "type": "heatmapgl"
           }
          ],
          "histogram": [
           {
            "marker": {
             "pattern": {
              "fillmode": "overlay",
              "size": 10,
              "solidity": 0.2
             }
            },
            "type": "histogram"
           }
          ],
          "histogram2d": [
           {
            "colorbar": {
             "outlinewidth": 0,
             "ticks": ""
            },
            "colorscale": [
             [
              0,
              "#0d0887"
             ],
             [
              0.1111111111111111,
              "#46039f"
             ],
             [
              0.2222222222222222,
              "#7201a8"
             ],
             [
              0.3333333333333333,
              "#9c179e"
             ],
             [
              0.4444444444444444,
              "#bd3786"
             ],
             [
              0.5555555555555556,
              "#d8576b"
             ],
             [
              0.6666666666666666,
              "#ed7953"
             ],
             [
              0.7777777777777778,
              "#fb9f3a"
             ],
             [
              0.8888888888888888,
              "#fdca26"
             ],
             [
              1,
              "#f0f921"
             ]
            ],
            "type": "histogram2d"
           }
          ],
          "histogram2dcontour": [
           {
            "colorbar": {
             "outlinewidth": 0,
             "ticks": ""
            },
            "colorscale": [
             [
              0,
              "#0d0887"
             ],
             [
              0.1111111111111111,
              "#46039f"
             ],
             [
              0.2222222222222222,
              "#7201a8"
             ],
             [
              0.3333333333333333,
              "#9c179e"
             ],
             [
              0.4444444444444444,
              "#bd3786"
             ],
             [
              0.5555555555555556,
              "#d8576b"
             ],
             [
              0.6666666666666666,
              "#ed7953"
             ],
             [
              0.7777777777777778,
              "#fb9f3a"
             ],
             [
              0.8888888888888888,
              "#fdca26"
             ],
             [
              1,
              "#f0f921"
             ]
            ],
            "type": "histogram2dcontour"
           }
          ],
          "mesh3d": [
           {
            "colorbar": {
             "outlinewidth": 0,
             "ticks": ""
            },
            "type": "mesh3d"
           }
          ],
          "parcoords": [
           {
            "line": {
             "colorbar": {
              "outlinewidth": 0,
              "ticks": ""
             }
            },
            "type": "parcoords"
           }
          ],
          "pie": [
           {
            "automargin": true,
            "type": "pie"
           }
          ],
          "scatter": [
           {
            "fillpattern": {
             "fillmode": "overlay",
             "size": 10,
             "solidity": 0.2
            },
            "type": "scatter"
           }
          ],
          "scatter3d": [
           {
            "line": {
             "colorbar": {
              "outlinewidth": 0,
              "ticks": ""
             }
            },
            "marker": {
             "colorbar": {
              "outlinewidth": 0,
              "ticks": ""
             }
            },
            "type": "scatter3d"
           }
          ],
          "scattercarpet": [
           {
            "marker": {
             "colorbar": {
              "outlinewidth": 0,
              "ticks": ""
             }
            },
            "type": "scattercarpet"
           }
          ],
          "scattergeo": [
           {
            "marker": {
             "colorbar": {
              "outlinewidth": 0,
              "ticks": ""
             }
            },
            "type": "scattergeo"
           }
          ],
          "scattergl": [
           {
            "marker": {
             "colorbar": {
              "outlinewidth": 0,
              "ticks": ""
             }
            },
            "type": "scattergl"
           }
          ],
          "scattermapbox": [
           {
            "marker": {
             "colorbar": {
              "outlinewidth": 0,
              "ticks": ""
             }
            },
            "type": "scattermapbox"
           }
          ],
          "scatterpolar": [
           {
            "marker": {
             "colorbar": {
              "outlinewidth": 0,
              "ticks": ""
             }
            },
            "type": "scatterpolar"
           }
          ],
          "scatterpolargl": [
           {
            "marker": {
             "colorbar": {
              "outlinewidth": 0,
              "ticks": ""
             }
            },
            "type": "scatterpolargl"
           }
          ],
          "scatterternary": [
           {
            "marker": {
             "colorbar": {
              "outlinewidth": 0,
              "ticks": ""
             }
            },
            "type": "scatterternary"
           }
          ],
          "surface": [
           {
            "colorbar": {
             "outlinewidth": 0,
             "ticks": ""
            },
            "colorscale": [
             [
              0,
              "#0d0887"
             ],
             [
              0.1111111111111111,
              "#46039f"
             ],
             [
              0.2222222222222222,
              "#7201a8"
             ],
             [
              0.3333333333333333,
              "#9c179e"
             ],
             [
              0.4444444444444444,
              "#bd3786"
             ],
             [
              0.5555555555555556,
              "#d8576b"
             ],
             [
              0.6666666666666666,
              "#ed7953"
             ],
             [
              0.7777777777777778,
              "#fb9f3a"
             ],
             [
              0.8888888888888888,
              "#fdca26"
             ],
             [
              1,
              "#f0f921"
             ]
            ],
            "type": "surface"
           }
          ],
          "table": [
           {
            "cells": {
             "fill": {
              "color": "#EBF0F8"
             },
             "line": {
              "color": "white"
             }
            },
            "header": {
             "fill": {
              "color": "#C8D4E3"
             },
             "line": {
              "color": "white"
             }
            },
            "type": "table"
           }
          ]
         },
         "layout": {
          "annotationdefaults": {
           "arrowcolor": "#2a3f5f",
           "arrowhead": 0,
           "arrowwidth": 1
          },
          "autotypenumbers": "strict",
          "coloraxis": {
           "colorbar": {
            "outlinewidth": 0,
            "ticks": ""
           }
          },
          "colorscale": {
           "diverging": [
            [
             0,
             "#8e0152"
            ],
            [
             0.1,
             "#c51b7d"
            ],
            [
             0.2,
             "#de77ae"
            ],
            [
             0.3,
             "#f1b6da"
            ],
            [
             0.4,
             "#fde0ef"
            ],
            [
             0.5,
             "#f7f7f7"
            ],
            [
             0.6,
             "#e6f5d0"
            ],
            [
             0.7,
             "#b8e186"
            ],
            [
             0.8,
             "#7fbc41"
            ],
            [
             0.9,
             "#4d9221"
            ],
            [
             1,
             "#276419"
            ]
           ],
           "sequential": [
            [
             0,
             "#0d0887"
            ],
            [
             0.1111111111111111,
             "#46039f"
            ],
            [
             0.2222222222222222,
             "#7201a8"
            ],
            [
             0.3333333333333333,
             "#9c179e"
            ],
            [
             0.4444444444444444,
             "#bd3786"
            ],
            [
             0.5555555555555556,
             "#d8576b"
            ],
            [
             0.6666666666666666,
             "#ed7953"
            ],
            [
             0.7777777777777778,
             "#fb9f3a"
            ],
            [
             0.8888888888888888,
             "#fdca26"
            ],
            [
             1,
             "#f0f921"
            ]
           ],
           "sequentialminus": [
            [
             0,
             "#0d0887"
            ],
            [
             0.1111111111111111,
             "#46039f"
            ],
            [
             0.2222222222222222,
             "#7201a8"
            ],
            [
             0.3333333333333333,
             "#9c179e"
            ],
            [
             0.4444444444444444,
             "#bd3786"
            ],
            [
             0.5555555555555556,
             "#d8576b"
            ],
            [
             0.6666666666666666,
             "#ed7953"
            ],
            [
             0.7777777777777778,
             "#fb9f3a"
            ],
            [
             0.8888888888888888,
             "#fdca26"
            ],
            [
             1,
             "#f0f921"
            ]
           ]
          },
          "colorway": [
           "#636efa",
           "#EF553B",
           "#00cc96",
           "#ab63fa",
           "#FFA15A",
           "#19d3f3",
           "#FF6692",
           "#B6E880",
           "#FF97FF",
           "#FECB52"
          ],
          "font": {
           "color": "#2a3f5f"
          },
          "geo": {
           "bgcolor": "white",
           "lakecolor": "white",
           "landcolor": "#E5ECF6",
           "showlakes": true,
           "showland": true,
           "subunitcolor": "white"
          },
          "hoverlabel": {
           "align": "left"
          },
          "hovermode": "closest",
          "mapbox": {
           "style": "light"
          },
          "paper_bgcolor": "white",
          "plot_bgcolor": "#E5ECF6",
          "polar": {
           "angularaxis": {
            "gridcolor": "white",
            "linecolor": "white",
            "ticks": ""
           },
           "bgcolor": "#E5ECF6",
           "radialaxis": {
            "gridcolor": "white",
            "linecolor": "white",
            "ticks": ""
           }
          },
          "scene": {
           "xaxis": {
            "backgroundcolor": "#E5ECF6",
            "gridcolor": "white",
            "gridwidth": 2,
            "linecolor": "white",
            "showbackground": true,
            "ticks": "",
            "zerolinecolor": "white"
           },
           "yaxis": {
            "backgroundcolor": "#E5ECF6",
            "gridcolor": "white",
            "gridwidth": 2,
            "linecolor": "white",
            "showbackground": true,
            "ticks": "",
            "zerolinecolor": "white"
           },
           "zaxis": {
            "backgroundcolor": "#E5ECF6",
            "gridcolor": "white",
            "gridwidth": 2,
            "linecolor": "white",
            "showbackground": true,
            "ticks": "",
            "zerolinecolor": "white"
           }
          },
          "shapedefaults": {
           "line": {
            "color": "#2a3f5f"
           }
          },
          "ternary": {
           "aaxis": {
            "gridcolor": "white",
            "linecolor": "white",
            "ticks": ""
           },
           "baxis": {
            "gridcolor": "white",
            "linecolor": "white",
            "ticks": ""
           },
           "bgcolor": "#E5ECF6",
           "caxis": {
            "gridcolor": "white",
            "linecolor": "white",
            "ticks": ""
           }
          },
          "title": {
           "x": 0.05
          },
          "xaxis": {
           "automargin": true,
           "gridcolor": "white",
           "linecolor": "white",
           "ticks": "",
           "title": {
            "standoff": 15
           },
           "zerolinecolor": "white",
           "zerolinewidth": 2
          },
          "yaxis": {
           "automargin": true,
           "gridcolor": "white",
           "linecolor": "white",
           "ticks": "",
           "title": {
            "standoff": 15
           },
           "zerolinecolor": "white",
           "zerolinewidth": 2
          }
         }
        },
        "title": {
         "text": "Latency vs Processes for the broadcast using Default Algorithm"
        },
        "xaxis": {
         "tickvals": [
          2,
          4,
          6,
          8,
          12,
          16,
          20,
          24,
          28,
          32,
          36,
          40,
          44,
          48
         ],
         "title": {
          "text": "Processes"
         }
        },
        "yaxis": {
         "title": {
          "text": "Latency (us)"
         },
         "type": "linear"
        }
       }
      }
     },
     "metadata": {},
     "output_type": "display_data"
    },
    {
     "data": {
      "application/vnd.plotly.v1+json": {
       "config": {
        "plotlyServerURL": "https://plot.ly"
       },
       "data": [
        {
         "mode": "lines+markers",
         "name": "8192",
         "type": "scatter",
         "x": [
          2,
          3,
          4,
          5,
          6,
          7,
          8,
          9,
          10,
          11,
          12,
          13,
          14,
          15,
          16,
          17,
          18,
          19,
          20,
          21,
          22,
          23,
          24,
          25,
          26,
          27,
          28,
          29,
          30,
          31,
          32,
          33,
          34,
          35,
          36,
          37,
          38,
          39,
          40,
          41,
          42,
          43,
          44,
          45,
          46,
          47,
          48
         ],
         "y": [
          1.34,
          2.12,
          2.52,
          3.04,
          3.55,
          3.99,
          4.57,
          4.85,
          5.18,
          5.59,
          5.72,
          6.32,
          6.59,
          7.13,
          7.09,
          8.44,
          8.75,
          9,
          9.27,
          9.3,
          9.64,
          10,
          10.32,
          10.29,
          10.34,
          10.44,
          10.34,
          10.48,
          10.81,
          10.68,
          12.14,
          14.81,
          14.69,
          14.5,
          14.74,
          14.5,
          14.5,
          14.53,
          14.05,
          14.21,
          14.35,
          13.91,
          14.23,
          14.13,
          14.86,
          15.42,
          17.22
         ]
        },
        {
         "mode": "lines+markers",
         "name": "8192",
         "type": "scatter",
         "x": [
          2,
          3,
          4,
          5,
          6,
          7,
          8,
          9,
          10,
          11,
          12,
          13,
          14,
          15,
          16,
          17,
          18,
          19,
          20,
          21,
          22,
          23,
          24,
          25,
          26,
          27,
          28,
          29,
          30,
          31,
          32,
          33,
          34,
          35,
          36,
          37,
          38,
          39,
          40,
          41,
          42,
          43,
          44,
          45,
          46,
          47,
          48
         ],
         "y": [
          1.38,
          2.2,
          2.62,
          3.25,
          3.64,
          4.14,
          4.62,
          4.88,
          5.2,
          5.67,
          5.77,
          6.27,
          6.76,
          7.13,
          7.01,
          8.31,
          8.88,
          8.96,
          8.96,
          9.26,
          9.68,
          9.93,
          10.37,
          10.4,
          10.48,
          10.29,
          10.35,
          10.69,
          10.68,
          10.93,
          12.06,
          14.63,
          14.63,
          14.35,
          14.34,
          14.43,
          14.51,
          14.36,
          14.29,
          14.06,
          13.86,
          14.16,
          14.31,
          14.1,
          15.66,
          15.73,
          14.91
         ]
        },
        {
         "mode": "lines+markers",
         "name": "8192",
         "type": "scatter",
         "x": [
          2,
          3,
          4,
          5,
          6,
          7,
          8,
          9,
          10,
          11,
          12,
          13,
          14,
          15,
          16,
          17,
          18,
          19,
          20,
          21,
          22,
          23,
          24,
          25,
          26,
          27,
          28,
          29,
          30,
          31,
          32,
          33,
          34,
          35,
          36,
          37,
          38,
          39,
          40,
          41,
          42,
          43,
          44,
          45,
          46,
          47,
          48
         ],
         "y": [
          1.33,
          2.17,
          2.58,
          3.14,
          3.63,
          4.13,
          4.66,
          4.91,
          5.26,
          5.64,
          5.97,
          6.19,
          6.89,
          7.24,
          7.19,
          8.44,
          8.91,
          9.09,
          9.17,
          9.35,
          9.68,
          10.23,
          10.45,
          10.35,
          10.31,
          10.33,
          10.31,
          10.6,
          10.8,
          10.82,
          12.25,
          14.8,
          14.57,
          14.32,
          14.37,
          14.8,
          14.52,
          14.28,
          14.18,
          14.03,
          14.03,
          14.01,
          14.19,
          14.45,
          14.39,
          14.75,
          15.04
         ]
        },
        {
         "mode": "lines+markers",
         "name": "8192",
         "type": "scatter",
         "x": [
          2,
          3,
          4,
          5,
          6,
          7,
          8,
          9,
          10,
          11,
          12,
          13,
          14,
          15,
          16,
          17,
          18,
          19,
          20,
          21,
          22,
          23,
          24,
          25,
          26,
          27,
          28,
          29,
          30,
          31,
          32,
          33,
          34,
          35,
          36,
          37,
          38,
          39,
          40,
          41,
          42,
          43,
          44,
          45,
          46,
          47,
          48
         ],
         "y": [
          1.31,
          2.17,
          2.48,
          3.02,
          3.52,
          3.99,
          4.64,
          4.85,
          5.37,
          5.75,
          5.71,
          6.32,
          6.83,
          7.13,
          7.04,
          8.4,
          8.68,
          8.91,
          9.04,
          9.25,
          9.65,
          9.99,
          10.31,
          10.26,
          10.24,
          10.25,
          10.28,
          10.36,
          10.51,
          12.98,
          12.31,
          14.64,
          14.59,
          14.44,
          14.34,
          14.47,
          14.28,
          14.43,
          14.15,
          13.8,
          13.76,
          13.83,
          15.07,
          14.02,
          14.49,
          14.94,
          14.73
         ]
        },
        {
         "mode": "lines+markers",
         "name": "8192",
         "type": "scatter",
         "x": [
          2,
          3,
          4,
          5,
          6,
          7,
          8,
          9,
          10,
          11,
          12,
          13,
          14,
          15,
          16,
          17,
          18,
          19,
          20,
          21,
          22,
          23,
          24,
          25,
          26,
          27,
          28,
          29,
          30,
          31,
          32,
          33,
          34,
          35,
          36,
          37,
          38,
          39,
          40,
          41,
          42,
          43,
          44,
          45,
          46,
          47,
          48
         ],
         "y": [
          1.32,
          2.13,
          2.53,
          3.04,
          3.54,
          4,
          4.57,
          4.87,
          5.23,
          5.58,
          5.7,
          6.15,
          6.6,
          7.17,
          7.02,
          8.4,
          8.81,
          8.92,
          9.07,
          9.28,
          9.67,
          9.92,
          10.31,
          10.33,
          10.42,
          10.28,
          10.35,
          10.46,
          10.65,
          10.91,
          12.08,
          15.05,
          14.61,
          14.76,
          14.38,
          14.46,
          14.46,
          14.17,
          14.03,
          13.97,
          13.78,
          13.92,
          14.11,
          14.13,
          16.32,
          14.65,
          14.93
         ]
        }
       ],
       "layout": {
        "legend": {
         "title": {
          "text": "Message Size"
         }
        },
        "template": {
         "data": {
          "bar": [
           {
            "error_x": {
             "color": "#2a3f5f"
            },
            "error_y": {
             "color": "#2a3f5f"
            },
            "marker": {
             "line": {
              "color": "#E5ECF6",
              "width": 0.5
             },
             "pattern": {
              "fillmode": "overlay",
              "size": 10,
              "solidity": 0.2
             }
            },
            "type": "bar"
           }
          ],
          "barpolar": [
           {
            "marker": {
             "line": {
              "color": "#E5ECF6",
              "width": 0.5
             },
             "pattern": {
              "fillmode": "overlay",
              "size": 10,
              "solidity": 0.2
             }
            },
            "type": "barpolar"
           }
          ],
          "carpet": [
           {
            "aaxis": {
             "endlinecolor": "#2a3f5f",
             "gridcolor": "white",
             "linecolor": "white",
             "minorgridcolor": "white",
             "startlinecolor": "#2a3f5f"
            },
            "baxis": {
             "endlinecolor": "#2a3f5f",
             "gridcolor": "white",
             "linecolor": "white",
             "minorgridcolor": "white",
             "startlinecolor": "#2a3f5f"
            },
            "type": "carpet"
           }
          ],
          "choropleth": [
           {
            "colorbar": {
             "outlinewidth": 0,
             "ticks": ""
            },
            "type": "choropleth"
           }
          ],
          "contour": [
           {
            "colorbar": {
             "outlinewidth": 0,
             "ticks": ""
            },
            "colorscale": [
             [
              0,
              "#0d0887"
             ],
             [
              0.1111111111111111,
              "#46039f"
             ],
             [
              0.2222222222222222,
              "#7201a8"
             ],
             [
              0.3333333333333333,
              "#9c179e"
             ],
             [
              0.4444444444444444,
              "#bd3786"
             ],
             [
              0.5555555555555556,
              "#d8576b"
             ],
             [
              0.6666666666666666,
              "#ed7953"
             ],
             [
              0.7777777777777778,
              "#fb9f3a"
             ],
             [
              0.8888888888888888,
              "#fdca26"
             ],
             [
              1,
              "#f0f921"
             ]
            ],
            "type": "contour"
           }
          ],
          "contourcarpet": [
           {
            "colorbar": {
             "outlinewidth": 0,
             "ticks": ""
            },
            "type": "contourcarpet"
           }
          ],
          "heatmap": [
           {
            "colorbar": {
             "outlinewidth": 0,
             "ticks": ""
            },
            "colorscale": [
             [
              0,
              "#0d0887"
             ],
             [
              0.1111111111111111,
              "#46039f"
             ],
             [
              0.2222222222222222,
              "#7201a8"
             ],
             [
              0.3333333333333333,
              "#9c179e"
             ],
             [
              0.4444444444444444,
              "#bd3786"
             ],
             [
              0.5555555555555556,
              "#d8576b"
             ],
             [
              0.6666666666666666,
              "#ed7953"
             ],
             [
              0.7777777777777778,
              "#fb9f3a"
             ],
             [
              0.8888888888888888,
              "#fdca26"
             ],
             [
              1,
              "#f0f921"
             ]
            ],
            "type": "heatmap"
           }
          ],
          "heatmapgl": [
           {
            "colorbar": {
             "outlinewidth": 0,
             "ticks": ""
            },
            "colorscale": [
             [
              0,
              "#0d0887"
             ],
             [
              0.1111111111111111,
              "#46039f"
             ],
             [
              0.2222222222222222,
              "#7201a8"
             ],
             [
              0.3333333333333333,
              "#9c179e"
             ],
             [
              0.4444444444444444,
              "#bd3786"
             ],
             [
              0.5555555555555556,
              "#d8576b"
             ],
             [
              0.6666666666666666,
              "#ed7953"
             ],
             [
              0.7777777777777778,
              "#fb9f3a"
             ],
             [
              0.8888888888888888,
              "#fdca26"
             ],
             [
              1,
              "#f0f921"
             ]
            ],
            "type": "heatmapgl"
           }
          ],
          "histogram": [
           {
            "marker": {
             "pattern": {
              "fillmode": "overlay",
              "size": 10,
              "solidity": 0.2
             }
            },
            "type": "histogram"
           }
          ],
          "histogram2d": [
           {
            "colorbar": {
             "outlinewidth": 0,
             "ticks": ""
            },
            "colorscale": [
             [
              0,
              "#0d0887"
             ],
             [
              0.1111111111111111,
              "#46039f"
             ],
             [
              0.2222222222222222,
              "#7201a8"
             ],
             [
              0.3333333333333333,
              "#9c179e"
             ],
             [
              0.4444444444444444,
              "#bd3786"
             ],
             [
              0.5555555555555556,
              "#d8576b"
             ],
             [
              0.6666666666666666,
              "#ed7953"
             ],
             [
              0.7777777777777778,
              "#fb9f3a"
             ],
             [
              0.8888888888888888,
              "#fdca26"
             ],
             [
              1,
              "#f0f921"
             ]
            ],
            "type": "histogram2d"
           }
          ],
          "histogram2dcontour": [
           {
            "colorbar": {
             "outlinewidth": 0,
             "ticks": ""
            },
            "colorscale": [
             [
              0,
              "#0d0887"
             ],
             [
              0.1111111111111111,
              "#46039f"
             ],
             [
              0.2222222222222222,
              "#7201a8"
             ],
             [
              0.3333333333333333,
              "#9c179e"
             ],
             [
              0.4444444444444444,
              "#bd3786"
             ],
             [
              0.5555555555555556,
              "#d8576b"
             ],
             [
              0.6666666666666666,
              "#ed7953"
             ],
             [
              0.7777777777777778,
              "#fb9f3a"
             ],
             [
              0.8888888888888888,
              "#fdca26"
             ],
             [
              1,
              "#f0f921"
             ]
            ],
            "type": "histogram2dcontour"
           }
          ],
          "mesh3d": [
           {
            "colorbar": {
             "outlinewidth": 0,
             "ticks": ""
            },
            "type": "mesh3d"
           }
          ],
          "parcoords": [
           {
            "line": {
             "colorbar": {
              "outlinewidth": 0,
              "ticks": ""
             }
            },
            "type": "parcoords"
           }
          ],
          "pie": [
           {
            "automargin": true,
            "type": "pie"
           }
          ],
          "scatter": [
           {
            "fillpattern": {
             "fillmode": "overlay",
             "size": 10,
             "solidity": 0.2
            },
            "type": "scatter"
           }
          ],
          "scatter3d": [
           {
            "line": {
             "colorbar": {
              "outlinewidth": 0,
              "ticks": ""
             }
            },
            "marker": {
             "colorbar": {
              "outlinewidth": 0,
              "ticks": ""
             }
            },
            "type": "scatter3d"
           }
          ],
          "scattercarpet": [
           {
            "marker": {
             "colorbar": {
              "outlinewidth": 0,
              "ticks": ""
             }
            },
            "type": "scattercarpet"
           }
          ],
          "scattergeo": [
           {
            "marker": {
             "colorbar": {
              "outlinewidth": 0,
              "ticks": ""
             }
            },
            "type": "scattergeo"
           }
          ],
          "scattergl": [
           {
            "marker": {
             "colorbar": {
              "outlinewidth": 0,
              "ticks": ""
             }
            },
            "type": "scattergl"
           }
          ],
          "scattermapbox": [
           {
            "marker": {
             "colorbar": {
              "outlinewidth": 0,
              "ticks": ""
             }
            },
            "type": "scattermapbox"
           }
          ],
          "scatterpolar": [
           {
            "marker": {
             "colorbar": {
              "outlinewidth": 0,
              "ticks": ""
             }
            },
            "type": "scatterpolar"
           }
          ],
          "scatterpolargl": [
           {
            "marker": {
             "colorbar": {
              "outlinewidth": 0,
              "ticks": ""
             }
            },
            "type": "scatterpolargl"
           }
          ],
          "scatterternary": [
           {
            "marker": {
             "colorbar": {
              "outlinewidth": 0,
              "ticks": ""
             }
            },
            "type": "scatterternary"
           }
          ],
          "surface": [
           {
            "colorbar": {
             "outlinewidth": 0,
             "ticks": ""
            },
            "colorscale": [
             [
              0,
              "#0d0887"
             ],
             [
              0.1111111111111111,
              "#46039f"
             ],
             [
              0.2222222222222222,
              "#7201a8"
             ],
             [
              0.3333333333333333,
              "#9c179e"
             ],
             [
              0.4444444444444444,
              "#bd3786"
             ],
             [
              0.5555555555555556,
              "#d8576b"
             ],
             [
              0.6666666666666666,
              "#ed7953"
             ],
             [
              0.7777777777777778,
              "#fb9f3a"
             ],
             [
              0.8888888888888888,
              "#fdca26"
             ],
             [
              1,
              "#f0f921"
             ]
            ],
            "type": "surface"
           }
          ],
          "table": [
           {
            "cells": {
             "fill": {
              "color": "#EBF0F8"
             },
             "line": {
              "color": "white"
             }
            },
            "header": {
             "fill": {
              "color": "#C8D4E3"
             },
             "line": {
              "color": "white"
             }
            },
            "type": "table"
           }
          ]
         },
         "layout": {
          "annotationdefaults": {
           "arrowcolor": "#2a3f5f",
           "arrowhead": 0,
           "arrowwidth": 1
          },
          "autotypenumbers": "strict",
          "coloraxis": {
           "colorbar": {
            "outlinewidth": 0,
            "ticks": ""
           }
          },
          "colorscale": {
           "diverging": [
            [
             0,
             "#8e0152"
            ],
            [
             0.1,
             "#c51b7d"
            ],
            [
             0.2,
             "#de77ae"
            ],
            [
             0.3,
             "#f1b6da"
            ],
            [
             0.4,
             "#fde0ef"
            ],
            [
             0.5,
             "#f7f7f7"
            ],
            [
             0.6,
             "#e6f5d0"
            ],
            [
             0.7,
             "#b8e186"
            ],
            [
             0.8,
             "#7fbc41"
            ],
            [
             0.9,
             "#4d9221"
            ],
            [
             1,
             "#276419"
            ]
           ],
           "sequential": [
            [
             0,
             "#0d0887"
            ],
            [
             0.1111111111111111,
             "#46039f"
            ],
            [
             0.2222222222222222,
             "#7201a8"
            ],
            [
             0.3333333333333333,
             "#9c179e"
            ],
            [
             0.4444444444444444,
             "#bd3786"
            ],
            [
             0.5555555555555556,
             "#d8576b"
            ],
            [
             0.6666666666666666,
             "#ed7953"
            ],
            [
             0.7777777777777778,
             "#fb9f3a"
            ],
            [
             0.8888888888888888,
             "#fdca26"
            ],
            [
             1,
             "#f0f921"
            ]
           ],
           "sequentialminus": [
            [
             0,
             "#0d0887"
            ],
            [
             0.1111111111111111,
             "#46039f"
            ],
            [
             0.2222222222222222,
             "#7201a8"
            ],
            [
             0.3333333333333333,
             "#9c179e"
            ],
            [
             0.4444444444444444,
             "#bd3786"
            ],
            [
             0.5555555555555556,
             "#d8576b"
            ],
            [
             0.6666666666666666,
             "#ed7953"
            ],
            [
             0.7777777777777778,
             "#fb9f3a"
            ],
            [
             0.8888888888888888,
             "#fdca26"
            ],
            [
             1,
             "#f0f921"
            ]
           ]
          },
          "colorway": [
           "#636efa",
           "#EF553B",
           "#00cc96",
           "#ab63fa",
           "#FFA15A",
           "#19d3f3",
           "#FF6692",
           "#B6E880",
           "#FF97FF",
           "#FECB52"
          ],
          "font": {
           "color": "#2a3f5f"
          },
          "geo": {
           "bgcolor": "white",
           "lakecolor": "white",
           "landcolor": "#E5ECF6",
           "showlakes": true,
           "showland": true,
           "subunitcolor": "white"
          },
          "hoverlabel": {
           "align": "left"
          },
          "hovermode": "closest",
          "mapbox": {
           "style": "light"
          },
          "paper_bgcolor": "white",
          "plot_bgcolor": "#E5ECF6",
          "polar": {
           "angularaxis": {
            "gridcolor": "white",
            "linecolor": "white",
            "ticks": ""
           },
           "bgcolor": "#E5ECF6",
           "radialaxis": {
            "gridcolor": "white",
            "linecolor": "white",
            "ticks": ""
           }
          },
          "scene": {
           "xaxis": {
            "backgroundcolor": "#E5ECF6",
            "gridcolor": "white",
            "gridwidth": 2,
            "linecolor": "white",
            "showbackground": true,
            "ticks": "",
            "zerolinecolor": "white"
           },
           "yaxis": {
            "backgroundcolor": "#E5ECF6",
            "gridcolor": "white",
            "gridwidth": 2,
            "linecolor": "white",
            "showbackground": true,
            "ticks": "",
            "zerolinecolor": "white"
           },
           "zaxis": {
            "backgroundcolor": "#E5ECF6",
            "gridcolor": "white",
            "gridwidth": 2,
            "linecolor": "white",
            "showbackground": true,
            "ticks": "",
            "zerolinecolor": "white"
           }
          },
          "shapedefaults": {
           "line": {
            "color": "#2a3f5f"
           }
          },
          "ternary": {
           "aaxis": {
            "gridcolor": "white",
            "linecolor": "white",
            "ticks": ""
           },
           "baxis": {
            "gridcolor": "white",
            "linecolor": "white",
            "ticks": ""
           },
           "bgcolor": "#E5ECF6",
           "caxis": {
            "gridcolor": "white",
            "linecolor": "white",
            "ticks": ""
           }
          },
          "title": {
           "x": 0.05
          },
          "xaxis": {
           "automargin": true,
           "gridcolor": "white",
           "linecolor": "white",
           "ticks": "",
           "title": {
            "standoff": 15
           },
           "zerolinecolor": "white",
           "zerolinewidth": 2
          },
          "yaxis": {
           "automargin": true,
           "gridcolor": "white",
           "linecolor": "white",
           "ticks": "",
           "title": {
            "standoff": 15
           },
           "zerolinecolor": "white",
           "zerolinewidth": 2
          }
         }
        },
        "title": {
         "text": "Latency vs Processes for the broadcast using Default Algorithm"
        },
        "xaxis": {
         "tickvals": [
          2,
          4,
          6,
          8,
          12,
          16,
          20,
          24,
          28,
          32,
          36,
          40,
          44,
          48
         ],
         "title": {
          "text": "Processes"
         }
        },
        "yaxis": {
         "title": {
          "text": "Latency (us)"
         },
         "type": "log"
        }
       }
      }
     },
     "metadata": {},
     "output_type": "display_data"
    }
   ],
   "source": [
    "plot_latency_vs_processes(default_df, 'Default', 'linear')\n",
    "plot_latency_vs_processes(default_df, 'Default', 'log')"
   ]
  },
  {
   "cell_type": "markdown",
   "metadata": {},
   "source": [
    "## Binary tree algorithm\n",
    "\n"
   ]
  },
  {
   "cell_type": "code",
   "execution_count": 318,
   "metadata": {},
   "outputs": [
    {
     "data": {
      "application/vnd.plotly.v1+json": {
       "config": {
        "plotlyServerURL": "https://plot.ly"
       },
       "data": [
        {
         "mode": "lines+markers",
         "name": "8192",
         "type": "scatter",
         "x": [
          2,
          3,
          4,
          5,
          6,
          7,
          8,
          9,
          10,
          11,
          12,
          13,
          14,
          15,
          16,
          17,
          18,
          19,
          20,
          21,
          22,
          23,
          24,
          25,
          26,
          27,
          28,
          29,
          30,
          31,
          32,
          33,
          34,
          35,
          36,
          37,
          38,
          39,
          40,
          41,
          42,
          43,
          44,
          45,
          46,
          47,
          48
         ],
         "y": [
          1.33,
          2.13,
          2.68,
          3.23,
          3.71,
          4.12,
          4.55,
          4.86,
          5.18,
          5.64,
          5.69,
          6.16,
          6.56,
          7.14,
          7.89,
          8.73,
          9.16,
          9.46,
          9.82,
          10.1,
          10.26,
          10.57,
          10.92,
          10.8,
          11.01,
          11.38,
          11.55,
          11.92,
          12.02,
          12.35,
          13.24,
          14.97,
          15.36,
          15.03,
          15.43,
          15.99,
          15.51,
          16.13,
          16.31,
          16.79,
          16.51,
          16.75,
          18.62,
          20.11,
          18.6,
          21.01,
          21.22
         ]
        },
        {
         "line": {
          "color": "black",
          "dash": "dash"
         },
         "mode": "lines",
         "name": "8192Theoretical Latency for size ",
         "type": "scatter",
         "x": [
          2,
          3,
          4,
          5,
          6,
          7,
          8,
          9,
          10,
          11,
          12,
          13,
          14,
          15,
          16,
          17,
          18,
          19,
          20,
          21,
          22,
          23,
          24,
          25,
          26,
          27,
          28,
          29,
          30,
          31,
          32,
          33,
          34,
          35,
          36,
          37,
          38,
          39,
          40,
          41,
          42,
          43,
          44,
          45,
          46,
          47,
          48
         ],
         "y": [
          1.3152072072072072,
          2.482810810810811,
          2.6304144144144144,
          3.798018018018018,
          3.9456216216216218,
          4.0932252252252255,
          4.240828828828829,
          5.408432432432432,
          5.556036036036036,
          5.70363963963964,
          5.8512432432432435,
          5.998846846846847,
          6.657837837837838,
          6.934594594594594,
          8.23135135135135,
          8.508108108108107,
          8.784864864864865,
          9.061621621621622,
          9.338378378378376,
          9.615135135135134,
          9.891891891891891,
          10.168648648648649,
          10.445405405405406,
          10.72216216216216,
          10.998918918918918,
          11.275675675675675,
          11.552432432432433,
          11.82918918918919,
          12.105945945945944,
          12.382702702702701,
          13.679459459459459,
          13.956216216216216,
          14.232972972972973,
          14.509729729729727,
          14.786486486486485,
          15.063243243243242,
          15.34,
          15.616756756756757,
          15.893513513513511,
          16.17027027027027,
          16.447027027027026,
          16.723783783783784,
          17.00054054054054,
          17.277297297297295,
          17.554054054054053,
          17.83081081081081
         ]
        },
        {
         "mode": "lines+markers",
         "name": "8192",
         "type": "scatter",
         "x": [
          2,
          3,
          4,
          5,
          6,
          7,
          8,
          9,
          10,
          11,
          12,
          13,
          14,
          15,
          16,
          17,
          18,
          19,
          20,
          21,
          22,
          23,
          24,
          25,
          26,
          27,
          28,
          29,
          30,
          31,
          32,
          33,
          34,
          35,
          36,
          37,
          38,
          39,
          40,
          41,
          42,
          43,
          44,
          45,
          46,
          47,
          48
         ],
         "y": [
          1.79,
          2.21,
          2.79,
          3.29,
          3.75,
          4.14,
          4.88,
          4.89,
          5.24,
          5.63,
          5.8,
          6.33,
          6.6,
          7.13,
          8.07,
          8.85,
          9.21,
          9.53,
          9.85,
          10.12,
          10.27,
          10.6,
          10.89,
          10.92,
          11.06,
          11.4,
          11.72,
          11.91,
          12.08,
          12.36,
          13.33,
          16.3,
          16.03,
          15.01,
          15.31,
          16.39,
          16.5,
          16.16,
          17.42,
          16.5,
          18.34,
          17.89,
          19.36,
          21.12,
          21.17,
          21.75,
          19.44
         ]
        },
        {
         "line": {
          "color": "black",
          "dash": "dash"
         },
         "mode": "lines",
         "name": "8192Theoretical Latency for size ",
         "type": "scatter",
         "x": [
          2,
          3,
          4,
          5,
          6,
          7,
          8,
          9,
          10,
          11,
          12,
          13,
          14,
          15,
          16,
          17,
          18,
          19,
          20,
          21,
          22,
          23,
          24,
          25,
          26,
          27,
          28,
          29,
          30,
          31,
          32,
          33,
          34,
          35,
          36,
          37,
          38,
          39,
          40,
          41,
          42,
          43,
          44,
          45,
          46,
          47,
          48
         ],
         "y": [
          1.3152072072072072,
          2.482810810810811,
          2.6304144144144144,
          3.798018018018018,
          3.9456216216216218,
          4.0932252252252255,
          4.240828828828829,
          5.408432432432432,
          5.556036036036036,
          5.70363963963964,
          5.8512432432432435,
          5.998846846846847,
          6.657837837837838,
          6.934594594594594,
          8.23135135135135,
          8.508108108108107,
          8.784864864864865,
          9.061621621621622,
          9.338378378378376,
          9.615135135135134,
          9.891891891891891,
          10.168648648648649,
          10.445405405405406,
          10.72216216216216,
          10.998918918918918,
          11.275675675675675,
          11.552432432432433,
          11.82918918918919,
          12.105945945945944,
          12.382702702702701,
          13.679459459459459,
          13.956216216216216,
          14.232972972972973,
          14.509729729729727,
          14.786486486486485,
          15.063243243243242,
          15.34,
          15.616756756756757,
          15.893513513513511,
          16.17027027027027,
          16.447027027027026,
          16.723783783783784,
          17.00054054054054,
          17.277297297297295,
          17.554054054054053,
          17.83081081081081
         ]
        },
        {
         "mode": "lines+markers",
         "name": "8192",
         "type": "scatter",
         "x": [
          2,
          3,
          4,
          5,
          6,
          7,
          8,
          9,
          10,
          11,
          12,
          13,
          14,
          15,
          16,
          17,
          18,
          19,
          20,
          21,
          22,
          23,
          24,
          25,
          26,
          27,
          28,
          29,
          30,
          31,
          32,
          33,
          34,
          35,
          36,
          37,
          38,
          39,
          40,
          41,
          42,
          43,
          44,
          45,
          46,
          47,
          48
         ],
         "y": [
          1.36,
          2.18,
          2.78,
          3.36,
          3.77,
          4.18,
          4.72,
          4.87,
          5.46,
          5.61,
          5.83,
          6.19,
          6.75,
          7.16,
          7.98,
          8.83,
          9.18,
          9.56,
          9.96,
          10.11,
          10.32,
          10.79,
          10.96,
          10.99,
          11.11,
          11.43,
          11.69,
          11.99,
          12.38,
          12.39,
          13.54,
          15,
          15.16,
          15.11,
          15.39,
          15.4,
          15.93,
          16,
          16.39,
          16.46,
          16.56,
          16.74,
          17.18,
          18.8,
          18.14,
          19.07,
          19.71
         ]
        },
        {
         "line": {
          "color": "black",
          "dash": "dash"
         },
         "mode": "lines",
         "name": "8192Theoretical Latency for size ",
         "type": "scatter",
         "x": [
          2,
          3,
          4,
          5,
          6,
          7,
          8,
          9,
          10,
          11,
          12,
          13,
          14,
          15,
          16,
          17,
          18,
          19,
          20,
          21,
          22,
          23,
          24,
          25,
          26,
          27,
          28,
          29,
          30,
          31,
          32,
          33,
          34,
          35,
          36,
          37,
          38,
          39,
          40,
          41,
          42,
          43,
          44,
          45,
          46,
          47,
          48
         ],
         "y": [
          1.3152072072072072,
          2.482810810810811,
          2.6304144144144144,
          3.798018018018018,
          3.9456216216216218,
          4.0932252252252255,
          4.240828828828829,
          5.408432432432432,
          5.556036036036036,
          5.70363963963964,
          5.8512432432432435,
          5.998846846846847,
          6.657837837837838,
          6.934594594594594,
          8.23135135135135,
          8.508108108108107,
          8.784864864864865,
          9.061621621621622,
          9.338378378378376,
          9.615135135135134,
          9.891891891891891,
          10.168648648648649,
          10.445405405405406,
          10.72216216216216,
          10.998918918918918,
          11.275675675675675,
          11.552432432432433,
          11.82918918918919,
          12.105945945945944,
          12.382702702702701,
          13.679459459459459,
          13.956216216216216,
          14.232972972972973,
          14.509729729729727,
          14.786486486486485,
          15.063243243243242,
          15.34,
          15.616756756756757,
          15.893513513513511,
          16.17027027027027,
          16.447027027027026,
          16.723783783783784,
          17.00054054054054,
          17.277297297297295,
          17.554054054054053,
          17.83081081081081
         ]
        },
        {
         "mode": "lines+markers",
         "name": "8192",
         "type": "scatter",
         "x": [
          2,
          3,
          4,
          5,
          6,
          7,
          8,
          9,
          10,
          11,
          12,
          13,
          14,
          15,
          16,
          17,
          18,
          19,
          20,
          21,
          22,
          23,
          24,
          25,
          26,
          27,
          28,
          29,
          30,
          31,
          32,
          33,
          34,
          35,
          36,
          37,
          38,
          39,
          40,
          41,
          42,
          43,
          44,
          45,
          46,
          47,
          48
         ],
         "y": [
          1.32,
          2.15,
          2.73,
          3.28,
          3.73,
          4.11,
          4.58,
          4.87,
          5.2,
          5.53,
          5.69,
          6.17,
          6.55,
          7.05,
          7.98,
          8.72,
          9.11,
          9.49,
          9.76,
          10.04,
          10.24,
          10.6,
          10.84,
          10.76,
          11.01,
          11.27,
          11.56,
          11.84,
          12.05,
          12.22,
          13.29,
          14.93,
          15.04,
          15.3,
          15.77,
          15.16,
          15.54,
          16.42,
          17.44,
          19.54,
          17.36,
          17.53,
          17.04,
          19.78,
          19.02,
          21.65,
          22.05
         ]
        },
        {
         "line": {
          "color": "black",
          "dash": "dash"
         },
         "mode": "lines",
         "name": "8192Theoretical Latency for size ",
         "type": "scatter",
         "x": [
          2,
          3,
          4,
          5,
          6,
          7,
          8,
          9,
          10,
          11,
          12,
          13,
          14,
          15,
          16,
          17,
          18,
          19,
          20,
          21,
          22,
          23,
          24,
          25,
          26,
          27,
          28,
          29,
          30,
          31,
          32,
          33,
          34,
          35,
          36,
          37,
          38,
          39,
          40,
          41,
          42,
          43,
          44,
          45,
          46,
          47,
          48
         ],
         "y": [
          1.3152072072072072,
          2.482810810810811,
          2.6304144144144144,
          3.798018018018018,
          3.9456216216216218,
          4.0932252252252255,
          4.240828828828829,
          5.408432432432432,
          5.556036036036036,
          5.70363963963964,
          5.8512432432432435,
          5.998846846846847,
          6.657837837837838,
          6.934594594594594,
          8.23135135135135,
          8.508108108108107,
          8.784864864864865,
          9.061621621621622,
          9.338378378378376,
          9.615135135135134,
          9.891891891891891,
          10.168648648648649,
          10.445405405405406,
          10.72216216216216,
          10.998918918918918,
          11.275675675675675,
          11.552432432432433,
          11.82918918918919,
          12.105945945945944,
          12.382702702702701,
          13.679459459459459,
          13.956216216216216,
          14.232972972972973,
          14.509729729729727,
          14.786486486486485,
          15.063243243243242,
          15.34,
          15.616756756756757,
          15.893513513513511,
          16.17027027027027,
          16.447027027027026,
          16.723783783783784,
          17.00054054054054,
          17.277297297297295,
          17.554054054054053,
          17.83081081081081
         ]
        },
        {
         "mode": "lines+markers",
         "name": "8192",
         "type": "scatter",
         "x": [
          2,
          3,
          4,
          5,
          6,
          7,
          8,
          9,
          10,
          11,
          12,
          13,
          14,
          15,
          16,
          17,
          18,
          19,
          20,
          21,
          22,
          23,
          24,
          25,
          26,
          27,
          28,
          29,
          30,
          31,
          32,
          33,
          34,
          35,
          36,
          37,
          38,
          39,
          40,
          41,
          42,
          43,
          44,
          45,
          46,
          47,
          48
         ],
         "y": [
          1.36,
          2.2,
          2.74,
          3.26,
          3.74,
          4.14,
          4.61,
          5.08,
          5.28,
          5.65,
          5.76,
          6.23,
          6.65,
          7.1,
          8.12,
          8.8,
          9.26,
          9.53,
          9.84,
          10.17,
          10.41,
          10.67,
          11,
          10.92,
          11.13,
          11.37,
          11.64,
          11.87,
          12.2,
          12.37,
          13.37,
          15.05,
          15.56,
          16.32,
          16.89,
          15.37,
          15.84,
          17.23,
          17.04,
          16.39,
          16.43,
          16.84,
          18.32,
          18.34,
          20,
          21.17,
          19.97
         ]
        },
        {
         "line": {
          "color": "black",
          "dash": "dash"
         },
         "mode": "lines",
         "name": "8192Theoretical Latency for size ",
         "type": "scatter",
         "x": [
          2,
          3,
          4,
          5,
          6,
          7,
          8,
          9,
          10,
          11,
          12,
          13,
          14,
          15,
          16,
          17,
          18,
          19,
          20,
          21,
          22,
          23,
          24,
          25,
          26,
          27,
          28,
          29,
          30,
          31,
          32,
          33,
          34,
          35,
          36,
          37,
          38,
          39,
          40,
          41,
          42,
          43,
          44,
          45,
          46,
          47,
          48
         ],
         "y": [
          1.3152072072072072,
          2.482810810810811,
          2.6304144144144144,
          3.798018018018018,
          3.9456216216216218,
          4.0932252252252255,
          4.240828828828829,
          5.408432432432432,
          5.556036036036036,
          5.70363963963964,
          5.8512432432432435,
          5.998846846846847,
          6.657837837837838,
          6.934594594594594,
          8.23135135135135,
          8.508108108108107,
          8.784864864864865,
          9.061621621621622,
          9.338378378378376,
          9.615135135135134,
          9.891891891891891,
          10.168648648648649,
          10.445405405405406,
          10.72216216216216,
          10.998918918918918,
          11.275675675675675,
          11.552432432432433,
          11.82918918918919,
          12.105945945945944,
          12.382702702702701,
          13.679459459459459,
          13.956216216216216,
          14.232972972972973,
          14.509729729729727,
          14.786486486486485,
          15.063243243243242,
          15.34,
          15.616756756756757,
          15.893513513513511,
          16.17027027027027,
          16.447027027027026,
          16.723783783783784,
          17.00054054054054,
          17.277297297297295,
          17.554054054054053,
          17.83081081081081
         ]
        }
       ],
       "layout": {
        "legend": {
         "title": {
          "text": "Message Size"
         }
        },
        "template": {
         "data": {
          "bar": [
           {
            "error_x": {
             "color": "#2a3f5f"
            },
            "error_y": {
             "color": "#2a3f5f"
            },
            "marker": {
             "line": {
              "color": "#E5ECF6",
              "width": 0.5
             },
             "pattern": {
              "fillmode": "overlay",
              "size": 10,
              "solidity": 0.2
             }
            },
            "type": "bar"
           }
          ],
          "barpolar": [
           {
            "marker": {
             "line": {
              "color": "#E5ECF6",
              "width": 0.5
             },
             "pattern": {
              "fillmode": "overlay",
              "size": 10,
              "solidity": 0.2
             }
            },
            "type": "barpolar"
           }
          ],
          "carpet": [
           {
            "aaxis": {
             "endlinecolor": "#2a3f5f",
             "gridcolor": "white",
             "linecolor": "white",
             "minorgridcolor": "white",
             "startlinecolor": "#2a3f5f"
            },
            "baxis": {
             "endlinecolor": "#2a3f5f",
             "gridcolor": "white",
             "linecolor": "white",
             "minorgridcolor": "white",
             "startlinecolor": "#2a3f5f"
            },
            "type": "carpet"
           }
          ],
          "choropleth": [
           {
            "colorbar": {
             "outlinewidth": 0,
             "ticks": ""
            },
            "type": "choropleth"
           }
          ],
          "contour": [
           {
            "colorbar": {
             "outlinewidth": 0,
             "ticks": ""
            },
            "colorscale": [
             [
              0,
              "#0d0887"
             ],
             [
              0.1111111111111111,
              "#46039f"
             ],
             [
              0.2222222222222222,
              "#7201a8"
             ],
             [
              0.3333333333333333,
              "#9c179e"
             ],
             [
              0.4444444444444444,
              "#bd3786"
             ],
             [
              0.5555555555555556,
              "#d8576b"
             ],
             [
              0.6666666666666666,
              "#ed7953"
             ],
             [
              0.7777777777777778,
              "#fb9f3a"
             ],
             [
              0.8888888888888888,
              "#fdca26"
             ],
             [
              1,
              "#f0f921"
             ]
            ],
            "type": "contour"
           }
          ],
          "contourcarpet": [
           {
            "colorbar": {
             "outlinewidth": 0,
             "ticks": ""
            },
            "type": "contourcarpet"
           }
          ],
          "heatmap": [
           {
            "colorbar": {
             "outlinewidth": 0,
             "ticks": ""
            },
            "colorscale": [
             [
              0,
              "#0d0887"
             ],
             [
              0.1111111111111111,
              "#46039f"
             ],
             [
              0.2222222222222222,
              "#7201a8"
             ],
             [
              0.3333333333333333,
              "#9c179e"
             ],
             [
              0.4444444444444444,
              "#bd3786"
             ],
             [
              0.5555555555555556,
              "#d8576b"
             ],
             [
              0.6666666666666666,
              "#ed7953"
             ],
             [
              0.7777777777777778,
              "#fb9f3a"
             ],
             [
              0.8888888888888888,
              "#fdca26"
             ],
             [
              1,
              "#f0f921"
             ]
            ],
            "type": "heatmap"
           }
          ],
          "heatmapgl": [
           {
            "colorbar": {
             "outlinewidth": 0,
             "ticks": ""
            },
            "colorscale": [
             [
              0,
              "#0d0887"
             ],
             [
              0.1111111111111111,
              "#46039f"
             ],
             [
              0.2222222222222222,
              "#7201a8"
             ],
             [
              0.3333333333333333,
              "#9c179e"
             ],
             [
              0.4444444444444444,
              "#bd3786"
             ],
             [
              0.5555555555555556,
              "#d8576b"
             ],
             [
              0.6666666666666666,
              "#ed7953"
             ],
             [
              0.7777777777777778,
              "#fb9f3a"
             ],
             [
              0.8888888888888888,
              "#fdca26"
             ],
             [
              1,
              "#f0f921"
             ]
            ],
            "type": "heatmapgl"
           }
          ],
          "histogram": [
           {
            "marker": {
             "pattern": {
              "fillmode": "overlay",
              "size": 10,
              "solidity": 0.2
             }
            },
            "type": "histogram"
           }
          ],
          "histogram2d": [
           {
            "colorbar": {
             "outlinewidth": 0,
             "ticks": ""
            },
            "colorscale": [
             [
              0,
              "#0d0887"
             ],
             [
              0.1111111111111111,
              "#46039f"
             ],
             [
              0.2222222222222222,
              "#7201a8"
             ],
             [
              0.3333333333333333,
              "#9c179e"
             ],
             [
              0.4444444444444444,
              "#bd3786"
             ],
             [
              0.5555555555555556,
              "#d8576b"
             ],
             [
              0.6666666666666666,
              "#ed7953"
             ],
             [
              0.7777777777777778,
              "#fb9f3a"
             ],
             [
              0.8888888888888888,
              "#fdca26"
             ],
             [
              1,
              "#f0f921"
             ]
            ],
            "type": "histogram2d"
           }
          ],
          "histogram2dcontour": [
           {
            "colorbar": {
             "outlinewidth": 0,
             "ticks": ""
            },
            "colorscale": [
             [
              0,
              "#0d0887"
             ],
             [
              0.1111111111111111,
              "#46039f"
             ],
             [
              0.2222222222222222,
              "#7201a8"
             ],
             [
              0.3333333333333333,
              "#9c179e"
             ],
             [
              0.4444444444444444,
              "#bd3786"
             ],
             [
              0.5555555555555556,
              "#d8576b"
             ],
             [
              0.6666666666666666,
              "#ed7953"
             ],
             [
              0.7777777777777778,
              "#fb9f3a"
             ],
             [
              0.8888888888888888,
              "#fdca26"
             ],
             [
              1,
              "#f0f921"
             ]
            ],
            "type": "histogram2dcontour"
           }
          ],
          "mesh3d": [
           {
            "colorbar": {
             "outlinewidth": 0,
             "ticks": ""
            },
            "type": "mesh3d"
           }
          ],
          "parcoords": [
           {
            "line": {
             "colorbar": {
              "outlinewidth": 0,
              "ticks": ""
             }
            },
            "type": "parcoords"
           }
          ],
          "pie": [
           {
            "automargin": true,
            "type": "pie"
           }
          ],
          "scatter": [
           {
            "fillpattern": {
             "fillmode": "overlay",
             "size": 10,
             "solidity": 0.2
            },
            "type": "scatter"
           }
          ],
          "scatter3d": [
           {
            "line": {
             "colorbar": {
              "outlinewidth": 0,
              "ticks": ""
             }
            },
            "marker": {
             "colorbar": {
              "outlinewidth": 0,
              "ticks": ""
             }
            },
            "type": "scatter3d"
           }
          ],
          "scattercarpet": [
           {
            "marker": {
             "colorbar": {
              "outlinewidth": 0,
              "ticks": ""
             }
            },
            "type": "scattercarpet"
           }
          ],
          "scattergeo": [
           {
            "marker": {
             "colorbar": {
              "outlinewidth": 0,
              "ticks": ""
             }
            },
            "type": "scattergeo"
           }
          ],
          "scattergl": [
           {
            "marker": {
             "colorbar": {
              "outlinewidth": 0,
              "ticks": ""
             }
            },
            "type": "scattergl"
           }
          ],
          "scattermapbox": [
           {
            "marker": {
             "colorbar": {
              "outlinewidth": 0,
              "ticks": ""
             }
            },
            "type": "scattermapbox"
           }
          ],
          "scatterpolar": [
           {
            "marker": {
             "colorbar": {
              "outlinewidth": 0,
              "ticks": ""
             }
            },
            "type": "scatterpolar"
           }
          ],
          "scatterpolargl": [
           {
            "marker": {
             "colorbar": {
              "outlinewidth": 0,
              "ticks": ""
             }
            },
            "type": "scatterpolargl"
           }
          ],
          "scatterternary": [
           {
            "marker": {
             "colorbar": {
              "outlinewidth": 0,
              "ticks": ""
             }
            },
            "type": "scatterternary"
           }
          ],
          "surface": [
           {
            "colorbar": {
             "outlinewidth": 0,
             "ticks": ""
            },
            "colorscale": [
             [
              0,
              "#0d0887"
             ],
             [
              0.1111111111111111,
              "#46039f"
             ],
             [
              0.2222222222222222,
              "#7201a8"
             ],
             [
              0.3333333333333333,
              "#9c179e"
             ],
             [
              0.4444444444444444,
              "#bd3786"
             ],
             [
              0.5555555555555556,
              "#d8576b"
             ],
             [
              0.6666666666666666,
              "#ed7953"
             ],
             [
              0.7777777777777778,
              "#fb9f3a"
             ],
             [
              0.8888888888888888,
              "#fdca26"
             ],
             [
              1,
              "#f0f921"
             ]
            ],
            "type": "surface"
           }
          ],
          "table": [
           {
            "cells": {
             "fill": {
              "color": "#EBF0F8"
             },
             "line": {
              "color": "white"
             }
            },
            "header": {
             "fill": {
              "color": "#C8D4E3"
             },
             "line": {
              "color": "white"
             }
            },
            "type": "table"
           }
          ]
         },
         "layout": {
          "annotationdefaults": {
           "arrowcolor": "#2a3f5f",
           "arrowhead": 0,
           "arrowwidth": 1
          },
          "autotypenumbers": "strict",
          "coloraxis": {
           "colorbar": {
            "outlinewidth": 0,
            "ticks": ""
           }
          },
          "colorscale": {
           "diverging": [
            [
             0,
             "#8e0152"
            ],
            [
             0.1,
             "#c51b7d"
            ],
            [
             0.2,
             "#de77ae"
            ],
            [
             0.3,
             "#f1b6da"
            ],
            [
             0.4,
             "#fde0ef"
            ],
            [
             0.5,
             "#f7f7f7"
            ],
            [
             0.6,
             "#e6f5d0"
            ],
            [
             0.7,
             "#b8e186"
            ],
            [
             0.8,
             "#7fbc41"
            ],
            [
             0.9,
             "#4d9221"
            ],
            [
             1,
             "#276419"
            ]
           ],
           "sequential": [
            [
             0,
             "#0d0887"
            ],
            [
             0.1111111111111111,
             "#46039f"
            ],
            [
             0.2222222222222222,
             "#7201a8"
            ],
            [
             0.3333333333333333,
             "#9c179e"
            ],
            [
             0.4444444444444444,
             "#bd3786"
            ],
            [
             0.5555555555555556,
             "#d8576b"
            ],
            [
             0.6666666666666666,
             "#ed7953"
            ],
            [
             0.7777777777777778,
             "#fb9f3a"
            ],
            [
             0.8888888888888888,
             "#fdca26"
            ],
            [
             1,
             "#f0f921"
            ]
           ],
           "sequentialminus": [
            [
             0,
             "#0d0887"
            ],
            [
             0.1111111111111111,
             "#46039f"
            ],
            [
             0.2222222222222222,
             "#7201a8"
            ],
            [
             0.3333333333333333,
             "#9c179e"
            ],
            [
             0.4444444444444444,
             "#bd3786"
            ],
            [
             0.5555555555555556,
             "#d8576b"
            ],
            [
             0.6666666666666666,
             "#ed7953"
            ],
            [
             0.7777777777777778,
             "#fb9f3a"
            ],
            [
             0.8888888888888888,
             "#fdca26"
            ],
            [
             1,
             "#f0f921"
            ]
           ]
          },
          "colorway": [
           "#636efa",
           "#EF553B",
           "#00cc96",
           "#ab63fa",
           "#FFA15A",
           "#19d3f3",
           "#FF6692",
           "#B6E880",
           "#FF97FF",
           "#FECB52"
          ],
          "font": {
           "color": "#2a3f5f"
          },
          "geo": {
           "bgcolor": "white",
           "lakecolor": "white",
           "landcolor": "#E5ECF6",
           "showlakes": true,
           "showland": true,
           "subunitcolor": "white"
          },
          "hoverlabel": {
           "align": "left"
          },
          "hovermode": "closest",
          "mapbox": {
           "style": "light"
          },
          "paper_bgcolor": "white",
          "plot_bgcolor": "#E5ECF6",
          "polar": {
           "angularaxis": {
            "gridcolor": "white",
            "linecolor": "white",
            "ticks": ""
           },
           "bgcolor": "#E5ECF6",
           "radialaxis": {
            "gridcolor": "white",
            "linecolor": "white",
            "ticks": ""
           }
          },
          "scene": {
           "xaxis": {
            "backgroundcolor": "#E5ECF6",
            "gridcolor": "white",
            "gridwidth": 2,
            "linecolor": "white",
            "showbackground": true,
            "ticks": "",
            "zerolinecolor": "white"
           },
           "yaxis": {
            "backgroundcolor": "#E5ECF6",
            "gridcolor": "white",
            "gridwidth": 2,
            "linecolor": "white",
            "showbackground": true,
            "ticks": "",
            "zerolinecolor": "white"
           },
           "zaxis": {
            "backgroundcolor": "#E5ECF6",
            "gridcolor": "white",
            "gridwidth": 2,
            "linecolor": "white",
            "showbackground": true,
            "ticks": "",
            "zerolinecolor": "white"
           }
          },
          "shapedefaults": {
           "line": {
            "color": "#2a3f5f"
           }
          },
          "ternary": {
           "aaxis": {
            "gridcolor": "white",
            "linecolor": "white",
            "ticks": ""
           },
           "baxis": {
            "gridcolor": "white",
            "linecolor": "white",
            "ticks": ""
           },
           "bgcolor": "#E5ECF6",
           "caxis": {
            "gridcolor": "white",
            "linecolor": "white",
            "ticks": ""
           }
          },
          "title": {
           "x": 0.05
          },
          "xaxis": {
           "automargin": true,
           "gridcolor": "white",
           "linecolor": "white",
           "ticks": "",
           "title": {
            "standoff": 15
           },
           "zerolinecolor": "white",
           "zerolinewidth": 2
          },
          "yaxis": {
           "automargin": true,
           "gridcolor": "white",
           "linecolor": "white",
           "ticks": "",
           "title": {
            "standoff": 15
           },
           "zerolinecolor": "white",
           "zerolinewidth": 2
          }
         }
        },
        "title": {
         "text": "Latency vs Processes for the broadcast using binary tree Algorithm"
        },
        "xaxis": {
         "tickvals": [
          2,
          4,
          6,
          8,
          12,
          16,
          20,
          24,
          28,
          32,
          36,
          40,
          44,
          48
         ],
         "title": {
          "text": "Processes"
         }
        },
        "yaxis": {
         "title": {
          "text": "Latency (us)"
         },
         "type": "linear"
        }
       }
      }
     },
     "metadata": {},
     "output_type": "display_data"
    },
    {
     "data": {
      "application/vnd.plotly.v1+json": {
       "config": {
        "plotlyServerURL": "https://plot.ly"
       },
       "data": [
        {
         "mode": "lines+markers",
         "name": "8192",
         "type": "scatter",
         "x": [
          2,
          3,
          4,
          5,
          6,
          7,
          8,
          9,
          10,
          11,
          12,
          13,
          14,
          15,
          16,
          17,
          18,
          19,
          20,
          21,
          22,
          23,
          24,
          25,
          26,
          27,
          28,
          29,
          30,
          31,
          32,
          33,
          34,
          35,
          36,
          37,
          38,
          39,
          40,
          41,
          42,
          43,
          44,
          45,
          46,
          47,
          48
         ],
         "y": [
          1.33,
          2.13,
          2.68,
          3.23,
          3.71,
          4.12,
          4.55,
          4.86,
          5.18,
          5.64,
          5.69,
          6.16,
          6.56,
          7.14,
          7.89,
          8.73,
          9.16,
          9.46,
          9.82,
          10.1,
          10.26,
          10.57,
          10.92,
          10.8,
          11.01,
          11.38,
          11.55,
          11.92,
          12.02,
          12.35,
          13.24,
          14.97,
          15.36,
          15.03,
          15.43,
          15.99,
          15.51,
          16.13,
          16.31,
          16.79,
          16.51,
          16.75,
          18.62,
          20.11,
          18.6,
          21.01,
          21.22
         ]
        },
        {
         "line": {
          "color": "black",
          "dash": "dash"
         },
         "mode": "lines",
         "name": "8192Theoretical Latency for size ",
         "type": "scatter",
         "x": [
          2,
          3,
          4,
          5,
          6,
          7,
          8,
          9,
          10,
          11,
          12,
          13,
          14,
          15,
          16,
          17,
          18,
          19,
          20,
          21,
          22,
          23,
          24,
          25,
          26,
          27,
          28,
          29,
          30,
          31,
          32,
          33,
          34,
          35,
          36,
          37,
          38,
          39,
          40,
          41,
          42,
          43,
          44,
          45,
          46,
          47,
          48
         ],
         "y": [
          1.3152072072072072,
          2.482810810810811,
          2.6304144144144144,
          3.798018018018018,
          3.9456216216216218,
          4.0932252252252255,
          4.240828828828829,
          5.408432432432432,
          5.556036036036036,
          5.70363963963964,
          5.8512432432432435,
          5.998846846846847,
          6.657837837837838,
          6.934594594594594,
          8.23135135135135,
          8.508108108108107,
          8.784864864864865,
          9.061621621621622,
          9.338378378378376,
          9.615135135135134,
          9.891891891891891,
          10.168648648648649,
          10.445405405405406,
          10.72216216216216,
          10.998918918918918,
          11.275675675675675,
          11.552432432432433,
          11.82918918918919,
          12.105945945945944,
          12.382702702702701,
          13.679459459459459,
          13.956216216216216,
          14.232972972972973,
          14.509729729729727,
          14.786486486486485,
          15.063243243243242,
          15.34,
          15.616756756756757,
          15.893513513513511,
          16.17027027027027,
          16.447027027027026,
          16.723783783783784,
          17.00054054054054,
          17.277297297297295,
          17.554054054054053,
          17.83081081081081
         ]
        },
        {
         "mode": "lines+markers",
         "name": "8192",
         "type": "scatter",
         "x": [
          2,
          3,
          4,
          5,
          6,
          7,
          8,
          9,
          10,
          11,
          12,
          13,
          14,
          15,
          16,
          17,
          18,
          19,
          20,
          21,
          22,
          23,
          24,
          25,
          26,
          27,
          28,
          29,
          30,
          31,
          32,
          33,
          34,
          35,
          36,
          37,
          38,
          39,
          40,
          41,
          42,
          43,
          44,
          45,
          46,
          47,
          48
         ],
         "y": [
          1.79,
          2.21,
          2.79,
          3.29,
          3.75,
          4.14,
          4.88,
          4.89,
          5.24,
          5.63,
          5.8,
          6.33,
          6.6,
          7.13,
          8.07,
          8.85,
          9.21,
          9.53,
          9.85,
          10.12,
          10.27,
          10.6,
          10.89,
          10.92,
          11.06,
          11.4,
          11.72,
          11.91,
          12.08,
          12.36,
          13.33,
          16.3,
          16.03,
          15.01,
          15.31,
          16.39,
          16.5,
          16.16,
          17.42,
          16.5,
          18.34,
          17.89,
          19.36,
          21.12,
          21.17,
          21.75,
          19.44
         ]
        },
        {
         "line": {
          "color": "black",
          "dash": "dash"
         },
         "mode": "lines",
         "name": "8192Theoretical Latency for size ",
         "type": "scatter",
         "x": [
          2,
          3,
          4,
          5,
          6,
          7,
          8,
          9,
          10,
          11,
          12,
          13,
          14,
          15,
          16,
          17,
          18,
          19,
          20,
          21,
          22,
          23,
          24,
          25,
          26,
          27,
          28,
          29,
          30,
          31,
          32,
          33,
          34,
          35,
          36,
          37,
          38,
          39,
          40,
          41,
          42,
          43,
          44,
          45,
          46,
          47,
          48
         ],
         "y": [
          1.3152072072072072,
          2.482810810810811,
          2.6304144144144144,
          3.798018018018018,
          3.9456216216216218,
          4.0932252252252255,
          4.240828828828829,
          5.408432432432432,
          5.556036036036036,
          5.70363963963964,
          5.8512432432432435,
          5.998846846846847,
          6.657837837837838,
          6.934594594594594,
          8.23135135135135,
          8.508108108108107,
          8.784864864864865,
          9.061621621621622,
          9.338378378378376,
          9.615135135135134,
          9.891891891891891,
          10.168648648648649,
          10.445405405405406,
          10.72216216216216,
          10.998918918918918,
          11.275675675675675,
          11.552432432432433,
          11.82918918918919,
          12.105945945945944,
          12.382702702702701,
          13.679459459459459,
          13.956216216216216,
          14.232972972972973,
          14.509729729729727,
          14.786486486486485,
          15.063243243243242,
          15.34,
          15.616756756756757,
          15.893513513513511,
          16.17027027027027,
          16.447027027027026,
          16.723783783783784,
          17.00054054054054,
          17.277297297297295,
          17.554054054054053,
          17.83081081081081
         ]
        },
        {
         "mode": "lines+markers",
         "name": "8192",
         "type": "scatter",
         "x": [
          2,
          3,
          4,
          5,
          6,
          7,
          8,
          9,
          10,
          11,
          12,
          13,
          14,
          15,
          16,
          17,
          18,
          19,
          20,
          21,
          22,
          23,
          24,
          25,
          26,
          27,
          28,
          29,
          30,
          31,
          32,
          33,
          34,
          35,
          36,
          37,
          38,
          39,
          40,
          41,
          42,
          43,
          44,
          45,
          46,
          47,
          48
         ],
         "y": [
          1.36,
          2.18,
          2.78,
          3.36,
          3.77,
          4.18,
          4.72,
          4.87,
          5.46,
          5.61,
          5.83,
          6.19,
          6.75,
          7.16,
          7.98,
          8.83,
          9.18,
          9.56,
          9.96,
          10.11,
          10.32,
          10.79,
          10.96,
          10.99,
          11.11,
          11.43,
          11.69,
          11.99,
          12.38,
          12.39,
          13.54,
          15,
          15.16,
          15.11,
          15.39,
          15.4,
          15.93,
          16,
          16.39,
          16.46,
          16.56,
          16.74,
          17.18,
          18.8,
          18.14,
          19.07,
          19.71
         ]
        },
        {
         "line": {
          "color": "black",
          "dash": "dash"
         },
         "mode": "lines",
         "name": "8192Theoretical Latency for size ",
         "type": "scatter",
         "x": [
          2,
          3,
          4,
          5,
          6,
          7,
          8,
          9,
          10,
          11,
          12,
          13,
          14,
          15,
          16,
          17,
          18,
          19,
          20,
          21,
          22,
          23,
          24,
          25,
          26,
          27,
          28,
          29,
          30,
          31,
          32,
          33,
          34,
          35,
          36,
          37,
          38,
          39,
          40,
          41,
          42,
          43,
          44,
          45,
          46,
          47,
          48
         ],
         "y": [
          1.3152072072072072,
          2.482810810810811,
          2.6304144144144144,
          3.798018018018018,
          3.9456216216216218,
          4.0932252252252255,
          4.240828828828829,
          5.408432432432432,
          5.556036036036036,
          5.70363963963964,
          5.8512432432432435,
          5.998846846846847,
          6.657837837837838,
          6.934594594594594,
          8.23135135135135,
          8.508108108108107,
          8.784864864864865,
          9.061621621621622,
          9.338378378378376,
          9.615135135135134,
          9.891891891891891,
          10.168648648648649,
          10.445405405405406,
          10.72216216216216,
          10.998918918918918,
          11.275675675675675,
          11.552432432432433,
          11.82918918918919,
          12.105945945945944,
          12.382702702702701,
          13.679459459459459,
          13.956216216216216,
          14.232972972972973,
          14.509729729729727,
          14.786486486486485,
          15.063243243243242,
          15.34,
          15.616756756756757,
          15.893513513513511,
          16.17027027027027,
          16.447027027027026,
          16.723783783783784,
          17.00054054054054,
          17.277297297297295,
          17.554054054054053,
          17.83081081081081
         ]
        },
        {
         "mode": "lines+markers",
         "name": "8192",
         "type": "scatter",
         "x": [
          2,
          3,
          4,
          5,
          6,
          7,
          8,
          9,
          10,
          11,
          12,
          13,
          14,
          15,
          16,
          17,
          18,
          19,
          20,
          21,
          22,
          23,
          24,
          25,
          26,
          27,
          28,
          29,
          30,
          31,
          32,
          33,
          34,
          35,
          36,
          37,
          38,
          39,
          40,
          41,
          42,
          43,
          44,
          45,
          46,
          47,
          48
         ],
         "y": [
          1.32,
          2.15,
          2.73,
          3.28,
          3.73,
          4.11,
          4.58,
          4.87,
          5.2,
          5.53,
          5.69,
          6.17,
          6.55,
          7.05,
          7.98,
          8.72,
          9.11,
          9.49,
          9.76,
          10.04,
          10.24,
          10.6,
          10.84,
          10.76,
          11.01,
          11.27,
          11.56,
          11.84,
          12.05,
          12.22,
          13.29,
          14.93,
          15.04,
          15.3,
          15.77,
          15.16,
          15.54,
          16.42,
          17.44,
          19.54,
          17.36,
          17.53,
          17.04,
          19.78,
          19.02,
          21.65,
          22.05
         ]
        },
        {
         "line": {
          "color": "black",
          "dash": "dash"
         },
         "mode": "lines",
         "name": "8192Theoretical Latency for size ",
         "type": "scatter",
         "x": [
          2,
          3,
          4,
          5,
          6,
          7,
          8,
          9,
          10,
          11,
          12,
          13,
          14,
          15,
          16,
          17,
          18,
          19,
          20,
          21,
          22,
          23,
          24,
          25,
          26,
          27,
          28,
          29,
          30,
          31,
          32,
          33,
          34,
          35,
          36,
          37,
          38,
          39,
          40,
          41,
          42,
          43,
          44,
          45,
          46,
          47,
          48
         ],
         "y": [
          1.3152072072072072,
          2.482810810810811,
          2.6304144144144144,
          3.798018018018018,
          3.9456216216216218,
          4.0932252252252255,
          4.240828828828829,
          5.408432432432432,
          5.556036036036036,
          5.70363963963964,
          5.8512432432432435,
          5.998846846846847,
          6.657837837837838,
          6.934594594594594,
          8.23135135135135,
          8.508108108108107,
          8.784864864864865,
          9.061621621621622,
          9.338378378378376,
          9.615135135135134,
          9.891891891891891,
          10.168648648648649,
          10.445405405405406,
          10.72216216216216,
          10.998918918918918,
          11.275675675675675,
          11.552432432432433,
          11.82918918918919,
          12.105945945945944,
          12.382702702702701,
          13.679459459459459,
          13.956216216216216,
          14.232972972972973,
          14.509729729729727,
          14.786486486486485,
          15.063243243243242,
          15.34,
          15.616756756756757,
          15.893513513513511,
          16.17027027027027,
          16.447027027027026,
          16.723783783783784,
          17.00054054054054,
          17.277297297297295,
          17.554054054054053,
          17.83081081081081
         ]
        },
        {
         "mode": "lines+markers",
         "name": "8192",
         "type": "scatter",
         "x": [
          2,
          3,
          4,
          5,
          6,
          7,
          8,
          9,
          10,
          11,
          12,
          13,
          14,
          15,
          16,
          17,
          18,
          19,
          20,
          21,
          22,
          23,
          24,
          25,
          26,
          27,
          28,
          29,
          30,
          31,
          32,
          33,
          34,
          35,
          36,
          37,
          38,
          39,
          40,
          41,
          42,
          43,
          44,
          45,
          46,
          47,
          48
         ],
         "y": [
          1.36,
          2.2,
          2.74,
          3.26,
          3.74,
          4.14,
          4.61,
          5.08,
          5.28,
          5.65,
          5.76,
          6.23,
          6.65,
          7.1,
          8.12,
          8.8,
          9.26,
          9.53,
          9.84,
          10.17,
          10.41,
          10.67,
          11,
          10.92,
          11.13,
          11.37,
          11.64,
          11.87,
          12.2,
          12.37,
          13.37,
          15.05,
          15.56,
          16.32,
          16.89,
          15.37,
          15.84,
          17.23,
          17.04,
          16.39,
          16.43,
          16.84,
          18.32,
          18.34,
          20,
          21.17,
          19.97
         ]
        },
        {
         "line": {
          "color": "black",
          "dash": "dash"
         },
         "mode": "lines",
         "name": "8192Theoretical Latency for size ",
         "type": "scatter",
         "x": [
          2,
          3,
          4,
          5,
          6,
          7,
          8,
          9,
          10,
          11,
          12,
          13,
          14,
          15,
          16,
          17,
          18,
          19,
          20,
          21,
          22,
          23,
          24,
          25,
          26,
          27,
          28,
          29,
          30,
          31,
          32,
          33,
          34,
          35,
          36,
          37,
          38,
          39,
          40,
          41,
          42,
          43,
          44,
          45,
          46,
          47,
          48
         ],
         "y": [
          1.3152072072072072,
          2.482810810810811,
          2.6304144144144144,
          3.798018018018018,
          3.9456216216216218,
          4.0932252252252255,
          4.240828828828829,
          5.408432432432432,
          5.556036036036036,
          5.70363963963964,
          5.8512432432432435,
          5.998846846846847,
          6.657837837837838,
          6.934594594594594,
          8.23135135135135,
          8.508108108108107,
          8.784864864864865,
          9.061621621621622,
          9.338378378378376,
          9.615135135135134,
          9.891891891891891,
          10.168648648648649,
          10.445405405405406,
          10.72216216216216,
          10.998918918918918,
          11.275675675675675,
          11.552432432432433,
          11.82918918918919,
          12.105945945945944,
          12.382702702702701,
          13.679459459459459,
          13.956216216216216,
          14.232972972972973,
          14.509729729729727,
          14.786486486486485,
          15.063243243243242,
          15.34,
          15.616756756756757,
          15.893513513513511,
          16.17027027027027,
          16.447027027027026,
          16.723783783783784,
          17.00054054054054,
          17.277297297297295,
          17.554054054054053,
          17.83081081081081
         ]
        }
       ],
       "layout": {
        "legend": {
         "title": {
          "text": "Message Size"
         }
        },
        "template": {
         "data": {
          "bar": [
           {
            "error_x": {
             "color": "#2a3f5f"
            },
            "error_y": {
             "color": "#2a3f5f"
            },
            "marker": {
             "line": {
              "color": "#E5ECF6",
              "width": 0.5
             },
             "pattern": {
              "fillmode": "overlay",
              "size": 10,
              "solidity": 0.2
             }
            },
            "type": "bar"
           }
          ],
          "barpolar": [
           {
            "marker": {
             "line": {
              "color": "#E5ECF6",
              "width": 0.5
             },
             "pattern": {
              "fillmode": "overlay",
              "size": 10,
              "solidity": 0.2
             }
            },
            "type": "barpolar"
           }
          ],
          "carpet": [
           {
            "aaxis": {
             "endlinecolor": "#2a3f5f",
             "gridcolor": "white",
             "linecolor": "white",
             "minorgridcolor": "white",
             "startlinecolor": "#2a3f5f"
            },
            "baxis": {
             "endlinecolor": "#2a3f5f",
             "gridcolor": "white",
             "linecolor": "white",
             "minorgridcolor": "white",
             "startlinecolor": "#2a3f5f"
            },
            "type": "carpet"
           }
          ],
          "choropleth": [
           {
            "colorbar": {
             "outlinewidth": 0,
             "ticks": ""
            },
            "type": "choropleth"
           }
          ],
          "contour": [
           {
            "colorbar": {
             "outlinewidth": 0,
             "ticks": ""
            },
            "colorscale": [
             [
              0,
              "#0d0887"
             ],
             [
              0.1111111111111111,
              "#46039f"
             ],
             [
              0.2222222222222222,
              "#7201a8"
             ],
             [
              0.3333333333333333,
              "#9c179e"
             ],
             [
              0.4444444444444444,
              "#bd3786"
             ],
             [
              0.5555555555555556,
              "#d8576b"
             ],
             [
              0.6666666666666666,
              "#ed7953"
             ],
             [
              0.7777777777777778,
              "#fb9f3a"
             ],
             [
              0.8888888888888888,
              "#fdca26"
             ],
             [
              1,
              "#f0f921"
             ]
            ],
            "type": "contour"
           }
          ],
          "contourcarpet": [
           {
            "colorbar": {
             "outlinewidth": 0,
             "ticks": ""
            },
            "type": "contourcarpet"
           }
          ],
          "heatmap": [
           {
            "colorbar": {
             "outlinewidth": 0,
             "ticks": ""
            },
            "colorscale": [
             [
              0,
              "#0d0887"
             ],
             [
              0.1111111111111111,
              "#46039f"
             ],
             [
              0.2222222222222222,
              "#7201a8"
             ],
             [
              0.3333333333333333,
              "#9c179e"
             ],
             [
              0.4444444444444444,
              "#bd3786"
             ],
             [
              0.5555555555555556,
              "#d8576b"
             ],
             [
              0.6666666666666666,
              "#ed7953"
             ],
             [
              0.7777777777777778,
              "#fb9f3a"
             ],
             [
              0.8888888888888888,
              "#fdca26"
             ],
             [
              1,
              "#f0f921"
             ]
            ],
            "type": "heatmap"
           }
          ],
          "heatmapgl": [
           {
            "colorbar": {
             "outlinewidth": 0,
             "ticks": ""
            },
            "colorscale": [
             [
              0,
              "#0d0887"
             ],
             [
              0.1111111111111111,
              "#46039f"
             ],
             [
              0.2222222222222222,
              "#7201a8"
             ],
             [
              0.3333333333333333,
              "#9c179e"
             ],
             [
              0.4444444444444444,
              "#bd3786"
             ],
             [
              0.5555555555555556,
              "#d8576b"
             ],
             [
              0.6666666666666666,
              "#ed7953"
             ],
             [
              0.7777777777777778,
              "#fb9f3a"
             ],
             [
              0.8888888888888888,
              "#fdca26"
             ],
             [
              1,
              "#f0f921"
             ]
            ],
            "type": "heatmapgl"
           }
          ],
          "histogram": [
           {
            "marker": {
             "pattern": {
              "fillmode": "overlay",
              "size": 10,
              "solidity": 0.2
             }
            },
            "type": "histogram"
           }
          ],
          "histogram2d": [
           {
            "colorbar": {
             "outlinewidth": 0,
             "ticks": ""
            },
            "colorscale": [
             [
              0,
              "#0d0887"
             ],
             [
              0.1111111111111111,
              "#46039f"
             ],
             [
              0.2222222222222222,
              "#7201a8"
             ],
             [
              0.3333333333333333,
              "#9c179e"
             ],
             [
              0.4444444444444444,
              "#bd3786"
             ],
             [
              0.5555555555555556,
              "#d8576b"
             ],
             [
              0.6666666666666666,
              "#ed7953"
             ],
             [
              0.7777777777777778,
              "#fb9f3a"
             ],
             [
              0.8888888888888888,
              "#fdca26"
             ],
             [
              1,
              "#f0f921"
             ]
            ],
            "type": "histogram2d"
           }
          ],
          "histogram2dcontour": [
           {
            "colorbar": {
             "outlinewidth": 0,
             "ticks": ""
            },
            "colorscale": [
             [
              0,
              "#0d0887"
             ],
             [
              0.1111111111111111,
              "#46039f"
             ],
             [
              0.2222222222222222,
              "#7201a8"
             ],
             [
              0.3333333333333333,
              "#9c179e"
             ],
             [
              0.4444444444444444,
              "#bd3786"
             ],
             [
              0.5555555555555556,
              "#d8576b"
             ],
             [
              0.6666666666666666,
              "#ed7953"
             ],
             [
              0.7777777777777778,
              "#fb9f3a"
             ],
             [
              0.8888888888888888,
              "#fdca26"
             ],
             [
              1,
              "#f0f921"
             ]
            ],
            "type": "histogram2dcontour"
           }
          ],
          "mesh3d": [
           {
            "colorbar": {
             "outlinewidth": 0,
             "ticks": ""
            },
            "type": "mesh3d"
           }
          ],
          "parcoords": [
           {
            "line": {
             "colorbar": {
              "outlinewidth": 0,
              "ticks": ""
             }
            },
            "type": "parcoords"
           }
          ],
          "pie": [
           {
            "automargin": true,
            "type": "pie"
           }
          ],
          "scatter": [
           {
            "fillpattern": {
             "fillmode": "overlay",
             "size": 10,
             "solidity": 0.2
            },
            "type": "scatter"
           }
          ],
          "scatter3d": [
           {
            "line": {
             "colorbar": {
              "outlinewidth": 0,
              "ticks": ""
             }
            },
            "marker": {
             "colorbar": {
              "outlinewidth": 0,
              "ticks": ""
             }
            },
            "type": "scatter3d"
           }
          ],
          "scattercarpet": [
           {
            "marker": {
             "colorbar": {
              "outlinewidth": 0,
              "ticks": ""
             }
            },
            "type": "scattercarpet"
           }
          ],
          "scattergeo": [
           {
            "marker": {
             "colorbar": {
              "outlinewidth": 0,
              "ticks": ""
             }
            },
            "type": "scattergeo"
           }
          ],
          "scattergl": [
           {
            "marker": {
             "colorbar": {
              "outlinewidth": 0,
              "ticks": ""
             }
            },
            "type": "scattergl"
           }
          ],
          "scattermapbox": [
           {
            "marker": {
             "colorbar": {
              "outlinewidth": 0,
              "ticks": ""
             }
            },
            "type": "scattermapbox"
           }
          ],
          "scatterpolar": [
           {
            "marker": {
             "colorbar": {
              "outlinewidth": 0,
              "ticks": ""
             }
            },
            "type": "scatterpolar"
           }
          ],
          "scatterpolargl": [
           {
            "marker": {
             "colorbar": {
              "outlinewidth": 0,
              "ticks": ""
             }
            },
            "type": "scatterpolargl"
           }
          ],
          "scatterternary": [
           {
            "marker": {
             "colorbar": {
              "outlinewidth": 0,
              "ticks": ""
             }
            },
            "type": "scatterternary"
           }
          ],
          "surface": [
           {
            "colorbar": {
             "outlinewidth": 0,
             "ticks": ""
            },
            "colorscale": [
             [
              0,
              "#0d0887"
             ],
             [
              0.1111111111111111,
              "#46039f"
             ],
             [
              0.2222222222222222,
              "#7201a8"
             ],
             [
              0.3333333333333333,
              "#9c179e"
             ],
             [
              0.4444444444444444,
              "#bd3786"
             ],
             [
              0.5555555555555556,
              "#d8576b"
             ],
             [
              0.6666666666666666,
              "#ed7953"
             ],
             [
              0.7777777777777778,
              "#fb9f3a"
             ],
             [
              0.8888888888888888,
              "#fdca26"
             ],
             [
              1,
              "#f0f921"
             ]
            ],
            "type": "surface"
           }
          ],
          "table": [
           {
            "cells": {
             "fill": {
              "color": "#EBF0F8"
             },
             "line": {
              "color": "white"
             }
            },
            "header": {
             "fill": {
              "color": "#C8D4E3"
             },
             "line": {
              "color": "white"
             }
            },
            "type": "table"
           }
          ]
         },
         "layout": {
          "annotationdefaults": {
           "arrowcolor": "#2a3f5f",
           "arrowhead": 0,
           "arrowwidth": 1
          },
          "autotypenumbers": "strict",
          "coloraxis": {
           "colorbar": {
            "outlinewidth": 0,
            "ticks": ""
           }
          },
          "colorscale": {
           "diverging": [
            [
             0,
             "#8e0152"
            ],
            [
             0.1,
             "#c51b7d"
            ],
            [
             0.2,
             "#de77ae"
            ],
            [
             0.3,
             "#f1b6da"
            ],
            [
             0.4,
             "#fde0ef"
            ],
            [
             0.5,
             "#f7f7f7"
            ],
            [
             0.6,
             "#e6f5d0"
            ],
            [
             0.7,
             "#b8e186"
            ],
            [
             0.8,
             "#7fbc41"
            ],
            [
             0.9,
             "#4d9221"
            ],
            [
             1,
             "#276419"
            ]
           ],
           "sequential": [
            [
             0,
             "#0d0887"
            ],
            [
             0.1111111111111111,
             "#46039f"
            ],
            [
             0.2222222222222222,
             "#7201a8"
            ],
            [
             0.3333333333333333,
             "#9c179e"
            ],
            [
             0.4444444444444444,
             "#bd3786"
            ],
            [
             0.5555555555555556,
             "#d8576b"
            ],
            [
             0.6666666666666666,
             "#ed7953"
            ],
            [
             0.7777777777777778,
             "#fb9f3a"
            ],
            [
             0.8888888888888888,
             "#fdca26"
            ],
            [
             1,
             "#f0f921"
            ]
           ],
           "sequentialminus": [
            [
             0,
             "#0d0887"
            ],
            [
             0.1111111111111111,
             "#46039f"
            ],
            [
             0.2222222222222222,
             "#7201a8"
            ],
            [
             0.3333333333333333,
             "#9c179e"
            ],
            [
             0.4444444444444444,
             "#bd3786"
            ],
            [
             0.5555555555555556,
             "#d8576b"
            ],
            [
             0.6666666666666666,
             "#ed7953"
            ],
            [
             0.7777777777777778,
             "#fb9f3a"
            ],
            [
             0.8888888888888888,
             "#fdca26"
            ],
            [
             1,
             "#f0f921"
            ]
           ]
          },
          "colorway": [
           "#636efa",
           "#EF553B",
           "#00cc96",
           "#ab63fa",
           "#FFA15A",
           "#19d3f3",
           "#FF6692",
           "#B6E880",
           "#FF97FF",
           "#FECB52"
          ],
          "font": {
           "color": "#2a3f5f"
          },
          "geo": {
           "bgcolor": "white",
           "lakecolor": "white",
           "landcolor": "#E5ECF6",
           "showlakes": true,
           "showland": true,
           "subunitcolor": "white"
          },
          "hoverlabel": {
           "align": "left"
          },
          "hovermode": "closest",
          "mapbox": {
           "style": "light"
          },
          "paper_bgcolor": "white",
          "plot_bgcolor": "#E5ECF6",
          "polar": {
           "angularaxis": {
            "gridcolor": "white",
            "linecolor": "white",
            "ticks": ""
           },
           "bgcolor": "#E5ECF6",
           "radialaxis": {
            "gridcolor": "white",
            "linecolor": "white",
            "ticks": ""
           }
          },
          "scene": {
           "xaxis": {
            "backgroundcolor": "#E5ECF6",
            "gridcolor": "white",
            "gridwidth": 2,
            "linecolor": "white",
            "showbackground": true,
            "ticks": "",
            "zerolinecolor": "white"
           },
           "yaxis": {
            "backgroundcolor": "#E5ECF6",
            "gridcolor": "white",
            "gridwidth": 2,
            "linecolor": "white",
            "showbackground": true,
            "ticks": "",
            "zerolinecolor": "white"
           },
           "zaxis": {
            "backgroundcolor": "#E5ECF6",
            "gridcolor": "white",
            "gridwidth": 2,
            "linecolor": "white",
            "showbackground": true,
            "ticks": "",
            "zerolinecolor": "white"
           }
          },
          "shapedefaults": {
           "line": {
            "color": "#2a3f5f"
           }
          },
          "ternary": {
           "aaxis": {
            "gridcolor": "white",
            "linecolor": "white",
            "ticks": ""
           },
           "baxis": {
            "gridcolor": "white",
            "linecolor": "white",
            "ticks": ""
           },
           "bgcolor": "#E5ECF6",
           "caxis": {
            "gridcolor": "white",
            "linecolor": "white",
            "ticks": ""
           }
          },
          "title": {
           "x": 0.05
          },
          "xaxis": {
           "automargin": true,
           "gridcolor": "white",
           "linecolor": "white",
           "ticks": "",
           "title": {
            "standoff": 15
           },
           "zerolinecolor": "white",
           "zerolinewidth": 2
          },
          "yaxis": {
           "automargin": true,
           "gridcolor": "white",
           "linecolor": "white",
           "ticks": "",
           "title": {
            "standoff": 15
           },
           "zerolinecolor": "white",
           "zerolinewidth": 2
          }
         }
        },
        "title": {
         "text": "Latency vs Processes for the broadcast using binary tree Algorithm"
        },
        "xaxis": {
         "tickvals": [
          2,
          4,
          6,
          8,
          12,
          16,
          20,
          24,
          28,
          32,
          36,
          40,
          44,
          48
         ],
         "title": {
          "text": "Processes"
         }
        },
        "yaxis": {
         "title": {
          "text": "Latency (us)"
         },
         "type": "log"
        }
       }
      }
     },
     "metadata": {},
     "output_type": "display_data"
    }
   ],
   "source": [
    "plot_latency_vs_processes(binary_tree_df, 'binary tree', 'linear')\n",
    "plot_latency_vs_processes(binary_tree_df, 'binary tree','log')"
   ]
  },
  {
   "cell_type": "markdown",
   "metadata": {},
   "source": [
    "### Chain algorithm\n",
    "\n",
    "Latency Model:  \n",
    "$T = \\alpha + \\beta n $  \n",
    "Where:\n",
    "\n",
    "* $\\alpha$ is the latency (startup time) per message.\n",
    "* $\\beta$ is the time per byte.\n",
    "* $n$ is the number of bytes in the message.\n",
    "\n",
    "Thus, I expect the total time dependendency on CPUs ($np$) to be:  \n",
    "$T = \\alpha + np(\\alpha + \\beta n )$  "
   ]
  },
  {
   "cell_type": "code",
   "execution_count": 319,
   "metadata": {},
   "outputs": [
    {
     "data": {
      "application/vnd.plotly.v1+json": {
       "config": {
        "plotlyServerURL": "https://plot.ly"
       },
       "data": [
        {
         "mode": "lines+markers",
         "name": "8192",
         "type": "scatter",
         "x": [
          2,
          3,
          4,
          5,
          6,
          7,
          8,
          9,
          10,
          11,
          12,
          13,
          14,
          15,
          16,
          17,
          18,
          19,
          20,
          21,
          22,
          23,
          24,
          25,
          26,
          27,
          28,
          29,
          30,
          31,
          32,
          33,
          34,
          35,
          36,
          37,
          38,
          39,
          40,
          41,
          42,
          43,
          44,
          45,
          46,
          47,
          48
         ],
         "y": [
          1.35,
          2.15,
          2.53,
          3.04,
          3.44,
          3.76,
          4.35,
          4.76,
          4.98,
          5.33,
          5.49,
          6.09,
          6.38,
          6.72,
          7.9,
          8.69,
          9.17,
          9.36,
          10.22,
          9.94,
          10.71,
          11.27,
          11.56,
          11.55,
          11.79,
          12.19,
          12.53,
          13.1,
          13.1,
          15.15,
          13.94,
          18.15,
          17.92,
          17.55,
          19.67,
          20.72,
          21.46,
          20.45,
          21.71,
          24.41,
          26.27,
          23.58,
          24.81,
          21.22,
          22.94,
          20.37,
          19.99
         ]
        },
        {
         "line": {
          "color": "black",
          "dash": "dash"
         },
         "mode": "lines",
         "name": "8192Theoretical Latency for size ",
         "type": "scatter",
         "x": [
          2,
          3,
          4,
          5,
          6,
          7,
          8,
          9,
          10,
          11,
          12,
          13,
          14,
          15,
          16,
          17,
          18,
          19,
          20,
          21,
          22,
          23,
          24,
          25,
          26,
          27,
          28,
          29,
          30,
          31,
          32,
          33,
          34,
          35,
          36,
          37,
          38,
          39,
          40,
          41,
          42,
          43,
          44,
          45,
          46,
          47,
          48
         ],
         "y": [
          1.4628108108108109,
          1.9056216216216217,
          2.3484324324324324,
          2.791243243243243,
          3.234054054054054,
          3.6768648648648647,
          4.119675675675676,
          4.5624864864864865,
          5.005297297297297,
          5.448108108108109,
          5.890918918918919,
          6.333729729729729,
          6.776540540540541,
          7.219351351351351,
          7.662162162162161,
          8.104972972972973,
          8.547783783783784,
          8.990594594594594,
          9.433405405405406,
          9.876216216216216,
          10.319027027027026,
          10.761837837837838,
          11.204648648648648,
          11.647459459459458,
          12.09027027027027,
          12.53308108108108,
          12.97589189189189,
          13.418702702702703,
          13.861513513513513,
          14.304324324324323,
          14.747135135135135,
          15.189945945945945,
          15.632756756756756,
          16.075567567567568,
          16.51837837837838,
          16.961189189189188,
          17.404,
          17.846810810810812,
          18.28962162162162,
          18.732432432432432,
          19.175243243243244,
          19.618054054054053,
          20.060864864864865,
          20.503675675675677,
          20.946486486486485,
          21.389297297297297,
          21.83210810810811
         ]
        },
        {
         "mode": "lines+markers",
         "name": "8192",
         "type": "scatter",
         "x": [
          2,
          3,
          4,
          5,
          6,
          7,
          8,
          9,
          10,
          11,
          12,
          13,
          14,
          15,
          16,
          17,
          18,
          19,
          20,
          21,
          22,
          23,
          24,
          25,
          26,
          27,
          28,
          29,
          30,
          31,
          32,
          33,
          34,
          35,
          36,
          37,
          38,
          39,
          40,
          41,
          42,
          43,
          44,
          45,
          46,
          47,
          48
         ],
         "y": [
          1.35,
          2.2,
          2.63,
          3.13,
          3.7,
          3.78,
          4.36,
          4.88,
          5.08,
          5.41,
          5.58,
          6.22,
          6.48,
          6.98,
          7.79,
          8.78,
          9.25,
          9.51,
          10.27,
          10.13,
          10.96,
          11.24,
          11.67,
          11.72,
          11.8,
          12.22,
          12.87,
          14.27,
          13.29,
          13.51,
          14.18,
          17.66,
          20.98,
          19.4,
          23.1,
          19.6,
          23.02,
          22.13,
          22.45,
          22.56,
          19.77,
          19.86,
          20.93,
          21.4,
          20.02,
          20.38,
          20.01
         ]
        },
        {
         "line": {
          "color": "black",
          "dash": "dash"
         },
         "mode": "lines",
         "name": "8192Theoretical Latency for size ",
         "type": "scatter",
         "x": [
          2,
          3,
          4,
          5,
          6,
          7,
          8,
          9,
          10,
          11,
          12,
          13,
          14,
          15,
          16,
          17,
          18,
          19,
          20,
          21,
          22,
          23,
          24,
          25,
          26,
          27,
          28,
          29,
          30,
          31,
          32,
          33,
          34,
          35,
          36,
          37,
          38,
          39,
          40,
          41,
          42,
          43,
          44,
          45,
          46,
          47,
          48
         ],
         "y": [
          1.4628108108108109,
          1.9056216216216217,
          2.3484324324324324,
          2.791243243243243,
          3.234054054054054,
          3.6768648648648647,
          4.119675675675676,
          4.5624864864864865,
          5.005297297297297,
          5.448108108108109,
          5.890918918918919,
          6.333729729729729,
          6.776540540540541,
          7.219351351351351,
          7.662162162162161,
          8.104972972972973,
          8.547783783783784,
          8.990594594594594,
          9.433405405405406,
          9.876216216216216,
          10.319027027027026,
          10.761837837837838,
          11.204648648648648,
          11.647459459459458,
          12.09027027027027,
          12.53308108108108,
          12.97589189189189,
          13.418702702702703,
          13.861513513513513,
          14.304324324324323,
          14.747135135135135,
          15.189945945945945,
          15.632756756756756,
          16.075567567567568,
          16.51837837837838,
          16.961189189189188,
          17.404,
          17.846810810810812,
          18.28962162162162,
          18.732432432432432,
          19.175243243243244,
          19.618054054054053,
          20.060864864864865,
          20.503675675675677,
          20.946486486486485,
          21.389297297297297,
          21.83210810810811
         ]
        },
        {
         "mode": "lines+markers",
         "name": "8192",
         "type": "scatter",
         "x": [
          2,
          3,
          4,
          5,
          6,
          7,
          8,
          9,
          10,
          11,
          12,
          13,
          14,
          15,
          16,
          17,
          18,
          19,
          20,
          21,
          22,
          23,
          24,
          25,
          26,
          27,
          28,
          29,
          30,
          31,
          32,
          33,
          34,
          35,
          36,
          37,
          38,
          39,
          40,
          41,
          42,
          43,
          44,
          45,
          46,
          47,
          48
         ],
         "y": [
          1.35,
          2.24,
          2.63,
          3.14,
          3.43,
          3.81,
          4.28,
          4.79,
          5,
          5.4,
          5.57,
          6.1,
          6.43,
          6.8,
          7.74,
          8.68,
          9.26,
          9.49,
          10.12,
          9.97,
          10.78,
          11.14,
          11.61,
          11.85,
          11.71,
          12.19,
          12.57,
          13.3,
          14.7,
          13.68,
          14.13,
          18.83,
          17.34,
          17.03,
          18.12,
          17.15,
          17.65,
          18.07,
          19.39,
          18.35,
          19.57,
          19.81,
          19.84,
          20.28,
          19.98,
          20.29,
          19.75
         ]
        },
        {
         "line": {
          "color": "black",
          "dash": "dash"
         },
         "mode": "lines",
         "name": "8192Theoretical Latency for size ",
         "type": "scatter",
         "x": [
          2,
          3,
          4,
          5,
          6,
          7,
          8,
          9,
          10,
          11,
          12,
          13,
          14,
          15,
          16,
          17,
          18,
          19,
          20,
          21,
          22,
          23,
          24,
          25,
          26,
          27,
          28,
          29,
          30,
          31,
          32,
          33,
          34,
          35,
          36,
          37,
          38,
          39,
          40,
          41,
          42,
          43,
          44,
          45,
          46,
          47,
          48
         ],
         "y": [
          1.4628108108108109,
          1.9056216216216217,
          2.3484324324324324,
          2.791243243243243,
          3.234054054054054,
          3.6768648648648647,
          4.119675675675676,
          4.5624864864864865,
          5.005297297297297,
          5.448108108108109,
          5.890918918918919,
          6.333729729729729,
          6.776540540540541,
          7.219351351351351,
          7.662162162162161,
          8.104972972972973,
          8.547783783783784,
          8.990594594594594,
          9.433405405405406,
          9.876216216216216,
          10.319027027027026,
          10.761837837837838,
          11.204648648648648,
          11.647459459459458,
          12.09027027027027,
          12.53308108108108,
          12.97589189189189,
          13.418702702702703,
          13.861513513513513,
          14.304324324324323,
          14.747135135135135,
          15.189945945945945,
          15.632756756756756,
          16.075567567567568,
          16.51837837837838,
          16.961189189189188,
          17.404,
          17.846810810810812,
          18.28962162162162,
          18.732432432432432,
          19.175243243243244,
          19.618054054054053,
          20.060864864864865,
          20.503675675675677,
          20.946486486486485,
          21.389297297297297,
          21.83210810810811
         ]
        },
        {
         "mode": "lines+markers",
         "name": "8192",
         "type": "scatter",
         "x": [
          2,
          3,
          4,
          5,
          6,
          7,
          8,
          9,
          10,
          11,
          12,
          13,
          14,
          15,
          16,
          17,
          18,
          19,
          20,
          21,
          22,
          23,
          24,
          25,
          26,
          27,
          28,
          29,
          30,
          31,
          32,
          33,
          34,
          35,
          36,
          37,
          38,
          39,
          40,
          41,
          42,
          43,
          44,
          45,
          46,
          47,
          48
         ],
         "y": [
          1.57,
          2.18,
          2.78,
          3.15,
          3.47,
          3.85,
          4.41,
          4.87,
          5.13,
          5.51,
          5.58,
          6.11,
          6.42,
          6.77,
          7.69,
          8.67,
          9.46,
          9.53,
          10.35,
          10.03,
          10.9,
          11.17,
          11.73,
          11.66,
          12.11,
          12.34,
          12.63,
          13.26,
          13.26,
          13.31,
          14.12,
          16.49,
          18.6,
          24.24,
          20.94,
          20.16,
          23.63,
          20.01,
          23.48,
          23.39,
          20.23,
          26.61,
          22.12,
          20.42,
          20.98,
          20.42,
          19.99
         ]
        },
        {
         "line": {
          "color": "black",
          "dash": "dash"
         },
         "mode": "lines",
         "name": "8192Theoretical Latency for size ",
         "type": "scatter",
         "x": [
          2,
          3,
          4,
          5,
          6,
          7,
          8,
          9,
          10,
          11,
          12,
          13,
          14,
          15,
          16,
          17,
          18,
          19,
          20,
          21,
          22,
          23,
          24,
          25,
          26,
          27,
          28,
          29,
          30,
          31,
          32,
          33,
          34,
          35,
          36,
          37,
          38,
          39,
          40,
          41,
          42,
          43,
          44,
          45,
          46,
          47,
          48
         ],
         "y": [
          1.4628108108108109,
          1.9056216216216217,
          2.3484324324324324,
          2.791243243243243,
          3.234054054054054,
          3.6768648648648647,
          4.119675675675676,
          4.5624864864864865,
          5.005297297297297,
          5.448108108108109,
          5.890918918918919,
          6.333729729729729,
          6.776540540540541,
          7.219351351351351,
          7.662162162162161,
          8.104972972972973,
          8.547783783783784,
          8.990594594594594,
          9.433405405405406,
          9.876216216216216,
          10.319027027027026,
          10.761837837837838,
          11.204648648648648,
          11.647459459459458,
          12.09027027027027,
          12.53308108108108,
          12.97589189189189,
          13.418702702702703,
          13.861513513513513,
          14.304324324324323,
          14.747135135135135,
          15.189945945945945,
          15.632756756756756,
          16.075567567567568,
          16.51837837837838,
          16.961189189189188,
          17.404,
          17.846810810810812,
          18.28962162162162,
          18.732432432432432,
          19.175243243243244,
          19.618054054054053,
          20.060864864864865,
          20.503675675675677,
          20.946486486486485,
          21.389297297297297,
          21.83210810810811
         ]
        },
        {
         "mode": "lines+markers",
         "name": "8192",
         "type": "scatter",
         "x": [
          2,
          3,
          4,
          5,
          6,
          7,
          8,
          9,
          10,
          11,
          12,
          13,
          14,
          15,
          16,
          17,
          18,
          19,
          20,
          21,
          22,
          23,
          24,
          25,
          26,
          27,
          28,
          29,
          30,
          31,
          32,
          33,
          34,
          35,
          36,
          37,
          38,
          39,
          40,
          41,
          42,
          43,
          44,
          45,
          46,
          47,
          48
         ],
         "y": [
          1.37,
          2.2,
          2.62,
          3.19,
          3.5,
          3.82,
          4.35,
          4.85,
          5.13,
          5.35,
          5.6,
          6.12,
          6.42,
          6.81,
          7.73,
          8.7,
          9.25,
          9.61,
          10.27,
          10,
          10.82,
          11.33,
          11.68,
          11.65,
          11.81,
          12.15,
          12.62,
          13.12,
          13.15,
          13.32,
          14.13,
          17.29,
          20.22,
          20.35,
          21.05,
          22.3,
          21.37,
          17.85,
          19.2,
          18.54,
          19.64,
          20.01,
          21.13,
          21.38,
          21.29,
          21.44,
          20.03
         ]
        },
        {
         "line": {
          "color": "black",
          "dash": "dash"
         },
         "mode": "lines",
         "name": "8192Theoretical Latency for size ",
         "type": "scatter",
         "x": [
          2,
          3,
          4,
          5,
          6,
          7,
          8,
          9,
          10,
          11,
          12,
          13,
          14,
          15,
          16,
          17,
          18,
          19,
          20,
          21,
          22,
          23,
          24,
          25,
          26,
          27,
          28,
          29,
          30,
          31,
          32,
          33,
          34,
          35,
          36,
          37,
          38,
          39,
          40,
          41,
          42,
          43,
          44,
          45,
          46,
          47,
          48
         ],
         "y": [
          1.4628108108108109,
          1.9056216216216217,
          2.3484324324324324,
          2.791243243243243,
          3.234054054054054,
          3.6768648648648647,
          4.119675675675676,
          4.5624864864864865,
          5.005297297297297,
          5.448108108108109,
          5.890918918918919,
          6.333729729729729,
          6.776540540540541,
          7.219351351351351,
          7.662162162162161,
          8.104972972972973,
          8.547783783783784,
          8.990594594594594,
          9.433405405405406,
          9.876216216216216,
          10.319027027027026,
          10.761837837837838,
          11.204648648648648,
          11.647459459459458,
          12.09027027027027,
          12.53308108108108,
          12.97589189189189,
          13.418702702702703,
          13.861513513513513,
          14.304324324324323,
          14.747135135135135,
          15.189945945945945,
          15.632756756756756,
          16.075567567567568,
          16.51837837837838,
          16.961189189189188,
          17.404,
          17.846810810810812,
          18.28962162162162,
          18.732432432432432,
          19.175243243243244,
          19.618054054054053,
          20.060864864864865,
          20.503675675675677,
          20.946486486486485,
          21.389297297297297,
          21.83210810810811
         ]
        }
       ],
       "layout": {
        "legend": {
         "title": {
          "text": "Message Size"
         }
        },
        "template": {
         "data": {
          "bar": [
           {
            "error_x": {
             "color": "#2a3f5f"
            },
            "error_y": {
             "color": "#2a3f5f"
            },
            "marker": {
             "line": {
              "color": "#E5ECF6",
              "width": 0.5
             },
             "pattern": {
              "fillmode": "overlay",
              "size": 10,
              "solidity": 0.2
             }
            },
            "type": "bar"
           }
          ],
          "barpolar": [
           {
            "marker": {
             "line": {
              "color": "#E5ECF6",
              "width": 0.5
             },
             "pattern": {
              "fillmode": "overlay",
              "size": 10,
              "solidity": 0.2
             }
            },
            "type": "barpolar"
           }
          ],
          "carpet": [
           {
            "aaxis": {
             "endlinecolor": "#2a3f5f",
             "gridcolor": "white",
             "linecolor": "white",
             "minorgridcolor": "white",
             "startlinecolor": "#2a3f5f"
            },
            "baxis": {
             "endlinecolor": "#2a3f5f",
             "gridcolor": "white",
             "linecolor": "white",
             "minorgridcolor": "white",
             "startlinecolor": "#2a3f5f"
            },
            "type": "carpet"
           }
          ],
          "choropleth": [
           {
            "colorbar": {
             "outlinewidth": 0,
             "ticks": ""
            },
            "type": "choropleth"
           }
          ],
          "contour": [
           {
            "colorbar": {
             "outlinewidth": 0,
             "ticks": ""
            },
            "colorscale": [
             [
              0,
              "#0d0887"
             ],
             [
              0.1111111111111111,
              "#46039f"
             ],
             [
              0.2222222222222222,
              "#7201a8"
             ],
             [
              0.3333333333333333,
              "#9c179e"
             ],
             [
              0.4444444444444444,
              "#bd3786"
             ],
             [
              0.5555555555555556,
              "#d8576b"
             ],
             [
              0.6666666666666666,
              "#ed7953"
             ],
             [
              0.7777777777777778,
              "#fb9f3a"
             ],
             [
              0.8888888888888888,
              "#fdca26"
             ],
             [
              1,
              "#f0f921"
             ]
            ],
            "type": "contour"
           }
          ],
          "contourcarpet": [
           {
            "colorbar": {
             "outlinewidth": 0,
             "ticks": ""
            },
            "type": "contourcarpet"
           }
          ],
          "heatmap": [
           {
            "colorbar": {
             "outlinewidth": 0,
             "ticks": ""
            },
            "colorscale": [
             [
              0,
              "#0d0887"
             ],
             [
              0.1111111111111111,
              "#46039f"
             ],
             [
              0.2222222222222222,
              "#7201a8"
             ],
             [
              0.3333333333333333,
              "#9c179e"
             ],
             [
              0.4444444444444444,
              "#bd3786"
             ],
             [
              0.5555555555555556,
              "#d8576b"
             ],
             [
              0.6666666666666666,
              "#ed7953"
             ],
             [
              0.7777777777777778,
              "#fb9f3a"
             ],
             [
              0.8888888888888888,
              "#fdca26"
             ],
             [
              1,
              "#f0f921"
             ]
            ],
            "type": "heatmap"
           }
          ],
          "heatmapgl": [
           {
            "colorbar": {
             "outlinewidth": 0,
             "ticks": ""
            },
            "colorscale": [
             [
              0,
              "#0d0887"
             ],
             [
              0.1111111111111111,
              "#46039f"
             ],
             [
              0.2222222222222222,
              "#7201a8"
             ],
             [
              0.3333333333333333,
              "#9c179e"
             ],
             [
              0.4444444444444444,
              "#bd3786"
             ],
             [
              0.5555555555555556,
              "#d8576b"
             ],
             [
              0.6666666666666666,
              "#ed7953"
             ],
             [
              0.7777777777777778,
              "#fb9f3a"
             ],
             [
              0.8888888888888888,
              "#fdca26"
             ],
             [
              1,
              "#f0f921"
             ]
            ],
            "type": "heatmapgl"
           }
          ],
          "histogram": [
           {
            "marker": {
             "pattern": {
              "fillmode": "overlay",
              "size": 10,
              "solidity": 0.2
             }
            },
            "type": "histogram"
           }
          ],
          "histogram2d": [
           {
            "colorbar": {
             "outlinewidth": 0,
             "ticks": ""
            },
            "colorscale": [
             [
              0,
              "#0d0887"
             ],
             [
              0.1111111111111111,
              "#46039f"
             ],
             [
              0.2222222222222222,
              "#7201a8"
             ],
             [
              0.3333333333333333,
              "#9c179e"
             ],
             [
              0.4444444444444444,
              "#bd3786"
             ],
             [
              0.5555555555555556,
              "#d8576b"
             ],
             [
              0.6666666666666666,
              "#ed7953"
             ],
             [
              0.7777777777777778,
              "#fb9f3a"
             ],
             [
              0.8888888888888888,
              "#fdca26"
             ],
             [
              1,
              "#f0f921"
             ]
            ],
            "type": "histogram2d"
           }
          ],
          "histogram2dcontour": [
           {
            "colorbar": {
             "outlinewidth": 0,
             "ticks": ""
            },
            "colorscale": [
             [
              0,
              "#0d0887"
             ],
             [
              0.1111111111111111,
              "#46039f"
             ],
             [
              0.2222222222222222,
              "#7201a8"
             ],
             [
              0.3333333333333333,
              "#9c179e"
             ],
             [
              0.4444444444444444,
              "#bd3786"
             ],
             [
              0.5555555555555556,
              "#d8576b"
             ],
             [
              0.6666666666666666,
              "#ed7953"
             ],
             [
              0.7777777777777778,
              "#fb9f3a"
             ],
             [
              0.8888888888888888,
              "#fdca26"
             ],
             [
              1,
              "#f0f921"
             ]
            ],
            "type": "histogram2dcontour"
           }
          ],
          "mesh3d": [
           {
            "colorbar": {
             "outlinewidth": 0,
             "ticks": ""
            },
            "type": "mesh3d"
           }
          ],
          "parcoords": [
           {
            "line": {
             "colorbar": {
              "outlinewidth": 0,
              "ticks": ""
             }
            },
            "type": "parcoords"
           }
          ],
          "pie": [
           {
            "automargin": true,
            "type": "pie"
           }
          ],
          "scatter": [
           {
            "fillpattern": {
             "fillmode": "overlay",
             "size": 10,
             "solidity": 0.2
            },
            "type": "scatter"
           }
          ],
          "scatter3d": [
           {
            "line": {
             "colorbar": {
              "outlinewidth": 0,
              "ticks": ""
             }
            },
            "marker": {
             "colorbar": {
              "outlinewidth": 0,
              "ticks": ""
             }
            },
            "type": "scatter3d"
           }
          ],
          "scattercarpet": [
           {
            "marker": {
             "colorbar": {
              "outlinewidth": 0,
              "ticks": ""
             }
            },
            "type": "scattercarpet"
           }
          ],
          "scattergeo": [
           {
            "marker": {
             "colorbar": {
              "outlinewidth": 0,
              "ticks": ""
             }
            },
            "type": "scattergeo"
           }
          ],
          "scattergl": [
           {
            "marker": {
             "colorbar": {
              "outlinewidth": 0,
              "ticks": ""
             }
            },
            "type": "scattergl"
           }
          ],
          "scattermapbox": [
           {
            "marker": {
             "colorbar": {
              "outlinewidth": 0,
              "ticks": ""
             }
            },
            "type": "scattermapbox"
           }
          ],
          "scatterpolar": [
           {
            "marker": {
             "colorbar": {
              "outlinewidth": 0,
              "ticks": ""
             }
            },
            "type": "scatterpolar"
           }
          ],
          "scatterpolargl": [
           {
            "marker": {
             "colorbar": {
              "outlinewidth": 0,
              "ticks": ""
             }
            },
            "type": "scatterpolargl"
           }
          ],
          "scatterternary": [
           {
            "marker": {
             "colorbar": {
              "outlinewidth": 0,
              "ticks": ""
             }
            },
            "type": "scatterternary"
           }
          ],
          "surface": [
           {
            "colorbar": {
             "outlinewidth": 0,
             "ticks": ""
            },
            "colorscale": [
             [
              0,
              "#0d0887"
             ],
             [
              0.1111111111111111,
              "#46039f"
             ],
             [
              0.2222222222222222,
              "#7201a8"
             ],
             [
              0.3333333333333333,
              "#9c179e"
             ],
             [
              0.4444444444444444,
              "#bd3786"
             ],
             [
              0.5555555555555556,
              "#d8576b"
             ],
             [
              0.6666666666666666,
              "#ed7953"
             ],
             [
              0.7777777777777778,
              "#fb9f3a"
             ],
             [
              0.8888888888888888,
              "#fdca26"
             ],
             [
              1,
              "#f0f921"
             ]
            ],
            "type": "surface"
           }
          ],
          "table": [
           {
            "cells": {
             "fill": {
              "color": "#EBF0F8"
             },
             "line": {
              "color": "white"
             }
            },
            "header": {
             "fill": {
              "color": "#C8D4E3"
             },
             "line": {
              "color": "white"
             }
            },
            "type": "table"
           }
          ]
         },
         "layout": {
          "annotationdefaults": {
           "arrowcolor": "#2a3f5f",
           "arrowhead": 0,
           "arrowwidth": 1
          },
          "autotypenumbers": "strict",
          "coloraxis": {
           "colorbar": {
            "outlinewidth": 0,
            "ticks": ""
           }
          },
          "colorscale": {
           "diverging": [
            [
             0,
             "#8e0152"
            ],
            [
             0.1,
             "#c51b7d"
            ],
            [
             0.2,
             "#de77ae"
            ],
            [
             0.3,
             "#f1b6da"
            ],
            [
             0.4,
             "#fde0ef"
            ],
            [
             0.5,
             "#f7f7f7"
            ],
            [
             0.6,
             "#e6f5d0"
            ],
            [
             0.7,
             "#b8e186"
            ],
            [
             0.8,
             "#7fbc41"
            ],
            [
             0.9,
             "#4d9221"
            ],
            [
             1,
             "#276419"
            ]
           ],
           "sequential": [
            [
             0,
             "#0d0887"
            ],
            [
             0.1111111111111111,
             "#46039f"
            ],
            [
             0.2222222222222222,
             "#7201a8"
            ],
            [
             0.3333333333333333,
             "#9c179e"
            ],
            [
             0.4444444444444444,
             "#bd3786"
            ],
            [
             0.5555555555555556,
             "#d8576b"
            ],
            [
             0.6666666666666666,
             "#ed7953"
            ],
            [
             0.7777777777777778,
             "#fb9f3a"
            ],
            [
             0.8888888888888888,
             "#fdca26"
            ],
            [
             1,
             "#f0f921"
            ]
           ],
           "sequentialminus": [
            [
             0,
             "#0d0887"
            ],
            [
             0.1111111111111111,
             "#46039f"
            ],
            [
             0.2222222222222222,
             "#7201a8"
            ],
            [
             0.3333333333333333,
             "#9c179e"
            ],
            [
             0.4444444444444444,
             "#bd3786"
            ],
            [
             0.5555555555555556,
             "#d8576b"
            ],
            [
             0.6666666666666666,
             "#ed7953"
            ],
            [
             0.7777777777777778,
             "#fb9f3a"
            ],
            [
             0.8888888888888888,
             "#fdca26"
            ],
            [
             1,
             "#f0f921"
            ]
           ]
          },
          "colorway": [
           "#636efa",
           "#EF553B",
           "#00cc96",
           "#ab63fa",
           "#FFA15A",
           "#19d3f3",
           "#FF6692",
           "#B6E880",
           "#FF97FF",
           "#FECB52"
          ],
          "font": {
           "color": "#2a3f5f"
          },
          "geo": {
           "bgcolor": "white",
           "lakecolor": "white",
           "landcolor": "#E5ECF6",
           "showlakes": true,
           "showland": true,
           "subunitcolor": "white"
          },
          "hoverlabel": {
           "align": "left"
          },
          "hovermode": "closest",
          "mapbox": {
           "style": "light"
          },
          "paper_bgcolor": "white",
          "plot_bgcolor": "#E5ECF6",
          "polar": {
           "angularaxis": {
            "gridcolor": "white",
            "linecolor": "white",
            "ticks": ""
           },
           "bgcolor": "#E5ECF6",
           "radialaxis": {
            "gridcolor": "white",
            "linecolor": "white",
            "ticks": ""
           }
          },
          "scene": {
           "xaxis": {
            "backgroundcolor": "#E5ECF6",
            "gridcolor": "white",
            "gridwidth": 2,
            "linecolor": "white",
            "showbackground": true,
            "ticks": "",
            "zerolinecolor": "white"
           },
           "yaxis": {
            "backgroundcolor": "#E5ECF6",
            "gridcolor": "white",
            "gridwidth": 2,
            "linecolor": "white",
            "showbackground": true,
            "ticks": "",
            "zerolinecolor": "white"
           },
           "zaxis": {
            "backgroundcolor": "#E5ECF6",
            "gridcolor": "white",
            "gridwidth": 2,
            "linecolor": "white",
            "showbackground": true,
            "ticks": "",
            "zerolinecolor": "white"
           }
          },
          "shapedefaults": {
           "line": {
            "color": "#2a3f5f"
           }
          },
          "ternary": {
           "aaxis": {
            "gridcolor": "white",
            "linecolor": "white",
            "ticks": ""
           },
           "baxis": {
            "gridcolor": "white",
            "linecolor": "white",
            "ticks": ""
           },
           "bgcolor": "#E5ECF6",
           "caxis": {
            "gridcolor": "white",
            "linecolor": "white",
            "ticks": ""
           }
          },
          "title": {
           "x": 0.05
          },
          "xaxis": {
           "automargin": true,
           "gridcolor": "white",
           "linecolor": "white",
           "ticks": "",
           "title": {
            "standoff": 15
           },
           "zerolinecolor": "white",
           "zerolinewidth": 2
          },
          "yaxis": {
           "automargin": true,
           "gridcolor": "white",
           "linecolor": "white",
           "ticks": "",
           "title": {
            "standoff": 15
           },
           "zerolinecolor": "white",
           "zerolinewidth": 2
          }
         }
        },
        "title": {
         "text": "Latency vs Processes for the broadcast using chain Algorithm"
        },
        "xaxis": {
         "tickvals": [
          2,
          4,
          6,
          8,
          12,
          16,
          20,
          24,
          28,
          32,
          36,
          40,
          44,
          48
         ],
         "title": {
          "text": "Processes"
         }
        },
        "yaxis": {
         "title": {
          "text": "Latency (us)"
         },
         "type": "linear"
        }
       }
      }
     },
     "metadata": {},
     "output_type": "display_data"
    },
    {
     "data": {
      "application/vnd.plotly.v1+json": {
       "config": {
        "plotlyServerURL": "https://plot.ly"
       },
       "data": [
        {
         "mode": "lines+markers",
         "name": "8192",
         "type": "scatter",
         "x": [
          2,
          3,
          4,
          5,
          6,
          7,
          8,
          9,
          10,
          11,
          12,
          13,
          14,
          15,
          16,
          17,
          18,
          19,
          20,
          21,
          22,
          23,
          24,
          25,
          26,
          27,
          28,
          29,
          30,
          31,
          32,
          33,
          34,
          35,
          36,
          37,
          38,
          39,
          40,
          41,
          42,
          43,
          44,
          45,
          46,
          47,
          48
         ],
         "y": [
          1.35,
          2.15,
          2.53,
          3.04,
          3.44,
          3.76,
          4.35,
          4.76,
          4.98,
          5.33,
          5.49,
          6.09,
          6.38,
          6.72,
          7.9,
          8.69,
          9.17,
          9.36,
          10.22,
          9.94,
          10.71,
          11.27,
          11.56,
          11.55,
          11.79,
          12.19,
          12.53,
          13.1,
          13.1,
          15.15,
          13.94,
          18.15,
          17.92,
          17.55,
          19.67,
          20.72,
          21.46,
          20.45,
          21.71,
          24.41,
          26.27,
          23.58,
          24.81,
          21.22,
          22.94,
          20.37,
          19.99
         ]
        },
        {
         "line": {
          "color": "black",
          "dash": "dash"
         },
         "mode": "lines",
         "name": "8192Theoretical Latency for size ",
         "type": "scatter",
         "x": [
          2,
          3,
          4,
          5,
          6,
          7,
          8,
          9,
          10,
          11,
          12,
          13,
          14,
          15,
          16,
          17,
          18,
          19,
          20,
          21,
          22,
          23,
          24,
          25,
          26,
          27,
          28,
          29,
          30,
          31,
          32,
          33,
          34,
          35,
          36,
          37,
          38,
          39,
          40,
          41,
          42,
          43,
          44,
          45,
          46,
          47,
          48
         ],
         "y": [
          1.4628108108108109,
          1.9056216216216217,
          2.3484324324324324,
          2.791243243243243,
          3.234054054054054,
          3.6768648648648647,
          4.119675675675676,
          4.5624864864864865,
          5.005297297297297,
          5.448108108108109,
          5.890918918918919,
          6.333729729729729,
          6.776540540540541,
          7.219351351351351,
          7.662162162162161,
          8.104972972972973,
          8.547783783783784,
          8.990594594594594,
          9.433405405405406,
          9.876216216216216,
          10.319027027027026,
          10.761837837837838,
          11.204648648648648,
          11.647459459459458,
          12.09027027027027,
          12.53308108108108,
          12.97589189189189,
          13.418702702702703,
          13.861513513513513,
          14.304324324324323,
          14.747135135135135,
          15.189945945945945,
          15.632756756756756,
          16.075567567567568,
          16.51837837837838,
          16.961189189189188,
          17.404,
          17.846810810810812,
          18.28962162162162,
          18.732432432432432,
          19.175243243243244,
          19.618054054054053,
          20.060864864864865,
          20.503675675675677,
          20.946486486486485,
          21.389297297297297,
          21.83210810810811
         ]
        },
        {
         "mode": "lines+markers",
         "name": "8192",
         "type": "scatter",
         "x": [
          2,
          3,
          4,
          5,
          6,
          7,
          8,
          9,
          10,
          11,
          12,
          13,
          14,
          15,
          16,
          17,
          18,
          19,
          20,
          21,
          22,
          23,
          24,
          25,
          26,
          27,
          28,
          29,
          30,
          31,
          32,
          33,
          34,
          35,
          36,
          37,
          38,
          39,
          40,
          41,
          42,
          43,
          44,
          45,
          46,
          47,
          48
         ],
         "y": [
          1.35,
          2.2,
          2.63,
          3.13,
          3.7,
          3.78,
          4.36,
          4.88,
          5.08,
          5.41,
          5.58,
          6.22,
          6.48,
          6.98,
          7.79,
          8.78,
          9.25,
          9.51,
          10.27,
          10.13,
          10.96,
          11.24,
          11.67,
          11.72,
          11.8,
          12.22,
          12.87,
          14.27,
          13.29,
          13.51,
          14.18,
          17.66,
          20.98,
          19.4,
          23.1,
          19.6,
          23.02,
          22.13,
          22.45,
          22.56,
          19.77,
          19.86,
          20.93,
          21.4,
          20.02,
          20.38,
          20.01
         ]
        },
        {
         "line": {
          "color": "black",
          "dash": "dash"
         },
         "mode": "lines",
         "name": "8192Theoretical Latency for size ",
         "type": "scatter",
         "x": [
          2,
          3,
          4,
          5,
          6,
          7,
          8,
          9,
          10,
          11,
          12,
          13,
          14,
          15,
          16,
          17,
          18,
          19,
          20,
          21,
          22,
          23,
          24,
          25,
          26,
          27,
          28,
          29,
          30,
          31,
          32,
          33,
          34,
          35,
          36,
          37,
          38,
          39,
          40,
          41,
          42,
          43,
          44,
          45,
          46,
          47,
          48
         ],
         "y": [
          1.4628108108108109,
          1.9056216216216217,
          2.3484324324324324,
          2.791243243243243,
          3.234054054054054,
          3.6768648648648647,
          4.119675675675676,
          4.5624864864864865,
          5.005297297297297,
          5.448108108108109,
          5.890918918918919,
          6.333729729729729,
          6.776540540540541,
          7.219351351351351,
          7.662162162162161,
          8.104972972972973,
          8.547783783783784,
          8.990594594594594,
          9.433405405405406,
          9.876216216216216,
          10.319027027027026,
          10.761837837837838,
          11.204648648648648,
          11.647459459459458,
          12.09027027027027,
          12.53308108108108,
          12.97589189189189,
          13.418702702702703,
          13.861513513513513,
          14.304324324324323,
          14.747135135135135,
          15.189945945945945,
          15.632756756756756,
          16.075567567567568,
          16.51837837837838,
          16.961189189189188,
          17.404,
          17.846810810810812,
          18.28962162162162,
          18.732432432432432,
          19.175243243243244,
          19.618054054054053,
          20.060864864864865,
          20.503675675675677,
          20.946486486486485,
          21.389297297297297,
          21.83210810810811
         ]
        },
        {
         "mode": "lines+markers",
         "name": "8192",
         "type": "scatter",
         "x": [
          2,
          3,
          4,
          5,
          6,
          7,
          8,
          9,
          10,
          11,
          12,
          13,
          14,
          15,
          16,
          17,
          18,
          19,
          20,
          21,
          22,
          23,
          24,
          25,
          26,
          27,
          28,
          29,
          30,
          31,
          32,
          33,
          34,
          35,
          36,
          37,
          38,
          39,
          40,
          41,
          42,
          43,
          44,
          45,
          46,
          47,
          48
         ],
         "y": [
          1.35,
          2.24,
          2.63,
          3.14,
          3.43,
          3.81,
          4.28,
          4.79,
          5,
          5.4,
          5.57,
          6.1,
          6.43,
          6.8,
          7.74,
          8.68,
          9.26,
          9.49,
          10.12,
          9.97,
          10.78,
          11.14,
          11.61,
          11.85,
          11.71,
          12.19,
          12.57,
          13.3,
          14.7,
          13.68,
          14.13,
          18.83,
          17.34,
          17.03,
          18.12,
          17.15,
          17.65,
          18.07,
          19.39,
          18.35,
          19.57,
          19.81,
          19.84,
          20.28,
          19.98,
          20.29,
          19.75
         ]
        },
        {
         "line": {
          "color": "black",
          "dash": "dash"
         },
         "mode": "lines",
         "name": "8192Theoretical Latency for size ",
         "type": "scatter",
         "x": [
          2,
          3,
          4,
          5,
          6,
          7,
          8,
          9,
          10,
          11,
          12,
          13,
          14,
          15,
          16,
          17,
          18,
          19,
          20,
          21,
          22,
          23,
          24,
          25,
          26,
          27,
          28,
          29,
          30,
          31,
          32,
          33,
          34,
          35,
          36,
          37,
          38,
          39,
          40,
          41,
          42,
          43,
          44,
          45,
          46,
          47,
          48
         ],
         "y": [
          1.4628108108108109,
          1.9056216216216217,
          2.3484324324324324,
          2.791243243243243,
          3.234054054054054,
          3.6768648648648647,
          4.119675675675676,
          4.5624864864864865,
          5.005297297297297,
          5.448108108108109,
          5.890918918918919,
          6.333729729729729,
          6.776540540540541,
          7.219351351351351,
          7.662162162162161,
          8.104972972972973,
          8.547783783783784,
          8.990594594594594,
          9.433405405405406,
          9.876216216216216,
          10.319027027027026,
          10.761837837837838,
          11.204648648648648,
          11.647459459459458,
          12.09027027027027,
          12.53308108108108,
          12.97589189189189,
          13.418702702702703,
          13.861513513513513,
          14.304324324324323,
          14.747135135135135,
          15.189945945945945,
          15.632756756756756,
          16.075567567567568,
          16.51837837837838,
          16.961189189189188,
          17.404,
          17.846810810810812,
          18.28962162162162,
          18.732432432432432,
          19.175243243243244,
          19.618054054054053,
          20.060864864864865,
          20.503675675675677,
          20.946486486486485,
          21.389297297297297,
          21.83210810810811
         ]
        },
        {
         "mode": "lines+markers",
         "name": "8192",
         "type": "scatter",
         "x": [
          2,
          3,
          4,
          5,
          6,
          7,
          8,
          9,
          10,
          11,
          12,
          13,
          14,
          15,
          16,
          17,
          18,
          19,
          20,
          21,
          22,
          23,
          24,
          25,
          26,
          27,
          28,
          29,
          30,
          31,
          32,
          33,
          34,
          35,
          36,
          37,
          38,
          39,
          40,
          41,
          42,
          43,
          44,
          45,
          46,
          47,
          48
         ],
         "y": [
          1.57,
          2.18,
          2.78,
          3.15,
          3.47,
          3.85,
          4.41,
          4.87,
          5.13,
          5.51,
          5.58,
          6.11,
          6.42,
          6.77,
          7.69,
          8.67,
          9.46,
          9.53,
          10.35,
          10.03,
          10.9,
          11.17,
          11.73,
          11.66,
          12.11,
          12.34,
          12.63,
          13.26,
          13.26,
          13.31,
          14.12,
          16.49,
          18.6,
          24.24,
          20.94,
          20.16,
          23.63,
          20.01,
          23.48,
          23.39,
          20.23,
          26.61,
          22.12,
          20.42,
          20.98,
          20.42,
          19.99
         ]
        },
        {
         "line": {
          "color": "black",
          "dash": "dash"
         },
         "mode": "lines",
         "name": "8192Theoretical Latency for size ",
         "type": "scatter",
         "x": [
          2,
          3,
          4,
          5,
          6,
          7,
          8,
          9,
          10,
          11,
          12,
          13,
          14,
          15,
          16,
          17,
          18,
          19,
          20,
          21,
          22,
          23,
          24,
          25,
          26,
          27,
          28,
          29,
          30,
          31,
          32,
          33,
          34,
          35,
          36,
          37,
          38,
          39,
          40,
          41,
          42,
          43,
          44,
          45,
          46,
          47,
          48
         ],
         "y": [
          1.4628108108108109,
          1.9056216216216217,
          2.3484324324324324,
          2.791243243243243,
          3.234054054054054,
          3.6768648648648647,
          4.119675675675676,
          4.5624864864864865,
          5.005297297297297,
          5.448108108108109,
          5.890918918918919,
          6.333729729729729,
          6.776540540540541,
          7.219351351351351,
          7.662162162162161,
          8.104972972972973,
          8.547783783783784,
          8.990594594594594,
          9.433405405405406,
          9.876216216216216,
          10.319027027027026,
          10.761837837837838,
          11.204648648648648,
          11.647459459459458,
          12.09027027027027,
          12.53308108108108,
          12.97589189189189,
          13.418702702702703,
          13.861513513513513,
          14.304324324324323,
          14.747135135135135,
          15.189945945945945,
          15.632756756756756,
          16.075567567567568,
          16.51837837837838,
          16.961189189189188,
          17.404,
          17.846810810810812,
          18.28962162162162,
          18.732432432432432,
          19.175243243243244,
          19.618054054054053,
          20.060864864864865,
          20.503675675675677,
          20.946486486486485,
          21.389297297297297,
          21.83210810810811
         ]
        },
        {
         "mode": "lines+markers",
         "name": "8192",
         "type": "scatter",
         "x": [
          2,
          3,
          4,
          5,
          6,
          7,
          8,
          9,
          10,
          11,
          12,
          13,
          14,
          15,
          16,
          17,
          18,
          19,
          20,
          21,
          22,
          23,
          24,
          25,
          26,
          27,
          28,
          29,
          30,
          31,
          32,
          33,
          34,
          35,
          36,
          37,
          38,
          39,
          40,
          41,
          42,
          43,
          44,
          45,
          46,
          47,
          48
         ],
         "y": [
          1.37,
          2.2,
          2.62,
          3.19,
          3.5,
          3.82,
          4.35,
          4.85,
          5.13,
          5.35,
          5.6,
          6.12,
          6.42,
          6.81,
          7.73,
          8.7,
          9.25,
          9.61,
          10.27,
          10,
          10.82,
          11.33,
          11.68,
          11.65,
          11.81,
          12.15,
          12.62,
          13.12,
          13.15,
          13.32,
          14.13,
          17.29,
          20.22,
          20.35,
          21.05,
          22.3,
          21.37,
          17.85,
          19.2,
          18.54,
          19.64,
          20.01,
          21.13,
          21.38,
          21.29,
          21.44,
          20.03
         ]
        },
        {
         "line": {
          "color": "black",
          "dash": "dash"
         },
         "mode": "lines",
         "name": "8192Theoretical Latency for size ",
         "type": "scatter",
         "x": [
          2,
          3,
          4,
          5,
          6,
          7,
          8,
          9,
          10,
          11,
          12,
          13,
          14,
          15,
          16,
          17,
          18,
          19,
          20,
          21,
          22,
          23,
          24,
          25,
          26,
          27,
          28,
          29,
          30,
          31,
          32,
          33,
          34,
          35,
          36,
          37,
          38,
          39,
          40,
          41,
          42,
          43,
          44,
          45,
          46,
          47,
          48
         ],
         "y": [
          1.4628108108108109,
          1.9056216216216217,
          2.3484324324324324,
          2.791243243243243,
          3.234054054054054,
          3.6768648648648647,
          4.119675675675676,
          4.5624864864864865,
          5.005297297297297,
          5.448108108108109,
          5.890918918918919,
          6.333729729729729,
          6.776540540540541,
          7.219351351351351,
          7.662162162162161,
          8.104972972972973,
          8.547783783783784,
          8.990594594594594,
          9.433405405405406,
          9.876216216216216,
          10.319027027027026,
          10.761837837837838,
          11.204648648648648,
          11.647459459459458,
          12.09027027027027,
          12.53308108108108,
          12.97589189189189,
          13.418702702702703,
          13.861513513513513,
          14.304324324324323,
          14.747135135135135,
          15.189945945945945,
          15.632756756756756,
          16.075567567567568,
          16.51837837837838,
          16.961189189189188,
          17.404,
          17.846810810810812,
          18.28962162162162,
          18.732432432432432,
          19.175243243243244,
          19.618054054054053,
          20.060864864864865,
          20.503675675675677,
          20.946486486486485,
          21.389297297297297,
          21.83210810810811
         ]
        }
       ],
       "layout": {
        "legend": {
         "title": {
          "text": "Message Size"
         }
        },
        "template": {
         "data": {
          "bar": [
           {
            "error_x": {
             "color": "#2a3f5f"
            },
            "error_y": {
             "color": "#2a3f5f"
            },
            "marker": {
             "line": {
              "color": "#E5ECF6",
              "width": 0.5
             },
             "pattern": {
              "fillmode": "overlay",
              "size": 10,
              "solidity": 0.2
             }
            },
            "type": "bar"
           }
          ],
          "barpolar": [
           {
            "marker": {
             "line": {
              "color": "#E5ECF6",
              "width": 0.5
             },
             "pattern": {
              "fillmode": "overlay",
              "size": 10,
              "solidity": 0.2
             }
            },
            "type": "barpolar"
           }
          ],
          "carpet": [
           {
            "aaxis": {
             "endlinecolor": "#2a3f5f",
             "gridcolor": "white",
             "linecolor": "white",
             "minorgridcolor": "white",
             "startlinecolor": "#2a3f5f"
            },
            "baxis": {
             "endlinecolor": "#2a3f5f",
             "gridcolor": "white",
             "linecolor": "white",
             "minorgridcolor": "white",
             "startlinecolor": "#2a3f5f"
            },
            "type": "carpet"
           }
          ],
          "choropleth": [
           {
            "colorbar": {
             "outlinewidth": 0,
             "ticks": ""
            },
            "type": "choropleth"
           }
          ],
          "contour": [
           {
            "colorbar": {
             "outlinewidth": 0,
             "ticks": ""
            },
            "colorscale": [
             [
              0,
              "#0d0887"
             ],
             [
              0.1111111111111111,
              "#46039f"
             ],
             [
              0.2222222222222222,
              "#7201a8"
             ],
             [
              0.3333333333333333,
              "#9c179e"
             ],
             [
              0.4444444444444444,
              "#bd3786"
             ],
             [
              0.5555555555555556,
              "#d8576b"
             ],
             [
              0.6666666666666666,
              "#ed7953"
             ],
             [
              0.7777777777777778,
              "#fb9f3a"
             ],
             [
              0.8888888888888888,
              "#fdca26"
             ],
             [
              1,
              "#f0f921"
             ]
            ],
            "type": "contour"
           }
          ],
          "contourcarpet": [
           {
            "colorbar": {
             "outlinewidth": 0,
             "ticks": ""
            },
            "type": "contourcarpet"
           }
          ],
          "heatmap": [
           {
            "colorbar": {
             "outlinewidth": 0,
             "ticks": ""
            },
            "colorscale": [
             [
              0,
              "#0d0887"
             ],
             [
              0.1111111111111111,
              "#46039f"
             ],
             [
              0.2222222222222222,
              "#7201a8"
             ],
             [
              0.3333333333333333,
              "#9c179e"
             ],
             [
              0.4444444444444444,
              "#bd3786"
             ],
             [
              0.5555555555555556,
              "#d8576b"
             ],
             [
              0.6666666666666666,
              "#ed7953"
             ],
             [
              0.7777777777777778,
              "#fb9f3a"
             ],
             [
              0.8888888888888888,
              "#fdca26"
             ],
             [
              1,
              "#f0f921"
             ]
            ],
            "type": "heatmap"
           }
          ],
          "heatmapgl": [
           {
            "colorbar": {
             "outlinewidth": 0,
             "ticks": ""
            },
            "colorscale": [
             [
              0,
              "#0d0887"
             ],
             [
              0.1111111111111111,
              "#46039f"
             ],
             [
              0.2222222222222222,
              "#7201a8"
             ],
             [
              0.3333333333333333,
              "#9c179e"
             ],
             [
              0.4444444444444444,
              "#bd3786"
             ],
             [
              0.5555555555555556,
              "#d8576b"
             ],
             [
              0.6666666666666666,
              "#ed7953"
             ],
             [
              0.7777777777777778,
              "#fb9f3a"
             ],
             [
              0.8888888888888888,
              "#fdca26"
             ],
             [
              1,
              "#f0f921"
             ]
            ],
            "type": "heatmapgl"
           }
          ],
          "histogram": [
           {
            "marker": {
             "pattern": {
              "fillmode": "overlay",
              "size": 10,
              "solidity": 0.2
             }
            },
            "type": "histogram"
           }
          ],
          "histogram2d": [
           {
            "colorbar": {
             "outlinewidth": 0,
             "ticks": ""
            },
            "colorscale": [
             [
              0,
              "#0d0887"
             ],
             [
              0.1111111111111111,
              "#46039f"
             ],
             [
              0.2222222222222222,
              "#7201a8"
             ],
             [
              0.3333333333333333,
              "#9c179e"
             ],
             [
              0.4444444444444444,
              "#bd3786"
             ],
             [
              0.5555555555555556,
              "#d8576b"
             ],
             [
              0.6666666666666666,
              "#ed7953"
             ],
             [
              0.7777777777777778,
              "#fb9f3a"
             ],
             [
              0.8888888888888888,
              "#fdca26"
             ],
             [
              1,
              "#f0f921"
             ]
            ],
            "type": "histogram2d"
           }
          ],
          "histogram2dcontour": [
           {
            "colorbar": {
             "outlinewidth": 0,
             "ticks": ""
            },
            "colorscale": [
             [
              0,
              "#0d0887"
             ],
             [
              0.1111111111111111,
              "#46039f"
             ],
             [
              0.2222222222222222,
              "#7201a8"
             ],
             [
              0.3333333333333333,
              "#9c179e"
             ],
             [
              0.4444444444444444,
              "#bd3786"
             ],
             [
              0.5555555555555556,
              "#d8576b"
             ],
             [
              0.6666666666666666,
              "#ed7953"
             ],
             [
              0.7777777777777778,
              "#fb9f3a"
             ],
             [
              0.8888888888888888,
              "#fdca26"
             ],
             [
              1,
              "#f0f921"
             ]
            ],
            "type": "histogram2dcontour"
           }
          ],
          "mesh3d": [
           {
            "colorbar": {
             "outlinewidth": 0,
             "ticks": ""
            },
            "type": "mesh3d"
           }
          ],
          "parcoords": [
           {
            "line": {
             "colorbar": {
              "outlinewidth": 0,
              "ticks": ""
             }
            },
            "type": "parcoords"
           }
          ],
          "pie": [
           {
            "automargin": true,
            "type": "pie"
           }
          ],
          "scatter": [
           {
            "fillpattern": {
             "fillmode": "overlay",
             "size": 10,
             "solidity": 0.2
            },
            "type": "scatter"
           }
          ],
          "scatter3d": [
           {
            "line": {
             "colorbar": {
              "outlinewidth": 0,
              "ticks": ""
             }
            },
            "marker": {
             "colorbar": {
              "outlinewidth": 0,
              "ticks": ""
             }
            },
            "type": "scatter3d"
           }
          ],
          "scattercarpet": [
           {
            "marker": {
             "colorbar": {
              "outlinewidth": 0,
              "ticks": ""
             }
            },
            "type": "scattercarpet"
           }
          ],
          "scattergeo": [
           {
            "marker": {
             "colorbar": {
              "outlinewidth": 0,
              "ticks": ""
             }
            },
            "type": "scattergeo"
           }
          ],
          "scattergl": [
           {
            "marker": {
             "colorbar": {
              "outlinewidth": 0,
              "ticks": ""
             }
            },
            "type": "scattergl"
           }
          ],
          "scattermapbox": [
           {
            "marker": {
             "colorbar": {
              "outlinewidth": 0,
              "ticks": ""
             }
            },
            "type": "scattermapbox"
           }
          ],
          "scatterpolar": [
           {
            "marker": {
             "colorbar": {
              "outlinewidth": 0,
              "ticks": ""
             }
            },
            "type": "scatterpolar"
           }
          ],
          "scatterpolargl": [
           {
            "marker": {
             "colorbar": {
              "outlinewidth": 0,
              "ticks": ""
             }
            },
            "type": "scatterpolargl"
           }
          ],
          "scatterternary": [
           {
            "marker": {
             "colorbar": {
              "outlinewidth": 0,
              "ticks": ""
             }
            },
            "type": "scatterternary"
           }
          ],
          "surface": [
           {
            "colorbar": {
             "outlinewidth": 0,
             "ticks": ""
            },
            "colorscale": [
             [
              0,
              "#0d0887"
             ],
             [
              0.1111111111111111,
              "#46039f"
             ],
             [
              0.2222222222222222,
              "#7201a8"
             ],
             [
              0.3333333333333333,
              "#9c179e"
             ],
             [
              0.4444444444444444,
              "#bd3786"
             ],
             [
              0.5555555555555556,
              "#d8576b"
             ],
             [
              0.6666666666666666,
              "#ed7953"
             ],
             [
              0.7777777777777778,
              "#fb9f3a"
             ],
             [
              0.8888888888888888,
              "#fdca26"
             ],
             [
              1,
              "#f0f921"
             ]
            ],
            "type": "surface"
           }
          ],
          "table": [
           {
            "cells": {
             "fill": {
              "color": "#EBF0F8"
             },
             "line": {
              "color": "white"
             }
            },
            "header": {
             "fill": {
              "color": "#C8D4E3"
             },
             "line": {
              "color": "white"
             }
            },
            "type": "table"
           }
          ]
         },
         "layout": {
          "annotationdefaults": {
           "arrowcolor": "#2a3f5f",
           "arrowhead": 0,
           "arrowwidth": 1
          },
          "autotypenumbers": "strict",
          "coloraxis": {
           "colorbar": {
            "outlinewidth": 0,
            "ticks": ""
           }
          },
          "colorscale": {
           "diverging": [
            [
             0,
             "#8e0152"
            ],
            [
             0.1,
             "#c51b7d"
            ],
            [
             0.2,
             "#de77ae"
            ],
            [
             0.3,
             "#f1b6da"
            ],
            [
             0.4,
             "#fde0ef"
            ],
            [
             0.5,
             "#f7f7f7"
            ],
            [
             0.6,
             "#e6f5d0"
            ],
            [
             0.7,
             "#b8e186"
            ],
            [
             0.8,
             "#7fbc41"
            ],
            [
             0.9,
             "#4d9221"
            ],
            [
             1,
             "#276419"
            ]
           ],
           "sequential": [
            [
             0,
             "#0d0887"
            ],
            [
             0.1111111111111111,
             "#46039f"
            ],
            [
             0.2222222222222222,
             "#7201a8"
            ],
            [
             0.3333333333333333,
             "#9c179e"
            ],
            [
             0.4444444444444444,
             "#bd3786"
            ],
            [
             0.5555555555555556,
             "#d8576b"
            ],
            [
             0.6666666666666666,
             "#ed7953"
            ],
            [
             0.7777777777777778,
             "#fb9f3a"
            ],
            [
             0.8888888888888888,
             "#fdca26"
            ],
            [
             1,
             "#f0f921"
            ]
           ],
           "sequentialminus": [
            [
             0,
             "#0d0887"
            ],
            [
             0.1111111111111111,
             "#46039f"
            ],
            [
             0.2222222222222222,
             "#7201a8"
            ],
            [
             0.3333333333333333,
             "#9c179e"
            ],
            [
             0.4444444444444444,
             "#bd3786"
            ],
            [
             0.5555555555555556,
             "#d8576b"
            ],
            [
             0.6666666666666666,
             "#ed7953"
            ],
            [
             0.7777777777777778,
             "#fb9f3a"
            ],
            [
             0.8888888888888888,
             "#fdca26"
            ],
            [
             1,
             "#f0f921"
            ]
           ]
          },
          "colorway": [
           "#636efa",
           "#EF553B",
           "#00cc96",
           "#ab63fa",
           "#FFA15A",
           "#19d3f3",
           "#FF6692",
           "#B6E880",
           "#FF97FF",
           "#FECB52"
          ],
          "font": {
           "color": "#2a3f5f"
          },
          "geo": {
           "bgcolor": "white",
           "lakecolor": "white",
           "landcolor": "#E5ECF6",
           "showlakes": true,
           "showland": true,
           "subunitcolor": "white"
          },
          "hoverlabel": {
           "align": "left"
          },
          "hovermode": "closest",
          "mapbox": {
           "style": "light"
          },
          "paper_bgcolor": "white",
          "plot_bgcolor": "#E5ECF6",
          "polar": {
           "angularaxis": {
            "gridcolor": "white",
            "linecolor": "white",
            "ticks": ""
           },
           "bgcolor": "#E5ECF6",
           "radialaxis": {
            "gridcolor": "white",
            "linecolor": "white",
            "ticks": ""
           }
          },
          "scene": {
           "xaxis": {
            "backgroundcolor": "#E5ECF6",
            "gridcolor": "white",
            "gridwidth": 2,
            "linecolor": "white",
            "showbackground": true,
            "ticks": "",
            "zerolinecolor": "white"
           },
           "yaxis": {
            "backgroundcolor": "#E5ECF6",
            "gridcolor": "white",
            "gridwidth": 2,
            "linecolor": "white",
            "showbackground": true,
            "ticks": "",
            "zerolinecolor": "white"
           },
           "zaxis": {
            "backgroundcolor": "#E5ECF6",
            "gridcolor": "white",
            "gridwidth": 2,
            "linecolor": "white",
            "showbackground": true,
            "ticks": "",
            "zerolinecolor": "white"
           }
          },
          "shapedefaults": {
           "line": {
            "color": "#2a3f5f"
           }
          },
          "ternary": {
           "aaxis": {
            "gridcolor": "white",
            "linecolor": "white",
            "ticks": ""
           },
           "baxis": {
            "gridcolor": "white",
            "linecolor": "white",
            "ticks": ""
           },
           "bgcolor": "#E5ECF6",
           "caxis": {
            "gridcolor": "white",
            "linecolor": "white",
            "ticks": ""
           }
          },
          "title": {
           "x": 0.05
          },
          "xaxis": {
           "automargin": true,
           "gridcolor": "white",
           "linecolor": "white",
           "ticks": "",
           "title": {
            "standoff": 15
           },
           "zerolinecolor": "white",
           "zerolinewidth": 2
          },
          "yaxis": {
           "automargin": true,
           "gridcolor": "white",
           "linecolor": "white",
           "ticks": "",
           "title": {
            "standoff": 15
           },
           "zerolinecolor": "white",
           "zerolinewidth": 2
          }
         }
        },
        "title": {
         "text": "Latency vs Processes for the broadcast using chain Algorithm"
        },
        "xaxis": {
         "tickvals": [
          2,
          4,
          6,
          8,
          12,
          16,
          20,
          24,
          28,
          32,
          36,
          40,
          44,
          48
         ],
         "title": {
          "text": "Processes"
         }
        },
        "yaxis": {
         "title": {
          "text": "Latency (us)"
         },
         "type": "log"
        }
       }
      }
     },
     "metadata": {},
     "output_type": "display_data"
    }
   ],
   "source": [
    "plot_latency_vs_processes(chain_df, 'chain', 'linear')\n",
    "plot_latency_vs_processes(chain_df, 'chain','log')"
   ]
  },
  {
   "cell_type": "code",
   "execution_count": 320,
   "metadata": {},
   "outputs": [
    {
     "data": {
      "application/vnd.plotly.v1+json": {
       "config": {
        "plotlyServerURL": "https://plot.ly"
       },
       "data": [
        {
         "mode": "lines+markers",
         "name": "8192",
         "type": "scatter",
         "x": [
          2,
          3,
          4,
          5,
          6,
          7,
          8,
          9,
          10,
          11,
          12,
          13,
          14,
          15,
          16,
          17,
          18,
          19,
          20,
          21,
          22,
          23,
          24,
          25,
          26,
          27,
          28,
          29,
          30,
          31,
          32,
          33,
          34,
          35,
          36,
          37,
          38,
          39,
          40,
          41,
          42,
          43,
          44,
          45,
          46,
          47,
          48
         ],
         "y": [
          1.33,
          2.18,
          2.56,
          3.05,
          3.57,
          4.05,
          4.88,
          5.28,
          5.89,
          6.32,
          6.77,
          7.47,
          8.35,
          9.36,
          11.14,
          11.97,
          13.89,
          14.5,
          15.67,
          16.76,
          17.99,
          19.18,
          20.49,
          21.25,
          22.29,
          23.12,
          24.1,
          25.4,
          26.19,
          27.12,
          28.29,
          29.66,
          30.17,
          30.47,
          31.39,
          31.83,
          32.64,
          33.38,
          35,
          34.8,
          35.63,
          36.46,
          37.16,
          38.28,
          39.2,
          39.62,
          40.22
         ]
        },
        {
         "line": {
          "color": "black",
          "dash": "dash"
         },
         "mode": "lines",
         "name": "8192Theoretical Latency for size ",
         "type": "scatter",
         "x": [
          2,
          3,
          4,
          5,
          6,
          7,
          8,
          9,
          10,
          11,
          12,
          13,
          14,
          15,
          16,
          17,
          18,
          19,
          20,
          21,
          22,
          23,
          24,
          25,
          26,
          27,
          28,
          29,
          30,
          31,
          32,
          33,
          34,
          35,
          36,
          37,
          38,
          39,
          40,
          41,
          42,
          43,
          44,
          45,
          46,
          47,
          48
         ],
         "y": [
          1.5735135135135137,
          2.127027027027027,
          2.6805405405405405,
          3.234054054054054,
          3.7875675675675677,
          4.3410810810810805,
          4.894594594594595,
          5.448108108108109,
          6.001621621621622,
          6.555135135135135,
          7.108648648648648,
          7.662162162162161,
          8.682162162162161,
          9.78918918918919,
          10.896216216216215,
          12.003243243243242,
          13.110270270270268,
          14.217297297297298,
          15.324324324324325,
          16.431351351351353,
          17.538378378378376,
          18.645405405405405,
          19.75243243243243,
          20.85945945945946,
          21.879459459459458,
          22.986486486486484,
          24.09351351351351,
          25.200540540540537,
          26.307567567567567,
          27.41459459459459,
          28.52162162162162,
          29.62864864864865,
          30.735675675675672,
          31.842702702702702,
          32.949729729729725,
          34.056756756756755,
          35.07675675675676,
          36.18378378378378,
          37.29081081081081,
          38.397837837837834,
          39.504864864864864,
          40.611891891891894,
          41.71891891891892,
          42.825945945945946,
          43.93297297297297,
          45.04
         ]
        },
        {
         "mode": "lines+markers",
         "name": "8192",
         "type": "scatter",
         "x": [
          2,
          3,
          4,
          5,
          6,
          7,
          8,
          9,
          10,
          11,
          12,
          13,
          14,
          15,
          16,
          17,
          18,
          19,
          20,
          21,
          22,
          23,
          24,
          25,
          26,
          27,
          28,
          29,
          30,
          31,
          32,
          33,
          34,
          35,
          36,
          37,
          38,
          39,
          40,
          41,
          42,
          43,
          44,
          45,
          46,
          47,
          48
         ],
         "y": [
          1.63,
          2.16,
          2.62,
          3.13,
          3.65,
          4.1,
          4.92,
          5.36,
          6.03,
          6.36,
          6.84,
          7.54,
          8.38,
          9.42,
          11.49,
          11.98,
          13.4,
          14.58,
          15.78,
          16.95,
          18.94,
          19.36,
          21.36,
          21.32,
          22.43,
          23.43,
          24.61,
          25.5,
          26.51,
          27.44,
          28.55,
          29.79,
          30.38,
          30.76,
          31.61,
          31.96,
          33,
          33.7,
          34.13,
          35.15,
          36.03,
          36.76,
          37.23,
          38.43,
          39.13,
          39.87,
          40.24
         ]
        },
        {
         "line": {
          "color": "black",
          "dash": "dash"
         },
         "mode": "lines",
         "name": "8192Theoretical Latency for size ",
         "type": "scatter",
         "x": [
          2,
          3,
          4,
          5,
          6,
          7,
          8,
          9,
          10,
          11,
          12,
          13,
          14,
          15,
          16,
          17,
          18,
          19,
          20,
          21,
          22,
          23,
          24,
          25,
          26,
          27,
          28,
          29,
          30,
          31,
          32,
          33,
          34,
          35,
          36,
          37,
          38,
          39,
          40,
          41,
          42,
          43,
          44,
          45,
          46,
          47,
          48
         ],
         "y": [
          1.5735135135135137,
          2.127027027027027,
          2.6805405405405405,
          3.234054054054054,
          3.7875675675675677,
          4.3410810810810805,
          4.894594594594595,
          5.448108108108109,
          6.001621621621622,
          6.555135135135135,
          7.108648648648648,
          7.662162162162161,
          8.682162162162161,
          9.78918918918919,
          10.896216216216215,
          12.003243243243242,
          13.110270270270268,
          14.217297297297298,
          15.324324324324325,
          16.431351351351353,
          17.538378378378376,
          18.645405405405405,
          19.75243243243243,
          20.85945945945946,
          21.879459459459458,
          22.986486486486484,
          24.09351351351351,
          25.200540540540537,
          26.307567567567567,
          27.41459459459459,
          28.52162162162162,
          29.62864864864865,
          30.735675675675672,
          31.842702702702702,
          32.949729729729725,
          34.056756756756755,
          35.07675675675676,
          36.18378378378378,
          37.29081081081081,
          38.397837837837834,
          39.504864864864864,
          40.611891891891894,
          41.71891891891892,
          42.825945945945946,
          43.93297297297297,
          45.04
         ]
        },
        {
         "mode": "lines+markers",
         "name": "8192",
         "type": "scatter",
         "x": [
          2,
          3,
          4,
          5,
          6,
          7,
          8,
          9,
          10,
          11,
          12,
          13,
          14,
          15,
          16,
          17,
          18,
          19,
          20,
          21,
          22,
          23,
          24,
          25,
          26,
          27,
          28,
          29,
          30,
          31,
          32,
          33,
          34,
          35,
          36,
          37,
          38,
          39,
          40,
          41,
          42,
          43,
          44,
          45,
          46,
          47,
          48
         ],
         "y": [
          1.35,
          2.18,
          2.58,
          3.13,
          3.6,
          4.09,
          4.95,
          5.38,
          5.94,
          6.4,
          6.92,
          7.5,
          8.45,
          9.42,
          11.32,
          11.97,
          13.39,
          14.63,
          15.83,
          16.99,
          18.24,
          19.75,
          20.86,
          21.56,
          22.58,
          24.38,
          25.53,
          25.3,
          26.22,
          27.22,
          28.66,
          29.44,
          29.74,
          30.37,
          30.81,
          32.28,
          32.37,
          32.86,
          34.1,
          34.44,
          36.31,
          36.02,
          36.86,
          37.86,
          38.5,
          39.43,
          39.84
         ]
        },
        {
         "line": {
          "color": "black",
          "dash": "dash"
         },
         "mode": "lines",
         "name": "8192Theoretical Latency for size ",
         "type": "scatter",
         "x": [
          2,
          3,
          4,
          5,
          6,
          7,
          8,
          9,
          10,
          11,
          12,
          13,
          14,
          15,
          16,
          17,
          18,
          19,
          20,
          21,
          22,
          23,
          24,
          25,
          26,
          27,
          28,
          29,
          30,
          31,
          32,
          33,
          34,
          35,
          36,
          37,
          38,
          39,
          40,
          41,
          42,
          43,
          44,
          45,
          46,
          47,
          48
         ],
         "y": [
          1.5735135135135137,
          2.127027027027027,
          2.6805405405405405,
          3.234054054054054,
          3.7875675675675677,
          4.3410810810810805,
          4.894594594594595,
          5.448108108108109,
          6.001621621621622,
          6.555135135135135,
          7.108648648648648,
          7.662162162162161,
          8.682162162162161,
          9.78918918918919,
          10.896216216216215,
          12.003243243243242,
          13.110270270270268,
          14.217297297297298,
          15.324324324324325,
          16.431351351351353,
          17.538378378378376,
          18.645405405405405,
          19.75243243243243,
          20.85945945945946,
          21.879459459459458,
          22.986486486486484,
          24.09351351351351,
          25.200540540540537,
          26.307567567567567,
          27.41459459459459,
          28.52162162162162,
          29.62864864864865,
          30.735675675675672,
          31.842702702702702,
          32.949729729729725,
          34.056756756756755,
          35.07675675675676,
          36.18378378378378,
          37.29081081081081,
          38.397837837837834,
          39.504864864864864,
          40.611891891891894,
          41.71891891891892,
          42.825945945945946,
          43.93297297297297,
          45.04
         ]
        },
        {
         "mode": "lines+markers",
         "name": "8192",
         "type": "scatter",
         "x": [
          2,
          3,
          4,
          5,
          6,
          7,
          8,
          9,
          10,
          11,
          12,
          13,
          14,
          15,
          16,
          17,
          18,
          19,
          20,
          21,
          22,
          23,
          24,
          25,
          26,
          27,
          28,
          29,
          30,
          31,
          32,
          33,
          34,
          35,
          36,
          37,
          38,
          39,
          40,
          41,
          42,
          43,
          44,
          45,
          46,
          47,
          48
         ],
         "y": [
          1.61,
          2.14,
          2.54,
          3.06,
          3.57,
          4.05,
          4.89,
          5.6,
          5.89,
          6.31,
          6.79,
          7.58,
          8.39,
          9.41,
          11.22,
          11.93,
          13.21,
          14.39,
          15.72,
          17.42,
          18.08,
          19.3,
          20.48,
          22.2,
          22.27,
          23.26,
          24.24,
          25.37,
          26.18,
          27.06,
          28.57,
          29.65,
          30.09,
          30.56,
          31.36,
          32.06,
          32.82,
          33.49,
          34.17,
          34.72,
          35.63,
          36.29,
          36.9,
          38.6,
          39.17,
          39.52,
          39.91
         ]
        },
        {
         "line": {
          "color": "black",
          "dash": "dash"
         },
         "mode": "lines",
         "name": "8192Theoretical Latency for size ",
         "type": "scatter",
         "x": [
          2,
          3,
          4,
          5,
          6,
          7,
          8,
          9,
          10,
          11,
          12,
          13,
          14,
          15,
          16,
          17,
          18,
          19,
          20,
          21,
          22,
          23,
          24,
          25,
          26,
          27,
          28,
          29,
          30,
          31,
          32,
          33,
          34,
          35,
          36,
          37,
          38,
          39,
          40,
          41,
          42,
          43,
          44,
          45,
          46,
          47,
          48
         ],
         "y": [
          1.5735135135135137,
          2.127027027027027,
          2.6805405405405405,
          3.234054054054054,
          3.7875675675675677,
          4.3410810810810805,
          4.894594594594595,
          5.448108108108109,
          6.001621621621622,
          6.555135135135135,
          7.108648648648648,
          7.662162162162161,
          8.682162162162161,
          9.78918918918919,
          10.896216216216215,
          12.003243243243242,
          13.110270270270268,
          14.217297297297298,
          15.324324324324325,
          16.431351351351353,
          17.538378378378376,
          18.645405405405405,
          19.75243243243243,
          20.85945945945946,
          21.879459459459458,
          22.986486486486484,
          24.09351351351351,
          25.200540540540537,
          26.307567567567567,
          27.41459459459459,
          28.52162162162162,
          29.62864864864865,
          30.735675675675672,
          31.842702702702702,
          32.949729729729725,
          34.056756756756755,
          35.07675675675676,
          36.18378378378378,
          37.29081081081081,
          38.397837837837834,
          39.504864864864864,
          40.611891891891894,
          41.71891891891892,
          42.825945945945946,
          43.93297297297297,
          45.04
         ]
        },
        {
         "mode": "lines+markers",
         "name": "8192",
         "type": "scatter",
         "x": [
          2,
          3,
          4,
          5,
          6,
          7,
          8,
          9,
          10,
          11,
          12,
          13,
          14,
          15,
          16,
          17,
          18,
          19,
          20,
          21,
          22,
          23,
          24,
          25,
          26,
          27,
          28,
          29,
          30,
          31,
          32,
          33,
          34,
          35,
          36,
          37,
          38,
          39,
          40,
          41,
          42,
          43,
          44,
          45,
          46,
          47,
          48
         ],
         "y": [
          1.33,
          2.19,
          2.59,
          3.11,
          3.63,
          4.11,
          4.97,
          5.34,
          6.29,
          6.4,
          6.88,
          7.53,
          8.49,
          9.41,
          11.29,
          12,
          13.38,
          14.56,
          15.85,
          16.89,
          18.16,
          21.11,
          21.48,
          21.38,
          22.37,
          23.33,
          24.34,
          25.4,
          26.36,
          27.13,
          28.53,
          29.76,
          30.27,
          30.64,
          31.52,
          32.04,
          32.82,
          33.55,
          34.17,
          34.95,
          35.49,
          36.39,
          37.27,
          38.36,
          39.01,
          39.95,
          40.31
         ]
        },
        {
         "line": {
          "color": "black",
          "dash": "dash"
         },
         "mode": "lines",
         "name": "8192Theoretical Latency for size ",
         "type": "scatter",
         "x": [
          2,
          3,
          4,
          5,
          6,
          7,
          8,
          9,
          10,
          11,
          12,
          13,
          14,
          15,
          16,
          17,
          18,
          19,
          20,
          21,
          22,
          23,
          24,
          25,
          26,
          27,
          28,
          29,
          30,
          31,
          32,
          33,
          34,
          35,
          36,
          37,
          38,
          39,
          40,
          41,
          42,
          43,
          44,
          45,
          46,
          47,
          48
         ],
         "y": [
          1.5735135135135137,
          2.127027027027027,
          2.6805405405405405,
          3.234054054054054,
          3.7875675675675677,
          4.3410810810810805,
          4.894594594594595,
          5.448108108108109,
          6.001621621621622,
          6.555135135135135,
          7.108648648648648,
          7.662162162162161,
          8.682162162162161,
          9.78918918918919,
          10.896216216216215,
          12.003243243243242,
          13.110270270270268,
          14.217297297297298,
          15.324324324324325,
          16.431351351351353,
          17.538378378378376,
          18.645405405405405,
          19.75243243243243,
          20.85945945945946,
          21.879459459459458,
          22.986486486486484,
          24.09351351351351,
          25.200540540540537,
          26.307567567567567,
          27.41459459459459,
          28.52162162162162,
          29.62864864864865,
          30.735675675675672,
          31.842702702702702,
          32.949729729729725,
          34.056756756756755,
          35.07675675675676,
          36.18378378378378,
          37.29081081081081,
          38.397837837837834,
          39.504864864864864,
          40.611891891891894,
          41.71891891891892,
          42.825945945945946,
          43.93297297297297,
          45.04
         ]
        },
        {
         "mode": "lines+markers",
         "name": "8192",
         "type": "scatter",
         "x": [
          2,
          3,
          4,
          5,
          6,
          7,
          8,
          9,
          10,
          11,
          12,
          13,
          14,
          15,
          16,
          17,
          18,
          19,
          20,
          21,
          22,
          23,
          24,
          25,
          26,
          27,
          28,
          29,
          30,
          31,
          32,
          33,
          34,
          35,
          36,
          37,
          38,
          39,
          40,
          41,
          42,
          43,
          44,
          45,
          46,
          47,
          48
         ],
         "y": [
          1.46,
          2.17,
          2.54,
          3.06,
          3.58,
          4.08,
          4.92,
          5.28,
          5.91,
          6.33,
          6.8,
          7.41,
          8.43,
          9.34,
          11.18,
          11.97,
          13.4,
          14.49,
          15.72,
          16.76,
          18.05,
          19.75,
          20.59,
          21.17,
          22.25,
          23.25,
          24.19,
          25.41,
          26.13,
          27.13,
          28.43,
          29.7,
          30.23,
          30.46,
          31.37,
          31.79,
          32.72,
          33.42,
          34.15,
          34.88,
          35.76,
          36.56,
          37.18,
          38.61,
          39.21,
          39.69,
          40.33
         ]
        },
        {
         "line": {
          "color": "black",
          "dash": "dash"
         },
         "mode": "lines",
         "name": "8192Theoretical Latency for size ",
         "type": "scatter",
         "x": [
          2,
          3,
          4,
          5,
          6,
          7,
          8,
          9,
          10,
          11,
          12,
          13,
          14,
          15,
          16,
          17,
          18,
          19,
          20,
          21,
          22,
          23,
          24,
          25,
          26,
          27,
          28,
          29,
          30,
          31,
          32,
          33,
          34,
          35,
          36,
          37,
          38,
          39,
          40,
          41,
          42,
          43,
          44,
          45,
          46,
          47,
          48
         ],
         "y": [
          1.5735135135135137,
          2.127027027027027,
          2.6805405405405405,
          3.234054054054054,
          3.7875675675675677,
          4.3410810810810805,
          4.894594594594595,
          5.448108108108109,
          6.001621621621622,
          6.555135135135135,
          7.108648648648648,
          7.662162162162161,
          8.682162162162161,
          9.78918918918919,
          10.896216216216215,
          12.003243243243242,
          13.110270270270268,
          14.217297297297298,
          15.324324324324325,
          16.431351351351353,
          17.538378378378376,
          18.645405405405405,
          19.75243243243243,
          20.85945945945946,
          21.879459459459458,
          22.986486486486484,
          24.09351351351351,
          25.200540540540537,
          26.307567567567567,
          27.41459459459459,
          28.52162162162162,
          29.62864864864865,
          30.735675675675672,
          31.842702702702702,
          32.949729729729725,
          34.056756756756755,
          35.07675675675676,
          36.18378378378378,
          37.29081081081081,
          38.397837837837834,
          39.504864864864864,
          40.611891891891894,
          41.71891891891892,
          42.825945945945946,
          43.93297297297297,
          45.04
         ]
        },
        {
         "mode": "lines+markers",
         "name": "8192",
         "type": "scatter",
         "x": [
          2,
          3,
          4,
          5,
          6,
          7,
          8,
          9,
          10,
          11,
          12,
          13,
          14,
          15,
          16,
          17,
          18,
          19,
          20,
          21,
          22,
          23,
          24,
          25,
          26,
          27,
          28,
          29,
          30,
          31,
          32,
          33,
          34,
          35,
          36,
          37,
          38,
          39,
          40,
          41,
          42,
          43,
          44,
          45,
          46,
          47,
          48
         ],
         "y": [
          1.75,
          2.18,
          2.54,
          3.06,
          3.58,
          4.04,
          4.86,
          5.59,
          5.89,
          6.32,
          6.81,
          7.45,
          8.68,
          9.37,
          11.14,
          11.88,
          13.32,
          14.53,
          15.71,
          16.78,
          18.1,
          19.33,
          21.19,
          22.04,
          23.47,
          23.26,
          24.24,
          25.42,
          26.14,
          26.93,
          28.3,
          29.64,
          30.14,
          30.5,
          31.29,
          32.11,
          32.86,
          33.34,
          34.2,
          34.91,
          35.66,
          36.53,
          37.32,
          38.13,
          39.01,
          39.89,
          40.3
         ]
        },
        {
         "line": {
          "color": "black",
          "dash": "dash"
         },
         "mode": "lines",
         "name": "8192Theoretical Latency for size ",
         "type": "scatter",
         "x": [
          2,
          3,
          4,
          5,
          6,
          7,
          8,
          9,
          10,
          11,
          12,
          13,
          14,
          15,
          16,
          17,
          18,
          19,
          20,
          21,
          22,
          23,
          24,
          25,
          26,
          27,
          28,
          29,
          30,
          31,
          32,
          33,
          34,
          35,
          36,
          37,
          38,
          39,
          40,
          41,
          42,
          43,
          44,
          45,
          46,
          47,
          48
         ],
         "y": [
          1.5735135135135137,
          2.127027027027027,
          2.6805405405405405,
          3.234054054054054,
          3.7875675675675677,
          4.3410810810810805,
          4.894594594594595,
          5.448108108108109,
          6.001621621621622,
          6.555135135135135,
          7.108648648648648,
          7.662162162162161,
          8.682162162162161,
          9.78918918918919,
          10.896216216216215,
          12.003243243243242,
          13.110270270270268,
          14.217297297297298,
          15.324324324324325,
          16.431351351351353,
          17.538378378378376,
          18.645405405405405,
          19.75243243243243,
          20.85945945945946,
          21.879459459459458,
          22.986486486486484,
          24.09351351351351,
          25.200540540540537,
          26.307567567567567,
          27.41459459459459,
          28.52162162162162,
          29.62864864864865,
          30.735675675675672,
          31.842702702702702,
          32.949729729729725,
          34.056756756756755,
          35.07675675675676,
          36.18378378378378,
          37.29081081081081,
          38.397837837837834,
          39.504864864864864,
          40.611891891891894,
          41.71891891891892,
          42.825945945945946,
          43.93297297297297,
          45.04
         ]
        }
       ],
       "layout": {
        "legend": {
         "title": {
          "text": "Message Size"
         }
        },
        "template": {
         "data": {
          "bar": [
           {
            "error_x": {
             "color": "#2a3f5f"
            },
            "error_y": {
             "color": "#2a3f5f"
            },
            "marker": {
             "line": {
              "color": "#E5ECF6",
              "width": 0.5
             },
             "pattern": {
              "fillmode": "overlay",
              "size": 10,
              "solidity": 0.2
             }
            },
            "type": "bar"
           }
          ],
          "barpolar": [
           {
            "marker": {
             "line": {
              "color": "#E5ECF6",
              "width": 0.5
             },
             "pattern": {
              "fillmode": "overlay",
              "size": 10,
              "solidity": 0.2
             }
            },
            "type": "barpolar"
           }
          ],
          "carpet": [
           {
            "aaxis": {
             "endlinecolor": "#2a3f5f",
             "gridcolor": "white",
             "linecolor": "white",
             "minorgridcolor": "white",
             "startlinecolor": "#2a3f5f"
            },
            "baxis": {
             "endlinecolor": "#2a3f5f",
             "gridcolor": "white",
             "linecolor": "white",
             "minorgridcolor": "white",
             "startlinecolor": "#2a3f5f"
            },
            "type": "carpet"
           }
          ],
          "choropleth": [
           {
            "colorbar": {
             "outlinewidth": 0,
             "ticks": ""
            },
            "type": "choropleth"
           }
          ],
          "contour": [
           {
            "colorbar": {
             "outlinewidth": 0,
             "ticks": ""
            },
            "colorscale": [
             [
              0,
              "#0d0887"
             ],
             [
              0.1111111111111111,
              "#46039f"
             ],
             [
              0.2222222222222222,
              "#7201a8"
             ],
             [
              0.3333333333333333,
              "#9c179e"
             ],
             [
              0.4444444444444444,
              "#bd3786"
             ],
             [
              0.5555555555555556,
              "#d8576b"
             ],
             [
              0.6666666666666666,
              "#ed7953"
             ],
             [
              0.7777777777777778,
              "#fb9f3a"
             ],
             [
              0.8888888888888888,
              "#fdca26"
             ],
             [
              1,
              "#f0f921"
             ]
            ],
            "type": "contour"
           }
          ],
          "contourcarpet": [
           {
            "colorbar": {
             "outlinewidth": 0,
             "ticks": ""
            },
            "type": "contourcarpet"
           }
          ],
          "heatmap": [
           {
            "colorbar": {
             "outlinewidth": 0,
             "ticks": ""
            },
            "colorscale": [
             [
              0,
              "#0d0887"
             ],
             [
              0.1111111111111111,
              "#46039f"
             ],
             [
              0.2222222222222222,
              "#7201a8"
             ],
             [
              0.3333333333333333,
              "#9c179e"
             ],
             [
              0.4444444444444444,
              "#bd3786"
             ],
             [
              0.5555555555555556,
              "#d8576b"
             ],
             [
              0.6666666666666666,
              "#ed7953"
             ],
             [
              0.7777777777777778,
              "#fb9f3a"
             ],
             [
              0.8888888888888888,
              "#fdca26"
             ],
             [
              1,
              "#f0f921"
             ]
            ],
            "type": "heatmap"
           }
          ],
          "heatmapgl": [
           {
            "colorbar": {
             "outlinewidth": 0,
             "ticks": ""
            },
            "colorscale": [
             [
              0,
              "#0d0887"
             ],
             [
              0.1111111111111111,
              "#46039f"
             ],
             [
              0.2222222222222222,
              "#7201a8"
             ],
             [
              0.3333333333333333,
              "#9c179e"
             ],
             [
              0.4444444444444444,
              "#bd3786"
             ],
             [
              0.5555555555555556,
              "#d8576b"
             ],
             [
              0.6666666666666666,
              "#ed7953"
             ],
             [
              0.7777777777777778,
              "#fb9f3a"
             ],
             [
              0.8888888888888888,
              "#fdca26"
             ],
             [
              1,
              "#f0f921"
             ]
            ],
            "type": "heatmapgl"
           }
          ],
          "histogram": [
           {
            "marker": {
             "pattern": {
              "fillmode": "overlay",
              "size": 10,
              "solidity": 0.2
             }
            },
            "type": "histogram"
           }
          ],
          "histogram2d": [
           {
            "colorbar": {
             "outlinewidth": 0,
             "ticks": ""
            },
            "colorscale": [
             [
              0,
              "#0d0887"
             ],
             [
              0.1111111111111111,
              "#46039f"
             ],
             [
              0.2222222222222222,
              "#7201a8"
             ],
             [
              0.3333333333333333,
              "#9c179e"
             ],
             [
              0.4444444444444444,
              "#bd3786"
             ],
             [
              0.5555555555555556,
              "#d8576b"
             ],
             [
              0.6666666666666666,
              "#ed7953"
             ],
             [
              0.7777777777777778,
              "#fb9f3a"
             ],
             [
              0.8888888888888888,
              "#fdca26"
             ],
             [
              1,
              "#f0f921"
             ]
            ],
            "type": "histogram2d"
           }
          ],
          "histogram2dcontour": [
           {
            "colorbar": {
             "outlinewidth": 0,
             "ticks": ""
            },
            "colorscale": [
             [
              0,
              "#0d0887"
             ],
             [
              0.1111111111111111,
              "#46039f"
             ],
             [
              0.2222222222222222,
              "#7201a8"
             ],
             [
              0.3333333333333333,
              "#9c179e"
             ],
             [
              0.4444444444444444,
              "#bd3786"
             ],
             [
              0.5555555555555556,
              "#d8576b"
             ],
             [
              0.6666666666666666,
              "#ed7953"
             ],
             [
              0.7777777777777778,
              "#fb9f3a"
             ],
             [
              0.8888888888888888,
              "#fdca26"
             ],
             [
              1,
              "#f0f921"
             ]
            ],
            "type": "histogram2dcontour"
           }
          ],
          "mesh3d": [
           {
            "colorbar": {
             "outlinewidth": 0,
             "ticks": ""
            },
            "type": "mesh3d"
           }
          ],
          "parcoords": [
           {
            "line": {
             "colorbar": {
              "outlinewidth": 0,
              "ticks": ""
             }
            },
            "type": "parcoords"
           }
          ],
          "pie": [
           {
            "automargin": true,
            "type": "pie"
           }
          ],
          "scatter": [
           {
            "fillpattern": {
             "fillmode": "overlay",
             "size": 10,
             "solidity": 0.2
            },
            "type": "scatter"
           }
          ],
          "scatter3d": [
           {
            "line": {
             "colorbar": {
              "outlinewidth": 0,
              "ticks": ""
             }
            },
            "marker": {
             "colorbar": {
              "outlinewidth": 0,
              "ticks": ""
             }
            },
            "type": "scatter3d"
           }
          ],
          "scattercarpet": [
           {
            "marker": {
             "colorbar": {
              "outlinewidth": 0,
              "ticks": ""
             }
            },
            "type": "scattercarpet"
           }
          ],
          "scattergeo": [
           {
            "marker": {
             "colorbar": {
              "outlinewidth": 0,
              "ticks": ""
             }
            },
            "type": "scattergeo"
           }
          ],
          "scattergl": [
           {
            "marker": {
             "colorbar": {
              "outlinewidth": 0,
              "ticks": ""
             }
            },
            "type": "scattergl"
           }
          ],
          "scattermapbox": [
           {
            "marker": {
             "colorbar": {
              "outlinewidth": 0,
              "ticks": ""
             }
            },
            "type": "scattermapbox"
           }
          ],
          "scatterpolar": [
           {
            "marker": {
             "colorbar": {
              "outlinewidth": 0,
              "ticks": ""
             }
            },
            "type": "scatterpolar"
           }
          ],
          "scatterpolargl": [
           {
            "marker": {
             "colorbar": {
              "outlinewidth": 0,
              "ticks": ""
             }
            },
            "type": "scatterpolargl"
           }
          ],
          "scatterternary": [
           {
            "marker": {
             "colorbar": {
              "outlinewidth": 0,
              "ticks": ""
             }
            },
            "type": "scatterternary"
           }
          ],
          "surface": [
           {
            "colorbar": {
             "outlinewidth": 0,
             "ticks": ""
            },
            "colorscale": [
             [
              0,
              "#0d0887"
             ],
             [
              0.1111111111111111,
              "#46039f"
             ],
             [
              0.2222222222222222,
              "#7201a8"
             ],
             [
              0.3333333333333333,
              "#9c179e"
             ],
             [
              0.4444444444444444,
              "#bd3786"
             ],
             [
              0.5555555555555556,
              "#d8576b"
             ],
             [
              0.6666666666666666,
              "#ed7953"
             ],
             [
              0.7777777777777778,
              "#fb9f3a"
             ],
             [
              0.8888888888888888,
              "#fdca26"
             ],
             [
              1,
              "#f0f921"
             ]
            ],
            "type": "surface"
           }
          ],
          "table": [
           {
            "cells": {
             "fill": {
              "color": "#EBF0F8"
             },
             "line": {
              "color": "white"
             }
            },
            "header": {
             "fill": {
              "color": "#C8D4E3"
             },
             "line": {
              "color": "white"
             }
            },
            "type": "table"
           }
          ]
         },
         "layout": {
          "annotationdefaults": {
           "arrowcolor": "#2a3f5f",
           "arrowhead": 0,
           "arrowwidth": 1
          },
          "autotypenumbers": "strict",
          "coloraxis": {
           "colorbar": {
            "outlinewidth": 0,
            "ticks": ""
           }
          },
          "colorscale": {
           "diverging": [
            [
             0,
             "#8e0152"
            ],
            [
             0.1,
             "#c51b7d"
            ],
            [
             0.2,
             "#de77ae"
            ],
            [
             0.3,
             "#f1b6da"
            ],
            [
             0.4,
             "#fde0ef"
            ],
            [
             0.5,
             "#f7f7f7"
            ],
            [
             0.6,
             "#e6f5d0"
            ],
            [
             0.7,
             "#b8e186"
            ],
            [
             0.8,
             "#7fbc41"
            ],
            [
             0.9,
             "#4d9221"
            ],
            [
             1,
             "#276419"
            ]
           ],
           "sequential": [
            [
             0,
             "#0d0887"
            ],
            [
             0.1111111111111111,
             "#46039f"
            ],
            [
             0.2222222222222222,
             "#7201a8"
            ],
            [
             0.3333333333333333,
             "#9c179e"
            ],
            [
             0.4444444444444444,
             "#bd3786"
            ],
            [
             0.5555555555555556,
             "#d8576b"
            ],
            [
             0.6666666666666666,
             "#ed7953"
            ],
            [
             0.7777777777777778,
             "#fb9f3a"
            ],
            [
             0.8888888888888888,
             "#fdca26"
            ],
            [
             1,
             "#f0f921"
            ]
           ],
           "sequentialminus": [
            [
             0,
             "#0d0887"
            ],
            [
             0.1111111111111111,
             "#46039f"
            ],
            [
             0.2222222222222222,
             "#7201a8"
            ],
            [
             0.3333333333333333,
             "#9c179e"
            ],
            [
             0.4444444444444444,
             "#bd3786"
            ],
            [
             0.5555555555555556,
             "#d8576b"
            ],
            [
             0.6666666666666666,
             "#ed7953"
            ],
            [
             0.7777777777777778,
             "#fb9f3a"
            ],
            [
             0.8888888888888888,
             "#fdca26"
            ],
            [
             1,
             "#f0f921"
            ]
           ]
          },
          "colorway": [
           "#636efa",
           "#EF553B",
           "#00cc96",
           "#ab63fa",
           "#FFA15A",
           "#19d3f3",
           "#FF6692",
           "#B6E880",
           "#FF97FF",
           "#FECB52"
          ],
          "font": {
           "color": "#2a3f5f"
          },
          "geo": {
           "bgcolor": "white",
           "lakecolor": "white",
           "landcolor": "#E5ECF6",
           "showlakes": true,
           "showland": true,
           "subunitcolor": "white"
          },
          "hoverlabel": {
           "align": "left"
          },
          "hovermode": "closest",
          "mapbox": {
           "style": "light"
          },
          "paper_bgcolor": "white",
          "plot_bgcolor": "#E5ECF6",
          "polar": {
           "angularaxis": {
            "gridcolor": "white",
            "linecolor": "white",
            "ticks": ""
           },
           "bgcolor": "#E5ECF6",
           "radialaxis": {
            "gridcolor": "white",
            "linecolor": "white",
            "ticks": ""
           }
          },
          "scene": {
           "xaxis": {
            "backgroundcolor": "#E5ECF6",
            "gridcolor": "white",
            "gridwidth": 2,
            "linecolor": "white",
            "showbackground": true,
            "ticks": "",
            "zerolinecolor": "white"
           },
           "yaxis": {
            "backgroundcolor": "#E5ECF6",
            "gridcolor": "white",
            "gridwidth": 2,
            "linecolor": "white",
            "showbackground": true,
            "ticks": "",
            "zerolinecolor": "white"
           },
           "zaxis": {
            "backgroundcolor": "#E5ECF6",
            "gridcolor": "white",
            "gridwidth": 2,
            "linecolor": "white",
            "showbackground": true,
            "ticks": "",
            "zerolinecolor": "white"
           }
          },
          "shapedefaults": {
           "line": {
            "color": "#2a3f5f"
           }
          },
          "ternary": {
           "aaxis": {
            "gridcolor": "white",
            "linecolor": "white",
            "ticks": ""
           },
           "baxis": {
            "gridcolor": "white",
            "linecolor": "white",
            "ticks": ""
           },
           "bgcolor": "#E5ECF6",
           "caxis": {
            "gridcolor": "white",
            "linecolor": "white",
            "ticks": ""
           }
          },
          "title": {
           "x": 0.05
          },
          "xaxis": {
           "automargin": true,
           "gridcolor": "white",
           "linecolor": "white",
           "ticks": "",
           "title": {
            "standoff": 15
           },
           "zerolinecolor": "white",
           "zerolinewidth": 2
          },
          "yaxis": {
           "automargin": true,
           "gridcolor": "white",
           "linecolor": "white",
           "ticks": "",
           "title": {
            "standoff": 15
           },
           "zerolinecolor": "white",
           "zerolinewidth": 2
          }
         }
        },
        "title": {
         "text": "Latency vs Processes for the broadcast using linear Algorithm"
        },
        "xaxis": {
         "tickvals": [
          2,
          4,
          6,
          8,
          12,
          16,
          20,
          24,
          28,
          32,
          36,
          40,
          44,
          48
         ],
         "title": {
          "text": "Processes"
         }
        },
        "yaxis": {
         "title": {
          "text": "Latency (us)"
         },
         "type": "linear"
        }
       }
      }
     },
     "metadata": {},
     "output_type": "display_data"
    },
    {
     "data": {
      "application/vnd.plotly.v1+json": {
       "config": {
        "plotlyServerURL": "https://plot.ly"
       },
       "data": [
        {
         "mode": "lines+markers",
         "name": "8192",
         "type": "scatter",
         "x": [
          2,
          3,
          4,
          5,
          6,
          7,
          8,
          9,
          10,
          11,
          12,
          13,
          14,
          15,
          16,
          17,
          18,
          19,
          20,
          21,
          22,
          23,
          24,
          25,
          26,
          27,
          28,
          29,
          30,
          31,
          32,
          33,
          34,
          35,
          36,
          37,
          38,
          39,
          40,
          41,
          42,
          43,
          44,
          45,
          46,
          47,
          48
         ],
         "y": [
          1.33,
          2.18,
          2.56,
          3.05,
          3.57,
          4.05,
          4.88,
          5.28,
          5.89,
          6.32,
          6.77,
          7.47,
          8.35,
          9.36,
          11.14,
          11.97,
          13.89,
          14.5,
          15.67,
          16.76,
          17.99,
          19.18,
          20.49,
          21.25,
          22.29,
          23.12,
          24.1,
          25.4,
          26.19,
          27.12,
          28.29,
          29.66,
          30.17,
          30.47,
          31.39,
          31.83,
          32.64,
          33.38,
          35,
          34.8,
          35.63,
          36.46,
          37.16,
          38.28,
          39.2,
          39.62,
          40.22
         ]
        },
        {
         "line": {
          "color": "black",
          "dash": "dash"
         },
         "mode": "lines",
         "name": "8192Theoretical Latency for size ",
         "type": "scatter",
         "x": [
          2,
          3,
          4,
          5,
          6,
          7,
          8,
          9,
          10,
          11,
          12,
          13,
          14,
          15,
          16,
          17,
          18,
          19,
          20,
          21,
          22,
          23,
          24,
          25,
          26,
          27,
          28,
          29,
          30,
          31,
          32,
          33,
          34,
          35,
          36,
          37,
          38,
          39,
          40,
          41,
          42,
          43,
          44,
          45,
          46,
          47,
          48
         ],
         "y": [
          1.5735135135135137,
          2.127027027027027,
          2.6805405405405405,
          3.234054054054054,
          3.7875675675675677,
          4.3410810810810805,
          4.894594594594595,
          5.448108108108109,
          6.001621621621622,
          6.555135135135135,
          7.108648648648648,
          7.662162162162161,
          8.682162162162161,
          9.78918918918919,
          10.896216216216215,
          12.003243243243242,
          13.110270270270268,
          14.217297297297298,
          15.324324324324325,
          16.431351351351353,
          17.538378378378376,
          18.645405405405405,
          19.75243243243243,
          20.85945945945946,
          21.879459459459458,
          22.986486486486484,
          24.09351351351351,
          25.200540540540537,
          26.307567567567567,
          27.41459459459459,
          28.52162162162162,
          29.62864864864865,
          30.735675675675672,
          31.842702702702702,
          32.949729729729725,
          34.056756756756755,
          35.07675675675676,
          36.18378378378378,
          37.29081081081081,
          38.397837837837834,
          39.504864864864864,
          40.611891891891894,
          41.71891891891892,
          42.825945945945946,
          43.93297297297297,
          45.04
         ]
        },
        {
         "mode": "lines+markers",
         "name": "8192",
         "type": "scatter",
         "x": [
          2,
          3,
          4,
          5,
          6,
          7,
          8,
          9,
          10,
          11,
          12,
          13,
          14,
          15,
          16,
          17,
          18,
          19,
          20,
          21,
          22,
          23,
          24,
          25,
          26,
          27,
          28,
          29,
          30,
          31,
          32,
          33,
          34,
          35,
          36,
          37,
          38,
          39,
          40,
          41,
          42,
          43,
          44,
          45,
          46,
          47,
          48
         ],
         "y": [
          1.63,
          2.16,
          2.62,
          3.13,
          3.65,
          4.1,
          4.92,
          5.36,
          6.03,
          6.36,
          6.84,
          7.54,
          8.38,
          9.42,
          11.49,
          11.98,
          13.4,
          14.58,
          15.78,
          16.95,
          18.94,
          19.36,
          21.36,
          21.32,
          22.43,
          23.43,
          24.61,
          25.5,
          26.51,
          27.44,
          28.55,
          29.79,
          30.38,
          30.76,
          31.61,
          31.96,
          33,
          33.7,
          34.13,
          35.15,
          36.03,
          36.76,
          37.23,
          38.43,
          39.13,
          39.87,
          40.24
         ]
        },
        {
         "line": {
          "color": "black",
          "dash": "dash"
         },
         "mode": "lines",
         "name": "8192Theoretical Latency for size ",
         "type": "scatter",
         "x": [
          2,
          3,
          4,
          5,
          6,
          7,
          8,
          9,
          10,
          11,
          12,
          13,
          14,
          15,
          16,
          17,
          18,
          19,
          20,
          21,
          22,
          23,
          24,
          25,
          26,
          27,
          28,
          29,
          30,
          31,
          32,
          33,
          34,
          35,
          36,
          37,
          38,
          39,
          40,
          41,
          42,
          43,
          44,
          45,
          46,
          47,
          48
         ],
         "y": [
          1.5735135135135137,
          2.127027027027027,
          2.6805405405405405,
          3.234054054054054,
          3.7875675675675677,
          4.3410810810810805,
          4.894594594594595,
          5.448108108108109,
          6.001621621621622,
          6.555135135135135,
          7.108648648648648,
          7.662162162162161,
          8.682162162162161,
          9.78918918918919,
          10.896216216216215,
          12.003243243243242,
          13.110270270270268,
          14.217297297297298,
          15.324324324324325,
          16.431351351351353,
          17.538378378378376,
          18.645405405405405,
          19.75243243243243,
          20.85945945945946,
          21.879459459459458,
          22.986486486486484,
          24.09351351351351,
          25.200540540540537,
          26.307567567567567,
          27.41459459459459,
          28.52162162162162,
          29.62864864864865,
          30.735675675675672,
          31.842702702702702,
          32.949729729729725,
          34.056756756756755,
          35.07675675675676,
          36.18378378378378,
          37.29081081081081,
          38.397837837837834,
          39.504864864864864,
          40.611891891891894,
          41.71891891891892,
          42.825945945945946,
          43.93297297297297,
          45.04
         ]
        },
        {
         "mode": "lines+markers",
         "name": "8192",
         "type": "scatter",
         "x": [
          2,
          3,
          4,
          5,
          6,
          7,
          8,
          9,
          10,
          11,
          12,
          13,
          14,
          15,
          16,
          17,
          18,
          19,
          20,
          21,
          22,
          23,
          24,
          25,
          26,
          27,
          28,
          29,
          30,
          31,
          32,
          33,
          34,
          35,
          36,
          37,
          38,
          39,
          40,
          41,
          42,
          43,
          44,
          45,
          46,
          47,
          48
         ],
         "y": [
          1.35,
          2.18,
          2.58,
          3.13,
          3.6,
          4.09,
          4.95,
          5.38,
          5.94,
          6.4,
          6.92,
          7.5,
          8.45,
          9.42,
          11.32,
          11.97,
          13.39,
          14.63,
          15.83,
          16.99,
          18.24,
          19.75,
          20.86,
          21.56,
          22.58,
          24.38,
          25.53,
          25.3,
          26.22,
          27.22,
          28.66,
          29.44,
          29.74,
          30.37,
          30.81,
          32.28,
          32.37,
          32.86,
          34.1,
          34.44,
          36.31,
          36.02,
          36.86,
          37.86,
          38.5,
          39.43,
          39.84
         ]
        },
        {
         "line": {
          "color": "black",
          "dash": "dash"
         },
         "mode": "lines",
         "name": "8192Theoretical Latency for size ",
         "type": "scatter",
         "x": [
          2,
          3,
          4,
          5,
          6,
          7,
          8,
          9,
          10,
          11,
          12,
          13,
          14,
          15,
          16,
          17,
          18,
          19,
          20,
          21,
          22,
          23,
          24,
          25,
          26,
          27,
          28,
          29,
          30,
          31,
          32,
          33,
          34,
          35,
          36,
          37,
          38,
          39,
          40,
          41,
          42,
          43,
          44,
          45,
          46,
          47,
          48
         ],
         "y": [
          1.5735135135135137,
          2.127027027027027,
          2.6805405405405405,
          3.234054054054054,
          3.7875675675675677,
          4.3410810810810805,
          4.894594594594595,
          5.448108108108109,
          6.001621621621622,
          6.555135135135135,
          7.108648648648648,
          7.662162162162161,
          8.682162162162161,
          9.78918918918919,
          10.896216216216215,
          12.003243243243242,
          13.110270270270268,
          14.217297297297298,
          15.324324324324325,
          16.431351351351353,
          17.538378378378376,
          18.645405405405405,
          19.75243243243243,
          20.85945945945946,
          21.879459459459458,
          22.986486486486484,
          24.09351351351351,
          25.200540540540537,
          26.307567567567567,
          27.41459459459459,
          28.52162162162162,
          29.62864864864865,
          30.735675675675672,
          31.842702702702702,
          32.949729729729725,
          34.056756756756755,
          35.07675675675676,
          36.18378378378378,
          37.29081081081081,
          38.397837837837834,
          39.504864864864864,
          40.611891891891894,
          41.71891891891892,
          42.825945945945946,
          43.93297297297297,
          45.04
         ]
        },
        {
         "mode": "lines+markers",
         "name": "8192",
         "type": "scatter",
         "x": [
          2,
          3,
          4,
          5,
          6,
          7,
          8,
          9,
          10,
          11,
          12,
          13,
          14,
          15,
          16,
          17,
          18,
          19,
          20,
          21,
          22,
          23,
          24,
          25,
          26,
          27,
          28,
          29,
          30,
          31,
          32,
          33,
          34,
          35,
          36,
          37,
          38,
          39,
          40,
          41,
          42,
          43,
          44,
          45,
          46,
          47,
          48
         ],
         "y": [
          1.61,
          2.14,
          2.54,
          3.06,
          3.57,
          4.05,
          4.89,
          5.6,
          5.89,
          6.31,
          6.79,
          7.58,
          8.39,
          9.41,
          11.22,
          11.93,
          13.21,
          14.39,
          15.72,
          17.42,
          18.08,
          19.3,
          20.48,
          22.2,
          22.27,
          23.26,
          24.24,
          25.37,
          26.18,
          27.06,
          28.57,
          29.65,
          30.09,
          30.56,
          31.36,
          32.06,
          32.82,
          33.49,
          34.17,
          34.72,
          35.63,
          36.29,
          36.9,
          38.6,
          39.17,
          39.52,
          39.91
         ]
        },
        {
         "line": {
          "color": "black",
          "dash": "dash"
         },
         "mode": "lines",
         "name": "8192Theoretical Latency for size ",
         "type": "scatter",
         "x": [
          2,
          3,
          4,
          5,
          6,
          7,
          8,
          9,
          10,
          11,
          12,
          13,
          14,
          15,
          16,
          17,
          18,
          19,
          20,
          21,
          22,
          23,
          24,
          25,
          26,
          27,
          28,
          29,
          30,
          31,
          32,
          33,
          34,
          35,
          36,
          37,
          38,
          39,
          40,
          41,
          42,
          43,
          44,
          45,
          46,
          47,
          48
         ],
         "y": [
          1.5735135135135137,
          2.127027027027027,
          2.6805405405405405,
          3.234054054054054,
          3.7875675675675677,
          4.3410810810810805,
          4.894594594594595,
          5.448108108108109,
          6.001621621621622,
          6.555135135135135,
          7.108648648648648,
          7.662162162162161,
          8.682162162162161,
          9.78918918918919,
          10.896216216216215,
          12.003243243243242,
          13.110270270270268,
          14.217297297297298,
          15.324324324324325,
          16.431351351351353,
          17.538378378378376,
          18.645405405405405,
          19.75243243243243,
          20.85945945945946,
          21.879459459459458,
          22.986486486486484,
          24.09351351351351,
          25.200540540540537,
          26.307567567567567,
          27.41459459459459,
          28.52162162162162,
          29.62864864864865,
          30.735675675675672,
          31.842702702702702,
          32.949729729729725,
          34.056756756756755,
          35.07675675675676,
          36.18378378378378,
          37.29081081081081,
          38.397837837837834,
          39.504864864864864,
          40.611891891891894,
          41.71891891891892,
          42.825945945945946,
          43.93297297297297,
          45.04
         ]
        },
        {
         "mode": "lines+markers",
         "name": "8192",
         "type": "scatter",
         "x": [
          2,
          3,
          4,
          5,
          6,
          7,
          8,
          9,
          10,
          11,
          12,
          13,
          14,
          15,
          16,
          17,
          18,
          19,
          20,
          21,
          22,
          23,
          24,
          25,
          26,
          27,
          28,
          29,
          30,
          31,
          32,
          33,
          34,
          35,
          36,
          37,
          38,
          39,
          40,
          41,
          42,
          43,
          44,
          45,
          46,
          47,
          48
         ],
         "y": [
          1.33,
          2.19,
          2.59,
          3.11,
          3.63,
          4.11,
          4.97,
          5.34,
          6.29,
          6.4,
          6.88,
          7.53,
          8.49,
          9.41,
          11.29,
          12,
          13.38,
          14.56,
          15.85,
          16.89,
          18.16,
          21.11,
          21.48,
          21.38,
          22.37,
          23.33,
          24.34,
          25.4,
          26.36,
          27.13,
          28.53,
          29.76,
          30.27,
          30.64,
          31.52,
          32.04,
          32.82,
          33.55,
          34.17,
          34.95,
          35.49,
          36.39,
          37.27,
          38.36,
          39.01,
          39.95,
          40.31
         ]
        },
        {
         "line": {
          "color": "black",
          "dash": "dash"
         },
         "mode": "lines",
         "name": "8192Theoretical Latency for size ",
         "type": "scatter",
         "x": [
          2,
          3,
          4,
          5,
          6,
          7,
          8,
          9,
          10,
          11,
          12,
          13,
          14,
          15,
          16,
          17,
          18,
          19,
          20,
          21,
          22,
          23,
          24,
          25,
          26,
          27,
          28,
          29,
          30,
          31,
          32,
          33,
          34,
          35,
          36,
          37,
          38,
          39,
          40,
          41,
          42,
          43,
          44,
          45,
          46,
          47,
          48
         ],
         "y": [
          1.5735135135135137,
          2.127027027027027,
          2.6805405405405405,
          3.234054054054054,
          3.7875675675675677,
          4.3410810810810805,
          4.894594594594595,
          5.448108108108109,
          6.001621621621622,
          6.555135135135135,
          7.108648648648648,
          7.662162162162161,
          8.682162162162161,
          9.78918918918919,
          10.896216216216215,
          12.003243243243242,
          13.110270270270268,
          14.217297297297298,
          15.324324324324325,
          16.431351351351353,
          17.538378378378376,
          18.645405405405405,
          19.75243243243243,
          20.85945945945946,
          21.879459459459458,
          22.986486486486484,
          24.09351351351351,
          25.200540540540537,
          26.307567567567567,
          27.41459459459459,
          28.52162162162162,
          29.62864864864865,
          30.735675675675672,
          31.842702702702702,
          32.949729729729725,
          34.056756756756755,
          35.07675675675676,
          36.18378378378378,
          37.29081081081081,
          38.397837837837834,
          39.504864864864864,
          40.611891891891894,
          41.71891891891892,
          42.825945945945946,
          43.93297297297297,
          45.04
         ]
        },
        {
         "mode": "lines+markers",
         "name": "8192",
         "type": "scatter",
         "x": [
          2,
          3,
          4,
          5,
          6,
          7,
          8,
          9,
          10,
          11,
          12,
          13,
          14,
          15,
          16,
          17,
          18,
          19,
          20,
          21,
          22,
          23,
          24,
          25,
          26,
          27,
          28,
          29,
          30,
          31,
          32,
          33,
          34,
          35,
          36,
          37,
          38,
          39,
          40,
          41,
          42,
          43,
          44,
          45,
          46,
          47,
          48
         ],
         "y": [
          1.46,
          2.17,
          2.54,
          3.06,
          3.58,
          4.08,
          4.92,
          5.28,
          5.91,
          6.33,
          6.8,
          7.41,
          8.43,
          9.34,
          11.18,
          11.97,
          13.4,
          14.49,
          15.72,
          16.76,
          18.05,
          19.75,
          20.59,
          21.17,
          22.25,
          23.25,
          24.19,
          25.41,
          26.13,
          27.13,
          28.43,
          29.7,
          30.23,
          30.46,
          31.37,
          31.79,
          32.72,
          33.42,
          34.15,
          34.88,
          35.76,
          36.56,
          37.18,
          38.61,
          39.21,
          39.69,
          40.33
         ]
        },
        {
         "line": {
          "color": "black",
          "dash": "dash"
         },
         "mode": "lines",
         "name": "8192Theoretical Latency for size ",
         "type": "scatter",
         "x": [
          2,
          3,
          4,
          5,
          6,
          7,
          8,
          9,
          10,
          11,
          12,
          13,
          14,
          15,
          16,
          17,
          18,
          19,
          20,
          21,
          22,
          23,
          24,
          25,
          26,
          27,
          28,
          29,
          30,
          31,
          32,
          33,
          34,
          35,
          36,
          37,
          38,
          39,
          40,
          41,
          42,
          43,
          44,
          45,
          46,
          47,
          48
         ],
         "y": [
          1.5735135135135137,
          2.127027027027027,
          2.6805405405405405,
          3.234054054054054,
          3.7875675675675677,
          4.3410810810810805,
          4.894594594594595,
          5.448108108108109,
          6.001621621621622,
          6.555135135135135,
          7.108648648648648,
          7.662162162162161,
          8.682162162162161,
          9.78918918918919,
          10.896216216216215,
          12.003243243243242,
          13.110270270270268,
          14.217297297297298,
          15.324324324324325,
          16.431351351351353,
          17.538378378378376,
          18.645405405405405,
          19.75243243243243,
          20.85945945945946,
          21.879459459459458,
          22.986486486486484,
          24.09351351351351,
          25.200540540540537,
          26.307567567567567,
          27.41459459459459,
          28.52162162162162,
          29.62864864864865,
          30.735675675675672,
          31.842702702702702,
          32.949729729729725,
          34.056756756756755,
          35.07675675675676,
          36.18378378378378,
          37.29081081081081,
          38.397837837837834,
          39.504864864864864,
          40.611891891891894,
          41.71891891891892,
          42.825945945945946,
          43.93297297297297,
          45.04
         ]
        },
        {
         "mode": "lines+markers",
         "name": "8192",
         "type": "scatter",
         "x": [
          2,
          3,
          4,
          5,
          6,
          7,
          8,
          9,
          10,
          11,
          12,
          13,
          14,
          15,
          16,
          17,
          18,
          19,
          20,
          21,
          22,
          23,
          24,
          25,
          26,
          27,
          28,
          29,
          30,
          31,
          32,
          33,
          34,
          35,
          36,
          37,
          38,
          39,
          40,
          41,
          42,
          43,
          44,
          45,
          46,
          47,
          48
         ],
         "y": [
          1.75,
          2.18,
          2.54,
          3.06,
          3.58,
          4.04,
          4.86,
          5.59,
          5.89,
          6.32,
          6.81,
          7.45,
          8.68,
          9.37,
          11.14,
          11.88,
          13.32,
          14.53,
          15.71,
          16.78,
          18.1,
          19.33,
          21.19,
          22.04,
          23.47,
          23.26,
          24.24,
          25.42,
          26.14,
          26.93,
          28.3,
          29.64,
          30.14,
          30.5,
          31.29,
          32.11,
          32.86,
          33.34,
          34.2,
          34.91,
          35.66,
          36.53,
          37.32,
          38.13,
          39.01,
          39.89,
          40.3
         ]
        },
        {
         "line": {
          "color": "black",
          "dash": "dash"
         },
         "mode": "lines",
         "name": "8192Theoretical Latency for size ",
         "type": "scatter",
         "x": [
          2,
          3,
          4,
          5,
          6,
          7,
          8,
          9,
          10,
          11,
          12,
          13,
          14,
          15,
          16,
          17,
          18,
          19,
          20,
          21,
          22,
          23,
          24,
          25,
          26,
          27,
          28,
          29,
          30,
          31,
          32,
          33,
          34,
          35,
          36,
          37,
          38,
          39,
          40,
          41,
          42,
          43,
          44,
          45,
          46,
          47,
          48
         ],
         "y": [
          1.5735135135135137,
          2.127027027027027,
          2.6805405405405405,
          3.234054054054054,
          3.7875675675675677,
          4.3410810810810805,
          4.894594594594595,
          5.448108108108109,
          6.001621621621622,
          6.555135135135135,
          7.108648648648648,
          7.662162162162161,
          8.682162162162161,
          9.78918918918919,
          10.896216216216215,
          12.003243243243242,
          13.110270270270268,
          14.217297297297298,
          15.324324324324325,
          16.431351351351353,
          17.538378378378376,
          18.645405405405405,
          19.75243243243243,
          20.85945945945946,
          21.879459459459458,
          22.986486486486484,
          24.09351351351351,
          25.200540540540537,
          26.307567567567567,
          27.41459459459459,
          28.52162162162162,
          29.62864864864865,
          30.735675675675672,
          31.842702702702702,
          32.949729729729725,
          34.056756756756755,
          35.07675675675676,
          36.18378378378378,
          37.29081081081081,
          38.397837837837834,
          39.504864864864864,
          40.611891891891894,
          41.71891891891892,
          42.825945945945946,
          43.93297297297297,
          45.04
         ]
        }
       ],
       "layout": {
        "legend": {
         "title": {
          "text": "Message Size"
         }
        },
        "template": {
         "data": {
          "bar": [
           {
            "error_x": {
             "color": "#2a3f5f"
            },
            "error_y": {
             "color": "#2a3f5f"
            },
            "marker": {
             "line": {
              "color": "#E5ECF6",
              "width": 0.5
             },
             "pattern": {
              "fillmode": "overlay",
              "size": 10,
              "solidity": 0.2
             }
            },
            "type": "bar"
           }
          ],
          "barpolar": [
           {
            "marker": {
             "line": {
              "color": "#E5ECF6",
              "width": 0.5
             },
             "pattern": {
              "fillmode": "overlay",
              "size": 10,
              "solidity": 0.2
             }
            },
            "type": "barpolar"
           }
          ],
          "carpet": [
           {
            "aaxis": {
             "endlinecolor": "#2a3f5f",
             "gridcolor": "white",
             "linecolor": "white",
             "minorgridcolor": "white",
             "startlinecolor": "#2a3f5f"
            },
            "baxis": {
             "endlinecolor": "#2a3f5f",
             "gridcolor": "white",
             "linecolor": "white",
             "minorgridcolor": "white",
             "startlinecolor": "#2a3f5f"
            },
            "type": "carpet"
           }
          ],
          "choropleth": [
           {
            "colorbar": {
             "outlinewidth": 0,
             "ticks": ""
            },
            "type": "choropleth"
           }
          ],
          "contour": [
           {
            "colorbar": {
             "outlinewidth": 0,
             "ticks": ""
            },
            "colorscale": [
             [
              0,
              "#0d0887"
             ],
             [
              0.1111111111111111,
              "#46039f"
             ],
             [
              0.2222222222222222,
              "#7201a8"
             ],
             [
              0.3333333333333333,
              "#9c179e"
             ],
             [
              0.4444444444444444,
              "#bd3786"
             ],
             [
              0.5555555555555556,
              "#d8576b"
             ],
             [
              0.6666666666666666,
              "#ed7953"
             ],
             [
              0.7777777777777778,
              "#fb9f3a"
             ],
             [
              0.8888888888888888,
              "#fdca26"
             ],
             [
              1,
              "#f0f921"
             ]
            ],
            "type": "contour"
           }
          ],
          "contourcarpet": [
           {
            "colorbar": {
             "outlinewidth": 0,
             "ticks": ""
            },
            "type": "contourcarpet"
           }
          ],
          "heatmap": [
           {
            "colorbar": {
             "outlinewidth": 0,
             "ticks": ""
            },
            "colorscale": [
             [
              0,
              "#0d0887"
             ],
             [
              0.1111111111111111,
              "#46039f"
             ],
             [
              0.2222222222222222,
              "#7201a8"
             ],
             [
              0.3333333333333333,
              "#9c179e"
             ],
             [
              0.4444444444444444,
              "#bd3786"
             ],
             [
              0.5555555555555556,
              "#d8576b"
             ],
             [
              0.6666666666666666,
              "#ed7953"
             ],
             [
              0.7777777777777778,
              "#fb9f3a"
             ],
             [
              0.8888888888888888,
              "#fdca26"
             ],
             [
              1,
              "#f0f921"
             ]
            ],
            "type": "heatmap"
           }
          ],
          "heatmapgl": [
           {
            "colorbar": {
             "outlinewidth": 0,
             "ticks": ""
            },
            "colorscale": [
             [
              0,
              "#0d0887"
             ],
             [
              0.1111111111111111,
              "#46039f"
             ],
             [
              0.2222222222222222,
              "#7201a8"
             ],
             [
              0.3333333333333333,
              "#9c179e"
             ],
             [
              0.4444444444444444,
              "#bd3786"
             ],
             [
              0.5555555555555556,
              "#d8576b"
             ],
             [
              0.6666666666666666,
              "#ed7953"
             ],
             [
              0.7777777777777778,
              "#fb9f3a"
             ],
             [
              0.8888888888888888,
              "#fdca26"
             ],
             [
              1,
              "#f0f921"
             ]
            ],
            "type": "heatmapgl"
           }
          ],
          "histogram": [
           {
            "marker": {
             "pattern": {
              "fillmode": "overlay",
              "size": 10,
              "solidity": 0.2
             }
            },
            "type": "histogram"
           }
          ],
          "histogram2d": [
           {
            "colorbar": {
             "outlinewidth": 0,
             "ticks": ""
            },
            "colorscale": [
             [
              0,
              "#0d0887"
             ],
             [
              0.1111111111111111,
              "#46039f"
             ],
             [
              0.2222222222222222,
              "#7201a8"
             ],
             [
              0.3333333333333333,
              "#9c179e"
             ],
             [
              0.4444444444444444,
              "#bd3786"
             ],
             [
              0.5555555555555556,
              "#d8576b"
             ],
             [
              0.6666666666666666,
              "#ed7953"
             ],
             [
              0.7777777777777778,
              "#fb9f3a"
             ],
             [
              0.8888888888888888,
              "#fdca26"
             ],
             [
              1,
              "#f0f921"
             ]
            ],
            "type": "histogram2d"
           }
          ],
          "histogram2dcontour": [
           {
            "colorbar": {
             "outlinewidth": 0,
             "ticks": ""
            },
            "colorscale": [
             [
              0,
              "#0d0887"
             ],
             [
              0.1111111111111111,
              "#46039f"
             ],
             [
              0.2222222222222222,
              "#7201a8"
             ],
             [
              0.3333333333333333,
              "#9c179e"
             ],
             [
              0.4444444444444444,
              "#bd3786"
             ],
             [
              0.5555555555555556,
              "#d8576b"
             ],
             [
              0.6666666666666666,
              "#ed7953"
             ],
             [
              0.7777777777777778,
              "#fb9f3a"
             ],
             [
              0.8888888888888888,
              "#fdca26"
             ],
             [
              1,
              "#f0f921"
             ]
            ],
            "type": "histogram2dcontour"
           }
          ],
          "mesh3d": [
           {
            "colorbar": {
             "outlinewidth": 0,
             "ticks": ""
            },
            "type": "mesh3d"
           }
          ],
          "parcoords": [
           {
            "line": {
             "colorbar": {
              "outlinewidth": 0,
              "ticks": ""
             }
            },
            "type": "parcoords"
           }
          ],
          "pie": [
           {
            "automargin": true,
            "type": "pie"
           }
          ],
          "scatter": [
           {
            "fillpattern": {
             "fillmode": "overlay",
             "size": 10,
             "solidity": 0.2
            },
            "type": "scatter"
           }
          ],
          "scatter3d": [
           {
            "line": {
             "colorbar": {
              "outlinewidth": 0,
              "ticks": ""
             }
            },
            "marker": {
             "colorbar": {
              "outlinewidth": 0,
              "ticks": ""
             }
            },
            "type": "scatter3d"
           }
          ],
          "scattercarpet": [
           {
            "marker": {
             "colorbar": {
              "outlinewidth": 0,
              "ticks": ""
             }
            },
            "type": "scattercarpet"
           }
          ],
          "scattergeo": [
           {
            "marker": {
             "colorbar": {
              "outlinewidth": 0,
              "ticks": ""
             }
            },
            "type": "scattergeo"
           }
          ],
          "scattergl": [
           {
            "marker": {
             "colorbar": {
              "outlinewidth": 0,
              "ticks": ""
             }
            },
            "type": "scattergl"
           }
          ],
          "scattermapbox": [
           {
            "marker": {
             "colorbar": {
              "outlinewidth": 0,
              "ticks": ""
             }
            },
            "type": "scattermapbox"
           }
          ],
          "scatterpolar": [
           {
            "marker": {
             "colorbar": {
              "outlinewidth": 0,
              "ticks": ""
             }
            },
            "type": "scatterpolar"
           }
          ],
          "scatterpolargl": [
           {
            "marker": {
             "colorbar": {
              "outlinewidth": 0,
              "ticks": ""
             }
            },
            "type": "scatterpolargl"
           }
          ],
          "scatterternary": [
           {
            "marker": {
             "colorbar": {
              "outlinewidth": 0,
              "ticks": ""
             }
            },
            "type": "scatterternary"
           }
          ],
          "surface": [
           {
            "colorbar": {
             "outlinewidth": 0,
             "ticks": ""
            },
            "colorscale": [
             [
              0,
              "#0d0887"
             ],
             [
              0.1111111111111111,
              "#46039f"
             ],
             [
              0.2222222222222222,
              "#7201a8"
             ],
             [
              0.3333333333333333,
              "#9c179e"
             ],
             [
              0.4444444444444444,
              "#bd3786"
             ],
             [
              0.5555555555555556,
              "#d8576b"
             ],
             [
              0.6666666666666666,
              "#ed7953"
             ],
             [
              0.7777777777777778,
              "#fb9f3a"
             ],
             [
              0.8888888888888888,
              "#fdca26"
             ],
             [
              1,
              "#f0f921"
             ]
            ],
            "type": "surface"
           }
          ],
          "table": [
           {
            "cells": {
             "fill": {
              "color": "#EBF0F8"
             },
             "line": {
              "color": "white"
             }
            },
            "header": {
             "fill": {
              "color": "#C8D4E3"
             },
             "line": {
              "color": "white"
             }
            },
            "type": "table"
           }
          ]
         },
         "layout": {
          "annotationdefaults": {
           "arrowcolor": "#2a3f5f",
           "arrowhead": 0,
           "arrowwidth": 1
          },
          "autotypenumbers": "strict",
          "coloraxis": {
           "colorbar": {
            "outlinewidth": 0,
            "ticks": ""
           }
          },
          "colorscale": {
           "diverging": [
            [
             0,
             "#8e0152"
            ],
            [
             0.1,
             "#c51b7d"
            ],
            [
             0.2,
             "#de77ae"
            ],
            [
             0.3,
             "#f1b6da"
            ],
            [
             0.4,
             "#fde0ef"
            ],
            [
             0.5,
             "#f7f7f7"
            ],
            [
             0.6,
             "#e6f5d0"
            ],
            [
             0.7,
             "#b8e186"
            ],
            [
             0.8,
             "#7fbc41"
            ],
            [
             0.9,
             "#4d9221"
            ],
            [
             1,
             "#276419"
            ]
           ],
           "sequential": [
            [
             0,
             "#0d0887"
            ],
            [
             0.1111111111111111,
             "#46039f"
            ],
            [
             0.2222222222222222,
             "#7201a8"
            ],
            [
             0.3333333333333333,
             "#9c179e"
            ],
            [
             0.4444444444444444,
             "#bd3786"
            ],
            [
             0.5555555555555556,
             "#d8576b"
            ],
            [
             0.6666666666666666,
             "#ed7953"
            ],
            [
             0.7777777777777778,
             "#fb9f3a"
            ],
            [
             0.8888888888888888,
             "#fdca26"
            ],
            [
             1,
             "#f0f921"
            ]
           ],
           "sequentialminus": [
            [
             0,
             "#0d0887"
            ],
            [
             0.1111111111111111,
             "#46039f"
            ],
            [
             0.2222222222222222,
             "#7201a8"
            ],
            [
             0.3333333333333333,
             "#9c179e"
            ],
            [
             0.4444444444444444,
             "#bd3786"
            ],
            [
             0.5555555555555556,
             "#d8576b"
            ],
            [
             0.6666666666666666,
             "#ed7953"
            ],
            [
             0.7777777777777778,
             "#fb9f3a"
            ],
            [
             0.8888888888888888,
             "#fdca26"
            ],
            [
             1,
             "#f0f921"
            ]
           ]
          },
          "colorway": [
           "#636efa",
           "#EF553B",
           "#00cc96",
           "#ab63fa",
           "#FFA15A",
           "#19d3f3",
           "#FF6692",
           "#B6E880",
           "#FF97FF",
           "#FECB52"
          ],
          "font": {
           "color": "#2a3f5f"
          },
          "geo": {
           "bgcolor": "white",
           "lakecolor": "white",
           "landcolor": "#E5ECF6",
           "showlakes": true,
           "showland": true,
           "subunitcolor": "white"
          },
          "hoverlabel": {
           "align": "left"
          },
          "hovermode": "closest",
          "mapbox": {
           "style": "light"
          },
          "paper_bgcolor": "white",
          "plot_bgcolor": "#E5ECF6",
          "polar": {
           "angularaxis": {
            "gridcolor": "white",
            "linecolor": "white",
            "ticks": ""
           },
           "bgcolor": "#E5ECF6",
           "radialaxis": {
            "gridcolor": "white",
            "linecolor": "white",
            "ticks": ""
           }
          },
          "scene": {
           "xaxis": {
            "backgroundcolor": "#E5ECF6",
            "gridcolor": "white",
            "gridwidth": 2,
            "linecolor": "white",
            "showbackground": true,
            "ticks": "",
            "zerolinecolor": "white"
           },
           "yaxis": {
            "backgroundcolor": "#E5ECF6",
            "gridcolor": "white",
            "gridwidth": 2,
            "linecolor": "white",
            "showbackground": true,
            "ticks": "",
            "zerolinecolor": "white"
           },
           "zaxis": {
            "backgroundcolor": "#E5ECF6",
            "gridcolor": "white",
            "gridwidth": 2,
            "linecolor": "white",
            "showbackground": true,
            "ticks": "",
            "zerolinecolor": "white"
           }
          },
          "shapedefaults": {
           "line": {
            "color": "#2a3f5f"
           }
          },
          "ternary": {
           "aaxis": {
            "gridcolor": "white",
            "linecolor": "white",
            "ticks": ""
           },
           "baxis": {
            "gridcolor": "white",
            "linecolor": "white",
            "ticks": ""
           },
           "bgcolor": "#E5ECF6",
           "caxis": {
            "gridcolor": "white",
            "linecolor": "white",
            "ticks": ""
           }
          },
          "title": {
           "x": 0.05
          },
          "xaxis": {
           "automargin": true,
           "gridcolor": "white",
           "linecolor": "white",
           "ticks": "",
           "title": {
            "standoff": 15
           },
           "zerolinecolor": "white",
           "zerolinewidth": 2
          },
          "yaxis": {
           "automargin": true,
           "gridcolor": "white",
           "linecolor": "white",
           "ticks": "",
           "title": {
            "standoff": 15
           },
           "zerolinecolor": "white",
           "zerolinewidth": 2
          }
         }
        },
        "title": {
         "text": "Latency vs Processes for the broadcast using linear Algorithm"
        },
        "xaxis": {
         "tickvals": [
          2,
          4,
          6,
          8,
          12,
          16,
          20,
          24,
          28,
          32,
          36,
          40,
          44,
          48
         ],
         "title": {
          "text": "Processes"
         }
        },
        "yaxis": {
         "title": {
          "text": "Latency (us)"
         },
         "type": "log"
        }
       }
      }
     },
     "metadata": {},
     "output_type": "display_data"
    }
   ],
   "source": [
    "plot_latency_vs_processes(linear_df, 'linear', 'linear')\n",
    "plot_latency_vs_processes(linear_df, 'linear','log')"
   ]
  },
  {
   "cell_type": "code",
   "execution_count": 321,
   "metadata": {},
   "outputs": [
    {
     "data": {
      "application/vnd.plotly.v1+json": {
       "config": {
        "plotlyServerURL": "https://plot.ly"
       },
       "data": [
        {
         "mode": "lines+markers",
         "name": "Default 8192",
         "type": "scatter",
         "x": [
          2,
          3,
          4,
          5,
          6,
          7,
          8,
          9,
          10,
          11,
          12,
          13,
          14,
          15,
          16,
          17,
          18,
          19,
          20,
          21,
          22,
          23,
          24,
          25,
          26,
          27,
          28,
          29,
          30,
          31,
          32,
          33,
          34,
          35,
          36,
          37,
          38,
          39,
          40,
          41,
          42,
          43,
          44,
          45,
          46,
          47,
          48
         ],
         "y": [
          1.3359999999999999,
          2.158,
          2.5460000000000003,
          3.098,
          3.5759999999999996,
          4.05,
          4.612,
          4.872,
          5.248,
          5.646,
          5.773999999999999,
          6.25,
          6.734,
          7.159999999999999,
          7.07,
          8.398,
          8.806000000000001,
          8.976,
          9.102,
          9.288,
          9.664,
          10.014,
          10.352,
          10.325999999999999,
          10.358,
          10.318,
          10.325999999999999,
          10.518,
          10.690000000000001,
          11.264,
          12.168000000000001,
          14.786000000000001,
          14.618,
          14.474,
          14.434000000000001,
          14.532,
          14.453999999999999,
          14.354,
          14.14,
          14.014000000000001,
          13.956,
          13.966,
          14.382,
          14.166,
          15.144,
          15.097999999999999,
          15.366
         ]
        },
        {
         "mode": "lines+markers",
         "name": "Binary Tree 8192",
         "type": "scatter",
         "x": [
          2,
          3,
          4,
          5,
          6,
          7,
          8,
          9,
          10,
          11,
          12,
          13,
          14,
          15,
          16,
          17,
          18,
          19,
          20,
          21,
          22,
          23,
          24,
          25,
          26,
          27,
          28,
          29,
          30,
          31,
          32,
          33,
          34,
          35,
          36,
          37,
          38,
          39,
          40,
          41,
          42,
          43,
          44,
          45,
          46,
          47,
          48
         ],
         "y": [
          1.432,
          2.1740000000000004,
          2.744,
          3.284,
          3.7399999999999998,
          4.138,
          4.668,
          4.914,
          5.272,
          5.612,
          5.754,
          6.216,
          6.622,
          7.116,
          8.008,
          8.786,
          9.184000000000001,
          9.514,
          9.846,
          10.108,
          10.3,
          10.645999999999999,
          10.922,
          10.878,
          11.064,
          11.370000000000001,
          11.632000000000001,
          11.906,
          12.146,
          12.338,
          13.354,
          15.25,
          15.430000000000001,
          15.354,
          15.758,
          15.662,
          15.863999999999999,
          16.387999999999998,
          16.919999999999998,
          17.136000000000003,
          17.04,
          17.15,
          18.104,
          19.630000000000003,
          19.386000000000003,
          20.93,
          20.478
         ]
        },
        {
         "mode": "lines+markers",
         "name": "Chain 8192",
         "type": "scatter",
         "x": [
          2,
          3,
          4,
          5,
          6,
          7,
          8,
          9,
          10,
          11,
          12,
          13,
          14,
          15,
          16,
          17,
          18,
          19,
          20,
          21,
          22,
          23,
          24,
          25,
          26,
          27,
          28,
          29,
          30,
          31,
          32,
          33,
          34,
          35,
          36,
          37,
          38,
          39,
          40,
          41,
          42,
          43,
          44,
          45,
          46,
          47,
          48
         ],
         "y": [
          1.3980000000000001,
          2.194,
          2.638,
          3.13,
          3.508,
          3.804,
          4.35,
          4.83,
          5.064,
          5.4,
          5.564,
          6.128,
          6.426,
          6.816,
          7.7700000000000005,
          8.703999999999999,
          9.278,
          9.5,
          10.245999999999999,
          10.014,
          10.834,
          11.23,
          11.65,
          11.686,
          11.844,
          12.218,
          12.644,
          13.41,
          13.5,
          13.794,
          14.1,
          17.683999999999997,
          19.012,
          19.714,
          20.576,
          19.986,
          21.426,
          19.702,
          21.246000000000002,
          21.45,
          21.096,
          21.974,
          21.766,
          20.94,
          21.042,
          20.580000000000002,
          19.954
         ]
        },
        {
         "mode": "lines+markers",
         "name": "Linear 8192",
         "type": "scatter",
         "x": [
          2,
          3,
          4,
          5,
          6,
          7,
          8,
          9,
          10,
          11,
          12,
          13,
          14,
          15,
          16,
          17,
          18,
          19,
          20,
          21,
          22,
          23,
          24,
          25,
          26,
          27,
          28,
          29,
          30,
          31,
          32,
          33,
          34,
          35,
          36,
          37,
          38,
          39,
          40,
          41,
          42,
          43,
          44,
          45,
          46,
          47,
          48
         ],
         "y": [
          1.4942857142857144,
          2.1714285714285717,
          2.567142857142857,
          3.085714285714286,
          3.597142857142857,
          4.074285714285714,
          4.912857142857143,
          5.404285714285714,
          5.977142857142858,
          6.348571428571428,
          6.83,
          7.497142857142857,
          8.452857142857143,
          9.39,
          11.254285714285714,
          11.957142857142857,
          13.427142857142858,
          14.525714285714287,
          15.754285714285714,
          16.935714285714287,
          18.222857142857144,
          19.68285714285714,
          20.92142857142857,
          21.56,
          22.52285714285714,
          23.43285714285714,
          24.464285714285715,
          25.400000000000002,
          26.247142857142855,
          27.147142857142857,
          28.475714285714286,
          29.662857142857142,
          30.145714285714288,
          30.537142857142857,
          31.335714285714285,
          32.01,
          32.747142857142855,
          33.39142857142857,
          34.27428571428572,
          34.83571428571428,
          35.787142857142854,
          36.43,
          37.13142857142857,
          38.324285714285715,
          39.03285714285715,
          39.71,
          40.16428571428571
         ]
        }
       ],
       "layout": {
        "legend": {
         "title": {
          "text": "Message Size"
         }
        },
        "template": {
         "data": {
          "bar": [
           {
            "error_x": {
             "color": "#2a3f5f"
            },
            "error_y": {
             "color": "#2a3f5f"
            },
            "marker": {
             "line": {
              "color": "#E5ECF6",
              "width": 0.5
             },
             "pattern": {
              "fillmode": "overlay",
              "size": 10,
              "solidity": 0.2
             }
            },
            "type": "bar"
           }
          ],
          "barpolar": [
           {
            "marker": {
             "line": {
              "color": "#E5ECF6",
              "width": 0.5
             },
             "pattern": {
              "fillmode": "overlay",
              "size": 10,
              "solidity": 0.2
             }
            },
            "type": "barpolar"
           }
          ],
          "carpet": [
           {
            "aaxis": {
             "endlinecolor": "#2a3f5f",
             "gridcolor": "white",
             "linecolor": "white",
             "minorgridcolor": "white",
             "startlinecolor": "#2a3f5f"
            },
            "baxis": {
             "endlinecolor": "#2a3f5f",
             "gridcolor": "white",
             "linecolor": "white",
             "minorgridcolor": "white",
             "startlinecolor": "#2a3f5f"
            },
            "type": "carpet"
           }
          ],
          "choropleth": [
           {
            "colorbar": {
             "outlinewidth": 0,
             "ticks": ""
            },
            "type": "choropleth"
           }
          ],
          "contour": [
           {
            "colorbar": {
             "outlinewidth": 0,
             "ticks": ""
            },
            "colorscale": [
             [
              0,
              "#0d0887"
             ],
             [
              0.1111111111111111,
              "#46039f"
             ],
             [
              0.2222222222222222,
              "#7201a8"
             ],
             [
              0.3333333333333333,
              "#9c179e"
             ],
             [
              0.4444444444444444,
              "#bd3786"
             ],
             [
              0.5555555555555556,
              "#d8576b"
             ],
             [
              0.6666666666666666,
              "#ed7953"
             ],
             [
              0.7777777777777778,
              "#fb9f3a"
             ],
             [
              0.8888888888888888,
              "#fdca26"
             ],
             [
              1,
              "#f0f921"
             ]
            ],
            "type": "contour"
           }
          ],
          "contourcarpet": [
           {
            "colorbar": {
             "outlinewidth": 0,
             "ticks": ""
            },
            "type": "contourcarpet"
           }
          ],
          "heatmap": [
           {
            "colorbar": {
             "outlinewidth": 0,
             "ticks": ""
            },
            "colorscale": [
             [
              0,
              "#0d0887"
             ],
             [
              0.1111111111111111,
              "#46039f"
             ],
             [
              0.2222222222222222,
              "#7201a8"
             ],
             [
              0.3333333333333333,
              "#9c179e"
             ],
             [
              0.4444444444444444,
              "#bd3786"
             ],
             [
              0.5555555555555556,
              "#d8576b"
             ],
             [
              0.6666666666666666,
              "#ed7953"
             ],
             [
              0.7777777777777778,
              "#fb9f3a"
             ],
             [
              0.8888888888888888,
              "#fdca26"
             ],
             [
              1,
              "#f0f921"
             ]
            ],
            "type": "heatmap"
           }
          ],
          "heatmapgl": [
           {
            "colorbar": {
             "outlinewidth": 0,
             "ticks": ""
            },
            "colorscale": [
             [
              0,
              "#0d0887"
             ],
             [
              0.1111111111111111,
              "#46039f"
             ],
             [
              0.2222222222222222,
              "#7201a8"
             ],
             [
              0.3333333333333333,
              "#9c179e"
             ],
             [
              0.4444444444444444,
              "#bd3786"
             ],
             [
              0.5555555555555556,
              "#d8576b"
             ],
             [
              0.6666666666666666,
              "#ed7953"
             ],
             [
              0.7777777777777778,
              "#fb9f3a"
             ],
             [
              0.8888888888888888,
              "#fdca26"
             ],
             [
              1,
              "#f0f921"
             ]
            ],
            "type": "heatmapgl"
           }
          ],
          "histogram": [
           {
            "marker": {
             "pattern": {
              "fillmode": "overlay",
              "size": 10,
              "solidity": 0.2
             }
            },
            "type": "histogram"
           }
          ],
          "histogram2d": [
           {
            "colorbar": {
             "outlinewidth": 0,
             "ticks": ""
            },
            "colorscale": [
             [
              0,
              "#0d0887"
             ],
             [
              0.1111111111111111,
              "#46039f"
             ],
             [
              0.2222222222222222,
              "#7201a8"
             ],
             [
              0.3333333333333333,
              "#9c179e"
             ],
             [
              0.4444444444444444,
              "#bd3786"
             ],
             [
              0.5555555555555556,
              "#d8576b"
             ],
             [
              0.6666666666666666,
              "#ed7953"
             ],
             [
              0.7777777777777778,
              "#fb9f3a"
             ],
             [
              0.8888888888888888,
              "#fdca26"
             ],
             [
              1,
              "#f0f921"
             ]
            ],
            "type": "histogram2d"
           }
          ],
          "histogram2dcontour": [
           {
            "colorbar": {
             "outlinewidth": 0,
             "ticks": ""
            },
            "colorscale": [
             [
              0,
              "#0d0887"
             ],
             [
              0.1111111111111111,
              "#46039f"
             ],
             [
              0.2222222222222222,
              "#7201a8"
             ],
             [
              0.3333333333333333,
              "#9c179e"
             ],
             [
              0.4444444444444444,
              "#bd3786"
             ],
             [
              0.5555555555555556,
              "#d8576b"
             ],
             [
              0.6666666666666666,
              "#ed7953"
             ],
             [
              0.7777777777777778,
              "#fb9f3a"
             ],
             [
              0.8888888888888888,
              "#fdca26"
             ],
             [
              1,
              "#f0f921"
             ]
            ],
            "type": "histogram2dcontour"
           }
          ],
          "mesh3d": [
           {
            "colorbar": {
             "outlinewidth": 0,
             "ticks": ""
            },
            "type": "mesh3d"
           }
          ],
          "parcoords": [
           {
            "line": {
             "colorbar": {
              "outlinewidth": 0,
              "ticks": ""
             }
            },
            "type": "parcoords"
           }
          ],
          "pie": [
           {
            "automargin": true,
            "type": "pie"
           }
          ],
          "scatter": [
           {
            "fillpattern": {
             "fillmode": "overlay",
             "size": 10,
             "solidity": 0.2
            },
            "type": "scatter"
           }
          ],
          "scatter3d": [
           {
            "line": {
             "colorbar": {
              "outlinewidth": 0,
              "ticks": ""
             }
            },
            "marker": {
             "colorbar": {
              "outlinewidth": 0,
              "ticks": ""
             }
            },
            "type": "scatter3d"
           }
          ],
          "scattercarpet": [
           {
            "marker": {
             "colorbar": {
              "outlinewidth": 0,
              "ticks": ""
             }
            },
            "type": "scattercarpet"
           }
          ],
          "scattergeo": [
           {
            "marker": {
             "colorbar": {
              "outlinewidth": 0,
              "ticks": ""
             }
            },
            "type": "scattergeo"
           }
          ],
          "scattergl": [
           {
            "marker": {
             "colorbar": {
              "outlinewidth": 0,
              "ticks": ""
             }
            },
            "type": "scattergl"
           }
          ],
          "scattermapbox": [
           {
            "marker": {
             "colorbar": {
              "outlinewidth": 0,
              "ticks": ""
             }
            },
            "type": "scattermapbox"
           }
          ],
          "scatterpolar": [
           {
            "marker": {
             "colorbar": {
              "outlinewidth": 0,
              "ticks": ""
             }
            },
            "type": "scatterpolar"
           }
          ],
          "scatterpolargl": [
           {
            "marker": {
             "colorbar": {
              "outlinewidth": 0,
              "ticks": ""
             }
            },
            "type": "scatterpolargl"
           }
          ],
          "scatterternary": [
           {
            "marker": {
             "colorbar": {
              "outlinewidth": 0,
              "ticks": ""
             }
            },
            "type": "scatterternary"
           }
          ],
          "surface": [
           {
            "colorbar": {
             "outlinewidth": 0,
             "ticks": ""
            },
            "colorscale": [
             [
              0,
              "#0d0887"
             ],
             [
              0.1111111111111111,
              "#46039f"
             ],
             [
              0.2222222222222222,
              "#7201a8"
             ],
             [
              0.3333333333333333,
              "#9c179e"
             ],
             [
              0.4444444444444444,
              "#bd3786"
             ],
             [
              0.5555555555555556,
              "#d8576b"
             ],
             [
              0.6666666666666666,
              "#ed7953"
             ],
             [
              0.7777777777777778,
              "#fb9f3a"
             ],
             [
              0.8888888888888888,
              "#fdca26"
             ],
             [
              1,
              "#f0f921"
             ]
            ],
            "type": "surface"
           }
          ],
          "table": [
           {
            "cells": {
             "fill": {
              "color": "#EBF0F8"
             },
             "line": {
              "color": "white"
             }
            },
            "header": {
             "fill": {
              "color": "#C8D4E3"
             },
             "line": {
              "color": "white"
             }
            },
            "type": "table"
           }
          ]
         },
         "layout": {
          "annotationdefaults": {
           "arrowcolor": "#2a3f5f",
           "arrowhead": 0,
           "arrowwidth": 1
          },
          "autotypenumbers": "strict",
          "coloraxis": {
           "colorbar": {
            "outlinewidth": 0,
            "ticks": ""
           }
          },
          "colorscale": {
           "diverging": [
            [
             0,
             "#8e0152"
            ],
            [
             0.1,
             "#c51b7d"
            ],
            [
             0.2,
             "#de77ae"
            ],
            [
             0.3,
             "#f1b6da"
            ],
            [
             0.4,
             "#fde0ef"
            ],
            [
             0.5,
             "#f7f7f7"
            ],
            [
             0.6,
             "#e6f5d0"
            ],
            [
             0.7,
             "#b8e186"
            ],
            [
             0.8,
             "#7fbc41"
            ],
            [
             0.9,
             "#4d9221"
            ],
            [
             1,
             "#276419"
            ]
           ],
           "sequential": [
            [
             0,
             "#0d0887"
            ],
            [
             0.1111111111111111,
             "#46039f"
            ],
            [
             0.2222222222222222,
             "#7201a8"
            ],
            [
             0.3333333333333333,
             "#9c179e"
            ],
            [
             0.4444444444444444,
             "#bd3786"
            ],
            [
             0.5555555555555556,
             "#d8576b"
            ],
            [
             0.6666666666666666,
             "#ed7953"
            ],
            [
             0.7777777777777778,
             "#fb9f3a"
            ],
            [
             0.8888888888888888,
             "#fdca26"
            ],
            [
             1,
             "#f0f921"
            ]
           ],
           "sequentialminus": [
            [
             0,
             "#0d0887"
            ],
            [
             0.1111111111111111,
             "#46039f"
            ],
            [
             0.2222222222222222,
             "#7201a8"
            ],
            [
             0.3333333333333333,
             "#9c179e"
            ],
            [
             0.4444444444444444,
             "#bd3786"
            ],
            [
             0.5555555555555556,
             "#d8576b"
            ],
            [
             0.6666666666666666,
             "#ed7953"
            ],
            [
             0.7777777777777778,
             "#fb9f3a"
            ],
            [
             0.8888888888888888,
             "#fdca26"
            ],
            [
             1,
             "#f0f921"
            ]
           ]
          },
          "colorway": [
           "#636efa",
           "#EF553B",
           "#00cc96",
           "#ab63fa",
           "#FFA15A",
           "#19d3f3",
           "#FF6692",
           "#B6E880",
           "#FF97FF",
           "#FECB52"
          ],
          "font": {
           "color": "#2a3f5f"
          },
          "geo": {
           "bgcolor": "white",
           "lakecolor": "white",
           "landcolor": "#E5ECF6",
           "showlakes": true,
           "showland": true,
           "subunitcolor": "white"
          },
          "hoverlabel": {
           "align": "left"
          },
          "hovermode": "closest",
          "mapbox": {
           "style": "light"
          },
          "paper_bgcolor": "white",
          "plot_bgcolor": "#E5ECF6",
          "polar": {
           "angularaxis": {
            "gridcolor": "white",
            "linecolor": "white",
            "ticks": ""
           },
           "bgcolor": "#E5ECF6",
           "radialaxis": {
            "gridcolor": "white",
            "linecolor": "white",
            "ticks": ""
           }
          },
          "scene": {
           "xaxis": {
            "backgroundcolor": "#E5ECF6",
            "gridcolor": "white",
            "gridwidth": 2,
            "linecolor": "white",
            "showbackground": true,
            "ticks": "",
            "zerolinecolor": "white"
           },
           "yaxis": {
            "backgroundcolor": "#E5ECF6",
            "gridcolor": "white",
            "gridwidth": 2,
            "linecolor": "white",
            "showbackground": true,
            "ticks": "",
            "zerolinecolor": "white"
           },
           "zaxis": {
            "backgroundcolor": "#E5ECF6",
            "gridcolor": "white",
            "gridwidth": 2,
            "linecolor": "white",
            "showbackground": true,
            "ticks": "",
            "zerolinecolor": "white"
           }
          },
          "shapedefaults": {
           "line": {
            "color": "#2a3f5f"
           }
          },
          "ternary": {
           "aaxis": {
            "gridcolor": "white",
            "linecolor": "white",
            "ticks": ""
           },
           "baxis": {
            "gridcolor": "white",
            "linecolor": "white",
            "ticks": ""
           },
           "bgcolor": "#E5ECF6",
           "caxis": {
            "gridcolor": "white",
            "linecolor": "white",
            "ticks": ""
           }
          },
          "title": {
           "x": 0.05
          },
          "xaxis": {
           "automargin": true,
           "gridcolor": "white",
           "linecolor": "white",
           "ticks": "",
           "title": {
            "standoff": 15
           },
           "zerolinecolor": "white",
           "zerolinewidth": 2
          },
          "yaxis": {
           "automargin": true,
           "gridcolor": "white",
           "linecolor": "white",
           "ticks": "",
           "title": {
            "standoff": 15
           },
           "zerolinecolor": "white",
           "zerolinewidth": 2
          }
         }
        },
        "title": {
         "text": "COmparison of the average latency vs Processes for the broadcast using different Algorithms"
        },
        "xaxis": {
         "tickvals": [
          2,
          4,
          6,
          8,
          12,
          16,
          20,
          24,
          28,
          32,
          36,
          40,
          44,
          48
         ],
         "title": {
          "text": "Processes"
         }
        },
        "yaxis": {
         "title": {
          "text": "Latency (us)"
         },
         "type": "linear"
        }
       }
      }
     },
     "metadata": {},
     "output_type": "display_data"
    }
   ],
   "source": [
    "chain_summarized_df = pd.concat(chain_df).copy()\n",
    "binary_tree_summarized_df = pd.concat(binary_tree_df).copy()\n",
    "default_summarized_df = pd.concat(default_df).copy()\n",
    "liner_size_summarized_df = pd.concat(linear_df).copy()\n",
    "\n",
    "\n",
    "chain_summarized_df.drop(columns=['Algorithm', 'Allocation', 'algorithm'], inplace=True)\n",
    "binary_tree_summarized_df.drop(columns=['Algorithm', 'Allocation', 'algorithm'], inplace=True)\n",
    "default_summarized_df.drop(columns=['Algorithm', 'Allocation', 'algorithm'], inplace=True)\n",
    "liner_size_summarized_df.drop(columns=['Algorithm', 'Allocation', 'algorithm'], inplace=True)\n",
    "\n",
    "summary_default = default_summarized_df.groupby(['Processes', 'MessageSize']).mean().reset_index()\n",
    "summary_chain = chain_summarized_df.groupby(['Processes', 'MessageSize']).mean().reset_index()\n",
    "summary_binary_tree = binary_tree_summarized_df.groupby(['Processes', 'MessageSize']).mean().reset_index()\n",
    "summary_linear = liner_size_summarized_df.groupby(['Processes', 'MessageSize']).mean().reset_index()\n",
    "\n",
    "fig = go.Figure()\n",
    "\n",
    "for message_size in selected_sizes:\n",
    "\tsummary_default = summary_default[summary_default['MessageSize']==message_size]\n",
    "\t# Plot the data\n",
    "\tfig.add_trace(go.Scatter(x=summary_default['Processes'], \n",
    "\t\t\t\ty=summary_default['Latency'],\n",
    "\t\t\t\tmode='lines+markers', name='Default '+str(message_size)))\n",
    "\n",
    "for message_size in selected_sizes:\n",
    "\tsummary_binary_tree = summary_binary_tree[summary_binary_tree['MessageSize']==message_size]\n",
    "\t# Plot the data\n",
    "\tfig.add_trace(go.Scatter(x=summary_binary_tree['Processes'], \n",
    "\t\t\t\ty=summary_binary_tree['Latency'],\n",
    "\t\t\t\tmode='lines+markers', name='Binary Tree '+str(message_size)))\n",
    "\n",
    "for message_size in selected_sizes:\n",
    "\tsummary_chain = summary_chain[summary_chain['MessageSize']==message_size]\n",
    "\t# Plot the data\n",
    "\tfig.add_trace(go.Scatter(x=summary_chain['Processes'], \n",
    "\t\t\t\ty=summary_chain['Latency'],\n",
    "\t\t\t\tmode='lines+markers', name='Chain '+str(message_size)))\n",
    "\n",
    "for message_size in selected_sizes:\n",
    "\tsummary_linear = summary_linear[summary_linear['MessageSize']==message_size]\n",
    "\t# Plot the data\n",
    "\tfig.add_trace(go.Scatter(x=summary_linear['Processes'], \n",
    "\t\t\t\ty=summary_linear['Latency'],\n",
    "\t\t\t\tmode='lines+markers', name='Linear '+str(message_size)))\n",
    "\n",
    "# Set the layout of the figure, title, axis labels, etc.\n",
    "# Select the scale type of the y axis\n",
    "fig.update_layout(title='COmparison of the average latency vs Processes for the broadcast using different Algorithms', \n",
    "\t\t\t\t\txaxis_title='Processes', \n",
    "\t\t\t\t\tyaxis_title='Latency (us)', \n",
    "\t\t\t\t\tlegend_title='Message Size',\n",
    "\t\t\t\t\txaxis=dict(tickvals=tickvals),\n",
    "\t\t\t\t\tyaxis=dict(type='linear')\n",
    ")\n",
    "\n",
    "fig.show()\n"
   ]
  },
  {
   "cell_type": "markdown",
   "metadata": {},
   "source": [
    "## `barrier` messaging\n",
    "\n",
    "Lore ipsum etc etc"
   ]
  },
  {
   "cell_type": "markdown",
   "metadata": {},
   "source": []
  },
  {
   "cell_type": "code",
   "execution_count": null,
   "metadata": {},
   "outputs": [],
   "source": []
  },
  {
   "cell_type": "code",
   "execution_count": 322,
   "metadata": {},
   "outputs": [
    {
     "data": {
      "application/vnd.plotly.v1+json": {
       "config": {
        "plotlyServerURL": "https://plot.ly"
       },
       "data": [
        {
         "mode": "lines+markers",
         "name": "core",
         "type": "scatter",
         "x": [
          2,
          4,
          6,
          8,
          10,
          12,
          14,
          16,
          18,
          20,
          22,
          24,
          26,
          28,
          30,
          32,
          34,
          36,
          38,
          40,
          42,
          44,
          46,
          48
         ],
         "y": [
          0.38,
          0.69,
          0.94,
          0.95,
          1.56,
          1.7,
          2.79,
          2.66,
          3.33,
          3.5,
          4.6,
          4.36,
          5.03,
          4.95,
          4.87,
          3.79,
          4.29,
          4.56,
          5.12,
          5.1,
          5.4,
          5.48,
          5.67,
          5.88
         ]
        },
        {
         "mode": "lines+markers",
         "name": "socket",
         "type": "scatter",
         "x": [
          2,
          4,
          6,
          8,
          10,
          12,
          14,
          16,
          18,
          20,
          22,
          24,
          26,
          28,
          30,
          32,
          34,
          36,
          38,
          40,
          42,
          44,
          46,
          48
         ],
         "y": [
          0.59,
          1.43,
          1.83,
          1.68,
          2.49,
          3.15,
          3.26,
          2.84,
          2.37,
          3.76,
          2.96,
          2.88,
          4.55,
          4.76,
          5.02,
          4.1,
          5.12,
          5.44,
          5.28,
          5.13,
          5.31,
          5.26,
          5.23,
          5.27
         ]
        },
        {
         "mode": "lines+markers",
         "name": "node",
         "type": "scatter",
         "x": [
          2,
          4,
          6,
          8,
          10,
          12,
          14,
          16,
          18,
          20,
          22,
          24,
          26,
          28,
          30,
          32,
          34,
          36,
          38,
          40,
          42,
          44,
          46,
          48
         ],
         "y": [
          1.05,
          2.53,
          2.65,
          2.51,
          3.34,
          3.41,
          3.61,
          3.55,
          3.69,
          4.04,
          4.46,
          4.42,
          4.41,
          4.72,
          4.69,
          3.93,
          4.45,
          4.15,
          4.38,
          4.27,
          4.18,
          4.1,
          3.82,
          3.85
         ]
        },
        {
         "mode": "lines+markers",
         "name": "core",
         "type": "scatter",
         "x": [
          2,
          4,
          6,
          8,
          10,
          12,
          14,
          16,
          18,
          20,
          22,
          24,
          26,
          28,
          30,
          32,
          34,
          36,
          38,
          40,
          42,
          44,
          46,
          48
         ],
         "y": [
          0.24,
          0.73,
          0.97,
          1.06,
          1.49,
          2,
          2.49,
          2.19,
          3.28,
          3.56,
          3.6,
          3.6,
          4.44,
          4.54,
          5.11,
          3.65,
          4.45,
          5.32,
          5.04,
          5.19,
          5.37,
          5.41,
          5.68,
          5.79
         ]
        },
        {
         "mode": "lines+markers",
         "name": "socket",
         "type": "scatter",
         "x": [
          2,
          4,
          6,
          8,
          10,
          12,
          14,
          16,
          18,
          20,
          22,
          24,
          26,
          28,
          30,
          32,
          34,
          36,
          38,
          40,
          42,
          44,
          46,
          48
         ],
         "y": [
          0.67,
          1.44,
          1.96,
          1.62,
          2.11,
          2.14,
          2.95,
          2.84,
          3.21,
          3.28,
          3.02,
          2.84,
          4.71,
          4.75,
          5.04,
          3.99,
          5.14,
          5.29,
          5.31,
          5.15,
          5.33,
          5.28,
          5.41,
          5.32
         ]
        },
        {
         "mode": "lines+markers",
         "name": "node",
         "type": "scatter",
         "x": [
          2,
          4,
          6,
          8,
          10,
          12,
          14,
          16,
          18,
          20,
          22,
          24,
          26,
          28,
          30,
          32,
          34,
          36,
          38,
          40,
          42,
          44,
          46,
          48
         ],
         "y": [
          1.05,
          2.94,
          2.97,
          2.34,
          3.07,
          3.32,
          4.32,
          3.44,
          3.69,
          3.89,
          4.25,
          4.4,
          4.51,
          4.82,
          4.96,
          3.98,
          3.92,
          4.23,
          4.22,
          4.02,
          4.3,
          4,
          3.85,
          3.82
         ]
        },
        {
         "mode": "lines+markers",
         "name": "core",
         "type": "scatter",
         "x": [
          2,
          4,
          6,
          8,
          10,
          12,
          14,
          16,
          18,
          20,
          22,
          24,
          26,
          28,
          30,
          32,
          34,
          36,
          38,
          40,
          42,
          44,
          46,
          48
         ],
         "y": [
          0.26,
          0.73,
          1.01,
          1.15,
          1.45,
          1.68,
          2.75,
          2.38,
          3.24,
          4.16,
          3.87,
          3.65,
          4.37,
          4.28,
          6.31,
          3.73,
          4.43,
          4.81,
          5.04,
          5.12,
          5.48,
          5.4,
          5.88,
          5.83
         ]
        },
        {
         "mode": "lines+markers",
         "name": "socket",
         "type": "scatter",
         "x": [
          2,
          4,
          6,
          8,
          10,
          12,
          14,
          16,
          18,
          20,
          22,
          24,
          26,
          28,
          30,
          32,
          34,
          36,
          38,
          40,
          42,
          44,
          46,
          48
         ],
         "y": [
          0.6,
          1.41,
          1.87,
          1.69,
          2.38,
          2.61,
          2.57,
          2.37,
          2.55,
          2.8,
          3.02,
          2.66,
          4.86,
          4.6,
          4.98,
          4.25,
          5.53,
          4.94,
          5.14,
          5.4,
          5.26,
          5.29,
          5.28,
          5.25
         ]
        },
        {
         "mode": "lines+markers",
         "name": "node",
         "type": "scatter",
         "x": [
          2,
          4,
          6,
          8,
          10,
          12,
          14,
          16,
          18,
          20,
          22,
          24,
          26,
          28,
          30,
          32,
          34,
          36,
          38,
          40,
          42,
          44,
          46,
          48
         ],
         "y": [
          1.07,
          2.94,
          2.88,
          3.12,
          3.23,
          3.99,
          4,
          3.12,
          3.85,
          3.73,
          3.95,
          4.45,
          4.75,
          4.99,
          5.01,
          3.74,
          4.3,
          4.22,
          4.58,
          4.35,
          4.31,
          4.27,
          4.25,
          3.86
         ]
        },
        {
         "mode": "lines+markers",
         "name": "core",
         "type": "scatter",
         "x": [
          2,
          4,
          6,
          8,
          10,
          12,
          14,
          16,
          18,
          20,
          22,
          24,
          26,
          28,
          30,
          32,
          34,
          36,
          38,
          40,
          42,
          44,
          46,
          48
         ],
         "y": [
          0.32,
          0.7,
          0.96,
          0.94,
          1.54,
          2.75,
          3,
          2.36,
          3.11,
          4.35,
          3.94,
          4.03,
          4.68,
          4.38,
          5.12,
          3.74,
          4.68,
          4.7,
          4.93,
          5.17,
          5.33,
          5.26,
          5.77,
          6.33
         ]
        },
        {
         "mode": "lines+markers",
         "name": "socket",
         "type": "scatter",
         "x": [
          2,
          4,
          6,
          8,
          10,
          12,
          14,
          16,
          18,
          20,
          22,
          24,
          26,
          28,
          30,
          32,
          34,
          36,
          38,
          40,
          42,
          44,
          46,
          48
         ],
         "y": [
          0.48,
          1.24,
          1.55,
          1.46,
          1.86,
          2.47,
          3.07,
          2.45,
          2.35,
          3,
          2.92,
          2.7,
          4.39,
          4.71,
          5.11,
          4.49,
          5.13,
          5.26,
          5.13,
          5.32,
          5.32,
          5.34,
          5.37,
          5.41
         ]
        },
        {
         "mode": "lines+markers",
         "name": "node",
         "type": "scatter",
         "x": [
          2,
          4,
          6,
          8,
          10,
          12,
          14,
          16,
          18,
          20,
          22,
          24,
          26,
          28,
          30,
          32,
          34,
          36,
          38,
          40,
          42,
          44,
          46,
          48
         ],
         "y": [
          1.06,
          2.52,
          3.15,
          2.58,
          2.96,
          3.91,
          3.31,
          3.06,
          3.33,
          4.05,
          3.94,
          4.37,
          4.56,
          4.5,
          4.98,
          4.07,
          4.07,
          4.83,
          4.13,
          4.49,
          4.3,
          3.93,
          3.99,
          3.92
         ]
        },
        {
         "mode": "lines+markers",
         "name": "core",
         "type": "scatter",
         "x": [
          2,
          4,
          6,
          8,
          10,
          12,
          14,
          16,
          18,
          20,
          22,
          24,
          26,
          28,
          30,
          32,
          34,
          36,
          38,
          40,
          42,
          44,
          46,
          48
         ],
         "y": [
          0.25,
          0.71,
          1.03,
          0.98,
          1.48,
          1.59,
          2.69,
          2.01,
          3.28,
          4.09,
          4.63,
          4.38,
          4.78,
          4.7,
          4.91,
          3.83,
          4.56,
          4.62,
          5.33,
          5.1,
          5.42,
          5.39,
          5.6,
          5.84
         ]
        },
        {
         "mode": "lines+markers",
         "name": "socket",
         "type": "scatter",
         "x": [
          2,
          4,
          6,
          8,
          10,
          12,
          14,
          16,
          18,
          20,
          22,
          24,
          26,
          28,
          30,
          32,
          34,
          36,
          38,
          40,
          42,
          44,
          46,
          48
         ],
         "y": [
          0.61,
          1.41,
          1.61,
          1.52,
          2.09,
          3.2,
          2.79,
          2.48,
          2.69,
          2.72,
          2.73,
          2.86,
          5,
          5.21,
          5.01,
          4.16,
          5.36,
          4.93,
          5.42,
          5.2,
          5.3,
          5.25,
          6.12,
          5.26
         ]
        },
        {
         "mode": "lines+markers",
         "name": "node",
         "type": "scatter",
         "x": [
          2,
          4,
          6,
          8,
          10,
          12,
          14,
          16,
          18,
          20,
          22,
          24,
          26,
          28,
          30,
          32,
          34,
          36,
          38,
          40,
          42,
          44,
          46,
          48
         ],
         "y": [
          1.05,
          2.83,
          3.06,
          3.04,
          3.55,
          3.88,
          3.97,
          3.35,
          3.79,
          4.28,
          4.5,
          4.6,
          4.81,
          4.78,
          5.32,
          3.99,
          4.09,
          4.89,
          4.26,
          4.33,
          4.65,
          4.28,
          4.21,
          3.82
         ]
        },
        {
         "mode": "lines+markers",
         "name": "core",
         "type": "scatter",
         "x": [
          2,
          4,
          6,
          8,
          10,
          12,
          14,
          16,
          18,
          20,
          22,
          24,
          26,
          28,
          30,
          32,
          34,
          36,
          38,
          40,
          42,
          44,
          46,
          48
         ],
         "y": [
          0.24,
          0.7,
          1.05,
          0.93,
          1.59,
          2.22,
          2.6,
          2.08,
          3.5,
          3.83,
          3.47,
          3.95,
          4.7,
          4.88,
          5.09,
          3.64,
          4.4,
          4.8,
          5.26,
          5.13,
          5.42,
          5.42,
          5.55,
          5.99
         ]
        },
        {
         "mode": "lines+markers",
         "name": "socket",
         "type": "scatter",
         "x": [
          2,
          4,
          6,
          8,
          10,
          12,
          14,
          16,
          18,
          20,
          22,
          24,
          26,
          28,
          30,
          32,
          34,
          36,
          38,
          40,
          42,
          44,
          46,
          48
         ],
         "y": [
          0.58,
          1.54,
          1.74,
          1.99,
          2.09,
          2.41,
          2.78,
          2.34,
          2.91,
          2.69,
          3.01,
          2.81,
          5.06,
          5.45,
          5.41,
          4.58,
          4.8,
          5.2,
          5.32,
          5.26,
          5.36,
          5.3,
          5.64,
          5.52
         ]
        },
        {
         "mode": "lines+markers",
         "name": "node",
         "type": "scatter",
         "x": [
          2,
          4,
          6,
          8,
          10,
          12,
          14,
          16,
          18,
          20,
          22,
          24,
          26,
          28,
          30,
          32,
          34,
          36,
          38,
          40,
          42,
          44,
          46,
          48
         ],
         "y": [
          1.06,
          3.02,
          3.17,
          2.91,
          3.26,
          3.9,
          3.85,
          3.46,
          3.81,
          3.78,
          4.22,
          4.24,
          4.68,
          4.5,
          4.62,
          4.04,
          4.34,
          4.35,
          4.27,
          4.11,
          4.4,
          4,
          4.23,
          4.1
         ]
        }
       ],
       "layout": {
        "template": {
         "data": {
          "bar": [
           {
            "error_x": {
             "color": "#2a3f5f"
            },
            "error_y": {
             "color": "#2a3f5f"
            },
            "marker": {
             "line": {
              "color": "#E5ECF6",
              "width": 0.5
             },
             "pattern": {
              "fillmode": "overlay",
              "size": 10,
              "solidity": 0.2
             }
            },
            "type": "bar"
           }
          ],
          "barpolar": [
           {
            "marker": {
             "line": {
              "color": "#E5ECF6",
              "width": 0.5
             },
             "pattern": {
              "fillmode": "overlay",
              "size": 10,
              "solidity": 0.2
             }
            },
            "type": "barpolar"
           }
          ],
          "carpet": [
           {
            "aaxis": {
             "endlinecolor": "#2a3f5f",
             "gridcolor": "white",
             "linecolor": "white",
             "minorgridcolor": "white",
             "startlinecolor": "#2a3f5f"
            },
            "baxis": {
             "endlinecolor": "#2a3f5f",
             "gridcolor": "white",
             "linecolor": "white",
             "minorgridcolor": "white",
             "startlinecolor": "#2a3f5f"
            },
            "type": "carpet"
           }
          ],
          "choropleth": [
           {
            "colorbar": {
             "outlinewidth": 0,
             "ticks": ""
            },
            "type": "choropleth"
           }
          ],
          "contour": [
           {
            "colorbar": {
             "outlinewidth": 0,
             "ticks": ""
            },
            "colorscale": [
             [
              0,
              "#0d0887"
             ],
             [
              0.1111111111111111,
              "#46039f"
             ],
             [
              0.2222222222222222,
              "#7201a8"
             ],
             [
              0.3333333333333333,
              "#9c179e"
             ],
             [
              0.4444444444444444,
              "#bd3786"
             ],
             [
              0.5555555555555556,
              "#d8576b"
             ],
             [
              0.6666666666666666,
              "#ed7953"
             ],
             [
              0.7777777777777778,
              "#fb9f3a"
             ],
             [
              0.8888888888888888,
              "#fdca26"
             ],
             [
              1,
              "#f0f921"
             ]
            ],
            "type": "contour"
           }
          ],
          "contourcarpet": [
           {
            "colorbar": {
             "outlinewidth": 0,
             "ticks": ""
            },
            "type": "contourcarpet"
           }
          ],
          "heatmap": [
           {
            "colorbar": {
             "outlinewidth": 0,
             "ticks": ""
            },
            "colorscale": [
             [
              0,
              "#0d0887"
             ],
             [
              0.1111111111111111,
              "#46039f"
             ],
             [
              0.2222222222222222,
              "#7201a8"
             ],
             [
              0.3333333333333333,
              "#9c179e"
             ],
             [
              0.4444444444444444,
              "#bd3786"
             ],
             [
              0.5555555555555556,
              "#d8576b"
             ],
             [
              0.6666666666666666,
              "#ed7953"
             ],
             [
              0.7777777777777778,
              "#fb9f3a"
             ],
             [
              0.8888888888888888,
              "#fdca26"
             ],
             [
              1,
              "#f0f921"
             ]
            ],
            "type": "heatmap"
           }
          ],
          "heatmapgl": [
           {
            "colorbar": {
             "outlinewidth": 0,
             "ticks": ""
            },
            "colorscale": [
             [
              0,
              "#0d0887"
             ],
             [
              0.1111111111111111,
              "#46039f"
             ],
             [
              0.2222222222222222,
              "#7201a8"
             ],
             [
              0.3333333333333333,
              "#9c179e"
             ],
             [
              0.4444444444444444,
              "#bd3786"
             ],
             [
              0.5555555555555556,
              "#d8576b"
             ],
             [
              0.6666666666666666,
              "#ed7953"
             ],
             [
              0.7777777777777778,
              "#fb9f3a"
             ],
             [
              0.8888888888888888,
              "#fdca26"
             ],
             [
              1,
              "#f0f921"
             ]
            ],
            "type": "heatmapgl"
           }
          ],
          "histogram": [
           {
            "marker": {
             "pattern": {
              "fillmode": "overlay",
              "size": 10,
              "solidity": 0.2
             }
            },
            "type": "histogram"
           }
          ],
          "histogram2d": [
           {
            "colorbar": {
             "outlinewidth": 0,
             "ticks": ""
            },
            "colorscale": [
             [
              0,
              "#0d0887"
             ],
             [
              0.1111111111111111,
              "#46039f"
             ],
             [
              0.2222222222222222,
              "#7201a8"
             ],
             [
              0.3333333333333333,
              "#9c179e"
             ],
             [
              0.4444444444444444,
              "#bd3786"
             ],
             [
              0.5555555555555556,
              "#d8576b"
             ],
             [
              0.6666666666666666,
              "#ed7953"
             ],
             [
              0.7777777777777778,
              "#fb9f3a"
             ],
             [
              0.8888888888888888,
              "#fdca26"
             ],
             [
              1,
              "#f0f921"
             ]
            ],
            "type": "histogram2d"
           }
          ],
          "histogram2dcontour": [
           {
            "colorbar": {
             "outlinewidth": 0,
             "ticks": ""
            },
            "colorscale": [
             [
              0,
              "#0d0887"
             ],
             [
              0.1111111111111111,
              "#46039f"
             ],
             [
              0.2222222222222222,
              "#7201a8"
             ],
             [
              0.3333333333333333,
              "#9c179e"
             ],
             [
              0.4444444444444444,
              "#bd3786"
             ],
             [
              0.5555555555555556,
              "#d8576b"
             ],
             [
              0.6666666666666666,
              "#ed7953"
             ],
             [
              0.7777777777777778,
              "#fb9f3a"
             ],
             [
              0.8888888888888888,
              "#fdca26"
             ],
             [
              1,
              "#f0f921"
             ]
            ],
            "type": "histogram2dcontour"
           }
          ],
          "mesh3d": [
           {
            "colorbar": {
             "outlinewidth": 0,
             "ticks": ""
            },
            "type": "mesh3d"
           }
          ],
          "parcoords": [
           {
            "line": {
             "colorbar": {
              "outlinewidth": 0,
              "ticks": ""
             }
            },
            "type": "parcoords"
           }
          ],
          "pie": [
           {
            "automargin": true,
            "type": "pie"
           }
          ],
          "scatter": [
           {
            "fillpattern": {
             "fillmode": "overlay",
             "size": 10,
             "solidity": 0.2
            },
            "type": "scatter"
           }
          ],
          "scatter3d": [
           {
            "line": {
             "colorbar": {
              "outlinewidth": 0,
              "ticks": ""
             }
            },
            "marker": {
             "colorbar": {
              "outlinewidth": 0,
              "ticks": ""
             }
            },
            "type": "scatter3d"
           }
          ],
          "scattercarpet": [
           {
            "marker": {
             "colorbar": {
              "outlinewidth": 0,
              "ticks": ""
             }
            },
            "type": "scattercarpet"
           }
          ],
          "scattergeo": [
           {
            "marker": {
             "colorbar": {
              "outlinewidth": 0,
              "ticks": ""
             }
            },
            "type": "scattergeo"
           }
          ],
          "scattergl": [
           {
            "marker": {
             "colorbar": {
              "outlinewidth": 0,
              "ticks": ""
             }
            },
            "type": "scattergl"
           }
          ],
          "scattermapbox": [
           {
            "marker": {
             "colorbar": {
              "outlinewidth": 0,
              "ticks": ""
             }
            },
            "type": "scattermapbox"
           }
          ],
          "scatterpolar": [
           {
            "marker": {
             "colorbar": {
              "outlinewidth": 0,
              "ticks": ""
             }
            },
            "type": "scatterpolar"
           }
          ],
          "scatterpolargl": [
           {
            "marker": {
             "colorbar": {
              "outlinewidth": 0,
              "ticks": ""
             }
            },
            "type": "scatterpolargl"
           }
          ],
          "scatterternary": [
           {
            "marker": {
             "colorbar": {
              "outlinewidth": 0,
              "ticks": ""
             }
            },
            "type": "scatterternary"
           }
          ],
          "surface": [
           {
            "colorbar": {
             "outlinewidth": 0,
             "ticks": ""
            },
            "colorscale": [
             [
              0,
              "#0d0887"
             ],
             [
              0.1111111111111111,
              "#46039f"
             ],
             [
              0.2222222222222222,
              "#7201a8"
             ],
             [
              0.3333333333333333,
              "#9c179e"
             ],
             [
              0.4444444444444444,
              "#bd3786"
             ],
             [
              0.5555555555555556,
              "#d8576b"
             ],
             [
              0.6666666666666666,
              "#ed7953"
             ],
             [
              0.7777777777777778,
              "#fb9f3a"
             ],
             [
              0.8888888888888888,
              "#fdca26"
             ],
             [
              1,
              "#f0f921"
             ]
            ],
            "type": "surface"
           }
          ],
          "table": [
           {
            "cells": {
             "fill": {
              "color": "#EBF0F8"
             },
             "line": {
              "color": "white"
             }
            },
            "header": {
             "fill": {
              "color": "#C8D4E3"
             },
             "line": {
              "color": "white"
             }
            },
            "type": "table"
           }
          ]
         },
         "layout": {
          "annotationdefaults": {
           "arrowcolor": "#2a3f5f",
           "arrowhead": 0,
           "arrowwidth": 1
          },
          "autotypenumbers": "strict",
          "coloraxis": {
           "colorbar": {
            "outlinewidth": 0,
            "ticks": ""
           }
          },
          "colorscale": {
           "diverging": [
            [
             0,
             "#8e0152"
            ],
            [
             0.1,
             "#c51b7d"
            ],
            [
             0.2,
             "#de77ae"
            ],
            [
             0.3,
             "#f1b6da"
            ],
            [
             0.4,
             "#fde0ef"
            ],
            [
             0.5,
             "#f7f7f7"
            ],
            [
             0.6,
             "#e6f5d0"
            ],
            [
             0.7,
             "#b8e186"
            ],
            [
             0.8,
             "#7fbc41"
            ],
            [
             0.9,
             "#4d9221"
            ],
            [
             1,
             "#276419"
            ]
           ],
           "sequential": [
            [
             0,
             "#0d0887"
            ],
            [
             0.1111111111111111,
             "#46039f"
            ],
            [
             0.2222222222222222,
             "#7201a8"
            ],
            [
             0.3333333333333333,
             "#9c179e"
            ],
            [
             0.4444444444444444,
             "#bd3786"
            ],
            [
             0.5555555555555556,
             "#d8576b"
            ],
            [
             0.6666666666666666,
             "#ed7953"
            ],
            [
             0.7777777777777778,
             "#fb9f3a"
            ],
            [
             0.8888888888888888,
             "#fdca26"
            ],
            [
             1,
             "#f0f921"
            ]
           ],
           "sequentialminus": [
            [
             0,
             "#0d0887"
            ],
            [
             0.1111111111111111,
             "#46039f"
            ],
            [
             0.2222222222222222,
             "#7201a8"
            ],
            [
             0.3333333333333333,
             "#9c179e"
            ],
            [
             0.4444444444444444,
             "#bd3786"
            ],
            [
             0.5555555555555556,
             "#d8576b"
            ],
            [
             0.6666666666666666,
             "#ed7953"
            ],
            [
             0.7777777777777778,
             "#fb9f3a"
            ],
            [
             0.8888888888888888,
             "#fdca26"
            ],
            [
             1,
             "#f0f921"
            ]
           ]
          },
          "colorway": [
           "#636efa",
           "#EF553B",
           "#00cc96",
           "#ab63fa",
           "#FFA15A",
           "#19d3f3",
           "#FF6692",
           "#B6E880",
           "#FF97FF",
           "#FECB52"
          ],
          "font": {
           "color": "#2a3f5f"
          },
          "geo": {
           "bgcolor": "white",
           "lakecolor": "white",
           "landcolor": "#E5ECF6",
           "showlakes": true,
           "showland": true,
           "subunitcolor": "white"
          },
          "hoverlabel": {
           "align": "left"
          },
          "hovermode": "closest",
          "mapbox": {
           "style": "light"
          },
          "paper_bgcolor": "white",
          "plot_bgcolor": "#E5ECF6",
          "polar": {
           "angularaxis": {
            "gridcolor": "white",
            "linecolor": "white",
            "ticks": ""
           },
           "bgcolor": "#E5ECF6",
           "radialaxis": {
            "gridcolor": "white",
            "linecolor": "white",
            "ticks": ""
           }
          },
          "scene": {
           "xaxis": {
            "backgroundcolor": "#E5ECF6",
            "gridcolor": "white",
            "gridwidth": 2,
            "linecolor": "white",
            "showbackground": true,
            "ticks": "",
            "zerolinecolor": "white"
           },
           "yaxis": {
            "backgroundcolor": "#E5ECF6",
            "gridcolor": "white",
            "gridwidth": 2,
            "linecolor": "white",
            "showbackground": true,
            "ticks": "",
            "zerolinecolor": "white"
           },
           "zaxis": {
            "backgroundcolor": "#E5ECF6",
            "gridcolor": "white",
            "gridwidth": 2,
            "linecolor": "white",
            "showbackground": true,
            "ticks": "",
            "zerolinecolor": "white"
           }
          },
          "shapedefaults": {
           "line": {
            "color": "#2a3f5f"
           }
          },
          "ternary": {
           "aaxis": {
            "gridcolor": "white",
            "linecolor": "white",
            "ticks": ""
           },
           "baxis": {
            "gridcolor": "white",
            "linecolor": "white",
            "ticks": ""
           },
           "bgcolor": "#E5ECF6",
           "caxis": {
            "gridcolor": "white",
            "linecolor": "white",
            "ticks": ""
           }
          },
          "title": {
           "x": 0.05
          },
          "xaxis": {
           "automargin": true,
           "gridcolor": "white",
           "linecolor": "white",
           "ticks": "",
           "title": {
            "standoff": 15
           },
           "zerolinecolor": "white",
           "zerolinewidth": 2
          },
          "yaxis": {
           "automargin": true,
           "gridcolor": "white",
           "linecolor": "white",
           "ticks": "",
           "title": {
            "standoff": 15
           },
           "zerolinecolor": "white",
           "zerolinewidth": 2
          }
         }
        },
        "title": {
         "text": "Latency vs Processes for the barrier using the Default Algorithm"
        },
        "xaxis": {
         "tickvals": [
          2,
          4,
          6,
          8,
          12,
          16,
          20,
          24,
          28,
          32,
          36,
          40,
          44,
          48
         ],
         "title": {
          "text": "Processes"
         }
        },
        "yaxis": {
         "title": {
          "text": "Latency (us)"
         }
        }
       }
      }
     },
     "metadata": {},
     "output_type": "display_data"
    },
    {
     "data": {
      "application/vnd.plotly.v1+json": {
       "config": {
        "plotlyServerURL": "https://plot.ly"
       },
       "data": [
        {
         "mode": "lines+markers",
         "name": "core",
         "type": "scatter",
         "x": [
          2,
          4,
          6,
          8,
          10,
          12,
          14,
          16,
          18,
          20,
          22,
          24,
          26,
          28,
          30,
          32,
          34,
          36,
          38,
          40,
          42,
          44,
          46,
          48
         ],
         "y": [
          0.2816666666666667,
          0.71,
          0.9933333333333333,
          1.0016666666666667,
          1.5183333333333333,
          1.9900000000000002,
          2.72,
          2.28,
          3.2899999999999996,
          3.9150000000000005,
          4.0183333333333335,
          3.9949999999999997,
          4.666666666666667,
          4.621666666666667,
          5.235,
          3.73,
          4.468333333333333,
          4.801666666666667,
          5.12,
          5.135,
          5.403333333333333,
          5.3933333333333335,
          5.691666666666666,
          5.9433333333333325
         ]
        },
        {
         "mode": "lines+markers",
         "name": "socket",
         "type": "scatter",
         "x": [
          2,
          4,
          6,
          8,
          10,
          12,
          14,
          16,
          18,
          20,
          22,
          24,
          26,
          28,
          30,
          32,
          34,
          36,
          38,
          40,
          42,
          44,
          46,
          48
         ],
         "y": [
          0.5883333333333333,
          1.4116666666666664,
          1.76,
          1.6600000000000001,
          2.17,
          2.6633333333333336,
          2.903333333333333,
          2.5533333333333332,
          2.6799999999999997,
          3.0416666666666665,
          2.9433333333333334,
          2.7916666666666665,
          4.761666666666667,
          4.913333333333333,
          5.095,
          4.261666666666667,
          5.18,
          5.176666666666667,
          5.266666666666667,
          5.243333333333333,
          5.3133333333333335,
          5.286666666666666,
          5.508333333333333,
          5.338333333333334
         ]
        },
        {
         "mode": "lines+markers",
         "name": "node",
         "type": "scatter",
         "x": [
          2,
          4,
          6,
          8,
          10,
          12,
          14,
          16,
          18,
          20,
          22,
          24,
          26,
          28,
          30,
          32,
          34,
          36,
          38,
          40,
          42,
          44,
          46,
          48
         ],
         "y": [
          1.0566666666666666,
          2.796666666666667,
          2.98,
          2.75,
          3.235,
          3.735,
          3.8433333333333333,
          3.33,
          3.6933333333333334,
          3.9616666666666664,
          4.22,
          4.413333333333333,
          4.62,
          4.718333333333334,
          4.930000000000001,
          3.9583333333333335,
          4.195,
          4.445,
          4.306666666666667,
          4.261666666666667,
          4.3566666666666665,
          4.096666666666667,
          4.058333333333334,
          3.8949999999999996
         ]
        }
       ],
       "layout": {
        "template": {
         "data": {
          "bar": [
           {
            "error_x": {
             "color": "#2a3f5f"
            },
            "error_y": {
             "color": "#2a3f5f"
            },
            "marker": {
             "line": {
              "color": "#E5ECF6",
              "width": 0.5
             },
             "pattern": {
              "fillmode": "overlay",
              "size": 10,
              "solidity": 0.2
             }
            },
            "type": "bar"
           }
          ],
          "barpolar": [
           {
            "marker": {
             "line": {
              "color": "#E5ECF6",
              "width": 0.5
             },
             "pattern": {
              "fillmode": "overlay",
              "size": 10,
              "solidity": 0.2
             }
            },
            "type": "barpolar"
           }
          ],
          "carpet": [
           {
            "aaxis": {
             "endlinecolor": "#2a3f5f",
             "gridcolor": "white",
             "linecolor": "white",
             "minorgridcolor": "white",
             "startlinecolor": "#2a3f5f"
            },
            "baxis": {
             "endlinecolor": "#2a3f5f",
             "gridcolor": "white",
             "linecolor": "white",
             "minorgridcolor": "white",
             "startlinecolor": "#2a3f5f"
            },
            "type": "carpet"
           }
          ],
          "choropleth": [
           {
            "colorbar": {
             "outlinewidth": 0,
             "ticks": ""
            },
            "type": "choropleth"
           }
          ],
          "contour": [
           {
            "colorbar": {
             "outlinewidth": 0,
             "ticks": ""
            },
            "colorscale": [
             [
              0,
              "#0d0887"
             ],
             [
              0.1111111111111111,
              "#46039f"
             ],
             [
              0.2222222222222222,
              "#7201a8"
             ],
             [
              0.3333333333333333,
              "#9c179e"
             ],
             [
              0.4444444444444444,
              "#bd3786"
             ],
             [
              0.5555555555555556,
              "#d8576b"
             ],
             [
              0.6666666666666666,
              "#ed7953"
             ],
             [
              0.7777777777777778,
              "#fb9f3a"
             ],
             [
              0.8888888888888888,
              "#fdca26"
             ],
             [
              1,
              "#f0f921"
             ]
            ],
            "type": "contour"
           }
          ],
          "contourcarpet": [
           {
            "colorbar": {
             "outlinewidth": 0,
             "ticks": ""
            },
            "type": "contourcarpet"
           }
          ],
          "heatmap": [
           {
            "colorbar": {
             "outlinewidth": 0,
             "ticks": ""
            },
            "colorscale": [
             [
              0,
              "#0d0887"
             ],
             [
              0.1111111111111111,
              "#46039f"
             ],
             [
              0.2222222222222222,
              "#7201a8"
             ],
             [
              0.3333333333333333,
              "#9c179e"
             ],
             [
              0.4444444444444444,
              "#bd3786"
             ],
             [
              0.5555555555555556,
              "#d8576b"
             ],
             [
              0.6666666666666666,
              "#ed7953"
             ],
             [
              0.7777777777777778,
              "#fb9f3a"
             ],
             [
              0.8888888888888888,
              "#fdca26"
             ],
             [
              1,
              "#f0f921"
             ]
            ],
            "type": "heatmap"
           }
          ],
          "heatmapgl": [
           {
            "colorbar": {
             "outlinewidth": 0,
             "ticks": ""
            },
            "colorscale": [
             [
              0,
              "#0d0887"
             ],
             [
              0.1111111111111111,
              "#46039f"
             ],
             [
              0.2222222222222222,
              "#7201a8"
             ],
             [
              0.3333333333333333,
              "#9c179e"
             ],
             [
              0.4444444444444444,
              "#bd3786"
             ],
             [
              0.5555555555555556,
              "#d8576b"
             ],
             [
              0.6666666666666666,
              "#ed7953"
             ],
             [
              0.7777777777777778,
              "#fb9f3a"
             ],
             [
              0.8888888888888888,
              "#fdca26"
             ],
             [
              1,
              "#f0f921"
             ]
            ],
            "type": "heatmapgl"
           }
          ],
          "histogram": [
           {
            "marker": {
             "pattern": {
              "fillmode": "overlay",
              "size": 10,
              "solidity": 0.2
             }
            },
            "type": "histogram"
           }
          ],
          "histogram2d": [
           {
            "colorbar": {
             "outlinewidth": 0,
             "ticks": ""
            },
            "colorscale": [
             [
              0,
              "#0d0887"
             ],
             [
              0.1111111111111111,
              "#46039f"
             ],
             [
              0.2222222222222222,
              "#7201a8"
             ],
             [
              0.3333333333333333,
              "#9c179e"
             ],
             [
              0.4444444444444444,
              "#bd3786"
             ],
             [
              0.5555555555555556,
              "#d8576b"
             ],
             [
              0.6666666666666666,
              "#ed7953"
             ],
             [
              0.7777777777777778,
              "#fb9f3a"
             ],
             [
              0.8888888888888888,
              "#fdca26"
             ],
             [
              1,
              "#f0f921"
             ]
            ],
            "type": "histogram2d"
           }
          ],
          "histogram2dcontour": [
           {
            "colorbar": {
             "outlinewidth": 0,
             "ticks": ""
            },
            "colorscale": [
             [
              0,
              "#0d0887"
             ],
             [
              0.1111111111111111,
              "#46039f"
             ],
             [
              0.2222222222222222,
              "#7201a8"
             ],
             [
              0.3333333333333333,
              "#9c179e"
             ],
             [
              0.4444444444444444,
              "#bd3786"
             ],
             [
              0.5555555555555556,
              "#d8576b"
             ],
             [
              0.6666666666666666,
              "#ed7953"
             ],
             [
              0.7777777777777778,
              "#fb9f3a"
             ],
             [
              0.8888888888888888,
              "#fdca26"
             ],
             [
              1,
              "#f0f921"
             ]
            ],
            "type": "histogram2dcontour"
           }
          ],
          "mesh3d": [
           {
            "colorbar": {
             "outlinewidth": 0,
             "ticks": ""
            },
            "type": "mesh3d"
           }
          ],
          "parcoords": [
           {
            "line": {
             "colorbar": {
              "outlinewidth": 0,
              "ticks": ""
             }
            },
            "type": "parcoords"
           }
          ],
          "pie": [
           {
            "automargin": true,
            "type": "pie"
           }
          ],
          "scatter": [
           {
            "fillpattern": {
             "fillmode": "overlay",
             "size": 10,
             "solidity": 0.2
            },
            "type": "scatter"
           }
          ],
          "scatter3d": [
           {
            "line": {
             "colorbar": {
              "outlinewidth": 0,
              "ticks": ""
             }
            },
            "marker": {
             "colorbar": {
              "outlinewidth": 0,
              "ticks": ""
             }
            },
            "type": "scatter3d"
           }
          ],
          "scattercarpet": [
           {
            "marker": {
             "colorbar": {
              "outlinewidth": 0,
              "ticks": ""
             }
            },
            "type": "scattercarpet"
           }
          ],
          "scattergeo": [
           {
            "marker": {
             "colorbar": {
              "outlinewidth": 0,
              "ticks": ""
             }
            },
            "type": "scattergeo"
           }
          ],
          "scattergl": [
           {
            "marker": {
             "colorbar": {
              "outlinewidth": 0,
              "ticks": ""
             }
            },
            "type": "scattergl"
           }
          ],
          "scattermapbox": [
           {
            "marker": {
             "colorbar": {
              "outlinewidth": 0,
              "ticks": ""
             }
            },
            "type": "scattermapbox"
           }
          ],
          "scatterpolar": [
           {
            "marker": {
             "colorbar": {
              "outlinewidth": 0,
              "ticks": ""
             }
            },
            "type": "scatterpolar"
           }
          ],
          "scatterpolargl": [
           {
            "marker": {
             "colorbar": {
              "outlinewidth": 0,
              "ticks": ""
             }
            },
            "type": "scatterpolargl"
           }
          ],
          "scatterternary": [
           {
            "marker": {
             "colorbar": {
              "outlinewidth": 0,
              "ticks": ""
             }
            },
            "type": "scatterternary"
           }
          ],
          "surface": [
           {
            "colorbar": {
             "outlinewidth": 0,
             "ticks": ""
            },
            "colorscale": [
             [
              0,
              "#0d0887"
             ],
             [
              0.1111111111111111,
              "#46039f"
             ],
             [
              0.2222222222222222,
              "#7201a8"
             ],
             [
              0.3333333333333333,
              "#9c179e"
             ],
             [
              0.4444444444444444,
              "#bd3786"
             ],
             [
              0.5555555555555556,
              "#d8576b"
             ],
             [
              0.6666666666666666,
              "#ed7953"
             ],
             [
              0.7777777777777778,
              "#fb9f3a"
             ],
             [
              0.8888888888888888,
              "#fdca26"
             ],
             [
              1,
              "#f0f921"
             ]
            ],
            "type": "surface"
           }
          ],
          "table": [
           {
            "cells": {
             "fill": {
              "color": "#EBF0F8"
             },
             "line": {
              "color": "white"
             }
            },
            "header": {
             "fill": {
              "color": "#C8D4E3"
             },
             "line": {
              "color": "white"
             }
            },
            "type": "table"
           }
          ]
         },
         "layout": {
          "annotationdefaults": {
           "arrowcolor": "#2a3f5f",
           "arrowhead": 0,
           "arrowwidth": 1
          },
          "autotypenumbers": "strict",
          "coloraxis": {
           "colorbar": {
            "outlinewidth": 0,
            "ticks": ""
           }
          },
          "colorscale": {
           "diverging": [
            [
             0,
             "#8e0152"
            ],
            [
             0.1,
             "#c51b7d"
            ],
            [
             0.2,
             "#de77ae"
            ],
            [
             0.3,
             "#f1b6da"
            ],
            [
             0.4,
             "#fde0ef"
            ],
            [
             0.5,
             "#f7f7f7"
            ],
            [
             0.6,
             "#e6f5d0"
            ],
            [
             0.7,
             "#b8e186"
            ],
            [
             0.8,
             "#7fbc41"
            ],
            [
             0.9,
             "#4d9221"
            ],
            [
             1,
             "#276419"
            ]
           ],
           "sequential": [
            [
             0,
             "#0d0887"
            ],
            [
             0.1111111111111111,
             "#46039f"
            ],
            [
             0.2222222222222222,
             "#7201a8"
            ],
            [
             0.3333333333333333,
             "#9c179e"
            ],
            [
             0.4444444444444444,
             "#bd3786"
            ],
            [
             0.5555555555555556,
             "#d8576b"
            ],
            [
             0.6666666666666666,
             "#ed7953"
            ],
            [
             0.7777777777777778,
             "#fb9f3a"
            ],
            [
             0.8888888888888888,
             "#fdca26"
            ],
            [
             1,
             "#f0f921"
            ]
           ],
           "sequentialminus": [
            [
             0,
             "#0d0887"
            ],
            [
             0.1111111111111111,
             "#46039f"
            ],
            [
             0.2222222222222222,
             "#7201a8"
            ],
            [
             0.3333333333333333,
             "#9c179e"
            ],
            [
             0.4444444444444444,
             "#bd3786"
            ],
            [
             0.5555555555555556,
             "#d8576b"
            ],
            [
             0.6666666666666666,
             "#ed7953"
            ],
            [
             0.7777777777777778,
             "#fb9f3a"
            ],
            [
             0.8888888888888888,
             "#fdca26"
            ],
            [
             1,
             "#f0f921"
            ]
           ]
          },
          "colorway": [
           "#636efa",
           "#EF553B",
           "#00cc96",
           "#ab63fa",
           "#FFA15A",
           "#19d3f3",
           "#FF6692",
           "#B6E880",
           "#FF97FF",
           "#FECB52"
          ],
          "font": {
           "color": "#2a3f5f"
          },
          "geo": {
           "bgcolor": "white",
           "lakecolor": "white",
           "landcolor": "#E5ECF6",
           "showlakes": true,
           "showland": true,
           "subunitcolor": "white"
          },
          "hoverlabel": {
           "align": "left"
          },
          "hovermode": "closest",
          "mapbox": {
           "style": "light"
          },
          "paper_bgcolor": "white",
          "plot_bgcolor": "#E5ECF6",
          "polar": {
           "angularaxis": {
            "gridcolor": "white",
            "linecolor": "white",
            "ticks": ""
           },
           "bgcolor": "#E5ECF6",
           "radialaxis": {
            "gridcolor": "white",
            "linecolor": "white",
            "ticks": ""
           }
          },
          "scene": {
           "xaxis": {
            "backgroundcolor": "#E5ECF6",
            "gridcolor": "white",
            "gridwidth": 2,
            "linecolor": "white",
            "showbackground": true,
            "ticks": "",
            "zerolinecolor": "white"
           },
           "yaxis": {
            "backgroundcolor": "#E5ECF6",
            "gridcolor": "white",
            "gridwidth": 2,
            "linecolor": "white",
            "showbackground": true,
            "ticks": "",
            "zerolinecolor": "white"
           },
           "zaxis": {
            "backgroundcolor": "#E5ECF6",
            "gridcolor": "white",
            "gridwidth": 2,
            "linecolor": "white",
            "showbackground": true,
            "ticks": "",
            "zerolinecolor": "white"
           }
          },
          "shapedefaults": {
           "line": {
            "color": "#2a3f5f"
           }
          },
          "ternary": {
           "aaxis": {
            "gridcolor": "white",
            "linecolor": "white",
            "ticks": ""
           },
           "baxis": {
            "gridcolor": "white",
            "linecolor": "white",
            "ticks": ""
           },
           "bgcolor": "#E5ECF6",
           "caxis": {
            "gridcolor": "white",
            "linecolor": "white",
            "ticks": ""
           }
          },
          "title": {
           "x": 0.05
          },
          "xaxis": {
           "automargin": true,
           "gridcolor": "white",
           "linecolor": "white",
           "ticks": "",
           "title": {
            "standoff": 15
           },
           "zerolinecolor": "white",
           "zerolinewidth": 2
          },
          "yaxis": {
           "automargin": true,
           "gridcolor": "white",
           "linecolor": "white",
           "ticks": "",
           "title": {
            "standoff": 15
           },
           "zerolinecolor": "white",
           "zerolinewidth": 2
          }
         }
        },
        "title": {
         "text": "Latency vs Processes for the barrier using the Default Algorithm"
        },
        "xaxis": {
         "tickvals": [
          2,
          4,
          6,
          8,
          12,
          16,
          20,
          24,
          28,
          32,
          36,
          40,
          44,
          48
         ],
         "title": {
          "text": "Processes"
         }
        },
        "yaxis": {
         "title": {
          "text": "Latency (us)"
         }
        }
       }
      }
     },
     "metadata": {},
     "output_type": "display_data"
    }
   ],
   "source": [
    "# Set path to the data\n",
    "barrier_path = path + '/barrier/results_barrier/'  # Replace with your actual path\n",
    "\n",
    "# Get the list of files in the directory\n",
    "files = os.listdir(barrier_path)\n",
    "\n",
    "# Create a list to store the dataframes\n",
    "dfs = []\n",
    "default_df = []\n",
    "tree_df = []\n",
    "linear_df = []\n",
    "\n",
    "# Read the data from the files; for each file, check if \n",
    "# the name contains binary, default or chain and set the\n",
    "# corresponding value in the dataframe\n",
    "\n",
    "for file in files:\n",
    "    if 'tree' in file:\n",
    "        df = pd.read_csv(os.path.join(barrier_path, file))\n",
    "        df['algorithm'] = 'Tree'\n",
    "        dfs.append(df)\n",
    "    elif 'default' in file:\n",
    "        df = pd.read_csv(os.path.join(barrier_path, file))\n",
    "        df['algorithm'] = 'Default'\n",
    "        dfs.append(df)\n",
    "    elif 'linear' in file:\n",
    "        df = pd.read_csv(os.path.join(barrier_path, file))\n",
    "        df['algorithm'] = 'Linear'\n",
    "        dfs.append(df)\n",
    "\n",
    "# Filter out dataframes where the 'Algorithm' column contains '${algorithm}' or is null\n",
    "valid_dfs = []\n",
    "for df in dfs:\n",
    "    if 'Algorithm' in df.columns:\n",
    "        df['Algorithm'] = df['Algorithm'].astype(str)\n",
    "        if not df['Algorithm'].str.contains(r'\\$\\{algorithm\\}').any():\n",
    "            valid_dfs.append(df)\n",
    "\n",
    "# Split the data into separate dataframes for each algorithm\n",
    "default_df = [df for df in valid_dfs if df['Algorithm'].iloc[0] == 'default']\n",
    "tree_df = [df for df in valid_dfs if df['Algorithm'].iloc[0] == 'tree']\n",
    "linear_df = [df for df in valid_dfs if df['Algorithm'].iloc[0] == 'linear']\n",
    "\n",
    "\n",
    "for i in range(len(default_df)):\n",
    "\tdefault_df[i].drop(columns=['Algorithm', 'algorithm'], inplace=True)\n",
    "\n",
    "for i in range(len(tree_df)):\n",
    "\ttree_df[i].drop(columns=['Algorithm', 'algorithm'], inplace=True)\n",
    "\n",
    "for i in range(len(linear_df)):\n",
    "\tlinear_df[i].drop(columns=['Algorithm', 'algorithm'], inplace=True)\n",
    "\n",
    "allocations = default_df[0]['Allocation'].unique()\n",
    "\n",
    "\n",
    "# Initialize the figure\n",
    "fig = go.Figure()\n",
    "\n",
    "# Start plotting the data\n",
    "for selected in range(len(default_df)):\n",
    "\tused_df = default_df[selected]\n",
    "\tfor allocation in allocations:\n",
    "\t\tused_allocation_df = used_df[used_df['Allocation']==allocation]\n",
    "\t\tfig.add_trace(go.Scatter(x=used_allocation_df['Processes'], \n",
    "\t\t\t\t\t\t\t\ty=used_allocation_df['Latency'],\n",
    "\t\t\t\t\t\t\t\tmode='lines+markers',\n",
    "\t\t\t\t\t\t\t\tname=allocation))\n",
    "# Update the layout by naming the appropirate tings and highlighting some places of interest in the x-axis\n",
    "fig.update_layout(title='Latency vs Processes for the barrier using the Default Algorithm', \n",
    "\t\t\t\t\txaxis_title='Processes', \n",
    "\t\t\t\t\tyaxis_title='Latency (us)', \n",
    "\t\t\t\t\txaxis=dict(tickvals=tickvals)\n",
    "\t\t\t\t)\n",
    "\n",
    "fig.show()\n",
    "\n",
    "default_cumulative = pd.concat(default_df, ignore_index=True)\n",
    "default_cumulative_mean = default_cumulative.groupby(['Processes', 'Allocation'] ,as_index=False).mean()\n",
    "default_cumulative_std = default_cumulative.groupby(['Processes', 'Allocation'] ,as_index=False).std()\n",
    "default_cumulative_summarized = default_cumulative_mean.merge(default_cumulative_std, on=['Processes', 'Allocation'], suffixes=('_mean', '_std'))\n",
    "\n",
    "# Initialize the figure\n",
    "fig = go.Figure()\n",
    "\n",
    "# Start plotting the data\n",
    "\n",
    "used_df = default_cumulative_summarized\n",
    "for allocation in allocations:\n",
    "\tused_allocation_df = used_df[used_df['Allocation']==allocation]\n",
    "\tfig.add_trace(go.Scatter(x=used_allocation_df['Processes'], \n",
    "\t\t\t\t\t\t\ty=used_allocation_df['Latency_mean'],\n",
    "\t\t\t\t\t\t\tmode='lines+markers',\n",
    "\t\t\t\t\t\t\tname=allocation))\n",
    "# Update the layout by naming the appropirate tings and highlighting some places of interest in the x-axis\n",
    "fig.update_layout(title='Latency vs Processes for the barrier using the Default Algorithm', \n",
    "\t\t\t\t\txaxis_title='Processes', \n",
    "\t\t\t\t\tyaxis_title='Latency (us)', \n",
    "\t\t\t\t\txaxis=dict(tickvals=tickvals)\n",
    "\t\t\t\t)\n",
    "\n",
    "fig.show()\n"
   ]
  },
  {
   "cell_type": "code",
   "execution_count": 323,
   "metadata": {},
   "outputs": [
    {
     "data": {
      "application/vnd.plotly.v1+json": {
       "config": {
        "plotlyServerURL": "https://plot.ly"
       },
       "data": [
        {
         "mode": "lines+markers",
         "name": "core0",
         "type": "scatter",
         "x": [
          2,
          4,
          6,
          8,
          10,
          12,
          14,
          16,
          18,
          20,
          22,
          24,
          26,
          28,
          30,
          32,
          34,
          36,
          38,
          40,
          42,
          44,
          46,
          48
         ],
         "y": [
          0.36,
          0.89,
          1.05,
          1.46,
          1.52,
          1.67,
          2.53,
          3.07,
          3.5,
          3.84,
          2.96,
          3.19,
          4.21,
          4.37,
          4.57,
          5.19,
          5.24,
          5.08,
          4.91,
          5.03,
          5.19,
          5.22,
          5.12,
          5.02
         ]
        },
        {
         "mode": "lines+markers",
         "name": "socket0",
         "type": "scatter",
         "x": [
          2,
          4,
          6,
          8,
          10,
          12,
          14,
          16,
          18,
          20,
          22,
          24,
          26,
          28,
          30,
          32,
          34,
          36,
          38,
          40,
          42,
          44,
          46,
          48
         ],
         "y": [
          0.83,
          1.64,
          2.23,
          2.24,
          3.04,
          2.45,
          2.86,
          3.06,
          3.18,
          3.1,
          2.88,
          2.85,
          4.1,
          4.6,
          5.08,
          5.4,
          5.73,
          5.41,
          6,
          5.37,
          5.62,
          5.38,
          4.99,
          5.43
         ]
        },
        {
         "mode": "lines+markers",
         "name": "node0",
         "type": "scatter",
         "x": [
          2,
          4,
          6,
          8,
          10,
          12,
          14,
          16,
          18,
          20,
          22,
          24,
          26,
          28,
          30,
          32,
          34,
          36,
          38,
          40,
          42,
          44,
          46,
          48
         ],
         "y": [
          1.98,
          3.6,
          3.86,
          4.59,
          4.59,
          4.75,
          4.63,
          5.06,
          5.23,
          5.33,
          5.33,
          5.24,
          5.17,
          5.34,
          5.13,
          5.41,
          5.43,
          5.55,
          5.53,
          5.38,
          5.48,
          5.48,
          5.43,
          5.51
         ]
        },
        {
         "mode": "lines+markers",
         "name": "core1",
         "type": "scatter",
         "x": [
          2,
          4,
          6,
          8,
          10,
          12,
          14,
          16,
          18,
          20,
          22,
          24,
          26,
          28,
          30,
          32,
          34,
          36,
          38,
          40,
          42,
          44,
          46,
          48
         ],
         "y": [
          0.36,
          0.95,
          1.03,
          1.32,
          1.47,
          1.83,
          2.24,
          2.81,
          2.77,
          2.78,
          2.78,
          3.01,
          3.7,
          4.51,
          4.95,
          4.95,
          5,
          5.02,
          4.94,
          4.98,
          5.02,
          4.92,
          4.9,
          4.93
         ]
        },
        {
         "mode": "lines+markers",
         "name": "socket1",
         "type": "scatter",
         "x": [
          2,
          4,
          6,
          8,
          10,
          12,
          14,
          16,
          18,
          20,
          22,
          24,
          26,
          28,
          30,
          32,
          34,
          36,
          38,
          40,
          42,
          44,
          46,
          48
         ],
         "y": [
          0.83,
          1.69,
          1.81,
          2.31,
          2.83,
          2.38,
          3.02,
          3.53,
          3.48,
          3,
          3.26,
          2.92,
          3.49,
          4.69,
          5.01,
          5.58,
          5.28,
          5.65,
          5.75,
          5.51,
          5.29,
          5.44,
          5.02,
          5.1
         ]
        },
        {
         "mode": "lines+markers",
         "name": "node1",
         "type": "scatter",
         "x": [
          2,
          4,
          6,
          8,
          10,
          12,
          14,
          16,
          18,
          20,
          22,
          24,
          26,
          28,
          30,
          32,
          34,
          36,
          38,
          40,
          42,
          44,
          46,
          48
         ],
         "y": [
          2.01,
          3.69,
          4.09,
          4.77,
          4.34,
          4.71,
          4.67,
          5.07,
          4.87,
          5.2,
          5.21,
          5.3,
          5.34,
          5.27,
          5.14,
          5.33,
          5.33,
          5.54,
          5.46,
          5.37,
          5.29,
          5.38,
          5.53,
          5.42
         ]
        },
        {
         "mode": "lines+markers",
         "name": "core2",
         "type": "scatter",
         "x": [
          2,
          4,
          6,
          8,
          10,
          12,
          14,
          16,
          18,
          20,
          22,
          24,
          26,
          28,
          30,
          32,
          34,
          36,
          38,
          40,
          42,
          44,
          46,
          48
         ],
         "y": [
          0.37,
          0.95,
          1.05,
          1.67,
          2.09,
          1.62,
          2.4,
          3.13,
          3.12,
          3,
          3.3,
          3.03,
          3.75,
          4.67,
          4.88,
          4.84,
          5.05,
          4.93,
          5.04,
          5.01,
          5.36,
          5.1,
          5.05,
          5.02
         ]
        },
        {
         "mode": "lines+markers",
         "name": "socket2",
         "type": "scatter",
         "x": [
          2,
          4,
          6,
          8,
          10,
          12,
          14,
          16,
          18,
          20,
          22,
          24,
          26,
          28,
          30,
          32,
          34,
          36,
          38,
          40,
          42,
          44,
          46,
          48
         ],
         "y": [
          0.98,
          1.92,
          1.95,
          2.5,
          2.78,
          2.82,
          2.9,
          3.42,
          3.13,
          3.31,
          2.91,
          2.84,
          3.49,
          4.65,
          4.88,
          5.57,
          5.69,
          5.42,
          5.25,
          5.58,
          5.68,
          5.68,
          5.45,
          4.99
         ]
        },
        {
         "mode": "lines+markers",
         "name": "node2",
         "type": "scatter",
         "x": [
          2,
          4,
          6,
          8,
          10,
          12,
          14,
          16,
          18,
          20,
          22,
          24,
          26,
          28,
          30,
          32,
          34,
          36,
          38,
          40,
          42,
          44,
          46,
          48
         ],
         "y": [
          1.99,
          3.34,
          3.45,
          4.54,
          4.26,
          4.51,
          4.48,
          5.14,
          4.92,
          5.11,
          5.15,
          5.53,
          5.05,
          5.14,
          5.04,
          5.67,
          5.31,
          5.57,
          5.52,
          5.32,
          5.35,
          5.36,
          5.38,
          5.55
         ]
        },
        {
         "mode": "lines+markers",
         "name": "core3",
         "type": "scatter",
         "x": [
          2,
          4,
          6,
          8,
          10,
          12,
          14,
          16,
          18,
          20,
          22,
          24,
          26,
          28,
          30,
          32,
          34,
          36,
          38,
          40,
          42,
          44,
          46,
          48
         ],
         "y": [
          0.35,
          0.95,
          1.1,
          1.42,
          1.58,
          1.57,
          2.53,
          2.86,
          2.99,
          3.72,
          3.2,
          3.42,
          3.81,
          4.32,
          4.41,
          4.94,
          5.04,
          4.9,
          5.35,
          5.05,
          5.23,
          4.99,
          4.93,
          5.05
         ]
        },
        {
         "mode": "lines+markers",
         "name": "socket3",
         "type": "scatter",
         "x": [
          2,
          4,
          6,
          8,
          10,
          12,
          14,
          16,
          18,
          20,
          22,
          24,
          26,
          28,
          30,
          32,
          34,
          36,
          38,
          40,
          42,
          44,
          46,
          48
         ],
         "y": [
          0.88,
          1.68,
          1.91,
          2.41,
          2.86,
          2.85,
          3.57,
          2.97,
          3.18,
          3.16,
          3.06,
          2.94,
          4.05,
          5.21,
          5.09,
          5.26,
          5.27,
          5.21,
          5.32,
          5.24,
          5.26,
          5.17,
          5.17,
          4.97
         ]
        },
        {
         "mode": "lines+markers",
         "name": "node3",
         "type": "scatter",
         "x": [
          2,
          4,
          6,
          8,
          10,
          12,
          14,
          16,
          18,
          20,
          22,
          24,
          26,
          28,
          30,
          32,
          34,
          36,
          38,
          40,
          42,
          44,
          46,
          48
         ],
         "y": [
          1.99,
          3.51,
          3.72,
          4.83,
          4.39,
          4.83,
          4.81,
          5.16,
          4.95,
          5.48,
          5.73,
          5.25,
          5.45,
          5.33,
          5.09,
          5.32,
          5.93,
          5.46,
          5.77,
          5.3,
          5.4,
          5.34,
          5.49,
          5.49
         ]
        },
        {
         "mode": "lines+markers",
         "name": "core4",
         "type": "scatter",
         "x": [
          2,
          4,
          6,
          8,
          10,
          12,
          14,
          16,
          18,
          20,
          22,
          24,
          26,
          28,
          30,
          32,
          34,
          36,
          38,
          40,
          42,
          44,
          46,
          48
         ],
         "y": [
          0.37,
          0.89,
          1.09,
          1.38,
          1.55,
          1.73,
          2.34,
          4.17,
          3.06,
          3,
          3.56,
          4.15,
          3.59,
          4.8,
          4.85,
          4.89,
          5.25,
          5.08,
          4.85,
          5.07,
          4.97,
          4.81,
          5.03,
          4.96
         ]
        },
        {
         "mode": "lines+markers",
         "name": "socket4",
         "type": "scatter",
         "x": [
          2,
          4,
          6,
          8,
          10,
          12,
          14,
          16,
          18,
          20,
          22,
          24,
          26,
          28,
          30,
          32,
          34,
          36,
          38,
          40,
          42,
          44,
          46,
          48
         ],
         "y": [
          0.98,
          1.92,
          1.93,
          2.49,
          2.58,
          2.72,
          3.01,
          3.28,
          3.29,
          3.02,
          3.26,
          3.03,
          4.07,
          4.38,
          5.25,
          5.37,
          5.4,
          5.57,
          5.4,
          5.71,
          5.49,
          5.41,
          5.32,
          5.02
         ]
        },
        {
         "mode": "lines+markers",
         "name": "node4",
         "type": "scatter",
         "x": [
          2,
          4,
          6,
          8,
          10,
          12,
          14,
          16,
          18,
          20,
          22,
          24,
          26,
          28,
          30,
          32,
          34,
          36,
          38,
          40,
          42,
          44,
          46,
          48
         ],
         "y": [
          2,
          3.75,
          3.81,
          4.46,
          4.3,
          4.75,
          4.68,
          5.26,
          5.06,
          5.22,
          5.29,
          5.34,
          5.18,
          5.07,
          5.2,
          5.36,
          5.28,
          5.62,
          5.57,
          5.32,
          5.34,
          5.27,
          6.12,
          5.52
         ]
        }
       ],
       "layout": {
        "template": {
         "data": {
          "bar": [
           {
            "error_x": {
             "color": "#2a3f5f"
            },
            "error_y": {
             "color": "#2a3f5f"
            },
            "marker": {
             "line": {
              "color": "#E5ECF6",
              "width": 0.5
             },
             "pattern": {
              "fillmode": "overlay",
              "size": 10,
              "solidity": 0.2
             }
            },
            "type": "bar"
           }
          ],
          "barpolar": [
           {
            "marker": {
             "line": {
              "color": "#E5ECF6",
              "width": 0.5
             },
             "pattern": {
              "fillmode": "overlay",
              "size": 10,
              "solidity": 0.2
             }
            },
            "type": "barpolar"
           }
          ],
          "carpet": [
           {
            "aaxis": {
             "endlinecolor": "#2a3f5f",
             "gridcolor": "white",
             "linecolor": "white",
             "minorgridcolor": "white",
             "startlinecolor": "#2a3f5f"
            },
            "baxis": {
             "endlinecolor": "#2a3f5f",
             "gridcolor": "white",
             "linecolor": "white",
             "minorgridcolor": "white",
             "startlinecolor": "#2a3f5f"
            },
            "type": "carpet"
           }
          ],
          "choropleth": [
           {
            "colorbar": {
             "outlinewidth": 0,
             "ticks": ""
            },
            "type": "choropleth"
           }
          ],
          "contour": [
           {
            "colorbar": {
             "outlinewidth": 0,
             "ticks": ""
            },
            "colorscale": [
             [
              0,
              "#0d0887"
             ],
             [
              0.1111111111111111,
              "#46039f"
             ],
             [
              0.2222222222222222,
              "#7201a8"
             ],
             [
              0.3333333333333333,
              "#9c179e"
             ],
             [
              0.4444444444444444,
              "#bd3786"
             ],
             [
              0.5555555555555556,
              "#d8576b"
             ],
             [
              0.6666666666666666,
              "#ed7953"
             ],
             [
              0.7777777777777778,
              "#fb9f3a"
             ],
             [
              0.8888888888888888,
              "#fdca26"
             ],
             [
              1,
              "#f0f921"
             ]
            ],
            "type": "contour"
           }
          ],
          "contourcarpet": [
           {
            "colorbar": {
             "outlinewidth": 0,
             "ticks": ""
            },
            "type": "contourcarpet"
           }
          ],
          "heatmap": [
           {
            "colorbar": {
             "outlinewidth": 0,
             "ticks": ""
            },
            "colorscale": [
             [
              0,
              "#0d0887"
             ],
             [
              0.1111111111111111,
              "#46039f"
             ],
             [
              0.2222222222222222,
              "#7201a8"
             ],
             [
              0.3333333333333333,
              "#9c179e"
             ],
             [
              0.4444444444444444,
              "#bd3786"
             ],
             [
              0.5555555555555556,
              "#d8576b"
             ],
             [
              0.6666666666666666,
              "#ed7953"
             ],
             [
              0.7777777777777778,
              "#fb9f3a"
             ],
             [
              0.8888888888888888,
              "#fdca26"
             ],
             [
              1,
              "#f0f921"
             ]
            ],
            "type": "heatmap"
           }
          ],
          "heatmapgl": [
           {
            "colorbar": {
             "outlinewidth": 0,
             "ticks": ""
            },
            "colorscale": [
             [
              0,
              "#0d0887"
             ],
             [
              0.1111111111111111,
              "#46039f"
             ],
             [
              0.2222222222222222,
              "#7201a8"
             ],
             [
              0.3333333333333333,
              "#9c179e"
             ],
             [
              0.4444444444444444,
              "#bd3786"
             ],
             [
              0.5555555555555556,
              "#d8576b"
             ],
             [
              0.6666666666666666,
              "#ed7953"
             ],
             [
              0.7777777777777778,
              "#fb9f3a"
             ],
             [
              0.8888888888888888,
              "#fdca26"
             ],
             [
              1,
              "#f0f921"
             ]
            ],
            "type": "heatmapgl"
           }
          ],
          "histogram": [
           {
            "marker": {
             "pattern": {
              "fillmode": "overlay",
              "size": 10,
              "solidity": 0.2
             }
            },
            "type": "histogram"
           }
          ],
          "histogram2d": [
           {
            "colorbar": {
             "outlinewidth": 0,
             "ticks": ""
            },
            "colorscale": [
             [
              0,
              "#0d0887"
             ],
             [
              0.1111111111111111,
              "#46039f"
             ],
             [
              0.2222222222222222,
              "#7201a8"
             ],
             [
              0.3333333333333333,
              "#9c179e"
             ],
             [
              0.4444444444444444,
              "#bd3786"
             ],
             [
              0.5555555555555556,
              "#d8576b"
             ],
             [
              0.6666666666666666,
              "#ed7953"
             ],
             [
              0.7777777777777778,
              "#fb9f3a"
             ],
             [
              0.8888888888888888,
              "#fdca26"
             ],
             [
              1,
              "#f0f921"
             ]
            ],
            "type": "histogram2d"
           }
          ],
          "histogram2dcontour": [
           {
            "colorbar": {
             "outlinewidth": 0,
             "ticks": ""
            },
            "colorscale": [
             [
              0,
              "#0d0887"
             ],
             [
              0.1111111111111111,
              "#46039f"
             ],
             [
              0.2222222222222222,
              "#7201a8"
             ],
             [
              0.3333333333333333,
              "#9c179e"
             ],
             [
              0.4444444444444444,
              "#bd3786"
             ],
             [
              0.5555555555555556,
              "#d8576b"
             ],
             [
              0.6666666666666666,
              "#ed7953"
             ],
             [
              0.7777777777777778,
              "#fb9f3a"
             ],
             [
              0.8888888888888888,
              "#fdca26"
             ],
             [
              1,
              "#f0f921"
             ]
            ],
            "type": "histogram2dcontour"
           }
          ],
          "mesh3d": [
           {
            "colorbar": {
             "outlinewidth": 0,
             "ticks": ""
            },
            "type": "mesh3d"
           }
          ],
          "parcoords": [
           {
            "line": {
             "colorbar": {
              "outlinewidth": 0,
              "ticks": ""
             }
            },
            "type": "parcoords"
           }
          ],
          "pie": [
           {
            "automargin": true,
            "type": "pie"
           }
          ],
          "scatter": [
           {
            "fillpattern": {
             "fillmode": "overlay",
             "size": 10,
             "solidity": 0.2
            },
            "type": "scatter"
           }
          ],
          "scatter3d": [
           {
            "line": {
             "colorbar": {
              "outlinewidth": 0,
              "ticks": ""
             }
            },
            "marker": {
             "colorbar": {
              "outlinewidth": 0,
              "ticks": ""
             }
            },
            "type": "scatter3d"
           }
          ],
          "scattercarpet": [
           {
            "marker": {
             "colorbar": {
              "outlinewidth": 0,
              "ticks": ""
             }
            },
            "type": "scattercarpet"
           }
          ],
          "scattergeo": [
           {
            "marker": {
             "colorbar": {
              "outlinewidth": 0,
              "ticks": ""
             }
            },
            "type": "scattergeo"
           }
          ],
          "scattergl": [
           {
            "marker": {
             "colorbar": {
              "outlinewidth": 0,
              "ticks": ""
             }
            },
            "type": "scattergl"
           }
          ],
          "scattermapbox": [
           {
            "marker": {
             "colorbar": {
              "outlinewidth": 0,
              "ticks": ""
             }
            },
            "type": "scattermapbox"
           }
          ],
          "scatterpolar": [
           {
            "marker": {
             "colorbar": {
              "outlinewidth": 0,
              "ticks": ""
             }
            },
            "type": "scatterpolar"
           }
          ],
          "scatterpolargl": [
           {
            "marker": {
             "colorbar": {
              "outlinewidth": 0,
              "ticks": ""
             }
            },
            "type": "scatterpolargl"
           }
          ],
          "scatterternary": [
           {
            "marker": {
             "colorbar": {
              "outlinewidth": 0,
              "ticks": ""
             }
            },
            "type": "scatterternary"
           }
          ],
          "surface": [
           {
            "colorbar": {
             "outlinewidth": 0,
             "ticks": ""
            },
            "colorscale": [
             [
              0,
              "#0d0887"
             ],
             [
              0.1111111111111111,
              "#46039f"
             ],
             [
              0.2222222222222222,
              "#7201a8"
             ],
             [
              0.3333333333333333,
              "#9c179e"
             ],
             [
              0.4444444444444444,
              "#bd3786"
             ],
             [
              0.5555555555555556,
              "#d8576b"
             ],
             [
              0.6666666666666666,
              "#ed7953"
             ],
             [
              0.7777777777777778,
              "#fb9f3a"
             ],
             [
              0.8888888888888888,
              "#fdca26"
             ],
             [
              1,
              "#f0f921"
             ]
            ],
            "type": "surface"
           }
          ],
          "table": [
           {
            "cells": {
             "fill": {
              "color": "#EBF0F8"
             },
             "line": {
              "color": "white"
             }
            },
            "header": {
             "fill": {
              "color": "#C8D4E3"
             },
             "line": {
              "color": "white"
             }
            },
            "type": "table"
           }
          ]
         },
         "layout": {
          "annotationdefaults": {
           "arrowcolor": "#2a3f5f",
           "arrowhead": 0,
           "arrowwidth": 1
          },
          "autotypenumbers": "strict",
          "coloraxis": {
           "colorbar": {
            "outlinewidth": 0,
            "ticks": ""
           }
          },
          "colorscale": {
           "diverging": [
            [
             0,
             "#8e0152"
            ],
            [
             0.1,
             "#c51b7d"
            ],
            [
             0.2,
             "#de77ae"
            ],
            [
             0.3,
             "#f1b6da"
            ],
            [
             0.4,
             "#fde0ef"
            ],
            [
             0.5,
             "#f7f7f7"
            ],
            [
             0.6,
             "#e6f5d0"
            ],
            [
             0.7,
             "#b8e186"
            ],
            [
             0.8,
             "#7fbc41"
            ],
            [
             0.9,
             "#4d9221"
            ],
            [
             1,
             "#276419"
            ]
           ],
           "sequential": [
            [
             0,
             "#0d0887"
            ],
            [
             0.1111111111111111,
             "#46039f"
            ],
            [
             0.2222222222222222,
             "#7201a8"
            ],
            [
             0.3333333333333333,
             "#9c179e"
            ],
            [
             0.4444444444444444,
             "#bd3786"
            ],
            [
             0.5555555555555556,
             "#d8576b"
            ],
            [
             0.6666666666666666,
             "#ed7953"
            ],
            [
             0.7777777777777778,
             "#fb9f3a"
            ],
            [
             0.8888888888888888,
             "#fdca26"
            ],
            [
             1,
             "#f0f921"
            ]
           ],
           "sequentialminus": [
            [
             0,
             "#0d0887"
            ],
            [
             0.1111111111111111,
             "#46039f"
            ],
            [
             0.2222222222222222,
             "#7201a8"
            ],
            [
             0.3333333333333333,
             "#9c179e"
            ],
            [
             0.4444444444444444,
             "#bd3786"
            ],
            [
             0.5555555555555556,
             "#d8576b"
            ],
            [
             0.6666666666666666,
             "#ed7953"
            ],
            [
             0.7777777777777778,
             "#fb9f3a"
            ],
            [
             0.8888888888888888,
             "#fdca26"
            ],
            [
             1,
             "#f0f921"
            ]
           ]
          },
          "colorway": [
           "#636efa",
           "#EF553B",
           "#00cc96",
           "#ab63fa",
           "#FFA15A",
           "#19d3f3",
           "#FF6692",
           "#B6E880",
           "#FF97FF",
           "#FECB52"
          ],
          "font": {
           "color": "#2a3f5f"
          },
          "geo": {
           "bgcolor": "white",
           "lakecolor": "white",
           "landcolor": "#E5ECF6",
           "showlakes": true,
           "showland": true,
           "subunitcolor": "white"
          },
          "hoverlabel": {
           "align": "left"
          },
          "hovermode": "closest",
          "mapbox": {
           "style": "light"
          },
          "paper_bgcolor": "white",
          "plot_bgcolor": "#E5ECF6",
          "polar": {
           "angularaxis": {
            "gridcolor": "white",
            "linecolor": "white",
            "ticks": ""
           },
           "bgcolor": "#E5ECF6",
           "radialaxis": {
            "gridcolor": "white",
            "linecolor": "white",
            "ticks": ""
           }
          },
          "scene": {
           "xaxis": {
            "backgroundcolor": "#E5ECF6",
            "gridcolor": "white",
            "gridwidth": 2,
            "linecolor": "white",
            "showbackground": true,
            "ticks": "",
            "zerolinecolor": "white"
           },
           "yaxis": {
            "backgroundcolor": "#E5ECF6",
            "gridcolor": "white",
            "gridwidth": 2,
            "linecolor": "white",
            "showbackground": true,
            "ticks": "",
            "zerolinecolor": "white"
           },
           "zaxis": {
            "backgroundcolor": "#E5ECF6",
            "gridcolor": "white",
            "gridwidth": 2,
            "linecolor": "white",
            "showbackground": true,
            "ticks": "",
            "zerolinecolor": "white"
           }
          },
          "shapedefaults": {
           "line": {
            "color": "#2a3f5f"
           }
          },
          "ternary": {
           "aaxis": {
            "gridcolor": "white",
            "linecolor": "white",
            "ticks": ""
           },
           "baxis": {
            "gridcolor": "white",
            "linecolor": "white",
            "ticks": ""
           },
           "bgcolor": "#E5ECF6",
           "caxis": {
            "gridcolor": "white",
            "linecolor": "white",
            "ticks": ""
           }
          },
          "title": {
           "x": 0.05
          },
          "xaxis": {
           "automargin": true,
           "gridcolor": "white",
           "linecolor": "white",
           "ticks": "",
           "title": {
            "standoff": 15
           },
           "zerolinecolor": "white",
           "zerolinewidth": 2
          },
          "yaxis": {
           "automargin": true,
           "gridcolor": "white",
           "linecolor": "white",
           "ticks": "",
           "title": {
            "standoff": 15
           },
           "zerolinecolor": "white",
           "zerolinewidth": 2
          }
         }
        },
        "title": {
         "text": "Latency vs Processes for the barrier using the the tree Algorithm"
        },
        "xaxis": {
         "tickvals": [
          2,
          4,
          6,
          8,
          12,
          16,
          20,
          24,
          28,
          32,
          36,
          40,
          44,
          48
         ],
         "title": {
          "text": "Processes"
         }
        },
        "yaxis": {
         "title": {
          "text": "Latency (us)"
         }
        }
       }
      }
     },
     "metadata": {},
     "output_type": "display_data"
    },
    {
     "data": {
      "application/vnd.plotly.v1+json": {
       "config": {
        "plotlyServerURL": "https://plot.ly"
       },
       "data": [
        {
         "mode": "lines+markers",
         "name": "core",
         "type": "scatter",
         "x": [
          2,
          4,
          6,
          8,
          10,
          12,
          14,
          16,
          18,
          20,
          22,
          24,
          26,
          28,
          30,
          32,
          34,
          36,
          38,
          40,
          42,
          44,
          46,
          48
         ],
         "y": [
          0.362,
          0.9259999999999999,
          1.064,
          1.45,
          1.6420000000000001,
          1.684,
          2.408,
          3.2079999999999997,
          3.088,
          3.268,
          3.16,
          3.3600000000000003,
          3.812,
          4.534000000000001,
          4.732,
          4.962000000000001,
          5.116,
          5.002,
          5.018,
          5.0280000000000005,
          5.154,
          5.008,
          5.006,
          4.9959999999999996
         ]
        },
        {
         "mode": "lines+markers",
         "name": "socket",
         "type": "scatter",
         "x": [
          2,
          4,
          6,
          8,
          10,
          12,
          14,
          16,
          18,
          20,
          22,
          24,
          26,
          28,
          30,
          32,
          34,
          36,
          38,
          40,
          42,
          44,
          46,
          48
         ],
         "y": [
          0.9,
          1.77,
          1.966,
          2.39,
          2.818,
          2.644,
          3.072,
          3.252,
          3.2520000000000002,
          3.118,
          3.074,
          2.916,
          3.84,
          4.706,
          5.061999999999999,
          5.436,
          5.474,
          5.452,
          5.544,
          5.482,
          5.468,
          5.4159999999999995,
          5.1899999999999995,
          5.101999999999999
         ]
        },
        {
         "mode": "lines+markers",
         "name": "node",
         "type": "scatter",
         "x": [
          2,
          4,
          6,
          8,
          10,
          12,
          14,
          16,
          18,
          20,
          22,
          24,
          26,
          28,
          30,
          32,
          34,
          36,
          38,
          40,
          42,
          44,
          46,
          48
         ],
         "y": [
          1.9939999999999998,
          3.5780000000000003,
          3.786,
          4.638,
          4.3759999999999994,
          4.71,
          4.654,
          5.138,
          5.006,
          5.268,
          5.3420000000000005,
          5.332,
          5.2379999999999995,
          5.2299999999999995,
          5.12,
          5.418,
          5.456,
          5.548,
          5.57,
          5.338,
          5.372,
          5.366,
          5.59,
          5.497999999999999
         ]
        }
       ],
       "layout": {
        "template": {
         "data": {
          "bar": [
           {
            "error_x": {
             "color": "#2a3f5f"
            },
            "error_y": {
             "color": "#2a3f5f"
            },
            "marker": {
             "line": {
              "color": "#E5ECF6",
              "width": 0.5
             },
             "pattern": {
              "fillmode": "overlay",
              "size": 10,
              "solidity": 0.2
             }
            },
            "type": "bar"
           }
          ],
          "barpolar": [
           {
            "marker": {
             "line": {
              "color": "#E5ECF6",
              "width": 0.5
             },
             "pattern": {
              "fillmode": "overlay",
              "size": 10,
              "solidity": 0.2
             }
            },
            "type": "barpolar"
           }
          ],
          "carpet": [
           {
            "aaxis": {
             "endlinecolor": "#2a3f5f",
             "gridcolor": "white",
             "linecolor": "white",
             "minorgridcolor": "white",
             "startlinecolor": "#2a3f5f"
            },
            "baxis": {
             "endlinecolor": "#2a3f5f",
             "gridcolor": "white",
             "linecolor": "white",
             "minorgridcolor": "white",
             "startlinecolor": "#2a3f5f"
            },
            "type": "carpet"
           }
          ],
          "choropleth": [
           {
            "colorbar": {
             "outlinewidth": 0,
             "ticks": ""
            },
            "type": "choropleth"
           }
          ],
          "contour": [
           {
            "colorbar": {
             "outlinewidth": 0,
             "ticks": ""
            },
            "colorscale": [
             [
              0,
              "#0d0887"
             ],
             [
              0.1111111111111111,
              "#46039f"
             ],
             [
              0.2222222222222222,
              "#7201a8"
             ],
             [
              0.3333333333333333,
              "#9c179e"
             ],
             [
              0.4444444444444444,
              "#bd3786"
             ],
             [
              0.5555555555555556,
              "#d8576b"
             ],
             [
              0.6666666666666666,
              "#ed7953"
             ],
             [
              0.7777777777777778,
              "#fb9f3a"
             ],
             [
              0.8888888888888888,
              "#fdca26"
             ],
             [
              1,
              "#f0f921"
             ]
            ],
            "type": "contour"
           }
          ],
          "contourcarpet": [
           {
            "colorbar": {
             "outlinewidth": 0,
             "ticks": ""
            },
            "type": "contourcarpet"
           }
          ],
          "heatmap": [
           {
            "colorbar": {
             "outlinewidth": 0,
             "ticks": ""
            },
            "colorscale": [
             [
              0,
              "#0d0887"
             ],
             [
              0.1111111111111111,
              "#46039f"
             ],
             [
              0.2222222222222222,
              "#7201a8"
             ],
             [
              0.3333333333333333,
              "#9c179e"
             ],
             [
              0.4444444444444444,
              "#bd3786"
             ],
             [
              0.5555555555555556,
              "#d8576b"
             ],
             [
              0.6666666666666666,
              "#ed7953"
             ],
             [
              0.7777777777777778,
              "#fb9f3a"
             ],
             [
              0.8888888888888888,
              "#fdca26"
             ],
             [
              1,
              "#f0f921"
             ]
            ],
            "type": "heatmap"
           }
          ],
          "heatmapgl": [
           {
            "colorbar": {
             "outlinewidth": 0,
             "ticks": ""
            },
            "colorscale": [
             [
              0,
              "#0d0887"
             ],
             [
              0.1111111111111111,
              "#46039f"
             ],
             [
              0.2222222222222222,
              "#7201a8"
             ],
             [
              0.3333333333333333,
              "#9c179e"
             ],
             [
              0.4444444444444444,
              "#bd3786"
             ],
             [
              0.5555555555555556,
              "#d8576b"
             ],
             [
              0.6666666666666666,
              "#ed7953"
             ],
             [
              0.7777777777777778,
              "#fb9f3a"
             ],
             [
              0.8888888888888888,
              "#fdca26"
             ],
             [
              1,
              "#f0f921"
             ]
            ],
            "type": "heatmapgl"
           }
          ],
          "histogram": [
           {
            "marker": {
             "pattern": {
              "fillmode": "overlay",
              "size": 10,
              "solidity": 0.2
             }
            },
            "type": "histogram"
           }
          ],
          "histogram2d": [
           {
            "colorbar": {
             "outlinewidth": 0,
             "ticks": ""
            },
            "colorscale": [
             [
              0,
              "#0d0887"
             ],
             [
              0.1111111111111111,
              "#46039f"
             ],
             [
              0.2222222222222222,
              "#7201a8"
             ],
             [
              0.3333333333333333,
              "#9c179e"
             ],
             [
              0.4444444444444444,
              "#bd3786"
             ],
             [
              0.5555555555555556,
              "#d8576b"
             ],
             [
              0.6666666666666666,
              "#ed7953"
             ],
             [
              0.7777777777777778,
              "#fb9f3a"
             ],
             [
              0.8888888888888888,
              "#fdca26"
             ],
             [
              1,
              "#f0f921"
             ]
            ],
            "type": "histogram2d"
           }
          ],
          "histogram2dcontour": [
           {
            "colorbar": {
             "outlinewidth": 0,
             "ticks": ""
            },
            "colorscale": [
             [
              0,
              "#0d0887"
             ],
             [
              0.1111111111111111,
              "#46039f"
             ],
             [
              0.2222222222222222,
              "#7201a8"
             ],
             [
              0.3333333333333333,
              "#9c179e"
             ],
             [
              0.4444444444444444,
              "#bd3786"
             ],
             [
              0.5555555555555556,
              "#d8576b"
             ],
             [
              0.6666666666666666,
              "#ed7953"
             ],
             [
              0.7777777777777778,
              "#fb9f3a"
             ],
             [
              0.8888888888888888,
              "#fdca26"
             ],
             [
              1,
              "#f0f921"
             ]
            ],
            "type": "histogram2dcontour"
           }
          ],
          "mesh3d": [
           {
            "colorbar": {
             "outlinewidth": 0,
             "ticks": ""
            },
            "type": "mesh3d"
           }
          ],
          "parcoords": [
           {
            "line": {
             "colorbar": {
              "outlinewidth": 0,
              "ticks": ""
             }
            },
            "type": "parcoords"
           }
          ],
          "pie": [
           {
            "automargin": true,
            "type": "pie"
           }
          ],
          "scatter": [
           {
            "fillpattern": {
             "fillmode": "overlay",
             "size": 10,
             "solidity": 0.2
            },
            "type": "scatter"
           }
          ],
          "scatter3d": [
           {
            "line": {
             "colorbar": {
              "outlinewidth": 0,
              "ticks": ""
             }
            },
            "marker": {
             "colorbar": {
              "outlinewidth": 0,
              "ticks": ""
             }
            },
            "type": "scatter3d"
           }
          ],
          "scattercarpet": [
           {
            "marker": {
             "colorbar": {
              "outlinewidth": 0,
              "ticks": ""
             }
            },
            "type": "scattercarpet"
           }
          ],
          "scattergeo": [
           {
            "marker": {
             "colorbar": {
              "outlinewidth": 0,
              "ticks": ""
             }
            },
            "type": "scattergeo"
           }
          ],
          "scattergl": [
           {
            "marker": {
             "colorbar": {
              "outlinewidth": 0,
              "ticks": ""
             }
            },
            "type": "scattergl"
           }
          ],
          "scattermapbox": [
           {
            "marker": {
             "colorbar": {
              "outlinewidth": 0,
              "ticks": ""
             }
            },
            "type": "scattermapbox"
           }
          ],
          "scatterpolar": [
           {
            "marker": {
             "colorbar": {
              "outlinewidth": 0,
              "ticks": ""
             }
            },
            "type": "scatterpolar"
           }
          ],
          "scatterpolargl": [
           {
            "marker": {
             "colorbar": {
              "outlinewidth": 0,
              "ticks": ""
             }
            },
            "type": "scatterpolargl"
           }
          ],
          "scatterternary": [
           {
            "marker": {
             "colorbar": {
              "outlinewidth": 0,
              "ticks": ""
             }
            },
            "type": "scatterternary"
           }
          ],
          "surface": [
           {
            "colorbar": {
             "outlinewidth": 0,
             "ticks": ""
            },
            "colorscale": [
             [
              0,
              "#0d0887"
             ],
             [
              0.1111111111111111,
              "#46039f"
             ],
             [
              0.2222222222222222,
              "#7201a8"
             ],
             [
              0.3333333333333333,
              "#9c179e"
             ],
             [
              0.4444444444444444,
              "#bd3786"
             ],
             [
              0.5555555555555556,
              "#d8576b"
             ],
             [
              0.6666666666666666,
              "#ed7953"
             ],
             [
              0.7777777777777778,
              "#fb9f3a"
             ],
             [
              0.8888888888888888,
              "#fdca26"
             ],
             [
              1,
              "#f0f921"
             ]
            ],
            "type": "surface"
           }
          ],
          "table": [
           {
            "cells": {
             "fill": {
              "color": "#EBF0F8"
             },
             "line": {
              "color": "white"
             }
            },
            "header": {
             "fill": {
              "color": "#C8D4E3"
             },
             "line": {
              "color": "white"
             }
            },
            "type": "table"
           }
          ]
         },
         "layout": {
          "annotationdefaults": {
           "arrowcolor": "#2a3f5f",
           "arrowhead": 0,
           "arrowwidth": 1
          },
          "autotypenumbers": "strict",
          "coloraxis": {
           "colorbar": {
            "outlinewidth": 0,
            "ticks": ""
           }
          },
          "colorscale": {
           "diverging": [
            [
             0,
             "#8e0152"
            ],
            [
             0.1,
             "#c51b7d"
            ],
            [
             0.2,
             "#de77ae"
            ],
            [
             0.3,
             "#f1b6da"
            ],
            [
             0.4,
             "#fde0ef"
            ],
            [
             0.5,
             "#f7f7f7"
            ],
            [
             0.6,
             "#e6f5d0"
            ],
            [
             0.7,
             "#b8e186"
            ],
            [
             0.8,
             "#7fbc41"
            ],
            [
             0.9,
             "#4d9221"
            ],
            [
             1,
             "#276419"
            ]
           ],
           "sequential": [
            [
             0,
             "#0d0887"
            ],
            [
             0.1111111111111111,
             "#46039f"
            ],
            [
             0.2222222222222222,
             "#7201a8"
            ],
            [
             0.3333333333333333,
             "#9c179e"
            ],
            [
             0.4444444444444444,
             "#bd3786"
            ],
            [
             0.5555555555555556,
             "#d8576b"
            ],
            [
             0.6666666666666666,
             "#ed7953"
            ],
            [
             0.7777777777777778,
             "#fb9f3a"
            ],
            [
             0.8888888888888888,
             "#fdca26"
            ],
            [
             1,
             "#f0f921"
            ]
           ],
           "sequentialminus": [
            [
             0,
             "#0d0887"
            ],
            [
             0.1111111111111111,
             "#46039f"
            ],
            [
             0.2222222222222222,
             "#7201a8"
            ],
            [
             0.3333333333333333,
             "#9c179e"
            ],
            [
             0.4444444444444444,
             "#bd3786"
            ],
            [
             0.5555555555555556,
             "#d8576b"
            ],
            [
             0.6666666666666666,
             "#ed7953"
            ],
            [
             0.7777777777777778,
             "#fb9f3a"
            ],
            [
             0.8888888888888888,
             "#fdca26"
            ],
            [
             1,
             "#f0f921"
            ]
           ]
          },
          "colorway": [
           "#636efa",
           "#EF553B",
           "#00cc96",
           "#ab63fa",
           "#FFA15A",
           "#19d3f3",
           "#FF6692",
           "#B6E880",
           "#FF97FF",
           "#FECB52"
          ],
          "font": {
           "color": "#2a3f5f"
          },
          "geo": {
           "bgcolor": "white",
           "lakecolor": "white",
           "landcolor": "#E5ECF6",
           "showlakes": true,
           "showland": true,
           "subunitcolor": "white"
          },
          "hoverlabel": {
           "align": "left"
          },
          "hovermode": "closest",
          "mapbox": {
           "style": "light"
          },
          "paper_bgcolor": "white",
          "plot_bgcolor": "#E5ECF6",
          "polar": {
           "angularaxis": {
            "gridcolor": "white",
            "linecolor": "white",
            "ticks": ""
           },
           "bgcolor": "#E5ECF6",
           "radialaxis": {
            "gridcolor": "white",
            "linecolor": "white",
            "ticks": ""
           }
          },
          "scene": {
           "xaxis": {
            "backgroundcolor": "#E5ECF6",
            "gridcolor": "white",
            "gridwidth": 2,
            "linecolor": "white",
            "showbackground": true,
            "ticks": "",
            "zerolinecolor": "white"
           },
           "yaxis": {
            "backgroundcolor": "#E5ECF6",
            "gridcolor": "white",
            "gridwidth": 2,
            "linecolor": "white",
            "showbackground": true,
            "ticks": "",
            "zerolinecolor": "white"
           },
           "zaxis": {
            "backgroundcolor": "#E5ECF6",
            "gridcolor": "white",
            "gridwidth": 2,
            "linecolor": "white",
            "showbackground": true,
            "ticks": "",
            "zerolinecolor": "white"
           }
          },
          "shapedefaults": {
           "line": {
            "color": "#2a3f5f"
           }
          },
          "ternary": {
           "aaxis": {
            "gridcolor": "white",
            "linecolor": "white",
            "ticks": ""
           },
           "baxis": {
            "gridcolor": "white",
            "linecolor": "white",
            "ticks": ""
           },
           "bgcolor": "#E5ECF6",
           "caxis": {
            "gridcolor": "white",
            "linecolor": "white",
            "ticks": ""
           }
          },
          "title": {
           "x": 0.05
          },
          "xaxis": {
           "automargin": true,
           "gridcolor": "white",
           "linecolor": "white",
           "ticks": "",
           "title": {
            "standoff": 15
           },
           "zerolinecolor": "white",
           "zerolinewidth": 2
          },
          "yaxis": {
           "automargin": true,
           "gridcolor": "white",
           "linecolor": "white",
           "ticks": "",
           "title": {
            "standoff": 15
           },
           "zerolinecolor": "white",
           "zerolinewidth": 2
          }
         }
        },
        "title": {
         "text": "Latency vs Processes for the barrier using the Default Algorithm"
        },
        "xaxis": {
         "tickvals": [
          2,
          4,
          6,
          8,
          12,
          16,
          20,
          24,
          28,
          32,
          36,
          40,
          44,
          48
         ],
         "title": {
          "text": "Processes"
         }
        },
        "yaxis": {
         "title": {
          "text": "Latency (us)"
         }
        }
       }
      }
     },
     "metadata": {},
     "output_type": "display_data"
    }
   ],
   "source": [
    "# Initialize the figure\n",
    "fig = go.Figure()\n",
    "\n",
    "cleaned_tree_df = []\n",
    "cleaned_tree_df = [tree_df[i] for i in range(len(tree_df)) if i not in [5, 6]]\n",
    "\n",
    "cleaned_tree_df = [df.sort_values(['Allocation', 'Processes'], ascending=True) for df in cleaned_tree_df]\n",
    "\n",
    "# Start plotting the data\n",
    "for selected in range(len(cleaned_tree_df)):\n",
    "\t# The two runs\n",
    "\tused_df = cleaned_tree_df[selected]\n",
    "\tfor allocation in allocations:\n",
    "\t\tused_allocation_df = used_df[used_df['Allocation']==allocation]\n",
    "\t\t# Only plot for 512KB and 1MB, a.k.a. one fitting entirely in L1 and one not fitting\n",
    "\t\t# Plot the data\n",
    "\t\tfig.add_trace(go.Scatter(x=used_allocation_df['Processes'], \n",
    "\t\t\t\t\t\t\t\ty=used_allocation_df['Latency'],\n",
    "\t\t\t\t\t\t\t\tmode='lines+markers',\n",
    "\t\t\t\t\t\t\t\tname=allocation+str(selected)))\n",
    "# Update the layout by naming the appropirate tings and highlighting some places of interest in the x-axis\n",
    "fig.update_layout(title='Latency vs Processes for the barrier using the the tree Algorithm', \n",
    "\t\t\t\t\txaxis_title='Processes', \n",
    "\t\t\t\t\tyaxis_title='Latency (us)', \n",
    "\t\t\t\t\txaxis=dict(tickvals=tickvals)\n",
    "\t\t\t\t)\n",
    "\n",
    "fig.show()\n",
    "\n",
    "tree_cumulative = pd.concat(cleaned_tree_df, ignore_index=True)\n",
    "tree_cumulative_mean = tree_cumulative.groupby(['Processes', 'Allocation'] ,as_index=False).mean()\n",
    "tree_cumulative_std = tree_cumulative.groupby(['Processes', 'Allocation'] ,as_index=False).std()\n",
    "tree_cumulative_summarized = tree_cumulative_mean.merge(tree_cumulative_std, on=['Processes', 'Allocation'], suffixes=('_mean', '_std'))\n",
    "\n",
    "# Initialize the figure\n",
    "fig = go.Figure()\n",
    "\n",
    "# Start plotting the data\n",
    "\n",
    "used_df = tree_cumulative_summarized\n",
    "for allocation in allocations:\n",
    "\tused_allocation_df = used_df[used_df['Allocation']==allocation]\n",
    "\tfig.add_trace(go.Scatter(x=used_allocation_df['Processes'], \n",
    "\t\t\t\t\t\t\ty=used_allocation_df['Latency_mean'],\n",
    "\t\t\t\t\t\t\tmode='lines+markers',\n",
    "\t\t\t\t\t\t\tname=allocation))\n",
    "# Update the layout by naming the appropirate tings and highlighting some places of interest in the x-axis\n",
    "fig.update_layout(title='Latency vs Processes for the barrier using the Default Algorithm', \n",
    "\t\t\t\t\txaxis_title='Processes', \n",
    "\t\t\t\t\tyaxis_title='Latency (us)', \n",
    "\t\t\t\t\txaxis=dict(tickvals=tickvals)\n",
    "\t\t\t\t)\n",
    "\n",
    "fig.show()"
   ]
  },
  {
   "cell_type": "code",
   "execution_count": 324,
   "metadata": {},
   "outputs": [
    {
     "data": {
      "application/vnd.plotly.v1+json": {
       "config": {
        "plotlyServerURL": "https://plot.ly"
       },
       "data": [
        {
         "mode": "lines+markers",
         "name": "core0",
         "type": "scatter",
         "x": [
          2,
          4,
          6,
          8,
          10,
          12,
          14,
          16,
          18,
          20,
          22,
          24,
          26,
          28,
          30,
          32,
          34,
          36,
          38,
          40,
          42,
          44,
          46,
          48
         ],
         "y": [
          0.38,
          0.7,
          1.02,
          1.21,
          1.45,
          2.09,
          2.98,
          4.44,
          4.23,
          4.76,
          8.02,
          5.75,
          4.75,
          4.97,
          4.95,
          5.48,
          6.02,
          6.29,
          6.83,
          7.74,
          7.24,
          7.75,
          8.22,
          8.55
         ]
        },
        {
         "mode": "lines+markers",
         "name": "socket0",
         "type": "scatter",
         "x": [
          2,
          4,
          6,
          8,
          10,
          12,
          14,
          16,
          18,
          20,
          22,
          24,
          26,
          28,
          30,
          32,
          34,
          36,
          38,
          40,
          42,
          44,
          46,
          48
         ],
         "y": [
          0.97,
          1.43,
          1.81,
          2.37,
          2.54,
          3.53,
          4.12,
          5.09,
          4.45,
          4.46,
          4.83,
          4.82,
          5.69,
          6.67,
          5.96,
          6.67,
          6.91,
          7.67,
          7.41,
          7.83,
          8.24,
          8.56,
          8.97,
          9.65
         ]
        },
        {
         "mode": "lines+markers",
         "name": "node0",
         "type": "scatter",
         "x": [
          2,
          4,
          6,
          8,
          10,
          12,
          14,
          16,
          18,
          20,
          22,
          24,
          26,
          28,
          30,
          32,
          34,
          36,
          38,
          40,
          42,
          44,
          46,
          48
         ],
         "y": [
          2.01,
          2.75,
          2.84,
          3.75,
          3.91,
          3.84,
          3.73,
          4,
          5.76,
          6.97,
          5.43,
          6.88,
          6.56,
          5.46,
          6.81,
          6.36,
          7.85,
          9.32,
          8.07,
          8.79,
          14.83,
          12.99,
          11.83,
          9.39
         ]
        },
        {
         "mode": "lines+markers",
         "name": "core1",
         "type": "scatter",
         "x": [
          2,
          4,
          6,
          8,
          10,
          12,
          14,
          16,
          18,
          20,
          22,
          24,
          26,
          28,
          30,
          32,
          34,
          36,
          38,
          40,
          42,
          44,
          46,
          48
         ],
         "y": [
          0.38,
          0.8,
          0.92,
          1.14,
          1.4,
          1.6,
          2.18,
          2.8,
          3.15,
          3.43,
          4.02,
          4.11,
          4.51,
          4.88,
          5.17,
          5.54,
          5.98,
          6.44,
          6.75,
          6.91,
          7.57,
          7.72,
          8,
          8.5
         ]
        },
        {
         "mode": "lines+markers",
         "name": "socket1",
         "type": "scatter",
         "x": [
          2,
          4,
          6,
          8,
          10,
          12,
          14,
          16,
          18,
          20,
          22,
          24,
          26,
          28,
          30,
          32,
          34,
          36,
          38,
          40,
          42,
          44,
          46,
          48
         ],
         "y": [
          0.81,
          1.26,
          1.63,
          1.91,
          3.3,
          2.84,
          4.01,
          3.55,
          3.88,
          4.33,
          4.31,
          4.95,
          5.97,
          6.98,
          6.17,
          6.1,
          6.59,
          7.07,
          7.51,
          8.26,
          8.12,
          8.44,
          9.07,
          9.98
         ]
        },
        {
         "mode": "lines+markers",
         "name": "node1",
         "type": "scatter",
         "x": [
          2,
          4,
          6,
          8,
          10,
          12,
          14,
          16,
          18,
          20,
          22,
          24,
          26,
          28,
          30,
          32,
          34,
          36,
          38,
          40,
          42,
          44,
          46,
          48
         ],
         "y": [
          2.01,
          2.53,
          2.6,
          3,
          3.13,
          4.04,
          4.52,
          5.46,
          4.19,
          4.48,
          4.51,
          6.16,
          5.13,
          6.52,
          5.6,
          7.91,
          8.45,
          9.06,
          7.86,
          14.89,
          8.07,
          8.47,
          9.57,
          11.18
         ]
        },
        {
         "mode": "lines+markers",
         "name": "core2",
         "type": "scatter",
         "x": [
          2,
          4,
          6,
          8,
          10,
          12,
          14,
          16,
          18,
          20,
          22,
          24,
          26,
          28,
          30,
          32,
          34,
          36,
          38,
          40,
          42,
          44,
          46,
          48
         ],
         "y": [
          0.4,
          0.72,
          0.92,
          1.17,
          1.37,
          1.73,
          2.21,
          3,
          4.02,
          3.64,
          7.99,
          5.21,
          4.42,
          5.33,
          5.21,
          5.61,
          6.09,
          6.36,
          7.18,
          6.99,
          7.72,
          7.98,
          8.44,
          8.75
         ]
        },
        {
         "mode": "lines+markers",
         "name": "socket2",
         "type": "scatter",
         "x": [
          2,
          4,
          6,
          8,
          10,
          12,
          14,
          16,
          18,
          20,
          22,
          24,
          26,
          28,
          30,
          32,
          34,
          36,
          38,
          40,
          42,
          44,
          46,
          48
         ],
         "y": [
          0.81,
          1.3,
          1.51,
          2.02,
          2.36,
          2.93,
          3.71,
          3.72,
          5.33,
          4.46,
          4.4,
          4.91,
          5.17,
          6.31,
          5.83,
          7.16,
          6.56,
          7.11,
          7.43,
          7.82,
          8.17,
          8.43,
          8.93,
          12.02
         ]
        },
        {
         "mode": "lines+markers",
         "name": "node2",
         "type": "scatter",
         "x": [
          2,
          4,
          6,
          8,
          10,
          12,
          14,
          16,
          18,
          20,
          22,
          24,
          26,
          28,
          30,
          32,
          34,
          36,
          38,
          40,
          42,
          44,
          46,
          48
         ],
         "y": [
          2.01,
          2.98,
          2.7,
          3.02,
          3.16,
          3.48,
          4.13,
          5.33,
          4.01,
          5.06,
          6.16,
          4.97,
          10.97,
          6.46,
          7.83,
          6.14,
          7.76,
          8.37,
          9.4,
          7.85,
          8.12,
          11.97,
          9.87,
          9.97
         ]
        },
        {
         "mode": "lines+markers",
         "name": "core3",
         "type": "scatter",
         "x": [
          2,
          4,
          6,
          8,
          10,
          12,
          14,
          16,
          18,
          20,
          22,
          24,
          26,
          28,
          30,
          32,
          34,
          36,
          38,
          40,
          42,
          44,
          46,
          48
         ],
         "y": [
          0.41,
          0.71,
          0.99,
          1.25,
          1.43,
          2.04,
          2.73,
          3.88,
          4.42,
          5.15,
          4.51,
          6.08,
          4.63,
          4.76,
          5.15,
          5.56,
          6.03,
          6.61,
          6.62,
          7.11,
          7.47,
          7.76,
          8.46,
          8.63
         ]
        },
        {
         "mode": "lines+markers",
         "name": "socket3",
         "type": "scatter",
         "x": [
          2,
          4,
          6,
          8,
          10,
          12,
          14,
          16,
          18,
          20,
          22,
          24,
          26,
          28,
          30,
          32,
          34,
          36,
          38,
          40,
          42,
          44,
          46,
          48
         ],
         "y": [
          0.9,
          1.8,
          1.62,
          2,
          2.32,
          2.84,
          3.28,
          3.7,
          4.17,
          4.77,
          6.65,
          4.71,
          5.74,
          5.92,
          5.89,
          6.15,
          6.86,
          7.29,
          7.67,
          7.75,
          8.09,
          8.49,
          8.8,
          14.27
         ]
        },
        {
         "mode": "lines+markers",
         "name": "node3",
         "type": "scatter",
         "x": [
          2,
          4,
          6,
          8,
          10,
          12,
          14,
          16,
          18,
          20,
          22,
          24,
          26,
          28,
          30,
          32,
          34,
          36,
          38,
          40,
          42,
          44,
          46,
          48
         ],
         "y": [
          2.01,
          3.13,
          2.91,
          3.82,
          3.45,
          3.47,
          4.09,
          6.14,
          4.25,
          4.41,
          4.89,
          4.97,
          5.43,
          5.48,
          6.84,
          10.09,
          8.33,
          7.4,
          8.41,
          9.25,
          8.18,
          11.09,
          9.01,
          9.71
         ]
        },
        {
         "mode": "lines+markers",
         "name": "core4",
         "type": "scatter",
         "x": [
          2,
          4,
          6,
          8,
          10,
          12,
          14,
          16,
          18,
          20,
          22,
          24,
          26,
          28,
          30,
          32,
          34,
          36,
          38,
          40,
          42,
          44,
          46,
          48
         ],
         "y": [
          0.5,
          0.7,
          0.96,
          1.14,
          1.4,
          1.77,
          2.37,
          4.91,
          3.68,
          8.38,
          7.98,
          4.97,
          4.72,
          6.38,
          5,
          5.54,
          5.96,
          6.52,
          7.63,
          7.11,
          8.11,
          8.06,
          8.04,
          8.46
         ]
        },
        {
         "mode": "lines+markers",
         "name": "socket4",
         "type": "scatter",
         "x": [
          2,
          4,
          6,
          8,
          10,
          12,
          14,
          16,
          18,
          20,
          22,
          24,
          26,
          28,
          30,
          32,
          34,
          36,
          38,
          40,
          42,
          44,
          46,
          48
         ],
         "y": [
          0.81,
          1.27,
          1.75,
          2.39,
          3.62,
          3.08,
          3.45,
          3.96,
          4.37,
          4.06,
          4.34,
          4.91,
          5.37,
          5.52,
          5.92,
          6.14,
          6.59,
          7.09,
          7.33,
          7.77,
          8.32,
          8.68,
          8.95,
          9.22
         ]
        },
        {
         "mode": "lines+markers",
         "name": "node4",
         "type": "scatter",
         "x": [
          2,
          4,
          6,
          8,
          10,
          12,
          14,
          16,
          18,
          20,
          22,
          24,
          26,
          28,
          30,
          32,
          34,
          36,
          38,
          40,
          42,
          44,
          46,
          48
         ],
         "y": [
          2.02,
          2.47,
          2.65,
          2.93,
          3.21,
          3.47,
          3.71,
          4.09,
          4.27,
          5.23,
          6.2,
          5.97,
          5.15,
          8.13,
          6.67,
          7.24,
          6.54,
          8.21,
          7.42,
          11.12,
          11.04,
          8.46,
          8.88,
          9.29
         ]
        },
        {
         "mode": "lines+markers",
         "name": "core5",
         "type": "scatter",
         "x": [
          2,
          4,
          6,
          8,
          10,
          12,
          14,
          16,
          18,
          20,
          22,
          24,
          26,
          28,
          30,
          32,
          34,
          36,
          38,
          40,
          42,
          44,
          46,
          48
         ],
         "y": [
          0.39,
          0.78,
          0.91,
          1.16,
          1.38,
          1.78,
          2.23,
          2.79,
          3.56,
          4.81,
          4.23,
          5.63,
          4.53,
          5.01,
          5.14,
          5.44,
          5.79,
          6.47,
          6.8,
          7.11,
          7.66,
          7.8,
          8.54,
          8.53
         ]
        },
        {
         "mode": "lines+markers",
         "name": "socket5",
         "type": "scatter",
         "x": [
          2,
          4,
          6,
          8,
          10,
          12,
          14,
          16,
          18,
          20,
          22,
          24,
          26,
          28,
          30,
          32,
          34,
          36,
          38,
          40,
          42,
          44,
          46,
          48
         ],
         "y": [
          0.99,
          1.44,
          1.81,
          2.3,
          2.68,
          3.42,
          3.82,
          3.98,
          4.62,
          4.37,
          5.19,
          4.9,
          5.69,
          5.43,
          5.84,
          6.2,
          6.71,
          6.95,
          7.42,
          7.7,
          8.26,
          8.66,
          8.83,
          9.49
         ]
        },
        {
         "mode": "lines+markers",
         "name": "node5",
         "type": "scatter",
         "x": [
          2,
          4,
          6,
          8,
          10,
          12,
          14,
          16,
          18,
          20,
          22,
          24,
          26,
          28,
          30,
          32,
          34,
          36,
          38,
          40,
          42,
          44,
          46,
          48
         ],
         "y": [
          2.01,
          2.86,
          2.91,
          3.72,
          3.37,
          3.63,
          4.03,
          3.96,
          4.11,
          4.44,
          4.61,
          5.16,
          7.8,
          6.96,
          5.6,
          7.65,
          6.86,
          8.1,
          8.15,
          7.84,
          10.86,
          13.65,
          11.98,
          9.28
         ]
        }
       ],
       "layout": {
        "template": {
         "data": {
          "bar": [
           {
            "error_x": {
             "color": "#2a3f5f"
            },
            "error_y": {
             "color": "#2a3f5f"
            },
            "marker": {
             "line": {
              "color": "#E5ECF6",
              "width": 0.5
             },
             "pattern": {
              "fillmode": "overlay",
              "size": 10,
              "solidity": 0.2
             }
            },
            "type": "bar"
           }
          ],
          "barpolar": [
           {
            "marker": {
             "line": {
              "color": "#E5ECF6",
              "width": 0.5
             },
             "pattern": {
              "fillmode": "overlay",
              "size": 10,
              "solidity": 0.2
             }
            },
            "type": "barpolar"
           }
          ],
          "carpet": [
           {
            "aaxis": {
             "endlinecolor": "#2a3f5f",
             "gridcolor": "white",
             "linecolor": "white",
             "minorgridcolor": "white",
             "startlinecolor": "#2a3f5f"
            },
            "baxis": {
             "endlinecolor": "#2a3f5f",
             "gridcolor": "white",
             "linecolor": "white",
             "minorgridcolor": "white",
             "startlinecolor": "#2a3f5f"
            },
            "type": "carpet"
           }
          ],
          "choropleth": [
           {
            "colorbar": {
             "outlinewidth": 0,
             "ticks": ""
            },
            "type": "choropleth"
           }
          ],
          "contour": [
           {
            "colorbar": {
             "outlinewidth": 0,
             "ticks": ""
            },
            "colorscale": [
             [
              0,
              "#0d0887"
             ],
             [
              0.1111111111111111,
              "#46039f"
             ],
             [
              0.2222222222222222,
              "#7201a8"
             ],
             [
              0.3333333333333333,
              "#9c179e"
             ],
             [
              0.4444444444444444,
              "#bd3786"
             ],
             [
              0.5555555555555556,
              "#d8576b"
             ],
             [
              0.6666666666666666,
              "#ed7953"
             ],
             [
              0.7777777777777778,
              "#fb9f3a"
             ],
             [
              0.8888888888888888,
              "#fdca26"
             ],
             [
              1,
              "#f0f921"
             ]
            ],
            "type": "contour"
           }
          ],
          "contourcarpet": [
           {
            "colorbar": {
             "outlinewidth": 0,
             "ticks": ""
            },
            "type": "contourcarpet"
           }
          ],
          "heatmap": [
           {
            "colorbar": {
             "outlinewidth": 0,
             "ticks": ""
            },
            "colorscale": [
             [
              0,
              "#0d0887"
             ],
             [
              0.1111111111111111,
              "#46039f"
             ],
             [
              0.2222222222222222,
              "#7201a8"
             ],
             [
              0.3333333333333333,
              "#9c179e"
             ],
             [
              0.4444444444444444,
              "#bd3786"
             ],
             [
              0.5555555555555556,
              "#d8576b"
             ],
             [
              0.6666666666666666,
              "#ed7953"
             ],
             [
              0.7777777777777778,
              "#fb9f3a"
             ],
             [
              0.8888888888888888,
              "#fdca26"
             ],
             [
              1,
              "#f0f921"
             ]
            ],
            "type": "heatmap"
           }
          ],
          "heatmapgl": [
           {
            "colorbar": {
             "outlinewidth": 0,
             "ticks": ""
            },
            "colorscale": [
             [
              0,
              "#0d0887"
             ],
             [
              0.1111111111111111,
              "#46039f"
             ],
             [
              0.2222222222222222,
              "#7201a8"
             ],
             [
              0.3333333333333333,
              "#9c179e"
             ],
             [
              0.4444444444444444,
              "#bd3786"
             ],
             [
              0.5555555555555556,
              "#d8576b"
             ],
             [
              0.6666666666666666,
              "#ed7953"
             ],
             [
              0.7777777777777778,
              "#fb9f3a"
             ],
             [
              0.8888888888888888,
              "#fdca26"
             ],
             [
              1,
              "#f0f921"
             ]
            ],
            "type": "heatmapgl"
           }
          ],
          "histogram": [
           {
            "marker": {
             "pattern": {
              "fillmode": "overlay",
              "size": 10,
              "solidity": 0.2
             }
            },
            "type": "histogram"
           }
          ],
          "histogram2d": [
           {
            "colorbar": {
             "outlinewidth": 0,
             "ticks": ""
            },
            "colorscale": [
             [
              0,
              "#0d0887"
             ],
             [
              0.1111111111111111,
              "#46039f"
             ],
             [
              0.2222222222222222,
              "#7201a8"
             ],
             [
              0.3333333333333333,
              "#9c179e"
             ],
             [
              0.4444444444444444,
              "#bd3786"
             ],
             [
              0.5555555555555556,
              "#d8576b"
             ],
             [
              0.6666666666666666,
              "#ed7953"
             ],
             [
              0.7777777777777778,
              "#fb9f3a"
             ],
             [
              0.8888888888888888,
              "#fdca26"
             ],
             [
              1,
              "#f0f921"
             ]
            ],
            "type": "histogram2d"
           }
          ],
          "histogram2dcontour": [
           {
            "colorbar": {
             "outlinewidth": 0,
             "ticks": ""
            },
            "colorscale": [
             [
              0,
              "#0d0887"
             ],
             [
              0.1111111111111111,
              "#46039f"
             ],
             [
              0.2222222222222222,
              "#7201a8"
             ],
             [
              0.3333333333333333,
              "#9c179e"
             ],
             [
              0.4444444444444444,
              "#bd3786"
             ],
             [
              0.5555555555555556,
              "#d8576b"
             ],
             [
              0.6666666666666666,
              "#ed7953"
             ],
             [
              0.7777777777777778,
              "#fb9f3a"
             ],
             [
              0.8888888888888888,
              "#fdca26"
             ],
             [
              1,
              "#f0f921"
             ]
            ],
            "type": "histogram2dcontour"
           }
          ],
          "mesh3d": [
           {
            "colorbar": {
             "outlinewidth": 0,
             "ticks": ""
            },
            "type": "mesh3d"
           }
          ],
          "parcoords": [
           {
            "line": {
             "colorbar": {
              "outlinewidth": 0,
              "ticks": ""
             }
            },
            "type": "parcoords"
           }
          ],
          "pie": [
           {
            "automargin": true,
            "type": "pie"
           }
          ],
          "scatter": [
           {
            "fillpattern": {
             "fillmode": "overlay",
             "size": 10,
             "solidity": 0.2
            },
            "type": "scatter"
           }
          ],
          "scatter3d": [
           {
            "line": {
             "colorbar": {
              "outlinewidth": 0,
              "ticks": ""
             }
            },
            "marker": {
             "colorbar": {
              "outlinewidth": 0,
              "ticks": ""
             }
            },
            "type": "scatter3d"
           }
          ],
          "scattercarpet": [
           {
            "marker": {
             "colorbar": {
              "outlinewidth": 0,
              "ticks": ""
             }
            },
            "type": "scattercarpet"
           }
          ],
          "scattergeo": [
           {
            "marker": {
             "colorbar": {
              "outlinewidth": 0,
              "ticks": ""
             }
            },
            "type": "scattergeo"
           }
          ],
          "scattergl": [
           {
            "marker": {
             "colorbar": {
              "outlinewidth": 0,
              "ticks": ""
             }
            },
            "type": "scattergl"
           }
          ],
          "scattermapbox": [
           {
            "marker": {
             "colorbar": {
              "outlinewidth": 0,
              "ticks": ""
             }
            },
            "type": "scattermapbox"
           }
          ],
          "scatterpolar": [
           {
            "marker": {
             "colorbar": {
              "outlinewidth": 0,
              "ticks": ""
             }
            },
            "type": "scatterpolar"
           }
          ],
          "scatterpolargl": [
           {
            "marker": {
             "colorbar": {
              "outlinewidth": 0,
              "ticks": ""
             }
            },
            "type": "scatterpolargl"
           }
          ],
          "scatterternary": [
           {
            "marker": {
             "colorbar": {
              "outlinewidth": 0,
              "ticks": ""
             }
            },
            "type": "scatterternary"
           }
          ],
          "surface": [
           {
            "colorbar": {
             "outlinewidth": 0,
             "ticks": ""
            },
            "colorscale": [
             [
              0,
              "#0d0887"
             ],
             [
              0.1111111111111111,
              "#46039f"
             ],
             [
              0.2222222222222222,
              "#7201a8"
             ],
             [
              0.3333333333333333,
              "#9c179e"
             ],
             [
              0.4444444444444444,
              "#bd3786"
             ],
             [
              0.5555555555555556,
              "#d8576b"
             ],
             [
              0.6666666666666666,
              "#ed7953"
             ],
             [
              0.7777777777777778,
              "#fb9f3a"
             ],
             [
              0.8888888888888888,
              "#fdca26"
             ],
             [
              1,
              "#f0f921"
             ]
            ],
            "type": "surface"
           }
          ],
          "table": [
           {
            "cells": {
             "fill": {
              "color": "#EBF0F8"
             },
             "line": {
              "color": "white"
             }
            },
            "header": {
             "fill": {
              "color": "#C8D4E3"
             },
             "line": {
              "color": "white"
             }
            },
            "type": "table"
           }
          ]
         },
         "layout": {
          "annotationdefaults": {
           "arrowcolor": "#2a3f5f",
           "arrowhead": 0,
           "arrowwidth": 1
          },
          "autotypenumbers": "strict",
          "coloraxis": {
           "colorbar": {
            "outlinewidth": 0,
            "ticks": ""
           }
          },
          "colorscale": {
           "diverging": [
            [
             0,
             "#8e0152"
            ],
            [
             0.1,
             "#c51b7d"
            ],
            [
             0.2,
             "#de77ae"
            ],
            [
             0.3,
             "#f1b6da"
            ],
            [
             0.4,
             "#fde0ef"
            ],
            [
             0.5,
             "#f7f7f7"
            ],
            [
             0.6,
             "#e6f5d0"
            ],
            [
             0.7,
             "#b8e186"
            ],
            [
             0.8,
             "#7fbc41"
            ],
            [
             0.9,
             "#4d9221"
            ],
            [
             1,
             "#276419"
            ]
           ],
           "sequential": [
            [
             0,
             "#0d0887"
            ],
            [
             0.1111111111111111,
             "#46039f"
            ],
            [
             0.2222222222222222,
             "#7201a8"
            ],
            [
             0.3333333333333333,
             "#9c179e"
            ],
            [
             0.4444444444444444,
             "#bd3786"
            ],
            [
             0.5555555555555556,
             "#d8576b"
            ],
            [
             0.6666666666666666,
             "#ed7953"
            ],
            [
             0.7777777777777778,
             "#fb9f3a"
            ],
            [
             0.8888888888888888,
             "#fdca26"
            ],
            [
             1,
             "#f0f921"
            ]
           ],
           "sequentialminus": [
            [
             0,
             "#0d0887"
            ],
            [
             0.1111111111111111,
             "#46039f"
            ],
            [
             0.2222222222222222,
             "#7201a8"
            ],
            [
             0.3333333333333333,
             "#9c179e"
            ],
            [
             0.4444444444444444,
             "#bd3786"
            ],
            [
             0.5555555555555556,
             "#d8576b"
            ],
            [
             0.6666666666666666,
             "#ed7953"
            ],
            [
             0.7777777777777778,
             "#fb9f3a"
            ],
            [
             0.8888888888888888,
             "#fdca26"
            ],
            [
             1,
             "#f0f921"
            ]
           ]
          },
          "colorway": [
           "#636efa",
           "#EF553B",
           "#00cc96",
           "#ab63fa",
           "#FFA15A",
           "#19d3f3",
           "#FF6692",
           "#B6E880",
           "#FF97FF",
           "#FECB52"
          ],
          "font": {
           "color": "#2a3f5f"
          },
          "geo": {
           "bgcolor": "white",
           "lakecolor": "white",
           "landcolor": "#E5ECF6",
           "showlakes": true,
           "showland": true,
           "subunitcolor": "white"
          },
          "hoverlabel": {
           "align": "left"
          },
          "hovermode": "closest",
          "mapbox": {
           "style": "light"
          },
          "paper_bgcolor": "white",
          "plot_bgcolor": "#E5ECF6",
          "polar": {
           "angularaxis": {
            "gridcolor": "white",
            "linecolor": "white",
            "ticks": ""
           },
           "bgcolor": "#E5ECF6",
           "radialaxis": {
            "gridcolor": "white",
            "linecolor": "white",
            "ticks": ""
           }
          },
          "scene": {
           "xaxis": {
            "backgroundcolor": "#E5ECF6",
            "gridcolor": "white",
            "gridwidth": 2,
            "linecolor": "white",
            "showbackground": true,
            "ticks": "",
            "zerolinecolor": "white"
           },
           "yaxis": {
            "backgroundcolor": "#E5ECF6",
            "gridcolor": "white",
            "gridwidth": 2,
            "linecolor": "white",
            "showbackground": true,
            "ticks": "",
            "zerolinecolor": "white"
           },
           "zaxis": {
            "backgroundcolor": "#E5ECF6",
            "gridcolor": "white",
            "gridwidth": 2,
            "linecolor": "white",
            "showbackground": true,
            "ticks": "",
            "zerolinecolor": "white"
           }
          },
          "shapedefaults": {
           "line": {
            "color": "#2a3f5f"
           }
          },
          "ternary": {
           "aaxis": {
            "gridcolor": "white",
            "linecolor": "white",
            "ticks": ""
           },
           "baxis": {
            "gridcolor": "white",
            "linecolor": "white",
            "ticks": ""
           },
           "bgcolor": "#E5ECF6",
           "caxis": {
            "gridcolor": "white",
            "linecolor": "white",
            "ticks": ""
           }
          },
          "title": {
           "x": 0.05
          },
          "xaxis": {
           "automargin": true,
           "gridcolor": "white",
           "linecolor": "white",
           "ticks": "",
           "title": {
            "standoff": 15
           },
           "zerolinecolor": "white",
           "zerolinewidth": 2
          },
          "yaxis": {
           "automargin": true,
           "gridcolor": "white",
           "linecolor": "white",
           "ticks": "",
           "title": {
            "standoff": 15
           },
           "zerolinecolor": "white",
           "zerolinewidth": 2
          }
         }
        },
        "title": {
         "text": "Latency vs Processes for the Barrier using the the Linear Algorithm"
        },
        "xaxis": {
         "tickvals": [
          2,
          4,
          6,
          8,
          12,
          16,
          20,
          24,
          28,
          32,
          36,
          40,
          44,
          48
         ],
         "title": {
          "text": "Processes"
         }
        },
        "yaxis": {
         "title": {
          "text": "Latency (us)"
         }
        }
       }
      }
     },
     "metadata": {},
     "output_type": "display_data"
    },
    {
     "data": {
      "application/vnd.plotly.v1+json": {
       "config": {
        "plotlyServerURL": "https://plot.ly"
       },
       "data": [
        {
         "mode": "lines+markers",
         "name": "core",
         "type": "scatter",
         "x": [
          2,
          4,
          6,
          8,
          10,
          12,
          14,
          16,
          18,
          20,
          22,
          24,
          26,
          28,
          30,
          32,
          34,
          36,
          38,
          40,
          42,
          44,
          46,
          48
         ],
         "y": [
          0.41,
          0.735,
          0.9533333333333333,
          1.1783333333333332,
          1.405,
          1.835,
          2.4499999999999997,
          3.6366666666666667,
          3.8433333333333337,
          5.028333333333333,
          6.125,
          5.291666666666667,
          4.593333333333333,
          5.221666666666667,
          5.1033333333333335,
          5.528333333333333,
          5.978333333333333,
          6.448333333333333,
          6.968333333333334,
          7.161666666666666,
          7.628333333333333,
          7.845,
          8.283333333333333,
          8.57
         ]
        },
        {
         "mode": "lines+markers",
         "name": "socket",
         "type": "scatter",
         "x": [
          2,
          4,
          6,
          8,
          10,
          12,
          14,
          16,
          18,
          20,
          22,
          24,
          26,
          28,
          30,
          32,
          34,
          36,
          38,
          40,
          42,
          44,
          46,
          48
         ],
         "y": [
          0.8816666666666667,
          1.4166666666666667,
          1.6883333333333335,
          2.165,
          2.8033333333333332,
          3.106666666666667,
          3.731666666666667,
          4,
          4.47,
          4.408333333333333,
          4.953333333333333,
          4.866666666666667,
          5.605,
          6.138333333333333,
          5.935,
          6.403333333333333,
          6.703333333333333,
          7.196666666666666,
          7.461666666666666,
          7.855,
          8.200000000000001,
          8.543333333333333,
          8.924999999999999,
          10.771666666666667
         ]
        },
        {
         "mode": "lines+markers",
         "name": "node",
         "type": "scatter",
         "x": [
          2,
          4,
          6,
          8,
          10,
          12,
          14,
          16,
          18,
          20,
          22,
          24,
          26,
          28,
          30,
          32,
          34,
          36,
          38,
          40,
          42,
          44,
          46,
          48
         ],
         "y": [
          2.0116666666666663,
          2.7866666666666666,
          2.768333333333333,
          3.3733333333333335,
          3.3716666666666666,
          3.655,
          4.035,
          4.83,
          4.431666666666667,
          5.098333333333334,
          5.3,
          5.685,
          6.84,
          6.501666666666666,
          6.558333333333334,
          7.565,
          7.631666666666667,
          8.41,
          8.218333333333334,
          9.956666666666665,
          10.183333333333332,
          11.104999999999999,
          10.19,
          9.803333333333333
         ]
        }
       ],
       "layout": {
        "template": {
         "data": {
          "bar": [
           {
            "error_x": {
             "color": "#2a3f5f"
            },
            "error_y": {
             "color": "#2a3f5f"
            },
            "marker": {
             "line": {
              "color": "#E5ECF6",
              "width": 0.5
             },
             "pattern": {
              "fillmode": "overlay",
              "size": 10,
              "solidity": 0.2
             }
            },
            "type": "bar"
           }
          ],
          "barpolar": [
           {
            "marker": {
             "line": {
              "color": "#E5ECF6",
              "width": 0.5
             },
             "pattern": {
              "fillmode": "overlay",
              "size": 10,
              "solidity": 0.2
             }
            },
            "type": "barpolar"
           }
          ],
          "carpet": [
           {
            "aaxis": {
             "endlinecolor": "#2a3f5f",
             "gridcolor": "white",
             "linecolor": "white",
             "minorgridcolor": "white",
             "startlinecolor": "#2a3f5f"
            },
            "baxis": {
             "endlinecolor": "#2a3f5f",
             "gridcolor": "white",
             "linecolor": "white",
             "minorgridcolor": "white",
             "startlinecolor": "#2a3f5f"
            },
            "type": "carpet"
           }
          ],
          "choropleth": [
           {
            "colorbar": {
             "outlinewidth": 0,
             "ticks": ""
            },
            "type": "choropleth"
           }
          ],
          "contour": [
           {
            "colorbar": {
             "outlinewidth": 0,
             "ticks": ""
            },
            "colorscale": [
             [
              0,
              "#0d0887"
             ],
             [
              0.1111111111111111,
              "#46039f"
             ],
             [
              0.2222222222222222,
              "#7201a8"
             ],
             [
              0.3333333333333333,
              "#9c179e"
             ],
             [
              0.4444444444444444,
              "#bd3786"
             ],
             [
              0.5555555555555556,
              "#d8576b"
             ],
             [
              0.6666666666666666,
              "#ed7953"
             ],
             [
              0.7777777777777778,
              "#fb9f3a"
             ],
             [
              0.8888888888888888,
              "#fdca26"
             ],
             [
              1,
              "#f0f921"
             ]
            ],
            "type": "contour"
           }
          ],
          "contourcarpet": [
           {
            "colorbar": {
             "outlinewidth": 0,
             "ticks": ""
            },
            "type": "contourcarpet"
           }
          ],
          "heatmap": [
           {
            "colorbar": {
             "outlinewidth": 0,
             "ticks": ""
            },
            "colorscale": [
             [
              0,
              "#0d0887"
             ],
             [
              0.1111111111111111,
              "#46039f"
             ],
             [
              0.2222222222222222,
              "#7201a8"
             ],
             [
              0.3333333333333333,
              "#9c179e"
             ],
             [
              0.4444444444444444,
              "#bd3786"
             ],
             [
              0.5555555555555556,
              "#d8576b"
             ],
             [
              0.6666666666666666,
              "#ed7953"
             ],
             [
              0.7777777777777778,
              "#fb9f3a"
             ],
             [
              0.8888888888888888,
              "#fdca26"
             ],
             [
              1,
              "#f0f921"
             ]
            ],
            "type": "heatmap"
           }
          ],
          "heatmapgl": [
           {
            "colorbar": {
             "outlinewidth": 0,
             "ticks": ""
            },
            "colorscale": [
             [
              0,
              "#0d0887"
             ],
             [
              0.1111111111111111,
              "#46039f"
             ],
             [
              0.2222222222222222,
              "#7201a8"
             ],
             [
              0.3333333333333333,
              "#9c179e"
             ],
             [
              0.4444444444444444,
              "#bd3786"
             ],
             [
              0.5555555555555556,
              "#d8576b"
             ],
             [
              0.6666666666666666,
              "#ed7953"
             ],
             [
              0.7777777777777778,
              "#fb9f3a"
             ],
             [
              0.8888888888888888,
              "#fdca26"
             ],
             [
              1,
              "#f0f921"
             ]
            ],
            "type": "heatmapgl"
           }
          ],
          "histogram": [
           {
            "marker": {
             "pattern": {
              "fillmode": "overlay",
              "size": 10,
              "solidity": 0.2
             }
            },
            "type": "histogram"
           }
          ],
          "histogram2d": [
           {
            "colorbar": {
             "outlinewidth": 0,
             "ticks": ""
            },
            "colorscale": [
             [
              0,
              "#0d0887"
             ],
             [
              0.1111111111111111,
              "#46039f"
             ],
             [
              0.2222222222222222,
              "#7201a8"
             ],
             [
              0.3333333333333333,
              "#9c179e"
             ],
             [
              0.4444444444444444,
              "#bd3786"
             ],
             [
              0.5555555555555556,
              "#d8576b"
             ],
             [
              0.6666666666666666,
              "#ed7953"
             ],
             [
              0.7777777777777778,
              "#fb9f3a"
             ],
             [
              0.8888888888888888,
              "#fdca26"
             ],
             [
              1,
              "#f0f921"
             ]
            ],
            "type": "histogram2d"
           }
          ],
          "histogram2dcontour": [
           {
            "colorbar": {
             "outlinewidth": 0,
             "ticks": ""
            },
            "colorscale": [
             [
              0,
              "#0d0887"
             ],
             [
              0.1111111111111111,
              "#46039f"
             ],
             [
              0.2222222222222222,
              "#7201a8"
             ],
             [
              0.3333333333333333,
              "#9c179e"
             ],
             [
              0.4444444444444444,
              "#bd3786"
             ],
             [
              0.5555555555555556,
              "#d8576b"
             ],
             [
              0.6666666666666666,
              "#ed7953"
             ],
             [
              0.7777777777777778,
              "#fb9f3a"
             ],
             [
              0.8888888888888888,
              "#fdca26"
             ],
             [
              1,
              "#f0f921"
             ]
            ],
            "type": "histogram2dcontour"
           }
          ],
          "mesh3d": [
           {
            "colorbar": {
             "outlinewidth": 0,
             "ticks": ""
            },
            "type": "mesh3d"
           }
          ],
          "parcoords": [
           {
            "line": {
             "colorbar": {
              "outlinewidth": 0,
              "ticks": ""
             }
            },
            "type": "parcoords"
           }
          ],
          "pie": [
           {
            "automargin": true,
            "type": "pie"
           }
          ],
          "scatter": [
           {
            "fillpattern": {
             "fillmode": "overlay",
             "size": 10,
             "solidity": 0.2
            },
            "type": "scatter"
           }
          ],
          "scatter3d": [
           {
            "line": {
             "colorbar": {
              "outlinewidth": 0,
              "ticks": ""
             }
            },
            "marker": {
             "colorbar": {
              "outlinewidth": 0,
              "ticks": ""
             }
            },
            "type": "scatter3d"
           }
          ],
          "scattercarpet": [
           {
            "marker": {
             "colorbar": {
              "outlinewidth": 0,
              "ticks": ""
             }
            },
            "type": "scattercarpet"
           }
          ],
          "scattergeo": [
           {
            "marker": {
             "colorbar": {
              "outlinewidth": 0,
              "ticks": ""
             }
            },
            "type": "scattergeo"
           }
          ],
          "scattergl": [
           {
            "marker": {
             "colorbar": {
              "outlinewidth": 0,
              "ticks": ""
             }
            },
            "type": "scattergl"
           }
          ],
          "scattermapbox": [
           {
            "marker": {
             "colorbar": {
              "outlinewidth": 0,
              "ticks": ""
             }
            },
            "type": "scattermapbox"
           }
          ],
          "scatterpolar": [
           {
            "marker": {
             "colorbar": {
              "outlinewidth": 0,
              "ticks": ""
             }
            },
            "type": "scatterpolar"
           }
          ],
          "scatterpolargl": [
           {
            "marker": {
             "colorbar": {
              "outlinewidth": 0,
              "ticks": ""
             }
            },
            "type": "scatterpolargl"
           }
          ],
          "scatterternary": [
           {
            "marker": {
             "colorbar": {
              "outlinewidth": 0,
              "ticks": ""
             }
            },
            "type": "scatterternary"
           }
          ],
          "surface": [
           {
            "colorbar": {
             "outlinewidth": 0,
             "ticks": ""
            },
            "colorscale": [
             [
              0,
              "#0d0887"
             ],
             [
              0.1111111111111111,
              "#46039f"
             ],
             [
              0.2222222222222222,
              "#7201a8"
             ],
             [
              0.3333333333333333,
              "#9c179e"
             ],
             [
              0.4444444444444444,
              "#bd3786"
             ],
             [
              0.5555555555555556,
              "#d8576b"
             ],
             [
              0.6666666666666666,
              "#ed7953"
             ],
             [
              0.7777777777777778,
              "#fb9f3a"
             ],
             [
              0.8888888888888888,
              "#fdca26"
             ],
             [
              1,
              "#f0f921"
             ]
            ],
            "type": "surface"
           }
          ],
          "table": [
           {
            "cells": {
             "fill": {
              "color": "#EBF0F8"
             },
             "line": {
              "color": "white"
             }
            },
            "header": {
             "fill": {
              "color": "#C8D4E3"
             },
             "line": {
              "color": "white"
             }
            },
            "type": "table"
           }
          ]
         },
         "layout": {
          "annotationdefaults": {
           "arrowcolor": "#2a3f5f",
           "arrowhead": 0,
           "arrowwidth": 1
          },
          "autotypenumbers": "strict",
          "coloraxis": {
           "colorbar": {
            "outlinewidth": 0,
            "ticks": ""
           }
          },
          "colorscale": {
           "diverging": [
            [
             0,
             "#8e0152"
            ],
            [
             0.1,
             "#c51b7d"
            ],
            [
             0.2,
             "#de77ae"
            ],
            [
             0.3,
             "#f1b6da"
            ],
            [
             0.4,
             "#fde0ef"
            ],
            [
             0.5,
             "#f7f7f7"
            ],
            [
             0.6,
             "#e6f5d0"
            ],
            [
             0.7,
             "#b8e186"
            ],
            [
             0.8,
             "#7fbc41"
            ],
            [
             0.9,
             "#4d9221"
            ],
            [
             1,
             "#276419"
            ]
           ],
           "sequential": [
            [
             0,
             "#0d0887"
            ],
            [
             0.1111111111111111,
             "#46039f"
            ],
            [
             0.2222222222222222,
             "#7201a8"
            ],
            [
             0.3333333333333333,
             "#9c179e"
            ],
            [
             0.4444444444444444,
             "#bd3786"
            ],
            [
             0.5555555555555556,
             "#d8576b"
            ],
            [
             0.6666666666666666,
             "#ed7953"
            ],
            [
             0.7777777777777778,
             "#fb9f3a"
            ],
            [
             0.8888888888888888,
             "#fdca26"
            ],
            [
             1,
             "#f0f921"
            ]
           ],
           "sequentialminus": [
            [
             0,
             "#0d0887"
            ],
            [
             0.1111111111111111,
             "#46039f"
            ],
            [
             0.2222222222222222,
             "#7201a8"
            ],
            [
             0.3333333333333333,
             "#9c179e"
            ],
            [
             0.4444444444444444,
             "#bd3786"
            ],
            [
             0.5555555555555556,
             "#d8576b"
            ],
            [
             0.6666666666666666,
             "#ed7953"
            ],
            [
             0.7777777777777778,
             "#fb9f3a"
            ],
            [
             0.8888888888888888,
             "#fdca26"
            ],
            [
             1,
             "#f0f921"
            ]
           ]
          },
          "colorway": [
           "#636efa",
           "#EF553B",
           "#00cc96",
           "#ab63fa",
           "#FFA15A",
           "#19d3f3",
           "#FF6692",
           "#B6E880",
           "#FF97FF",
           "#FECB52"
          ],
          "font": {
           "color": "#2a3f5f"
          },
          "geo": {
           "bgcolor": "white",
           "lakecolor": "white",
           "landcolor": "#E5ECF6",
           "showlakes": true,
           "showland": true,
           "subunitcolor": "white"
          },
          "hoverlabel": {
           "align": "left"
          },
          "hovermode": "closest",
          "mapbox": {
           "style": "light"
          },
          "paper_bgcolor": "white",
          "plot_bgcolor": "#E5ECF6",
          "polar": {
           "angularaxis": {
            "gridcolor": "white",
            "linecolor": "white",
            "ticks": ""
           },
           "bgcolor": "#E5ECF6",
           "radialaxis": {
            "gridcolor": "white",
            "linecolor": "white",
            "ticks": ""
           }
          },
          "scene": {
           "xaxis": {
            "backgroundcolor": "#E5ECF6",
            "gridcolor": "white",
            "gridwidth": 2,
            "linecolor": "white",
            "showbackground": true,
            "ticks": "",
            "zerolinecolor": "white"
           },
           "yaxis": {
            "backgroundcolor": "#E5ECF6",
            "gridcolor": "white",
            "gridwidth": 2,
            "linecolor": "white",
            "showbackground": true,
            "ticks": "",
            "zerolinecolor": "white"
           },
           "zaxis": {
            "backgroundcolor": "#E5ECF6",
            "gridcolor": "white",
            "gridwidth": 2,
            "linecolor": "white",
            "showbackground": true,
            "ticks": "",
            "zerolinecolor": "white"
           }
          },
          "shapedefaults": {
           "line": {
            "color": "#2a3f5f"
           }
          },
          "ternary": {
           "aaxis": {
            "gridcolor": "white",
            "linecolor": "white",
            "ticks": ""
           },
           "baxis": {
            "gridcolor": "white",
            "linecolor": "white",
            "ticks": ""
           },
           "bgcolor": "#E5ECF6",
           "caxis": {
            "gridcolor": "white",
            "linecolor": "white",
            "ticks": ""
           }
          },
          "title": {
           "x": 0.05
          },
          "xaxis": {
           "automargin": true,
           "gridcolor": "white",
           "linecolor": "white",
           "ticks": "",
           "title": {
            "standoff": 15
           },
           "zerolinecolor": "white",
           "zerolinewidth": 2
          },
          "yaxis": {
           "automargin": true,
           "gridcolor": "white",
           "linecolor": "white",
           "ticks": "",
           "title": {
            "standoff": 15
           },
           "zerolinecolor": "white",
           "zerolinewidth": 2
          }
         }
        },
        "title": {
         "text": "Latency vs Processes for the Barrier using the Linear Algorithm"
        },
        "xaxis": {
         "tickvals": [
          2,
          4,
          6,
          8,
          12,
          16,
          20,
          24,
          28,
          32,
          36,
          40,
          44,
          48
         ],
         "title": {
          "text": "Processes"
         }
        },
        "yaxis": {
         "title": {
          "text": "Latency (us)"
         }
        }
       }
      }
     },
     "metadata": {},
     "output_type": "display_data"
    }
   ],
   "source": [
    "# Initialize the figure\n",
    "fig = go.Figure()\n",
    "\n",
    "# Start plotting the data\n",
    "for selected in range(len(linear_df)):\n",
    "\t# The two runs\n",
    "\tused_df = linear_df[selected]\n",
    "\tfor allocation in allocations:\n",
    "\t\tused_allocation_df = used_df[used_df['Allocation']==allocation]\n",
    "\t\t# Only plot for 512KB and 1MB, a.k.a. one fitting entirely in L1 and one not fitting\n",
    "\t\t# Plot the data\n",
    "\t\tfig.add_trace(go.Scatter(x=used_allocation_df['Processes'], \n",
    "\t\t\t\t\t\t\t\ty=used_allocation_df['Latency'],\n",
    "\t\t\t\t\t\t\t\tmode='lines+markers',\n",
    "\t\t\t\t\t\t\t\tname=allocation+str(selected)))\n",
    "# Update the layout by naming the appropirate tings and highlighting some places of interest in the x-axis\n",
    "fig.update_layout(title='Latency vs Processes for the Barrier using the the Linear Algorithm', \n",
    "\t\t\t\t\txaxis_title='Processes', \n",
    "\t\t\t\t\tyaxis_title='Latency (us)', \n",
    "\t\t\t\t\txaxis=dict(tickvals=tickvals)\n",
    "\t\t\t\t)\n",
    "\n",
    "fig.show()\n",
    "\n",
    "summarized_linear_df = pd.concat(linear_df, ignore_index=True)\n",
    "summarized_linear_df_mean = summarized_linear_df.groupby(['Processes', 'Allocation'] ,as_index=False).mean()\n",
    "summarized_linear_df_std = summarized_linear_df.groupby(['Processes', 'Allocation'] ,as_index=False).std()\n",
    "summarized_linear_df_summarized = summarized_linear_df_mean.merge(summarized_linear_df_std, on=['Processes', 'Allocation'], suffixes=('_mean', '_std'))\n",
    "\n",
    "# Initialize the figure\n",
    "fig = go.Figure()\n",
    "\n",
    "# Start plotting the data\n",
    "used_df = summarized_linear_df_summarized\n",
    "for allocation in allocations:\n",
    "\tused_allocation_df = used_df[used_df['Allocation']==allocation]\n",
    "\tfig.add_trace(go.Scatter(x=used_allocation_df['Processes'],\n",
    "\t\t\t\t\t\t\ty=used_allocation_df['Latency_mean'],\n",
    "\t\t\t\t\t\t\tmode='lines+markers',\n",
    "\t\t\t\t\t\t\tname=allocation))\n",
    "# Update the layout by naming the appropirate tings and highlighting some places of interest in the x-axis\n",
    "fig.update_layout(title='Latency vs Processes for the Barrier using the Linear Algorithm', \n",
    "\t\t\t\t\txaxis_title='Processes', \n",
    "\t\t\t\t\tyaxis_title='Latency (us)', \n",
    "\t\t\t\t\txaxis=dict(tickvals=tickvals)\n",
    "\t\t\t\t)\n",
    "\n",
    "fig.show()\n"
   ]
  }
 ],
 "metadata": {
  "kernelspec": {
   "display_name": "Python 3",
   "language": "python",
   "name": "python3"
  },
  "language_info": {
   "codemirror_mode": {
    "name": "ipython",
    "version": 3
   },
   "file_extension": ".py",
   "mimetype": "text/x-python",
   "name": "python",
   "nbconvert_exporter": "python",
   "pygments_lexer": "ipython3",
   "version": "3.10.12"
  }
 },
 "nbformat": 4,
 "nbformat_minor": 2
}
